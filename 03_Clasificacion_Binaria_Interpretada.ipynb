{
 "cells": [
  {
   "cell_type": "markdown",
   "metadata": {},
   "source": [
    "## Resumen de la revisión 1 <a class=\"tocSkip\"></a>"
   ]
  },
  {
   "cell_type": "markdown",
   "metadata": {},
   "source": [
    "<div class=\"alert alert-block alert-danger\">\n",
    "<b>Comentario de Revisor</b> <a class=\"tocSkip\"></a>\n",
    "\n",
    "Bien hecho Sergio, has completado el notebook. En general tu desarrollo en la parte de los modelos está bien, pero la primera parte de exploración de la data está incompleta. Revisa los comentarios que dejé y corrige/agrega lo necesario.\n",
    "    \n",
    "Saludos!    \n",
    "\n",
    "</div>"
   ]
  },
  {
   "cell_type": "markdown",
   "metadata": {},
   "source": [
    "## Resumen de la revisión 2 <a class=\"tocSkip\"></a>"
   ]
  },
  {
   "cell_type": "markdown",
   "metadata": {},
   "source": [
    "<div class=\"alert alert-block alert-danger\">\n",
    "<b>Comentario de Revisor v2</b> <a class=\"tocSkip\"></a>\n",
    "\n",
    "Muy bien con las correcciones Sergio, pero faltó revisar por los valores anómalos en las columnas de la data. Es importante que la data esté limpia antes de pasar a los modelos. Corrige este detalle y pasaremos a revisar los resultados de los modelos.\n",
    "    \n",
    "Saludos!    \n",
    "\n",
    "</div>"
   ]
  },
  {
   "cell_type": "markdown",
   "metadata": {},
   "source": [
    "## Resumen de la revisión 3 <a class=\"tocSkip\"></a>"
   ]
  },
  {
   "cell_type": "markdown",
   "metadata": {},
   "source": [
    "<div class=\"alert alert-block alert-danger\">\n",
    "<b>Comentario de Revisor v3</b> <a class=\"tocSkip\"></a>\n",
    "\n",
    "Bien hecho Sergio, tu notebook está casi terminado. El último comentario que tengo es acerca de la forma que se realizaron las imputaciones, por favor revisa mis comentarios de esa parte.\n",
    "    \n",
    "Saludos!    \n",
    "\n",
    "</div>"
   ]
  },
  {
   "cell_type": "markdown",
   "metadata": {},
   "source": [
    "## Resumen de la revisión 4 <a class=\"tocSkip\"></a>"
   ]
  },
  {
   "cell_type": "markdown",
   "metadata": {},
   "source": [
    "<div class=\"alert alert-block alert-success\">\n",
    "<b>Comentario de Revisor v4</b> <a class=\"tocSkip\"></a>\n",
    "\n",
    "Bien hecho Sergio, has completado correctamente todo lo necesario del notebook. No tengo comentarios de corrección adicionales, está aprobado.\n",
    "\n",
    "Saludos!\n",
    "\n",
    "</div>"
   ]
  },
  {
   "cell_type": "markdown",
   "metadata": {},
   "source": [
    "---"
   ]
  },
  {
   "cell_type": "markdown",
   "metadata": {},
   "source": [
    "El servicio de venta de autos usados Rusty Bargain está desarrollando una aplicación para atraer nuevos clientes. Gracias a esa app, puedes averiguar rápidamente el valor de mercado de tu coche. Tienes acceso al historial: especificaciones técnicas, versiones de equipamiento y precios. Tienes que crear un modelo que determine el valor de mercado.\n",
    "A Rusty Bargain le interesa:\n",
    "- la calidad de la predicción;\n",
    "- la velocidad de la predicción;\n",
    "- el tiempo requerido para el entrenamiento"
   ]
  },
  {
   "cell_type": "markdown",
   "metadata": {},
   "source": [
    "## Preparación de datos"
   ]
  },
  {
   "cell_type": "code",
   "execution_count": 1,
   "metadata": {},
   "outputs": [],
   "source": [
    "import pandas as pd\n",
    "import numpy as np\n",
    "from sklearn.linear_model import LinearRegression\n",
    "from sklearn.metrics import mean_squared_error, r2_score\n",
    "from sklearn.model_selection import train_test_split, cross_val_score, RandomizedSearchCV\n",
    "from sklearn.ensemble import RandomForestRegressor, VotingClassifier\n",
    "import lightgbm as lgb\n",
    "from catboost import CatBoostRegressor\n",
    "import matplotlib.pyplot as plt\n",
    "import scipy.stats as stats"
   ]
  },
  {
   "cell_type": "code",
   "execution_count": 2,
   "metadata": {},
   "outputs": [
    {
     "name": "stdout",
     "output_type": "stream",
     "text": [
      "<class 'pandas.core.frame.DataFrame'>\n",
      "RangeIndex: 354369 entries, 0 to 354368\n",
      "Data columns (total 16 columns):\n",
      " #   Column             Non-Null Count   Dtype \n",
      "---  ------             --------------   ----- \n",
      " 0   DateCrawled        354369 non-null  object\n",
      " 1   Price              354369 non-null  int64 \n",
      " 2   VehicleType        316879 non-null  object\n",
      " 3   RegistrationYear   354369 non-null  int64 \n",
      " 4   Gearbox            334536 non-null  object\n",
      " 5   Power              354369 non-null  int64 \n",
      " 6   Model              334664 non-null  object\n",
      " 7   Mileage            354369 non-null  int64 \n",
      " 8   RegistrationMonth  354369 non-null  int64 \n",
      " 9   FuelType           321474 non-null  object\n",
      " 10  Brand              354369 non-null  object\n",
      " 11  NotRepaired        283215 non-null  object\n",
      " 12  DateCreated        354369 non-null  object\n",
      " 13  NumberOfPictures   354369 non-null  int64 \n",
      " 14  PostalCode         354369 non-null  int64 \n",
      " 15  LastSeen           354369 non-null  object\n",
      "dtypes: int64(7), object(9)\n",
      "memory usage: 43.3+ MB\n"
     ]
    }
   ],
   "source": [
    "df = pd.read_csv('/datasets/car_data.csv')\n",
    "df.info()"
   ]
  },
  {
   "cell_type": "code",
   "execution_count": 3,
   "metadata": {},
   "outputs": [
    {
     "data": {
      "text/html": [
       "<div>\n",
       "<style scoped>\n",
       "    .dataframe tbody tr th:only-of-type {\n",
       "        vertical-align: middle;\n",
       "    }\n",
       "\n",
       "    .dataframe tbody tr th {\n",
       "        vertical-align: top;\n",
       "    }\n",
       "\n",
       "    .dataframe thead th {\n",
       "        text-align: right;\n",
       "    }\n",
       "</style>\n",
       "<table border=\"1\" class=\"dataframe\">\n",
       "  <thead>\n",
       "    <tr style=\"text-align: right;\">\n",
       "      <th></th>\n",
       "      <th>DateCrawled</th>\n",
       "      <th>Price</th>\n",
       "      <th>VehicleType</th>\n",
       "      <th>RegistrationYear</th>\n",
       "      <th>Gearbox</th>\n",
       "      <th>Power</th>\n",
       "      <th>Model</th>\n",
       "      <th>Mileage</th>\n",
       "      <th>RegistrationMonth</th>\n",
       "      <th>FuelType</th>\n",
       "      <th>Brand</th>\n",
       "      <th>NotRepaired</th>\n",
       "      <th>DateCreated</th>\n",
       "      <th>NumberOfPictures</th>\n",
       "      <th>PostalCode</th>\n",
       "      <th>LastSeen</th>\n",
       "    </tr>\n",
       "  </thead>\n",
       "  <tbody>\n",
       "    <tr>\n",
       "      <th>0</th>\n",
       "      <td>24/03/2016 11:52</td>\n",
       "      <td>480</td>\n",
       "      <td>NaN</td>\n",
       "      <td>1993</td>\n",
       "      <td>manual</td>\n",
       "      <td>0</td>\n",
       "      <td>golf</td>\n",
       "      <td>150000</td>\n",
       "      <td>0</td>\n",
       "      <td>petrol</td>\n",
       "      <td>volkswagen</td>\n",
       "      <td>NaN</td>\n",
       "      <td>24/03/2016 00:00</td>\n",
       "      <td>0</td>\n",
       "      <td>70435</td>\n",
       "      <td>07/04/2016 03:16</td>\n",
       "    </tr>\n",
       "    <tr>\n",
       "      <th>1</th>\n",
       "      <td>24/03/2016 10:58</td>\n",
       "      <td>18300</td>\n",
       "      <td>coupe</td>\n",
       "      <td>2011</td>\n",
       "      <td>manual</td>\n",
       "      <td>190</td>\n",
       "      <td>NaN</td>\n",
       "      <td>125000</td>\n",
       "      <td>5</td>\n",
       "      <td>gasoline</td>\n",
       "      <td>audi</td>\n",
       "      <td>yes</td>\n",
       "      <td>24/03/2016 00:00</td>\n",
       "      <td>0</td>\n",
       "      <td>66954</td>\n",
       "      <td>07/04/2016 01:46</td>\n",
       "    </tr>\n",
       "    <tr>\n",
       "      <th>2</th>\n",
       "      <td>14/03/2016 12:52</td>\n",
       "      <td>9800</td>\n",
       "      <td>suv</td>\n",
       "      <td>2004</td>\n",
       "      <td>auto</td>\n",
       "      <td>163</td>\n",
       "      <td>grand</td>\n",
       "      <td>125000</td>\n",
       "      <td>8</td>\n",
       "      <td>gasoline</td>\n",
       "      <td>jeep</td>\n",
       "      <td>NaN</td>\n",
       "      <td>14/03/2016 00:00</td>\n",
       "      <td>0</td>\n",
       "      <td>90480</td>\n",
       "      <td>05/04/2016 12:47</td>\n",
       "    </tr>\n",
       "    <tr>\n",
       "      <th>3</th>\n",
       "      <td>17/03/2016 16:54</td>\n",
       "      <td>1500</td>\n",
       "      <td>small</td>\n",
       "      <td>2001</td>\n",
       "      <td>manual</td>\n",
       "      <td>75</td>\n",
       "      <td>golf</td>\n",
       "      <td>150000</td>\n",
       "      <td>6</td>\n",
       "      <td>petrol</td>\n",
       "      <td>volkswagen</td>\n",
       "      <td>no</td>\n",
       "      <td>17/03/2016 00:00</td>\n",
       "      <td>0</td>\n",
       "      <td>91074</td>\n",
       "      <td>17/03/2016 17:40</td>\n",
       "    </tr>\n",
       "    <tr>\n",
       "      <th>4</th>\n",
       "      <td>31/03/2016 17:25</td>\n",
       "      <td>3600</td>\n",
       "      <td>small</td>\n",
       "      <td>2008</td>\n",
       "      <td>manual</td>\n",
       "      <td>69</td>\n",
       "      <td>fabia</td>\n",
       "      <td>90000</td>\n",
       "      <td>7</td>\n",
       "      <td>gasoline</td>\n",
       "      <td>skoda</td>\n",
       "      <td>no</td>\n",
       "      <td>31/03/2016 00:00</td>\n",
       "      <td>0</td>\n",
       "      <td>60437</td>\n",
       "      <td>06/04/2016 10:17</td>\n",
       "    </tr>\n",
       "  </tbody>\n",
       "</table>\n",
       "</div>"
      ],
      "text/plain": [
       "        DateCrawled  Price VehicleType  RegistrationYear Gearbox  Power  \\\n",
       "0  24/03/2016 11:52    480         NaN              1993  manual      0   \n",
       "1  24/03/2016 10:58  18300       coupe              2011  manual    190   \n",
       "2  14/03/2016 12:52   9800         suv              2004    auto    163   \n",
       "3  17/03/2016 16:54   1500       small              2001  manual     75   \n",
       "4  31/03/2016 17:25   3600       small              2008  manual     69   \n",
       "\n",
       "   Model  Mileage  RegistrationMonth  FuelType       Brand NotRepaired  \\\n",
       "0   golf   150000                  0    petrol  volkswagen         NaN   \n",
       "1    NaN   125000                  5  gasoline        audi         yes   \n",
       "2  grand   125000                  8  gasoline        jeep         NaN   \n",
       "3   golf   150000                  6    petrol  volkswagen          no   \n",
       "4  fabia    90000                  7  gasoline       skoda          no   \n",
       "\n",
       "        DateCreated  NumberOfPictures  PostalCode          LastSeen  \n",
       "0  24/03/2016 00:00                 0       70435  07/04/2016 03:16  \n",
       "1  24/03/2016 00:00                 0       66954  07/04/2016 01:46  \n",
       "2  14/03/2016 00:00                 0       90480  05/04/2016 12:47  \n",
       "3  17/03/2016 00:00                 0       91074  17/03/2016 17:40  \n",
       "4  31/03/2016 00:00                 0       60437  06/04/2016 10:17  "
      ]
     },
     "metadata": {},
     "output_type": "display_data"
    }
   ],
   "source": [
    "display(df.head())"
   ]
  },
  {
   "cell_type": "markdown",
   "metadata": {},
   "source": [
    "<div class=\"alert alert-block alert-success\">\n",
    "<b>Comentario de Revisor</b> <a class=\"tocSkip\"></a>\n",
    "\n",
    "Muy bien al mostrar parte de la data, pero te recomiendo usar `display()` para mostrar un dataframe, da mejor formato de output que `print()`. Por ejemplo, en vez de usar `print(df.head())`, usa `display(df.head())`.\n",
    "\n",
    "</div>"
   ]
  },
  {
   "cell_type": "code",
   "execution_count": 4,
   "metadata": {},
   "outputs": [
    {
     "data": {
      "text/plain": [
       "0"
      ]
     },
     "execution_count": 4,
     "metadata": {},
     "output_type": "execute_result"
    }
   ],
   "source": [
    "df = df.drop_duplicates()\n",
    "df.duplicated().sum()"
   ]
  },
  {
   "cell_type": "code",
   "execution_count": 5,
   "metadata": {},
   "outputs": [
    {
     "name": "stdout",
     "output_type": "stream",
     "text": [
      "DateCrawled              0\n",
      "Price                    0\n",
      "VehicleType          37484\n",
      "RegistrationYear         0\n",
      "Gearbox              19830\n",
      "Power                    0\n",
      "Model                19701\n",
      "Mileage                  0\n",
      "RegistrationMonth        0\n",
      "FuelType             32889\n",
      "Brand                    0\n",
      "NotRepaired          71145\n",
      "DateCreated              0\n",
      "NumberOfPictures         0\n",
      "PostalCode               0\n",
      "LastSeen                 0\n",
      "dtype: int64\n"
     ]
    }
   ],
   "source": [
    "null_df = df.isna().sum()\n",
    "print(null_df)"
   ]
  },
  {
   "cell_type": "code",
   "execution_count": 6,
   "metadata": {},
   "outputs": [],
   "source": [
    "df_1 = df.copy()"
   ]
  },
  {
   "cell_type": "code",
   "execution_count": 7,
   "metadata": {},
   "outputs": [
    {
     "name": "stdout",
     "output_type": "stream",
     "text": [
      "<class 'pandas.core.frame.DataFrame'>\n",
      "Int64Index: 354107 entries, 0 to 354368\n",
      "Data columns (total 16 columns):\n",
      " #   Column             Non-Null Count   Dtype \n",
      "---  ------             --------------   ----- \n",
      " 0   DateCrawled        354107 non-null  object\n",
      " 1   Price              354107 non-null  int64 \n",
      " 2   VehicleType        354107 non-null  object\n",
      " 3   RegistrationYear   354107 non-null  int64 \n",
      " 4   Gearbox            354107 non-null  object\n",
      " 5   Power              354107 non-null  int64 \n",
      " 6   Model              354107 non-null  object\n",
      " 7   Mileage            354107 non-null  int64 \n",
      " 8   RegistrationMonth  354107 non-null  int64 \n",
      " 9   FuelType           354107 non-null  object\n",
      " 10  Brand              354107 non-null  object\n",
      " 11  NotRepaired        354107 non-null  object\n",
      " 12  DateCreated        354107 non-null  object\n",
      " 13  NumberOfPictures   354107 non-null  int64 \n",
      " 14  PostalCode         354107 non-null  int64 \n",
      " 15  LastSeen           354107 non-null  object\n",
      "dtypes: int64(7), object(9)\n",
      "memory usage: 45.9+ MB\n"
     ]
    }
   ],
   "source": [
    "for columna in df_1.columns:\n",
    "    if df_1[columna].isna().any():\n",
    "        df_1[columna] = df_1[columna].fillna('unknown')\n",
    "df_1.info()"
   ]
  },
  {
   "cell_type": "code",
   "execution_count": 8,
   "metadata": {},
   "outputs": [
    {
     "data": {
      "text/plain": [
       "DateCrawled          0\n",
       "Price                0\n",
       "VehicleType          0\n",
       "RegistrationYear     0\n",
       "Gearbox              0\n",
       "Power                0\n",
       "Model                0\n",
       "Mileage              0\n",
       "RegistrationMonth    0\n",
       "FuelType             0\n",
       "Brand                0\n",
       "NotRepaired          0\n",
       "DateCreated          0\n",
       "NumberOfPictures     0\n",
       "PostalCode           0\n",
       "LastSeen             0\n",
       "dtype: int64"
      ]
     },
     "execution_count": 8,
     "metadata": {},
     "output_type": "execute_result"
    }
   ],
   "source": [
    "df_1.isna().sum()"
   ]
  },
  {
   "cell_type": "code",
   "execution_count": 9,
   "metadata": {},
   "outputs": [
    {
     "data": {
      "text/html": [
       "<div>\n",
       "<style scoped>\n",
       "    .dataframe tbody tr th:only-of-type {\n",
       "        vertical-align: middle;\n",
       "    }\n",
       "\n",
       "    .dataframe tbody tr th {\n",
       "        vertical-align: top;\n",
       "    }\n",
       "\n",
       "    .dataframe thead th {\n",
       "        text-align: right;\n",
       "    }\n",
       "</style>\n",
       "<table border=\"1\" class=\"dataframe\">\n",
       "  <thead>\n",
       "    <tr style=\"text-align: right;\">\n",
       "      <th></th>\n",
       "      <th>Price</th>\n",
       "      <th>RegistrationYear</th>\n",
       "      <th>Power</th>\n",
       "      <th>Mileage</th>\n",
       "      <th>RegistrationMonth</th>\n",
       "      <th>NumberOfPictures</th>\n",
       "      <th>PostalCode</th>\n",
       "    </tr>\n",
       "  </thead>\n",
       "  <tbody>\n",
       "    <tr>\n",
       "      <th>count</th>\n",
       "      <td>354107.000000</td>\n",
       "      <td>354107.000000</td>\n",
       "      <td>354107.000000</td>\n",
       "      <td>354107.000000</td>\n",
       "      <td>354107.000000</td>\n",
       "      <td>354107.0</td>\n",
       "      <td>354107.000000</td>\n",
       "    </tr>\n",
       "    <tr>\n",
       "      <th>mean</th>\n",
       "      <td>4416.433287</td>\n",
       "      <td>2004.235355</td>\n",
       "      <td>110.089651</td>\n",
       "      <td>128211.811684</td>\n",
       "      <td>5.714182</td>\n",
       "      <td>0.0</td>\n",
       "      <td>50507.145030</td>\n",
       "    </tr>\n",
       "    <tr>\n",
       "      <th>std</th>\n",
       "      <td>4514.338584</td>\n",
       "      <td>90.261168</td>\n",
       "      <td>189.914972</td>\n",
       "      <td>37906.590101</td>\n",
       "      <td>3.726682</td>\n",
       "      <td>0.0</td>\n",
       "      <td>25784.212094</td>\n",
       "    </tr>\n",
       "    <tr>\n",
       "      <th>min</th>\n",
       "      <td>0.000000</td>\n",
       "      <td>1000.000000</td>\n",
       "      <td>0.000000</td>\n",
       "      <td>5000.000000</td>\n",
       "      <td>0.000000</td>\n",
       "      <td>0.0</td>\n",
       "      <td>1067.000000</td>\n",
       "    </tr>\n",
       "    <tr>\n",
       "      <th>25%</th>\n",
       "      <td>1050.000000</td>\n",
       "      <td>1999.000000</td>\n",
       "      <td>69.000000</td>\n",
       "      <td>125000.000000</td>\n",
       "      <td>3.000000</td>\n",
       "      <td>0.0</td>\n",
       "      <td>30165.000000</td>\n",
       "    </tr>\n",
       "    <tr>\n",
       "      <th>50%</th>\n",
       "      <td>2700.000000</td>\n",
       "      <td>2003.000000</td>\n",
       "      <td>105.000000</td>\n",
       "      <td>150000.000000</td>\n",
       "      <td>6.000000</td>\n",
       "      <td>0.0</td>\n",
       "      <td>49406.000000</td>\n",
       "    </tr>\n",
       "    <tr>\n",
       "      <th>75%</th>\n",
       "      <td>6400.000000</td>\n",
       "      <td>2008.000000</td>\n",
       "      <td>143.000000</td>\n",
       "      <td>150000.000000</td>\n",
       "      <td>9.000000</td>\n",
       "      <td>0.0</td>\n",
       "      <td>71083.000000</td>\n",
       "    </tr>\n",
       "    <tr>\n",
       "      <th>max</th>\n",
       "      <td>20000.000000</td>\n",
       "      <td>9999.000000</td>\n",
       "      <td>20000.000000</td>\n",
       "      <td>150000.000000</td>\n",
       "      <td>12.000000</td>\n",
       "      <td>0.0</td>\n",
       "      <td>99998.000000</td>\n",
       "    </tr>\n",
       "  </tbody>\n",
       "</table>\n",
       "</div>"
      ],
      "text/plain": [
       "               Price  RegistrationYear          Power        Mileage  \\\n",
       "count  354107.000000     354107.000000  354107.000000  354107.000000   \n",
       "mean     4416.433287       2004.235355     110.089651  128211.811684   \n",
       "std      4514.338584         90.261168     189.914972   37906.590101   \n",
       "min         0.000000       1000.000000       0.000000    5000.000000   \n",
       "25%      1050.000000       1999.000000      69.000000  125000.000000   \n",
       "50%      2700.000000       2003.000000     105.000000  150000.000000   \n",
       "75%      6400.000000       2008.000000     143.000000  150000.000000   \n",
       "max     20000.000000       9999.000000   20000.000000  150000.000000   \n",
       "\n",
       "       RegistrationMonth  NumberOfPictures     PostalCode  \n",
       "count      354107.000000          354107.0  354107.000000  \n",
       "mean            5.714182               0.0   50507.145030  \n",
       "std             3.726682               0.0   25784.212094  \n",
       "min             0.000000               0.0    1067.000000  \n",
       "25%             3.000000               0.0   30165.000000  \n",
       "50%             6.000000               0.0   49406.000000  \n",
       "75%             9.000000               0.0   71083.000000  \n",
       "max            12.000000               0.0   99998.000000  "
      ]
     },
     "execution_count": 9,
     "metadata": {},
     "output_type": "execute_result"
    }
   ],
   "source": [
    "df_1.describe()"
   ]
  },
  {
   "cell_type": "markdown",
   "metadata": {},
   "source": [
    "**Histogramas Power y Price**"
   ]
  },
  {
   "cell_type": "code",
   "execution_count": 10,
   "metadata": {},
   "outputs": [
    {
     "data": {
      "image/png": "[encoded data removed]",
      "text/plain": [
       "<Figure size 640x480 with 1 Axes>"
      ]
     },
     "metadata": {},
     "output_type": "display_data"
    }
   ],
   "source": [
    "plt.hist(df_1['Price'], bins=50, color='skyblue', edgecolor='black')\n",
    "plt.title('Distribución de Price')\n",
    "plt.xlabel('Price')\n",
    "plt.ylabel('Frecuencia')\n",
    "plt.grid(True)\n",
    "plt.show()"
   ]
  },
  {
   "cell_type": "code",
   "execution_count": 11,
   "metadata": {},
   "outputs": [
    {
     "data": {
      "image/png": "[encoded data removed]",
      "text/plain": [
       "<Figure size 640x480 with 1 Axes>"
      ]
     },
     "metadata": {},
     "output_type": "display_data"
    }
   ],
   "source": [
    "plt.hist(df_1['Power'], bins=50, color='red', edgecolor='black')\n",
    "plt.title('Distribución de Power')\n",
    "plt.xlabel('Power')\n",
    "plt.ylabel('Frecuencia')\n",
    "plt.grid(True)\n",
    "plt.show()"
   ]
  },
  {
   "cell_type": "markdown",
   "metadata": {},
   "source": [
    "**Se sustituyen los valores 0 por las medias de acuerdo a Brand y RegistrationDate para dar exactitud a los modelos.**"
   ]
  },
  {
   "cell_type": "code",
   "execution_count": 12,
   "metadata": {
    "scrolled": false
   },
   "outputs": [
    {
     "data": {
      "text/html": [
       "<div>\n",
       "<style scoped>\n",
       "    .dataframe tbody tr th:only-of-type {\n",
       "        vertical-align: middle;\n",
       "    }\n",
       "\n",
       "    .dataframe tbody tr th {\n",
       "        vertical-align: top;\n",
       "    }\n",
       "\n",
       "    .dataframe thead th {\n",
       "        text-align: right;\n",
       "    }\n",
       "</style>\n",
       "<table border=\"1\" class=\"dataframe\">\n",
       "  <thead>\n",
       "    <tr style=\"text-align: right;\">\n",
       "      <th></th>\n",
       "      <th>Power</th>\n",
       "      <th>Price</th>\n",
       "    </tr>\n",
       "  </thead>\n",
       "  <tbody>\n",
       "    <tr>\n",
       "      <th>count</th>\n",
       "      <td>353790.000000</td>\n",
       "      <td>354054.000000</td>\n",
       "    </tr>\n",
       "    <tr>\n",
       "      <th>mean</th>\n",
       "      <td>123.317164</td>\n",
       "      <td>4506.206509</td>\n",
       "    </tr>\n",
       "    <tr>\n",
       "      <th>std</th>\n",
       "      <td>186.567088</td>\n",
       "      <td>4478.399585</td>\n",
       "    </tr>\n",
       "    <tr>\n",
       "      <th>min</th>\n",
       "      <td>1.000000</td>\n",
       "      <td>1.000000</td>\n",
       "    </tr>\n",
       "    <tr>\n",
       "      <th>25%</th>\n",
       "      <td>80.000000</td>\n",
       "      <td>1200.000000</td>\n",
       "    </tr>\n",
       "    <tr>\n",
       "      <th>50%</th>\n",
       "      <td>110.000000</td>\n",
       "      <td>2800.000000</td>\n",
       "    </tr>\n",
       "    <tr>\n",
       "      <th>75%</th>\n",
       "      <td>147.852405</td>\n",
       "      <td>6499.000000</td>\n",
       "    </tr>\n",
       "    <tr>\n",
       "      <th>max</th>\n",
       "      <td>20000.000000</td>\n",
       "      <td>20000.000000</td>\n",
       "    </tr>\n",
       "  </tbody>\n",
       "</table>\n",
       "</div>"
      ],
      "text/plain": [
       "               Power          Price\n",
       "count  353790.000000  354054.000000\n",
       "mean      123.317164    4506.206509\n",
       "std       186.567088    4478.399585\n",
       "min         1.000000       1.000000\n",
       "25%        80.000000    1200.000000\n",
       "50%       110.000000    2800.000000\n",
       "75%       147.852405    6499.000000\n",
       "max     20000.000000   20000.000000"
      ]
     },
     "execution_count": 12,
     "metadata": {},
     "output_type": "execute_result"
    }
   ],
   "source": [
    "df_1['Power'] = df_1['Power'].replace(0, pd.NA)\n",
    "df_1['Price'] = df_1['Price'].replace(0, pd.NA)\n",
    "\n",
    "df_1['Power'] = df_1.groupby(['RegistrationYear', 'Brand'])['Power'].transform(lambda x: x.fillna(x.mean()))\n",
    "df_1['Price'] = df_1.groupby(['RegistrationYear', 'Brand'])['Price'].transform(lambda x: x.fillna(x.mean()))\n",
    "\n",
    "df_1[['Power', 'Price']].describe()"
   ]
  },
  {
   "cell_type": "markdown",
   "metadata": {},
   "source": [
    "**Se eliminan valores anómalos en Power: el rango que se usará será el valor mínimo hasta 1000.**"
   ]
  },
  {
   "cell_type": "code",
   "execution_count": 13,
   "metadata": {},
   "outputs": [
    {
     "data": {
      "text/plain": [
       "count    353472.000000\n",
       "mean        119.807623\n",
       "std          53.443373\n",
       "min           1.000000\n",
       "25%          80.000000\n",
       "50%         110.000000\n",
       "75%         147.482091\n",
       "max        1000.000000\n",
       "Name: Power, dtype: float64"
      ]
     },
     "execution_count": 13,
     "metadata": {},
     "output_type": "execute_result"
    }
   ],
   "source": [
    "df_1 = df_1[df_1['Power'] <= 1000]\n",
    "\n",
    "df_1['Power'].describe()"
   ]
  },
  {
   "cell_type": "markdown",
   "metadata": {},
   "source": [
    "**Se revisa Price**"
   ]
  },
  {
   "cell_type": "code",
   "execution_count": 14,
   "metadata": {},
   "outputs": [
    {
     "data": {
      "text/plain": [
       "15"
      ]
     },
     "execution_count": 14,
     "metadata": {},
     "output_type": "execute_result"
    }
   ],
   "source": [
    "df_1['Price'].isnull().sum()"
   ]
  },
  {
   "cell_type": "markdown",
   "metadata": {},
   "source": [
    "Se sustituyen valores Nan por la mediana."
   ]
  },
  {
   "cell_type": "code",
   "execution_count": 15,
   "metadata": {},
   "outputs": [
    {
     "data": {
      "text/plain": [
       "0"
      ]
     },
     "execution_count": 15,
     "metadata": {},
     "output_type": "execute_result"
    }
   ],
   "source": [
    "df_1['Price'] = df_1['Price'].fillna(df_1['Price'].median())\n",
    "\n",
    "df_1['Price'].isna().sum()"
   ]
  },
  {
   "cell_type": "code",
   "execution_count": 16,
   "metadata": {},
   "outputs": [
    {
     "data": {
      "image/png": "[encoded data removed]",
      "text/plain": [
       "<Figure size 640x480 with 1 Axes>"
      ]
     },
     "metadata": {},
     "output_type": "display_data"
    }
   ],
   "source": [
    "plt.hist(df_1['Price'], bins=50, color='skyblue', edgecolor='black')\n",
    "plt.title('Distribución de Price')\n",
    "plt.xlabel('Price')\n",
    "plt.ylabel('Frecuencia')\n",
    "plt.grid(True)\n",
    "plt.show()"
   ]
  },
  {
   "cell_type": "code",
   "execution_count": 17,
   "metadata": {},
   "outputs": [
    {
     "data": {
      "image/png": "[encoded data removed]",
      "text/plain": [
       "<Figure size 640x480 with 1 Axes>"
      ]
     },
     "metadata": {},
     "output_type": "display_data"
    }
   ],
   "source": [
    "plt.hist(df_1['Power'], bins=50, color='red', edgecolor='black')\n",
    "plt.title('Distribución de Power')\n",
    "plt.xlabel('Power')\n",
    "plt.ylabel('Frecuencia')\n",
    "plt.grid(True)\n",
    "plt.show()"
   ]
  },
  {
   "cell_type": "markdown",
   "metadata": {},
   "source": [
    "Si bien, la distribución de Price quedó parecida a la original, en Power, la distribución de caballos de fuerza cambió y se nota más uniforme. "
   ]
  },
  {
   "cell_type": "markdown",
   "metadata": {},
   "source": [
    "**Se eliminan columnas innecesarias para el análisis**"
   ]
  },
  {
   "cell_type": "code",
   "execution_count": 18,
   "metadata": {},
   "outputs": [
    {
     "name": "stdout",
     "output_type": "stream",
     "text": [
      "0         07/04/2016 03:16\n",
      "1         07/04/2016 01:46\n",
      "2         05/04/2016 12:47\n",
      "3         17/03/2016 17:40\n",
      "4         06/04/2016 10:17\n",
      "                ...       \n",
      "354364    21/03/2016 10:42\n",
      "354365    06/04/2016 00:46\n",
      "354366    11/03/2016 18:17\n",
      "354367    07/04/2016 07:15\n",
      "354368    24/03/2016 12:45\n",
      "Name: LastSeen, Length: 353472, dtype: object\n"
     ]
    }
   ],
   "source": [
    "print(df_1['LastSeen'])"
   ]
  },
  {
   "cell_type": "markdown",
   "metadata": {},
   "source": [
    "PostalCode, las fechas y NumberOfPictures no parecen útiles para el consecuente análisis, por lo que se dejarán fuera. Asimismo, NumberOfPictures revela 0 en los valores, por lo que no es útil. Asimismo, se eliminan Brand y Model. "
   ]
  },
  {
   "cell_type": "code",
   "execution_count": 19,
   "metadata": {},
   "outputs": [
    {
     "data": {
      "text/plain": [
       "Index(['Price', 'VehicleType', 'Gearbox', 'Power', 'Mileage', 'FuelType',\n",
       "       'NotRepaired'],\n",
       "      dtype='object')"
      ]
     },
     "execution_count": 19,
     "metadata": {},
     "output_type": "execute_result"
    }
   ],
   "source": [
    "df_1 = df_1.drop(columns=['Brand', 'Model', 'PostalCode', 'RegistrationMonth', 'RegistrationYear', 'NumberOfPictures', 'DateCrawled', 'DateCreated', 'LastSeen'])\n",
    "df_1.columns"
   ]
  },
  {
   "cell_type": "code",
   "execution_count": 20,
   "metadata": {},
   "outputs": [
    {
     "data": {
      "text/html": [
       "<div>\n",
       "<style scoped>\n",
       "    .dataframe tbody tr th:only-of-type {\n",
       "        vertical-align: middle;\n",
       "    }\n",
       "\n",
       "    .dataframe tbody tr th {\n",
       "        vertical-align: top;\n",
       "    }\n",
       "\n",
       "    .dataframe thead th {\n",
       "        text-align: right;\n",
       "    }\n",
       "</style>\n",
       "<table border=\"1\" class=\"dataframe\">\n",
       "  <thead>\n",
       "    <tr style=\"text-align: right;\">\n",
       "      <th></th>\n",
       "      <th>Price</th>\n",
       "      <th>Power</th>\n",
       "      <th>Mileage</th>\n",
       "    </tr>\n",
       "  </thead>\n",
       "  <tbody>\n",
       "    <tr>\n",
       "      <th>count</th>\n",
       "      <td>353472.000000</td>\n",
       "      <td>353472.000000</td>\n",
       "      <td>353472.000000</td>\n",
       "    </tr>\n",
       "    <tr>\n",
       "      <th>mean</th>\n",
       "      <td>4508.638373</td>\n",
       "      <td>119.807623</td>\n",
       "      <td>128285.875543</td>\n",
       "    </tr>\n",
       "    <tr>\n",
       "      <th>std</th>\n",
       "      <td>4478.780664</td>\n",
       "      <td>53.443373</td>\n",
       "      <td>37801.195305</td>\n",
       "    </tr>\n",
       "    <tr>\n",
       "      <th>min</th>\n",
       "      <td>1.000000</td>\n",
       "      <td>1.000000</td>\n",
       "      <td>5000.000000</td>\n",
       "    </tr>\n",
       "    <tr>\n",
       "      <th>25%</th>\n",
       "      <td>1200.000000</td>\n",
       "      <td>80.000000</td>\n",
       "      <td>125000.000000</td>\n",
       "    </tr>\n",
       "    <tr>\n",
       "      <th>50%</th>\n",
       "      <td>2800.000000</td>\n",
       "      <td>110.000000</td>\n",
       "      <td>150000.000000</td>\n",
       "    </tr>\n",
       "    <tr>\n",
       "      <th>75%</th>\n",
       "      <td>6499.000000</td>\n",
       "      <td>147.482091</td>\n",
       "      <td>150000.000000</td>\n",
       "    </tr>\n",
       "    <tr>\n",
       "      <th>max</th>\n",
       "      <td>20000.000000</td>\n",
       "      <td>1000.000000</td>\n",
       "      <td>150000.000000</td>\n",
       "    </tr>\n",
       "  </tbody>\n",
       "</table>\n",
       "</div>"
      ],
      "text/plain": [
       "               Price          Power        Mileage\n",
       "count  353472.000000  353472.000000  353472.000000\n",
       "mean     4508.638373     119.807623  128285.875543\n",
       "std      4478.780664      53.443373   37801.195305\n",
       "min         1.000000       1.000000    5000.000000\n",
       "25%      1200.000000      80.000000  125000.000000\n",
       "50%      2800.000000     110.000000  150000.000000\n",
       "75%      6499.000000     147.482091  150000.000000\n",
       "max     20000.000000    1000.000000  150000.000000"
      ]
     },
     "execution_count": 20,
     "metadata": {},
     "output_type": "execute_result"
    }
   ],
   "source": [
    "df_1.describe()"
   ]
  },
  {
   "cell_type": "markdown",
   "metadata": {},
   "source": [
    "**A continuación, se analizarán valores problemáticos**"
   ]
  },
  {
   "cell_type": "code",
   "execution_count": 21,
   "metadata": {},
   "outputs": [
    {
     "name": "stdout",
     "output_type": "stream",
     "text": [
      "               Price          Power        Mileage  VehicleType_convertible  \\\n",
      "count  353472.000000  353472.000000  353472.000000            353472.000000   \n",
      "mean     4508.638373     119.807623  128285.875543                 0.057034   \n",
      "std      4478.780664      53.443373   37801.195305                 0.231908   \n",
      "min         1.000000       1.000000    5000.000000                 0.000000   \n",
      "25%      1200.000000      80.000000  125000.000000                 0.000000   \n",
      "50%      2800.000000     110.000000  150000.000000                 0.000000   \n",
      "75%      6499.000000     147.482091  150000.000000                 0.000000   \n",
      "max     20000.000000    1000.000000  150000.000000                 1.000000   \n",
      "\n",
      "       VehicleType_coupe  VehicleType_other  VehicleType_sedan  \\\n",
      "count      353472.000000      353472.000000      353472.000000   \n",
      "mean            0.045608           0.009211           0.258269   \n",
      "std             0.208633           0.095534           0.437684   \n",
      "min             0.000000           0.000000           0.000000   \n",
      "25%             0.000000           0.000000           0.000000   \n",
      "50%             0.000000           0.000000           0.000000   \n",
      "75%             0.000000           0.000000           1.000000   \n",
      "max             1.000000           1.000000           1.000000   \n",
      "\n",
      "       VehicleType_small  VehicleType_suv  VehicleType_unknown  ...  \\\n",
      "count      353472.000000    353472.000000        353472.000000  ...   \n",
      "mean            0.225412         0.033856             0.105332  ...   \n",
      "std             0.417854         0.180858             0.306981  ...   \n",
      "min             0.000000         0.000000             0.000000  ...   \n",
      "25%             0.000000         0.000000             0.000000  ...   \n",
      "50%             0.000000         0.000000             0.000000  ...   \n",
      "75%             0.000000         0.000000             0.000000  ...   \n",
      "max             1.000000         1.000000             1.000000  ...   \n",
      "\n",
      "       Gearbox_unknown  FuelType_electric  FuelType_gasoline  FuelType_hybrid  \\\n",
      "count    353472.000000      353472.000000      353472.000000    353472.000000   \n",
      "mean          0.055424           0.000255           0.278859         0.000659   \n",
      "std           0.228807           0.015955           0.448439         0.025666   \n",
      "min           0.000000           0.000000           0.000000         0.000000   \n",
      "25%           0.000000           0.000000           0.000000         0.000000   \n",
      "50%           0.000000           0.000000           0.000000         0.000000   \n",
      "75%           0.000000           0.000000           1.000000         0.000000   \n",
      "max           1.000000           1.000000           1.000000         1.000000   \n",
      "\n",
      "        FuelType_lpg  FuelType_other  FuelType_petrol  FuelType_unknown  \\\n",
      "count  353472.000000   353472.000000    353472.000000     353472.000000   \n",
      "mean        0.015003        0.000560         0.610747          0.092327   \n",
      "std         0.121563        0.023661         0.487582          0.289487   \n",
      "min         0.000000        0.000000         0.000000          0.000000   \n",
      "25%         0.000000        0.000000         0.000000          0.000000   \n",
      "50%         0.000000        0.000000         1.000000          0.000000   \n",
      "75%         0.000000        0.000000         1.000000          0.000000   \n",
      "max         1.000000        1.000000         1.000000          1.000000   \n",
      "\n",
      "       NotRepaired_unknown  NotRepaired_yes  \n",
      "count        353472.000000    353472.000000  \n",
      "mean              0.200304         0.101739  \n",
      "std               0.400229         0.302306  \n",
      "min               0.000000         0.000000  \n",
      "25%               0.000000         0.000000  \n",
      "50%               0.000000         0.000000  \n",
      "75%               0.000000         0.000000  \n",
      "max               1.000000         1.000000  \n",
      "\n",
      "[8 rows x 22 columns]\n"
     ]
    }
   ],
   "source": [
    "df_1 = pd.get_dummies(df_1, drop_first=True)\n",
    "print(df_1.describe())"
   ]
  },
  {
   "cell_type": "code",
   "execution_count": 22,
   "metadata": {},
   "outputs": [
    {
     "data": {
      "text/plain": [
       "Price                      0\n",
       "Power                      0\n",
       "Mileage                    0\n",
       "VehicleType_convertible    0\n",
       "VehicleType_coupe          0\n",
       "VehicleType_other          0\n",
       "VehicleType_sedan          0\n",
       "VehicleType_small          0\n",
       "VehicleType_suv            0\n",
       "VehicleType_unknown        0\n",
       "VehicleType_wagon          0\n",
       "Gearbox_manual             0\n",
       "Gearbox_unknown            0\n",
       "FuelType_electric          0\n",
       "FuelType_gasoline          0\n",
       "FuelType_hybrid            0\n",
       "FuelType_lpg               0\n",
       "FuelType_other             0\n",
       "FuelType_petrol            0\n",
       "FuelType_unknown           0\n",
       "NotRepaired_unknown        0\n",
       "NotRepaired_yes            0\n",
       "dtype: int64"
      ]
     },
     "execution_count": 22,
     "metadata": {},
     "output_type": "execute_result"
    }
   ],
   "source": [
    "df_1.isnull().sum()"
   ]
  },
  {
   "cell_type": "markdown",
   "metadata": {},
   "source": [
    "<div class=\"alert alert-block alert-danger\">\n",
    "<b>Comentario de Revisor</b> <a class=\"tocSkip\"></a>\n",
    "\n",
    "Ok, pero estas variables no parecen ser útiles para predecir el precio. Te recomiendo eliminarlas.\n",
    "\n",
    "</div>"
   ]
  },
  {
   "cell_type": "markdown",
   "metadata": {},
   "source": [
    "<div class=\"alert alert-block alert-danger\">\n",
    "<b>Comentario de Revisor</b> <a class=\"tocSkip\"></a>\n",
    "\n",
    "Antes de realizar encoding, realiza una exploración de las variables de la data. En particular, revisa si existen valores anómalos que deberíamos descartar\n",
    "\n",
    "</div>"
   ]
  },
  {
   "cell_type": "markdown",
   "metadata": {},
   "source": [
    "<div class=\"alert alert-block alert-danger\">\n",
    "<b>Comentario de Revisor</b> <a class=\"tocSkip\"></a>\n",
    "\n",
    "Nota que el encoding genera más de 300 columnas. Estas son demasiadas columnas, te recomiendo no considerar ni Model ni Brand para tener menos features. Cuando la dimensión de la data aumenta tanto, se vuelve difícil entrenar los algoritmos ya que el espacio crece exponencialmente. Por favor, cambia esto y prueba nuevamente los modelos.\n",
    "</div>"
   ]
  },
  {
   "cell_type": "markdown",
   "metadata": {},
   "source": [
    "<div class=\"alert alert-block alert-info\">\n",
    "<b>Listo, eliminé las columnas que tenían datos erróneos (NumberOfPictures) y las que se me sugirieron como innecesarias. Gracias por el feedback.</b> <a class=\"tocSkip\"></a>\n",
    "</div>"
   ]
  },
  {
   "cell_type": "markdown",
   "metadata": {},
   "source": [
    "<div class=\"alert alert-block alert-success\">\n",
    "<b>Comentario de Revisor v2</b> <a class=\"tocSkip\"></a>\n",
    "\n",
    "Ok, bien al remover las variables que no son útiles para la predicción porque no tienen información del proceso realmente (variables no informativas). Además, me parece bien no incluir las variables que generan muchas columnas al momento de hacer el one-hot o dummy encoding.\n",
    "\n",
    "</div>"
   ]
  },
  {
   "cell_type": "markdown",
   "metadata": {},
   "source": [
    "<div class=\"alert alert-block alert-danger\">\n",
    "<b>Comentario de Revisor v2</b> <a class=\"tocSkip\"></a>\n",
    "\n",
    "Aún falta revisar los valores anómalos o outliers de la data. Nota que hay precios 0, años de registro que no hacen sentido y power 0 también. Es importante tener la data limpia de estos valores antes de pasar a los modelos.\n",
    "\n",
    "</div>"
   ]
  },
  {
   "cell_type": "markdown",
   "metadata": {},
   "source": [
    "<div class=\"alert alert-block alert-info\">\n",
    "<b>Sustituí los valores 0 por la media en columnas de Price y Power, asimismo, eliminé los valores más altos de Power con base en una investigación que hice sobre caballos de fuerza en autos. Sin embargo, aún tengo valores 1 en ambas columnas, decidí dejarlos así puesto que al contar los valores mínimos, eran muchos y creí que si cambiaba esos también, afectaría el análisis y ejecución de mis modelos. Sin embargo, si es necesario modificarlos también (por ejemplo, en Power, todos aquellos de 0 a 50, lo haré sin problema). Gracias por el feedback preciso y quedo atento a cualquier otra modificación necesaria. Buenas noches.</b> <a class=\"tocSkip\"></a>\n",
    "</div>"
   ]
  },
  {
   "cell_type": "markdown",
   "metadata": {},
   "source": [
    "<div class=\"alert alert-block alert-danger\">\n",
    "<b>Comentario de Revisor v3</b> <a class=\"tocSkip\"></a>\n",
    "\n",
    "Ok con el procedimiento realizado, aunque la imputación por la media de toda la data no creo que sea lo ideal, esto puede introducir un sesgo muy marcado en la data. Grafica un histograma de las variables power y price, antes y después de realizar esta imputación para observar el efecto que se generó.\n",
    "    \n",
    "Normalmente las imputaciones se realizan mediante grupos de la data, de forma que se reemplaza los nulos con la media del grupo al que pertenece el dato que tiene el nulo. Por ejemplo, los 0 de price se podrían reemplazar con la media de precio del año y marca. Luego en los casos que esto no sea posible porque no hay observaciones similares, entonces ahí se podría optar por la media.\n",
    "        \n",
    "\n",
    "</div>"
   ]
  },
  {
   "cell_type": "markdown",
   "metadata": {},
   "source": [
    "<div class=\"alert alert-block alert-info\">\n",
    "<b>Entendido, la verdad es que no sabía que se tendría que hacer así en este caso. Usé la RegistrationDate aunque no supe si debía usar, más bien, DateCrawled. Si debo cambiarlo, quedo atento y lo hago con gusto. Los histogramas cambiaron y se distribuyó mejor en caso de Power, aunque en Price se mantuvo relativamente igual. Lo que me quedó duda fue en si sería conveniente reducir más Power en cuanto al valor máximo, cambiarlo de 1000 a 600 o incluso menos, por ejemplo, pero pienso que ahí sí necesitaría preguntar a los que solicitan la información. Empero, ya llevé a cabo los cambios requeridos, gracias por la orientación. Quedo atento a la siguiente revisión. </b> <a class=\"tocSkip\"></a>\n",
    "</div>"
   ]
  },
  {
   "cell_type": "markdown",
   "metadata": {},
   "source": [
    "<div class=\"alert alert-block alert-success\">\n",
    "<b>Comentario de Revisor v4</b> <a class=\"tocSkip\"></a>\n",
    "\n",
    "OK, muy bien, ahora está mucho mejor. Respecto a los valores, efectivamente depende un poco de la naturaleza de la información, para lo cual sería bueno consultar con alguien que tenga más contexto del origen de la información. Viendo solo la data, diría que de 400 hacia arriba es un outlier.\n",
    "\n",
    "</div>"
   ]
  },
  {
   "cell_type": "markdown",
   "metadata": {},
   "source": [
    "### Segmentación"
   ]
  },
  {
   "cell_type": "code",
   "execution_count": 23,
   "metadata": {},
   "outputs": [
    {
     "name": "stdout",
     "output_type": "stream",
     "text": [
      "El tamaño de x_train es (282777, 21)\n",
      "El tamaño de x_val es (70695, 21)\n",
      "El tamaño de y_train es (282777,)\n",
      "El tamaño de y_val es (70695,)\n"
     ]
    }
   ],
   "source": [
    "x = df_1.drop(['Price'], axis=1)\n",
    "y = df_1['Price']\n",
    "\n",
    "x_train, x_val, y_train, y_val = train_test_split(x, y, test_size=0.2, random_state=42)\n",
    "\n",
    "print('El tamaño de x_train es', x_train.shape)\n",
    "print('El tamaño de x_val es', x_val.shape)\n",
    "print('El tamaño de y_train es', y_train.shape)\n",
    "print('El tamaño de y_val es', y_val.shape)"
   ]
  },
  {
   "cell_type": "markdown",
   "metadata": {},
   "source": [
    "## Entrenamiento del modelo "
   ]
  },
  {
   "cell_type": "markdown",
   "metadata": {},
   "source": [
    "### LinearRegression\n",
    "Para prueba de cordura"
   ]
  },
  {
   "cell_type": "code",
   "execution_count": 24,
   "metadata": {
    "scrolled": true
   },
   "outputs": [
    {
     "name": "stdout",
     "output_type": "stream",
     "text": [
      "El valor de R2 de LinearRegression es 0.5080666687709838\n",
      "El valor de RMSE de LinearRegression es 3134.7012142216977\n",
      "El promedio de evaluación de LinearRegression es 0.5084461141218435\n"
     ]
    }
   ],
   "source": [
    "x = df_1.drop(['Price'], axis=1)\n",
    "y = df_1['Price']\n",
    "\n",
    "x_train, x_val, y_train, y_val = train_test_split(x, y, test_size=0.2, random_state=42)\n",
    "\n",
    "modelo_cordura = LinearRegression()\n",
    "modelo_cordura.fit(x_train, y_train)\n",
    "\n",
    "prediction_lineal = modelo_cordura.predict(x_val)\n",
    "\n",
    "mse_lineal = mean_squared_error(y_val, prediction_lineal)\n",
    "rmse_lineal = mse_lineal**0.5\n",
    "\n",
    "r2_lineal = r2_score(y_val, prediction_lineal)\n",
    "\n",
    "final_lineal = cross_val_score(modelo_cordura, x, y, cv=5).mean()\n",
    "\n",
    "print('El valor de R2 de LinearRegression es', r2_lineal)\n",
    "print('El valor de RMSE de LinearRegression es', rmse_lineal)\n",
    "print('El promedio de evaluación de LinearRegression es', final_lineal)"
   ]
  },
  {
   "cell_type": "markdown",
   "metadata": {},
   "source": [
    "Los resultados de la regresión linear nos indican que en el 50.8% de los casos, el modelo puede predecir correctamente el precio de los autos (esto con base en el valor R2 y el promedio de evaluación). Sin embargo, la gran dispersión de los datos indica que el RMSE se dispara mucho, en hasta 3134.70 del valor real.    \n",
    "\n",
    "Una vez con estos valores para orientar los siguientes modelos, se llevará a cabo el análisis de RandomForestGenerator y DecisionTreeRegressor cada uno con uso conjunto de LightGBM y de CatBoost para mejorar los resultados obtenidos de la prueba de cordura."
   ]
  },
  {
   "cell_type": "markdown",
   "metadata": {},
   "source": [
    "<div class=\"alert alert-block alert-success\">\n",
    "<b>Comentario de Revisor v4</b> <a class=\"tocSkip\"></a>\n",
    "\n",
    "Muy bien, correcto el modelo como un modelo de cordura\n",
    "\n",
    "</div>"
   ]
  },
  {
   "cell_type": "markdown",
   "metadata": {},
   "source": [
    "## Análisis del modelo"
   ]
  },
  {
   "cell_type": "markdown",
   "metadata": {},
   "source": [
    "### RandomForestRegressor"
   ]
  },
  {
   "cell_type": "markdown",
   "metadata": {},
   "source": [
    "Se hace downsampling para ahorrar tiempo en ejecución de modelo."
   ]
  },
  {
   "cell_type": "code",
   "execution_count": 25,
   "metadata": {},
   "outputs": [
    {
     "name": "stdout",
     "output_type": "stream",
     "text": [
      "R2 del modelo RandomForestRegressor 0.6593818494365327\n",
      "El RMSE del modelo RandomForestRegressor es 2608.41639146485\n",
      "CPU times: user 12.3 s, sys: 40.4 ms, total: 12.3 s\n",
      "Wall time: 12.4 s\n"
     ]
    }
   ],
   "source": [
    "%%time\n",
    "\n",
    "model_forest = RandomForestRegressor(random_state=42, n_estimators=50, max_depth=10, n_jobs=-1)\n",
    "model_forest.fit(x_train, y_train)\n",
    "\n",
    "predict_forest = model_forest.predict(x_val)\n",
    "\n",
    "mse_forest = mean_squared_error(y_val, predict_forest)\n",
    "rmse_forest = mse_forest**0.5\n",
    "\n",
    "r2_forest = r2_score(y_val, predict_forest)\n",
    "\n",
    "print(\"R2 del modelo RandomForestRegressor\", r2_forest)\n",
    "print(\"El RMSE del modelo RandomForestRegressor es\", rmse_forest)"
   ]
  },
  {
   "cell_type": "markdown",
   "metadata": {},
   "source": [
    "El modelo RandomForestRegressor nos indica por el R2, que acierta en el 65.9% de las veces. Asimismo,  su error de predicción es de 2608.63 unidades. Esto plantea una mejoría en comparación con la regresión linear.   \n",
    "El tiempo total de espera fue de 13 segundos."
   ]
  },
  {
   "cell_type": "markdown",
   "metadata": {},
   "source": [
    "### LightGBM"
   ]
  },
  {
   "cell_type": "code",
   "execution_count": 26,
   "metadata": {
    "scrolled": true
   },
   "outputs": [
    {
     "name": "stderr",
     "output_type": "stream",
     "text": [
      "/opt/conda/envs/python3/lib/python3.9/site-packages/lightgbm/sklearn.py:736: UserWarning: 'verbose' argument is deprecated and will be removed in a future release of LightGBM. Pass 'log_evaluation()' callback via 'callbacks' argument instead.\n",
      "  _log_warning(\"'verbose' argument is deprecated and will be removed in a future release of LightGBM. \"\n"
     ]
    },
    {
     "name": "stdout",
     "output_type": "stream",
     "text": [
      "R2 del modelo LightGBM 0.6535112112522543\n",
      "El RMSE del modelo LightGBM es 2630.7987135136796\n",
      "CPU times: user 5.97 s, sys: 16.5 ms, total: 5.99 s\n",
      "Wall time: 5.98 s\n"
     ]
    }
   ],
   "source": [
    "%%time\n",
    "\n",
    "categorical_cols = df_1.select_dtypes(include=['object']).columns\n",
    "for col in categorical_cols:\n",
    "    df_1[col] = df_1[col].astype('category')\n",
    "\n",
    "model_light = lgb.LGBMRegressor(\n",
    "    n_estimators=199, \n",
    "    learning_rate=0.05, \n",
    "    num_leaves=20, \n",
    "    max_depth=6, \n",
    "    max_bin=50, \n",
    "    subsample=0.6,\n",
    "    n_jobs=-1\n",
    ")\n",
    "\n",
    "model_light.fit(x_train, y_train, eval_metric='mse',eval_set=[(x_val, y_val)], verbose=False)\n",
    "\n",
    "predict_light = model_light.predict(x_val)\n",
    "\n",
    "mse_light = mean_squared_error(y_val, predict_light)\n",
    "rmse_light = mse_light**0.5\n",
    "r2_light = r2_score(y_val, predict_light)\n",
    "\n",
    "print(\"R2 del modelo LightGBM\", r2_light)\n",
    "print(\"El RMSE del modelo LightGBM es\", rmse_light)"
   ]
  },
  {
   "cell_type": "markdown",
   "metadata": {},
   "source": [
    "El modelo LightGBM nos da una confiabilidad del 65.3% de los casos predecidos, así como un error de 2630.62 unidades. Mientras que el tiempo es de 5 segundos. El rendimiento es relativamente similar a RandomForestRegressor, excepto en el tiempo de ejecución. Se procede a cambiar hipeparámetros para mejorar el rendimiento del modelo. "
   ]
  },
  {
   "cell_type": "code",
   "execution_count": 27,
   "metadata": {},
   "outputs": [
    {
     "name": "stderr",
     "output_type": "stream",
     "text": [
      "/opt/conda/envs/python3/lib/python3.9/site-packages/lightgbm/sklearn.py:736: UserWarning: 'verbose' argument is deprecated and will be removed in a future release of LightGBM. Pass 'log_evaluation()' callback via 'callbacks' argument instead.\n",
      "  _log_warning(\"'verbose' argument is deprecated and will be removed in a future release of LightGBM. \"\n"
     ]
    },
    {
     "name": "stdout",
     "output_type": "stream",
     "text": [
      "R2 del modelo LightGBM 0.6857413609271004\n",
      "El RMSE del modelo LightGBM es 2505.455191801977\n",
      "CPU times: user 8.96 s, sys: 43 ms, total: 9 s\n",
      "Wall time: 9 s\n"
     ]
    }
   ],
   "source": [
    "%%time\n",
    "\n",
    "model_light = lgb.LGBMRegressor(\n",
    "    n_estimators=250, \n",
    "    learning_rate=0.05, \n",
    "    num_leaves=50, \n",
    "    max_depth=10, \n",
    "    max_bin=200, \n",
    "    subsample=0.8,\n",
    "    n_jobs=-1\n",
    ")\n",
    "\n",
    "model_light.fit(x_train, y_train, eval_metric='mse',eval_set=[(x_val, y_val)], verbose=False)\n",
    "\n",
    "predict_light = model_light.predict(x_val)\n",
    "\n",
    "mse_light = mean_squared_error(y_val, predict_light)\n",
    "rmse_light = mse_light**0.5\n",
    "r2_light = r2_score(y_val, predict_light)\n",
    "\n",
    "print(\"R2 del modelo LightGBM\", r2_light)\n",
    "print(\"El RMSE del modelo LightGBM es\", rmse_light)"
   ]
  },
  {
   "cell_type": "markdown",
   "metadata": {},
   "source": [
    "El rendimiento de este modelo mejoró ligeramente. El R2 subió a 68.5%, el error promeido se redujo unas decenas de unidades, a 2505.45 y el tiempo de espera fue un poco mayor, de 9 segundos, lo cual es aceptable. "
   ]
  },
  {
   "cell_type": "markdown",
   "metadata": {},
   "source": [
    "### CatBoost"
   ]
  },
  {
   "cell_type": "code",
   "execution_count": 28,
   "metadata": {},
   "outputs": [
    {
     "name": "stdout",
     "output_type": "stream",
     "text": [
      "R2 del modelo CatBoost es 0.6299460008294739\n",
      "El RMSE del modelo CatBoost es 2718.789464919995\n",
      "CPU times: user 2.81 s, sys: 19.3 ms, total: 2.83 s\n",
      "Wall time: 3.08 s\n"
     ]
    }
   ],
   "source": [
    "%%time\n",
    "\n",
    "model_cat = CatBoostRegressor(iterations=100, learning_rate=0.05, depth=6, verbose=False, eval_metric='RMSE')\n",
    "model_cat.fit(x_train, y_train, cat_features=categorical_cols.tolist(), eval_set=(x_val, y_val))\n",
    "\n",
    "predict_cat = model_cat.predict(x_val)\n",
    "\n",
    "mse_cat = mean_squared_error(y_val, predict_cat)\n",
    "rmse_cat = mse_cat**0.5\n",
    "\n",
    "r2_cat = r2_score(y_val, predict_cat)\n",
    "\n",
    "print('R2 del modelo CatBoost es', r2_cat)\n",
    "print('El RMSE del modelo CatBoost es', rmse_cat)"
   ]
  },
  {
   "cell_type": "markdown",
   "metadata": {},
   "source": [
    "A continuación, se cambian parámetros para mejora del modelo."
   ]
  },
  {
   "cell_type": "code",
   "execution_count": 29,
   "metadata": {},
   "outputs": [
    {
     "name": "stdout",
     "output_type": "stream",
     "text": [
      "R2 del modelo CatBoost es 0.6651198342449733\n",
      "El RMSE del modelo CatBoost es 2586.352647689182\n",
      "CPU times: user 12.9 s, sys: 17.1 ms, total: 12.9 s\n",
      "Wall time: 13 s\n"
     ]
    }
   ],
   "source": [
    "%%time\n",
    "\n",
    "model_cat = CatBoostRegressor(iterations=300, learning_rate=0.03, depth=10, l2_leaf_reg=3, verbose=0, eval_metric='RMSE')\n",
    "model_cat.fit(x_train, y_train, cat_features=categorical_cols.tolist(), eval_set=(x_val, y_val))\n",
    "\n",
    "predict_cat = model_cat.predict(x_val)\n",
    "\n",
    "mse_cat = mean_squared_error(y_val, predict_cat)\n",
    "rmse_cat = mse_cat**0.5\n",
    "\n",
    "r2_cat = r2_score(y_val, predict_cat)\n",
    "\n",
    "print('R2 del modelo CatBoost es', r2_cat)\n",
    "print('El RMSE del modelo CatBoost es', rmse_cat)"
   ]
  },
  {
   "cell_type": "markdown",
   "metadata": {},
   "source": [
    "El modelo CatBoos demuestra ser muy parecido al LightGBM en cuanto a resultados: la confiabilidad es de un 66.5 por ciento, el cual ha sido el segundo mejor hasta ahora, y su variabilidad promedio es de 2586.35 unidades. Asimismo, le toma poco más de 10 segundos lanzar la respuesta final. "
   ]
  },
  {
   "cell_type": "markdown",
   "metadata": {},
   "source": [
    "<div class=\"alert alert-block alert-danger\">\n",
    "<b>Comentario de Revisor</b> <a class=\"tocSkip\"></a>\n",
    "\n",
    "Ok con la metodología, una vez corregido lo anterior, revisaré nuevamente esta parte\n",
    "\n",
    "</div>"
   ]
  },
  {
   "cell_type": "markdown",
   "metadata": {},
   "source": [
    "<div class=\"alert alert-block alert-info\">\n",
    "<b>Se llevaron a cabo los cambios solicitados. Quedo atento a cambios o retroalimentación para mejorar el proyecto.</b> <a class=\"tocSkip\"></a>\n",
    "</div>"
   ]
  },
  {
   "cell_type": "markdown",
   "metadata": {},
   "source": [
    "<div class=\"alert alert-block alert-success\">\n",
    "<b>Comentario de Revisor v4</b> <a class=\"tocSkip\"></a>\n",
    "\n",
    "Bien hecho, muy bien con probar diferentes tipos de modelos. Otro paso ideal sería realizar una exploración de cómo afectan los parámetros de los modelos al desempeño de estos. Por ejemplo, usar diferentes valores de depth para random forest.\n",
    "\n",
    "</div>"
   ]
  },
  {
   "cell_type": "markdown",
   "metadata": {},
   "source": [
    "## Conclusión"
   ]
  },
  {
   "cell_type": "markdown",
   "metadata": {},
   "source": [
    "Se recorrieron 3 diferentes modelos como prueba para este análisis. El dataset era muy amplio, se eliminaron las columnas referentes a fechas, así como Model y Brand por indicación; finalmente, se eliminó la columna NumberOfPictures dado que todos los valore seran 0. Se usó LinearRegression como prueba de cordura. Estos son los resultados:    \n",
    "-Los 3 modelos analizados superaron la prueba de cordura en cuanto a resultados del R2 y el RMSE; en cuanto al tiempo de ejecución, los modelos que mostraron diferentes rangos.     \n",
    "-Los tres modelos dieron resultados muy parecidos en cuanto al falor R2 y al promedio de diferencia de predicción.    \n",
    "-El mejor modelo fue LightGBM en cuanto a confiabilidad, error promedio y tiempo de ejecución. CatBoost quedó muy cerca en los parámetros, el tiempo fue un poco más elevado en este modelo.\n",
    "-Con base en estas métricas y análisis, el modelo más recomendable para la predicción de precio de los autos y su uso en la app, es LightGBM (a pesar de que LightGBM mostró más confiabilidad con los hiperparámetros modificados para su mejora, la diferencia fue mínima y el error promedio era mayor en ese); sin embargo, se recomienda la mejora del modelo proporcionando más información que pudiese servir para el análisis. Por ejemplo, devaluación de modelos o rendimiento de gasolina, incluso fechas de ensamblaje o tiempo de uso en meses o años. Esto podría servir para que los modelos funcionasen mejor en cuanto a su predicción final. "
   ]
  },
  {
   "cell_type": "markdown",
   "metadata": {},
   "source": [
    "<div class=\"alert alert-block alert-success\">\n",
    "<b>Comentario de Revisor</b> <a class=\"tocSkip\"></a>\n",
    "\n",
    "Bien hecho con estas conclusiones. Podrías mejorarlas incluyendo algunos valores de las métricas más importantes, así las afirmaciones realizadas estarían mejor apoyadas en hechos.\n",
    "    \n",
    "</div>"
   ]
  },
  {
   "cell_type": "markdown",
   "metadata": {},
   "source": [
    "# Lista de control"
   ]
  },
  {
   "cell_type": "markdown",
   "metadata": {},
   "source": [
    "Escribe 'x' para verificar. Luego presiona Shift+Enter"
   ]
  },
  {
   "cell_type": "markdown",
   "metadata": {},
   "source": [
    "- [x]  Jupyter Notebook está abierto\n",
    "- [ ]  El código no tiene errores- [ ]  Las celdas con el código han sido colocadas en orden de ejecución- [ ]  Los datos han sido descargados y preparados- [ ]  Los modelos han sido entrenados\n",
    "- [ ]  Se realizó el análisis de velocidad y calidad de los modelos"
   ]
  },
  {
   "cell_type": "code",
   "execution_count": null,
   "metadata": {},
   "outputs": [],
   "source": []
  }
 ],
 "metadata": {
  "ExecuteTimeLog": [
   {
    "duration": 994,
    "start_time": "2025-04-27T18:26:33.259Z"
   },
   {
    "duration": 19,
    "start_time": "2025-04-27T18:26:40.099Z"
   },
   {
    "duration": 518,
    "start_time": "2025-04-27T18:28:25.517Z"
   },
   {
    "duration": 8,
    "start_time": "2025-04-27T18:29:02.480Z"
   },
   {
    "duration": 232,
    "start_time": "2025-04-27T18:31:00.286Z"
   },
   {
    "duration": 473,
    "start_time": "2025-04-27T18:32:11.127Z"
   },
   {
    "duration": 473,
    "start_time": "2025-04-27T18:32:17.961Z"
   },
   {
    "duration": 86,
    "start_time": "2025-04-27T19:29:33.937Z"
   },
   {
    "duration": 2,
    "start_time": "2025-04-27T19:36:00.454Z"
   },
   {
    "duration": 29,
    "start_time": "2025-04-27T19:36:20.679Z"
   },
   {
    "duration": 16,
    "start_time": "2025-04-27T19:36:34.381Z"
   },
   {
    "duration": 28,
    "start_time": "2025-04-27T19:36:40.089Z"
   },
   {
    "duration": 146,
    "start_time": "2025-04-27T19:36:40.783Z"
   },
   {
    "duration": 90,
    "start_time": "2025-04-27T19:36:55.657Z"
   },
   {
    "duration": 145,
    "start_time": "2025-04-27T19:37:24.832Z"
   },
   {
    "duration": 86,
    "start_time": "2025-04-27T19:37:28.212Z"
   },
   {
    "duration": 114,
    "start_time": "2025-04-27T19:42:57.722Z"
   },
   {
    "duration": 161,
    "start_time": "2025-04-27T19:51:33.722Z"
   },
   {
    "duration": 136,
    "start_time": "2025-04-27T19:51:50.038Z"
   },
   {
    "duration": 3,
    "start_time": "2025-04-27T19:57:37.572Z"
   },
   {
    "duration": 23,
    "start_time": "2025-04-27T20:06:04.806Z"
   },
   {
    "duration": 106,
    "start_time": "2025-04-27T20:06:15.576Z"
   },
   {
    "duration": 108,
    "start_time": "2025-04-27T20:07:05.117Z"
   },
   {
    "duration": 178,
    "start_time": "2025-04-27T20:17:17.643Z"
   },
   {
    "duration": 126,
    "start_time": "2025-04-27T20:20:26.734Z"
   },
   {
    "duration": 641,
    "start_time": "2025-04-27T20:21:46.275Z"
   },
   {
    "duration": 8,
    "start_time": "2025-04-27T20:22:44.212Z"
   },
   {
    "duration": 114,
    "start_time": "2025-04-27T20:22:55.165Z"
   },
   {
    "duration": 654,
    "start_time": "2025-04-27T20:23:10.649Z"
   },
   {
    "duration": 107,
    "start_time": "2025-04-27T20:23:15.537Z"
   },
   {
    "duration": 24,
    "start_time": "2025-04-27T20:27:01.920Z"
   },
   {
    "duration": 96,
    "start_time": "2025-04-27T20:27:05.741Z"
   },
   {
    "duration": 359,
    "start_time": "2025-04-27T20:28:23.254Z"
   },
   {
    "duration": 160,
    "start_time": "2025-04-27T20:28:58.849Z"
   },
   {
    "duration": 26,
    "start_time": "2025-04-27T20:29:18.693Z"
   },
   {
    "duration": 25,
    "start_time": "2025-04-27T20:29:39.316Z"
   },
   {
    "duration": 96,
    "start_time": "2025-04-27T20:32:24.594Z"
   },
   {
    "duration": 103,
    "start_time": "2025-04-27T20:32:34.912Z"
   },
   {
    "duration": 905,
    "start_time": "2025-04-27T20:32:54.835Z"
   },
   {
    "duration": 494,
    "start_time": "2025-04-27T20:32:55.742Z"
   },
   {
    "duration": 8,
    "start_time": "2025-04-27T20:32:56.237Z"
   },
   {
    "duration": 483,
    "start_time": "2025-04-27T20:32:56.247Z"
   },
   {
    "duration": 93,
    "start_time": "2025-04-27T20:32:56.734Z"
   },
   {
    "duration": 25,
    "start_time": "2025-04-27T20:32:56.830Z"
   },
   {
    "duration": 242,
    "start_time": "2025-04-27T20:32:56.856Z"
   },
   {
    "duration": 96,
    "start_time": "2025-04-27T20:32:57.101Z"
   },
   {
    "duration": 1258,
    "start_time": "2025-04-27T20:32:57.199Z"
   },
   {
    "duration": 103,
    "start_time": "2025-04-27T20:32:58.459Z"
   },
   {
    "duration": 271,
    "start_time": "2025-04-27T20:32:58.564Z"
   },
   {
    "duration": 13,
    "start_time": "2025-04-27T20:39:52.816Z"
   },
   {
    "duration": 17,
    "start_time": "2025-04-27T20:41:02.126Z"
   },
   {
    "duration": 324,
    "start_time": "2025-04-27T20:41:53.603Z"
   },
   {
    "duration": 371,
    "start_time": "2025-04-27T20:48:50.202Z"
   },
   {
    "duration": 872,
    "start_time": "2025-04-27T20:49:36.607Z"
   },
   {
    "duration": 578,
    "start_time": "2025-04-27T20:49:37.481Z"
   },
   {
    "duration": 7,
    "start_time": "2025-04-27T20:49:38.062Z"
   },
   {
    "duration": 552,
    "start_time": "2025-04-27T20:49:38.070Z"
   },
   {
    "duration": 103,
    "start_time": "2025-04-27T20:49:38.631Z"
   },
   {
    "duration": 35,
    "start_time": "2025-04-27T20:49:38.736Z"
   },
   {
    "duration": 278,
    "start_time": "2025-04-27T20:49:38.772Z"
   },
   {
    "duration": 112,
    "start_time": "2025-04-27T20:49:39.052Z"
   },
   {
    "duration": 1551,
    "start_time": "2025-04-27T20:49:39.167Z"
   },
   {
    "duration": 366,
    "start_time": "2025-04-27T20:49:40.720Z"
   },
   {
    "duration": 810,
    "start_time": "2025-04-27T20:49:41.088Z"
   },
   {
    "duration": 15153,
    "start_time": "2025-04-27T20:49:41.900Z"
   },
   {
    "duration": 13521,
    "start_time": "2025-04-27T20:50:14.741Z"
   },
   {
    "duration": 0,
    "start_time": "2025-04-27T20:51:11.942Z"
   },
   {
    "duration": 13041,
    "start_time": "2025-04-27T20:51:16.297Z"
   },
   {
    "duration": 15010,
    "start_time": "2025-04-27T20:51:47.059Z"
   },
   {
    "duration": 83342,
    "start_time": "2025-04-27T20:53:41.528Z"
   },
   {
    "duration": 2,
    "start_time": "2025-04-27T21:09:49.949Z"
   },
   {
    "duration": 118,
    "start_time": "2025-04-27T21:27:29.603Z"
   },
   {
    "duration": 488713,
    "start_time": "2025-04-27T21:27:51.680Z"
   },
   {
    "duration": 0,
    "start_time": "2025-04-27T21:36:00.395Z"
   },
   {
    "duration": 494,
    "start_time": "2025-04-27T21:36:05.328Z"
   },
   {
    "duration": 7,
    "start_time": "2025-04-27T21:36:06.456Z"
   },
   {
    "duration": 86,
    "start_time": "2025-04-27T21:36:08.881Z"
   },
   {
    "duration": 51,
    "start_time": "2025-04-27T21:36:10.245Z"
   },
   {
    "duration": 221,
    "start_time": "2025-04-27T21:36:13.228Z"
   },
   {
    "duration": 4,
    "start_time": "2025-04-27T21:36:25.387Z"
   },
   {
    "duration": 466,
    "start_time": "2025-04-27T21:36:26.364Z"
   },
   {
    "duration": 7,
    "start_time": "2025-04-27T21:36:27.791Z"
   },
   {
    "duration": 427,
    "start_time": "2025-04-27T21:36:28.213Z"
   },
   {
    "duration": 97,
    "start_time": "2025-04-27T21:36:28.642Z"
   },
   {
    "duration": 12,
    "start_time": "2025-04-27T21:36:29.056Z"
   },
   {
    "duration": 239,
    "start_time": "2025-04-27T21:36:30.036Z"
   },
   {
    "duration": 99,
    "start_time": "2025-04-27T21:36:31.126Z"
   },
   {
    "duration": 1265,
    "start_time": "2025-04-27T21:36:33.747Z"
   },
   {
    "duration": 321,
    "start_time": "2025-04-27T21:36:37.482Z"
   },
   {
    "duration": 38399,
    "start_time": "2025-04-27T21:40:04.795Z"
   },
   {
    "duration": 3,
    "start_time": "2025-04-27T21:43:28.462Z"
   },
   {
    "duration": 7,
    "start_time": "2025-04-27T21:44:15.641Z"
   },
   {
    "duration": 1061110,
    "start_time": "2025-04-27T21:44:20.602Z"
   },
   {
    "duration": 0,
    "start_time": "2025-04-27T22:02:01.714Z"
   },
   {
    "duration": 176,
    "start_time": "2025-04-27T22:02:03.471Z"
   },
   {
    "duration": 0,
    "start_time": "2025-04-27T22:05:01.243Z"
   },
   {
    "duration": 0,
    "start_time": "2025-04-27T22:05:01.244Z"
   },
   {
    "duration": 3,
    "start_time": "2025-04-27T22:05:04.133Z"
   },
   {
    "duration": 103,
    "start_time": "2025-04-27T22:05:08.719Z"
   },
   {
    "duration": 129981,
    "start_time": "2025-04-27T22:05:09.882Z"
   },
   {
    "duration": 8673,
    "start_time": "2025-04-27T22:32:38.507Z"
   },
   {
    "duration": 16297,
    "start_time": "2025-04-27T22:33:08.340Z"
   },
   {
    "duration": 10062,
    "start_time": "2025-04-27T22:41:56.200Z"
   },
   {
    "duration": 16527,
    "start_time": "2025-04-27T22:42:17.057Z"
   },
   {
    "duration": 5,
    "start_time": "2025-04-27T22:42:33.592Z"
   },
   {
    "duration": 2,
    "start_time": "2025-04-27T22:42:50.101Z"
   },
   {
    "duration": 16216,
    "start_time": "2025-04-27T22:42:53.318Z"
   },
   {
    "duration": 16663,
    "start_time": "2025-04-27T22:44:50.742Z"
   },
   {
    "duration": 3,
    "start_time": "2025-04-27T22:45:16.108Z"
   },
   {
    "duration": 16319,
    "start_time": "2025-04-27T22:45:21.725Z"
   },
   {
    "duration": 3,
    "start_time": "2025-04-27T22:49:55.747Z"
   },
   {
    "duration": 163,
    "start_time": "2025-04-27T22:55:46.978Z"
   },
   {
    "duration": 852,
    "start_time": "2025-04-27T22:55:56.796Z"
   },
   {
    "duration": 83,
    "start_time": "2025-04-27T22:56:03.132Z"
   },
   {
    "duration": 530,
    "start_time": "2025-04-27T22:56:16.707Z"
   },
   {
    "duration": 7,
    "start_time": "2025-04-27T22:56:17.239Z"
   },
   {
    "duration": 482,
    "start_time": "2025-04-27T22:56:17.528Z"
   },
   {
    "duration": 86,
    "start_time": "2025-04-27T22:56:18.238Z"
   },
   {
    "duration": 24,
    "start_time": "2025-04-27T22:56:19.030Z"
   },
   {
    "duration": 238,
    "start_time": "2025-04-27T22:56:19.951Z"
   },
   {
    "duration": 86,
    "start_time": "2025-04-27T22:56:20.881Z"
   },
   {
    "duration": 1250,
    "start_time": "2025-04-27T22:56:22.525Z"
   },
   {
    "duration": 338,
    "start_time": "2025-04-27T22:56:23.777Z"
   },
   {
    "duration": 676,
    "start_time": "2025-04-27T22:56:25.626Z"
   },
   {
    "duration": 160,
    "start_time": "2025-04-27T23:11:14.976Z"
   },
   {
    "duration": 958,
    "start_time": "2025-04-27T23:11:19.297Z"
   },
   {
    "duration": 820,
    "start_time": "2025-04-27T23:11:31.212Z"
   },
   {
    "duration": 688,
    "start_time": "2025-04-27T23:11:33.695Z"
   },
   {
    "duration": 8,
    "start_time": "2025-04-27T23:11:34.385Z"
   },
   {
    "duration": 476,
    "start_time": "2025-04-27T23:11:34.396Z"
   },
   {
    "duration": 88,
    "start_time": "2025-04-27T23:11:34.894Z"
   },
   {
    "duration": 25,
    "start_time": "2025-04-27T23:11:35.242Z"
   },
   {
    "duration": 232,
    "start_time": "2025-04-27T23:11:35.754Z"
   },
   {
    "duration": 93,
    "start_time": "2025-04-27T23:11:36.421Z"
   },
   {
    "duration": 1302,
    "start_time": "2025-04-27T23:11:37.978Z"
   },
   {
    "duration": 328,
    "start_time": "2025-04-27T23:11:40.743Z"
   },
   {
    "duration": 665,
    "start_time": "2025-04-27T23:11:44.410Z"
   },
   {
    "duration": 929,
    "start_time": "2025-04-27T23:14:29.524Z"
   },
   {
    "duration": 537,
    "start_time": "2025-04-27T23:14:31.778Z"
   },
   {
    "duration": 7,
    "start_time": "2025-04-27T23:14:32.317Z"
   },
   {
    "duration": 486,
    "start_time": "2025-04-27T23:14:32.326Z"
   },
   {
    "duration": 91,
    "start_time": "2025-04-27T23:14:32.815Z"
   },
   {
    "duration": 29,
    "start_time": "2025-04-27T23:14:32.908Z"
   },
   {
    "duration": 239,
    "start_time": "2025-04-27T23:14:32.939Z"
   },
   {
    "duration": 92,
    "start_time": "2025-04-27T23:14:33.180Z"
   },
   {
    "duration": 1366,
    "start_time": "2025-04-27T23:14:33.565Z"
   },
   {
    "duration": 358,
    "start_time": "2025-04-27T23:14:34.933Z"
   },
   {
    "duration": 676,
    "start_time": "2025-04-27T23:14:36.020Z"
   },
   {
    "duration": 9,
    "start_time": "2025-04-27T23:16:30.665Z"
   },
   {
    "duration": 834,
    "start_time": "2025-04-27T23:20:07.921Z"
   },
   {
    "duration": 534,
    "start_time": "2025-04-27T23:20:08.757Z"
   },
   {
    "duration": 8,
    "start_time": "2025-04-27T23:20:09.293Z"
   },
   {
    "duration": 510,
    "start_time": "2025-04-27T23:20:09.304Z"
   },
   {
    "duration": 94,
    "start_time": "2025-04-27T23:20:09.816Z"
   },
   {
    "duration": 35,
    "start_time": "2025-04-27T23:20:09.912Z"
   },
   {
    "duration": 242,
    "start_time": "2025-04-27T23:20:09.949Z"
   },
   {
    "duration": 91,
    "start_time": "2025-04-27T23:20:10.193Z"
   },
   {
    "duration": 1302,
    "start_time": "2025-04-27T23:20:10.287Z"
   },
   {
    "duration": 343,
    "start_time": "2025-04-27T23:20:11.591Z"
   },
   {
    "duration": 675,
    "start_time": "2025-04-27T23:20:11.936Z"
   },
   {
    "duration": 15,
    "start_time": "2025-04-27T23:20:17.505Z"
   },
   {
    "duration": 233,
    "start_time": "2025-04-27T23:22:42.258Z"
   },
   {
    "duration": 4,
    "start_time": "2025-04-27T23:22:53.634Z"
   },
   {
    "duration": 230,
    "start_time": "2025-04-27T23:23:24.476Z"
   },
   {
    "duration": 928,
    "start_time": "2025-04-27T23:24:38.162Z"
   },
   {
    "duration": 603,
    "start_time": "2025-04-27T23:24:39.092Z"
   },
   {
    "duration": 8,
    "start_time": "2025-04-27T23:24:39.697Z"
   },
   {
    "duration": 519,
    "start_time": "2025-04-27T23:24:39.706Z"
   },
   {
    "duration": 96,
    "start_time": "2025-04-27T23:24:40.228Z"
   },
   {
    "duration": 24,
    "start_time": "2025-04-27T23:24:40.326Z"
   },
   {
    "duration": 250,
    "start_time": "2025-04-27T23:24:40.352Z"
   },
   {
    "duration": 100,
    "start_time": "2025-04-27T23:24:40.605Z"
   },
   {
    "duration": 1319,
    "start_time": "2025-04-27T23:24:40.772Z"
   },
   {
    "duration": 371,
    "start_time": "2025-04-27T23:24:42.093Z"
   },
   {
    "duration": 707,
    "start_time": "2025-04-27T23:24:42.466Z"
   },
   {
    "duration": 18,
    "start_time": "2025-04-27T23:24:47.541Z"
   },
   {
    "duration": 995,
    "start_time": "2025-04-27T23:32:21.028Z"
   },
   {
    "duration": 568,
    "start_time": "2025-04-27T23:32:22.025Z"
   },
   {
    "duration": 7,
    "start_time": "2025-04-27T23:32:22.596Z"
   },
   {
    "duration": 548,
    "start_time": "2025-04-27T23:32:22.606Z"
   },
   {
    "duration": 98,
    "start_time": "2025-04-27T23:32:23.156Z"
   },
   {
    "duration": 21,
    "start_time": "2025-04-27T23:32:23.256Z"
   },
   {
    "duration": 259,
    "start_time": "2025-04-27T23:32:23.278Z"
   },
   {
    "duration": 91,
    "start_time": "2025-04-27T23:32:23.539Z"
   },
   {
    "duration": 1295,
    "start_time": "2025-04-27T23:32:23.632Z"
   },
   {
    "duration": 380,
    "start_time": "2025-04-27T23:32:24.929Z"
   },
   {
    "duration": 696,
    "start_time": "2025-04-27T23:32:25.311Z"
   },
   {
    "duration": 96,
    "start_time": "2025-04-27T23:32:46.693Z"
   },
   {
    "duration": 71,
    "start_time": "2025-04-27T23:33:05.195Z"
   },
   {
    "duration": 128759,
    "start_time": "2025-04-27T23:34:30.997Z"
   },
   {
    "duration": 854,
    "start_time": "2025-04-27T23:40:15.997Z"
   },
   {
    "duration": 523,
    "start_time": "2025-04-27T23:40:16.853Z"
   },
   {
    "duration": 6,
    "start_time": "2025-04-27T23:40:17.378Z"
   },
   {
    "duration": 480,
    "start_time": "2025-04-27T23:40:17.386Z"
   },
   {
    "duration": 95,
    "start_time": "2025-04-27T23:40:17.867Z"
   },
   {
    "duration": 24,
    "start_time": "2025-04-27T23:40:17.964Z"
   },
   {
    "duration": 253,
    "start_time": "2025-04-27T23:40:17.990Z"
   },
   {
    "duration": 91,
    "start_time": "2025-04-27T23:40:18.244Z"
   },
   {
    "duration": 1264,
    "start_time": "2025-04-27T23:40:18.337Z"
   },
   {
    "duration": 354,
    "start_time": "2025-04-27T23:40:19.604Z"
   },
   {
    "duration": 693,
    "start_time": "2025-04-27T23:40:19.959Z"
   },
   {
    "duration": 73571,
    "start_time": "2025-04-27T23:40:20.654Z"
   },
   {
    "duration": 175,
    "start_time": "2025-04-27T23:41:34.227Z"
   },
   {
    "duration": 64,
    "start_time": "2025-04-27T23:41:34.404Z"
   },
   {
    "duration": 884,
    "start_time": "2025-04-27T23:42:15.978Z"
   },
   {
    "duration": 489,
    "start_time": "2025-04-27T23:42:16.864Z"
   },
   {
    "duration": 7,
    "start_time": "2025-04-27T23:42:17.355Z"
   },
   {
    "duration": 486,
    "start_time": "2025-04-27T23:42:17.364Z"
   },
   {
    "duration": 91,
    "start_time": "2025-04-27T23:42:17.853Z"
   },
   {
    "duration": 21,
    "start_time": "2025-04-27T23:42:17.946Z"
   },
   {
    "duration": 250,
    "start_time": "2025-04-27T23:42:17.969Z"
   },
   {
    "duration": 84,
    "start_time": "2025-04-27T23:42:18.225Z"
   },
   {
    "duration": 1281,
    "start_time": "2025-04-27T23:42:18.311Z"
   },
   {
    "duration": 361,
    "start_time": "2025-04-27T23:42:19.595Z"
   },
   {
    "duration": 695,
    "start_time": "2025-04-27T23:42:19.958Z"
   },
   {
    "duration": 75281,
    "start_time": "2025-04-27T23:42:20.655Z"
   },
   {
    "duration": 168,
    "start_time": "2025-04-27T23:43:35.939Z"
   },
   {
    "duration": 64,
    "start_time": "2025-04-27T23:43:36.110Z"
   },
   {
    "duration": 17617,
    "start_time": "2025-04-27T23:43:36.176Z"
   },
   {
    "duration": 858,
    "start_time": "2025-04-27T23:46:49.878Z"
   },
   {
    "duration": 498,
    "start_time": "2025-04-27T23:46:50.738Z"
   },
   {
    "duration": 7,
    "start_time": "2025-04-27T23:46:51.238Z"
   },
   {
    "duration": 486,
    "start_time": "2025-04-27T23:46:51.247Z"
   },
   {
    "duration": 93,
    "start_time": "2025-04-27T23:46:51.734Z"
   },
   {
    "duration": 27,
    "start_time": "2025-04-27T23:46:51.829Z"
   },
   {
    "duration": 253,
    "start_time": "2025-04-27T23:46:51.857Z"
   },
   {
    "duration": 95,
    "start_time": "2025-04-27T23:46:52.111Z"
   },
   {
    "duration": 1327,
    "start_time": "2025-04-27T23:46:52.208Z"
   },
   {
    "duration": 345,
    "start_time": "2025-04-27T23:46:53.539Z"
   },
   {
    "duration": 694,
    "start_time": "2025-04-27T23:46:53.886Z"
   },
   {
    "duration": 76455,
    "start_time": "2025-04-27T23:46:54.582Z"
   },
   {
    "duration": 175,
    "start_time": "2025-04-27T23:48:11.039Z"
   },
   {
    "duration": 61,
    "start_time": "2025-04-27T23:48:11.216Z"
   },
   {
    "duration": 16368,
    "start_time": "2025-04-27T23:48:11.278Z"
   },
   {
    "duration": 187329,
    "start_time": "2025-04-27T23:48:27.648Z"
   },
   {
    "duration": 3,
    "start_time": "2025-04-27T23:51:44.898Z"
   },
   {
    "duration": 515,
    "start_time": "2025-04-27T23:51:45.545Z"
   },
   {
    "duration": 6,
    "start_time": "2025-04-27T23:51:46.063Z"
   },
   {
    "duration": 475,
    "start_time": "2025-04-27T23:51:46.071Z"
   },
   {
    "duration": 99,
    "start_time": "2025-04-27T23:51:46.549Z"
   },
   {
    "duration": 24,
    "start_time": "2025-04-27T23:51:46.650Z"
   },
   {
    "duration": 263,
    "start_time": "2025-04-27T23:51:46.676Z"
   },
   {
    "duration": 93,
    "start_time": "2025-04-27T23:51:46.941Z"
   },
   {
    "duration": 1352,
    "start_time": "2025-04-27T23:51:47.035Z"
   },
   {
    "duration": 342,
    "start_time": "2025-04-27T23:51:48.389Z"
   },
   {
    "duration": 677,
    "start_time": "2025-04-27T23:51:50.110Z"
   },
   {
    "duration": 99,
    "start_time": "2025-04-27T23:51:57.620Z"
   },
   {
    "duration": 56,
    "start_time": "2025-04-27T23:51:58.036Z"
   },
   {
    "duration": 6688,
    "start_time": "2025-04-27T23:52:02.472Z"
   },
   {
    "duration": 129531,
    "start_time": "2025-04-27T23:53:20.427Z"
   },
   {
    "duration": 21,
    "start_time": "2025-04-27T23:57:16.637Z"
   },
   {
    "duration": 77,
    "start_time": "2025-04-27T23:57:26.533Z"
   },
   {
    "duration": 5,
    "start_time": "2025-04-28T00:00:15.885Z"
   },
   {
    "duration": 8,
    "start_time": "2025-04-28T00:00:34.957Z"
   },
   {
    "duration": 33,
    "start_time": "2025-04-28T00:01:54.559Z"
   },
   {
    "duration": 33,
    "start_time": "2025-04-28T00:05:23.656Z"
   },
   {
    "duration": 374,
    "start_time": "2025-04-28T00:18:43.838Z"
   },
   {
    "duration": 130,
    "start_time": "2025-04-28T00:19:43.195Z"
   },
   {
    "duration": 394,
    "start_time": "2025-04-28T00:20:36.501Z"
   },
   {
    "duration": 133,
    "start_time": "2025-04-28T00:22:23.787Z"
   },
   {
    "duration": 119,
    "start_time": "2025-04-28T00:23:54.299Z"
   },
   {
    "duration": 142,
    "start_time": "2025-04-28T00:24:44.206Z"
   },
   {
    "duration": 661,
    "start_time": "2025-04-28T00:25:08.476Z"
   },
   {
    "duration": 470,
    "start_time": "2025-04-28T00:26:36.955Z"
   },
   {
    "duration": 543,
    "start_time": "2025-04-28T00:27:45.999Z"
   },
   {
    "duration": 779,
    "start_time": "2025-04-28T00:28:01.567Z"
   },
   {
    "duration": 1356,
    "start_time": "2025-04-28T00:28:19.276Z"
   },
   {
    "duration": 1495,
    "start_time": "2025-04-28T00:28:34.248Z"
   },
   {
    "duration": 1663,
    "start_time": "2025-04-28T00:28:41.982Z"
   },
   {
    "duration": 1581,
    "start_time": "2025-04-28T00:28:57.748Z"
   },
   {
    "duration": 1482,
    "start_time": "2025-04-28T00:32:03.556Z"
   },
   {
    "duration": 2264,
    "start_time": "2025-04-28T00:32:16.460Z"
   },
   {
    "duration": 8,
    "start_time": "2025-04-28T00:32:49.970Z"
   },
   {
    "duration": 2,
    "start_time": "2025-04-28T00:37:18.544Z"
   },
   {
    "duration": 84,
    "start_time": "2025-04-28T00:42:29.776Z"
   },
   {
    "duration": 480,
    "start_time": "2025-04-28T00:43:02.999Z"
   },
   {
    "duration": 390,
    "start_time": "2025-04-28T00:43:27.163Z"
   },
   {
    "duration": 2374,
    "start_time": "2025-04-28T00:44:31.565Z"
   },
   {
    "duration": 2315,
    "start_time": "2025-04-28T00:45:05.837Z"
   },
   {
    "duration": 4392,
    "start_time": "2025-04-28T00:45:20.599Z"
   },
   {
    "duration": 1062,
    "start_time": "2025-04-28T00:45:32.065Z"
   },
   {
    "duration": 839,
    "start_time": "2025-04-28T00:46:45.404Z"
   },
   {
    "duration": 568,
    "start_time": "2025-04-28T00:46:46.245Z"
   },
   {
    "duration": 16,
    "start_time": "2025-04-28T00:46:46.814Z"
   },
   {
    "duration": 480,
    "start_time": "2025-04-28T00:46:46.831Z"
   },
   {
    "duration": 93,
    "start_time": "2025-04-28T00:46:47.314Z"
   },
   {
    "duration": 39,
    "start_time": "2025-04-28T00:46:47.408Z"
   },
   {
    "duration": 238,
    "start_time": "2025-04-28T00:46:47.449Z"
   },
   {
    "duration": 90,
    "start_time": "2025-04-28T00:46:47.689Z"
   },
   {
    "duration": 1302,
    "start_time": "2025-04-28T00:46:47.781Z"
   },
   {
    "duration": 339,
    "start_time": "2025-04-28T00:46:49.085Z"
   },
   {
    "duration": 722,
    "start_time": "2025-04-28T00:46:49.426Z"
   },
   {
    "duration": 77276,
    "start_time": "2025-04-28T00:46:50.149Z"
   },
   {
    "duration": 175,
    "start_time": "2025-04-28T00:48:07.427Z"
   },
   {
    "duration": 68,
    "start_time": "2025-04-28T00:48:07.605Z"
   },
   {
    "duration": 16636,
    "start_time": "2025-04-28T00:48:07.675Z"
   },
   {
    "duration": 1815,
    "start_time": "2025-04-28T00:48:24.313Z"
   },
   {
    "duration": 2197,
    "start_time": "2025-04-28T00:48:26.132Z"
   },
   {
    "duration": 580,
    "start_time": "2025-04-28T00:48:28.332Z"
   },
   {
    "duration": 4535,
    "start_time": "2025-04-28T00:48:28.914Z"
   },
   {
    "duration": 6552,
    "start_time": "2025-04-28T00:48:48.288Z"
   },
   {
    "duration": 10416,
    "start_time": "2025-04-28T00:49:06.544Z"
   },
   {
    "duration": 8815,
    "start_time": "2025-04-28T00:49:32.513Z"
   },
   {
    "duration": 442,
    "start_time": "2025-04-28T00:57:12.519Z"
   },
   {
    "duration": 410,
    "start_time": "2025-04-28T00:57:31.125Z"
   },
   {
    "duration": 833,
    "start_time": "2025-04-28T00:58:02.107Z"
   },
   {
    "duration": 508,
    "start_time": "2025-04-28T00:58:02.942Z"
   },
   {
    "duration": 11,
    "start_time": "2025-04-28T00:58:03.452Z"
   },
   {
    "duration": 533,
    "start_time": "2025-04-28T00:58:03.465Z"
   },
   {
    "duration": 89,
    "start_time": "2025-04-28T00:58:04.000Z"
   },
   {
    "duration": 22,
    "start_time": "2025-04-28T00:58:04.091Z"
   },
   {
    "duration": 242,
    "start_time": "2025-04-28T00:58:04.124Z"
   },
   {
    "duration": 96,
    "start_time": "2025-04-28T00:58:04.368Z"
   },
   {
    "duration": 1361,
    "start_time": "2025-04-28T00:58:04.465Z"
   },
   {
    "duration": 347,
    "start_time": "2025-04-28T00:58:05.829Z"
   },
   {
    "duration": 680,
    "start_time": "2025-04-28T00:58:06.178Z"
   },
   {
    "duration": 75678,
    "start_time": "2025-04-28T00:58:06.859Z"
   },
   {
    "duration": 189,
    "start_time": "2025-04-28T00:59:22.539Z"
   },
   {
    "duration": 59,
    "start_time": "2025-04-28T00:59:22.730Z"
   },
   {
    "duration": 16825,
    "start_time": "2025-04-28T00:59:22.791Z"
   },
   {
    "duration": 1807,
    "start_time": "2025-04-28T00:59:39.618Z"
   },
   {
    "duration": 2205,
    "start_time": "2025-04-28T00:59:41.427Z"
   },
   {
    "duration": 574,
    "start_time": "2025-04-28T00:59:43.635Z"
   },
   {
    "duration": 8415,
    "start_time": "2025-04-28T00:59:44.210Z"
   },
   {
    "duration": 164,
    "start_time": "2025-04-28T15:36:26.710Z"
   },
   {
    "duration": 833,
    "start_time": "2025-04-28T15:36:31.297Z"
   },
   {
    "duration": 456,
    "start_time": "2025-04-28T15:36:33.067Z"
   },
   {
    "duration": 7,
    "start_time": "2025-04-28T15:36:39.340Z"
   },
   {
    "duration": 521,
    "start_time": "2025-04-28T15:36:44.806Z"
   },
   {
    "duration": 10,
    "start_time": "2025-04-28T15:36:48.838Z"
   },
   {
    "duration": 464,
    "start_time": "2025-04-28T15:43:05.061Z"
   },
   {
    "duration": 100,
    "start_time": "2025-04-28T15:43:05.527Z"
   },
   {
    "duration": 23,
    "start_time": "2025-04-28T15:43:06.529Z"
   },
   {
    "duration": 230,
    "start_time": "2025-04-28T15:43:07.346Z"
   },
   {
    "duration": 88,
    "start_time": "2025-04-28T15:43:14.686Z"
   },
   {
    "duration": 904,
    "start_time": "2025-04-28T18:33:14.480Z"
   },
   {
    "duration": 522,
    "start_time": "2025-04-28T18:33:15.385Z"
   },
   {
    "duration": 14,
    "start_time": "2025-04-28T18:33:17.412Z"
   },
   {
    "duration": 473,
    "start_time": "2025-04-28T18:33:19.361Z"
   },
   {
    "duration": 85,
    "start_time": "2025-04-28T18:33:21.021Z"
   },
   {
    "duration": 23,
    "start_time": "2025-04-28T18:33:22.245Z"
   },
   {
    "duration": 230,
    "start_time": "2025-04-28T18:33:24.043Z"
   },
   {
    "duration": 56,
    "start_time": "2025-04-28T18:36:34.791Z"
   },
   {
    "duration": 4,
    "start_time": "2025-04-28T18:57:37.058Z"
   },
   {
    "duration": 15,
    "start_time": "2025-04-28T18:57:57.094Z"
   },
   {
    "duration": 18,
    "start_time": "2025-04-28T18:58:19.649Z"
   },
   {
    "duration": 54,
    "start_time": "2025-04-28T19:09:41.038Z"
   },
   {
    "duration": 147,
    "start_time": "2025-04-28T19:13:31.070Z"
   },
   {
    "duration": 77,
    "start_time": "2025-04-28T19:13:36.570Z"
   },
   {
    "duration": 2063,
    "start_time": "2025-04-28T19:13:48.961Z"
   },
   {
    "duration": 13291,
    "start_time": "2025-04-28T19:21:50.575Z"
   },
   {
    "duration": 13573,
    "start_time": "2025-04-28T19:22:24.942Z"
   },
   {
    "duration": 33381,
    "start_time": "2025-04-28T19:26:06.818Z"
   },
   {
    "duration": 14824,
    "start_time": "2025-04-28T19:26:53.057Z"
   },
   {
    "duration": 128857,
    "start_time": "2025-04-28T19:29:29.122Z"
   },
   {
    "duration": 97699,
    "start_time": "2025-04-28T19:32:31.381Z"
   },
   {
    "duration": 293329,
    "start_time": "2025-04-28T19:34:56.709Z"
   },
   {
    "duration": 276,
    "start_time": "2025-04-28T19:39:50.041Z"
   },
   {
    "duration": 855,
    "start_time": "2025-04-28T19:40:22.399Z"
   },
   {
    "duration": 493,
    "start_time": "2025-04-28T19:40:23.258Z"
   },
   {
    "duration": 15,
    "start_time": "2025-04-28T19:40:23.752Z"
   },
   {
    "duration": 502,
    "start_time": "2025-04-28T19:40:23.768Z"
   },
   {
    "duration": 93,
    "start_time": "2025-04-28T19:40:24.273Z"
   },
   {
    "duration": 29,
    "start_time": "2025-04-28T19:40:24.368Z"
   },
   {
    "duration": 257,
    "start_time": "2025-04-28T19:40:24.399Z"
   },
   {
    "duration": 96,
    "start_time": "2025-04-28T19:40:24.658Z"
   },
   {
    "duration": 76,
    "start_time": "2025-04-28T19:40:24.756Z"
   },
   {
    "duration": 4,
    "start_time": "2025-04-28T19:40:24.834Z"
   },
   {
    "duration": 14,
    "start_time": "2025-04-28T19:40:24.839Z"
   },
   {
    "duration": 102,
    "start_time": "2025-04-28T19:40:24.855Z"
   },
   {
    "duration": 52,
    "start_time": "2025-04-28T19:40:24.958Z"
   },
   {
    "duration": 1530,
    "start_time": "2025-04-28T19:40:25.023Z"
   },
   {
    "duration": 9604,
    "start_time": "2025-04-28T19:40:26.555Z"
   },
   {
    "duration": 396862,
    "start_time": "2025-04-28T19:40:36.162Z"
   },
   {
    "duration": 416,
    "start_time": "2025-04-28T19:47:13.026Z"
   },
   {
    "duration": 13,
    "start_time": "2025-04-28T19:47:13.444Z"
   },
   {
    "duration": 10,
    "start_time": "2025-04-28T19:47:13.459Z"
   },
   {
    "duration": 156,
    "start_time": "2025-04-29T14:48:33.444Z"
   },
   {
    "duration": 858,
    "start_time": "2025-04-29T14:48:39.437Z"
   },
   {
    "duration": 532,
    "start_time": "2025-04-29T14:48:40.298Z"
   },
   {
    "duration": 13,
    "start_time": "2025-04-29T14:48:41.682Z"
   },
   {
    "duration": 468,
    "start_time": "2025-04-29T14:48:42.362Z"
   },
   {
    "duration": 98,
    "start_time": "2025-04-29T14:48:42.832Z"
   },
   {
    "duration": 22,
    "start_time": "2025-04-29T14:48:43.879Z"
   },
   {
    "duration": 239,
    "start_time": "2025-04-29T14:48:44.433Z"
   },
   {
    "duration": 92,
    "start_time": "2025-04-29T14:48:45.301Z"
   },
   {
    "duration": 60,
    "start_time": "2025-04-29T14:48:47.065Z"
   },
   {
    "duration": 4,
    "start_time": "2025-04-29T14:48:47.606Z"
   },
   {
    "duration": 13,
    "start_time": "2025-04-29T14:48:48.871Z"
   },
   {
    "duration": 91,
    "start_time": "2025-04-29T14:48:49.928Z"
   },
   {
    "duration": 19,
    "start_time": "2025-04-29T14:49:01.339Z"
   },
   {
    "duration": 8,
    "start_time": "2025-04-29T14:51:50.106Z"
   },
   {
    "duration": 161,
    "start_time": "2025-04-29T14:52:24.966Z"
   },
   {
    "duration": 50,
    "start_time": "2025-04-29T14:52:31.442Z"
   },
   {
    "duration": 5444,
    "start_time": "2025-04-29T14:52:35.840Z"
   },
   {
    "duration": 5759,
    "start_time": "2025-04-29T14:53:16.322Z"
   },
   {
    "duration": 5397,
    "start_time": "2025-04-29T14:54:05.195Z"
   },
   {
    "duration": 6274,
    "start_time": "2025-04-29T14:56:30.611Z"
   },
   {
    "duration": 7499,
    "start_time": "2025-04-29T14:56:59.395Z"
   },
   {
    "duration": 10,
    "start_time": "2025-04-29T14:59:15.194Z"
   },
   {
    "duration": 1179,
    "start_time": "2025-04-29T14:59:26.720Z"
   },
   {
    "duration": 6,
    "start_time": "2025-04-29T15:02:45.811Z"
   },
   {
    "duration": 2920,
    "start_time": "2025-04-29T15:03:07.621Z"
   },
   {
    "duration": 11,
    "start_time": "2025-04-29T15:03:25.317Z"
   },
   {
    "duration": 17595,
    "start_time": "2025-04-29T15:03:57.369Z"
   },
   {
    "duration": 13080,
    "start_time": "2025-04-29T15:05:45.250Z"
   },
   {
    "duration": 886,
    "start_time": "2025-04-29T15:12:33.368Z"
   },
   {
    "duration": 512,
    "start_time": "2025-04-29T15:12:34.256Z"
   },
   {
    "duration": 14,
    "start_time": "2025-04-29T15:12:34.772Z"
   },
   {
    "duration": 487,
    "start_time": "2025-04-29T15:12:34.788Z"
   },
   {
    "duration": 95,
    "start_time": "2025-04-29T15:12:35.278Z"
   },
   {
    "duration": 25,
    "start_time": "2025-04-29T15:12:35.375Z"
   },
   {
    "duration": 242,
    "start_time": "2025-04-29T15:12:35.402Z"
   },
   {
    "duration": 91,
    "start_time": "2025-04-29T15:12:35.646Z"
   },
   {
    "duration": 68,
    "start_time": "2025-04-29T15:12:35.739Z"
   },
   {
    "duration": 4,
    "start_time": "2025-04-29T15:12:35.809Z"
   },
   {
    "duration": 14,
    "start_time": "2025-04-29T15:12:35.814Z"
   },
   {
    "duration": 112,
    "start_time": "2025-04-29T15:12:35.830Z"
   },
   {
    "duration": 58,
    "start_time": "2025-04-29T15:12:35.944Z"
   },
   {
    "duration": 1480,
    "start_time": "2025-04-29T15:12:36.005Z"
   },
   {
    "duration": 9754,
    "start_time": "2025-04-29T15:12:37.487Z"
   },
   {
    "duration": 5442,
    "start_time": "2025-04-29T15:12:47.243Z"
   },
   {
    "duration": 7306,
    "start_time": "2025-04-29T15:12:52.687Z"
   },
   {
    "duration": 3038,
    "start_time": "2025-04-29T15:12:59.995Z"
   },
   {
    "duration": 13068,
    "start_time": "2025-04-29T15:13:03.035Z"
   },
   {
    "duration": 7188,
    "start_time": "2025-04-29T15:16:00.089Z"
   },
   {
    "duration": 202,
    "start_time": "2025-04-29T22:14:02.753Z"
   },
   {
    "duration": 1024,
    "start_time": "2025-04-29T22:14:13.095Z"
   },
   {
    "duration": 625,
    "start_time": "2025-04-29T22:14:14.121Z"
   },
   {
    "duration": 15,
    "start_time": "2025-04-29T22:14:15.496Z"
   },
   {
    "duration": 635,
    "start_time": "2025-04-29T22:14:16.019Z"
   },
   {
    "duration": 111,
    "start_time": "2025-04-29T22:14:16.662Z"
   },
   {
    "duration": 26,
    "start_time": "2025-04-29T22:14:16.774Z"
   },
   {
    "duration": 257,
    "start_time": "2025-04-29T22:14:16.971Z"
   },
   {
    "duration": 108,
    "start_time": "2025-04-29T22:14:17.352Z"
   },
   {
    "duration": 78,
    "start_time": "2025-04-29T22:14:18.196Z"
   },
   {
    "duration": 4,
    "start_time": "2025-04-29T22:14:19.221Z"
   },
   {
    "duration": 15,
    "start_time": "2025-04-29T22:14:20.614Z"
   },
   {
    "duration": 103,
    "start_time": "2025-04-29T22:14:23.484Z"
   },
   {
    "duration": 122,
    "start_time": "2025-04-29T22:15:51.747Z"
   },
   {
    "duration": 544,
    "start_time": "2025-04-29T22:17:42.914Z"
   },
   {
    "duration": 6,
    "start_time": "2025-04-29T22:17:59.607Z"
   },
   {
    "duration": 42,
    "start_time": "2025-04-29T22:18:12.087Z"
   },
   {
    "duration": 7,
    "start_time": "2025-04-29T22:18:22.273Z"
   },
   {
    "duration": 8,
    "start_time": "2025-04-29T22:21:13.780Z"
   },
   {
    "duration": 48,
    "start_time": "2025-04-29T22:21:17.609Z"
   },
   {
    "duration": 162,
    "start_time": "2025-04-29T22:21:20.337Z"
   },
   {
    "duration": 9,
    "start_time": "2025-04-29T22:21:30.851Z"
   },
   {
    "duration": 18,
    "start_time": "2025-04-29T22:21:39.283Z"
   },
   {
    "duration": 7,
    "start_time": "2025-04-29T22:21:52.058Z"
   },
   {
    "duration": 34,
    "start_time": "2025-04-29T22:23:59.524Z"
   },
   {
    "duration": 4,
    "start_time": "2025-04-29T22:24:03.328Z"
   },
   {
    "duration": 16,
    "start_time": "2025-04-29T22:24:19.296Z"
   },
   {
    "duration": 6,
    "start_time": "2025-04-29T22:24:39.678Z"
   },
   {
    "duration": 9,
    "start_time": "2025-04-29T22:24:50.411Z"
   },
   {
    "duration": 18,
    "start_time": "2025-04-29T22:24:55.828Z"
   },
   {
    "duration": 7,
    "start_time": "2025-04-29T22:25:00.713Z"
   },
   {
    "duration": 8,
    "start_time": "2025-04-29T22:25:05.452Z"
   },
   {
    "duration": 847,
    "start_time": "2025-04-30T01:29:27.197Z"
   },
   {
    "duration": 530,
    "start_time": "2025-04-30T01:29:31.493Z"
   },
   {
    "duration": 13,
    "start_time": "2025-04-30T01:29:32.025Z"
   },
   {
    "duration": 455,
    "start_time": "2025-04-30T01:29:32.222Z"
   },
   {
    "duration": 93,
    "start_time": "2025-04-30T01:29:32.679Z"
   },
   {
    "duration": 24,
    "start_time": "2025-04-30T01:29:32.805Z"
   },
   {
    "duration": 243,
    "start_time": "2025-04-30T01:29:32.989Z"
   },
   {
    "duration": 89,
    "start_time": "2025-04-30T01:29:33.234Z"
   },
   {
    "duration": 57,
    "start_time": "2025-04-30T01:30:07.897Z"
   },
   {
    "duration": 11,
    "start_time": "2025-04-30T01:30:38.426Z"
   },
   {
    "duration": 6,
    "start_time": "2025-04-30T01:32:07.298Z"
   },
   {
    "duration": 7,
    "start_time": "2025-04-30T01:35:18.938Z"
   },
   {
    "duration": 7,
    "start_time": "2025-04-30T01:35:59.937Z"
   },
   {
    "duration": 7,
    "start_time": "2025-04-30T01:36:09.369Z"
   },
   {
    "duration": 7,
    "start_time": "2025-04-30T01:36:21.746Z"
   },
   {
    "duration": 7,
    "start_time": "2025-04-30T01:36:42.463Z"
   },
   {
    "duration": 6,
    "start_time": "2025-04-30T01:37:13.569Z"
   },
   {
    "duration": 6,
    "start_time": "2025-04-30T01:37:20.609Z"
   },
   {
    "duration": 25,
    "start_time": "2025-04-30T01:37:33.643Z"
   },
   {
    "duration": 8,
    "start_time": "2025-04-30T01:37:44.581Z"
   },
   {
    "duration": 6,
    "start_time": "2025-04-30T01:40:50.843Z"
   },
   {
    "duration": 35,
    "start_time": "2025-04-30T01:41:20.853Z"
   },
   {
    "duration": 276,
    "start_time": "2025-04-30T01:43:01.325Z"
   },
   {
    "duration": 430,
    "start_time": "2025-04-30T01:43:06.326Z"
   },
   {
    "duration": 0,
    "start_time": "2025-04-30T01:44:31.190Z"
   },
   {
    "duration": 953,
    "start_time": "2025-04-30T01:44:37.757Z"
   },
   {
    "duration": 510,
    "start_time": "2025-04-30T01:44:38.714Z"
   },
   {
    "duration": 15,
    "start_time": "2025-04-30T01:44:39.226Z"
   },
   {
    "duration": 515,
    "start_time": "2025-04-30T01:44:39.958Z"
   },
   {
    "duration": 104,
    "start_time": "2025-04-30T01:44:40.476Z"
   },
   {
    "duration": 32,
    "start_time": "2025-04-30T01:44:40.582Z"
   },
   {
    "duration": 230,
    "start_time": "2025-04-30T01:44:40.682Z"
   },
   {
    "duration": 88,
    "start_time": "2025-04-30T01:44:41.073Z"
   },
   {
    "duration": 56,
    "start_time": "2025-04-30T01:44:42.167Z"
   },
   {
    "duration": 4,
    "start_time": "2025-04-30T01:44:42.685Z"
   },
   {
    "duration": 13,
    "start_time": "2025-04-30T01:44:44.089Z"
   },
   {
    "duration": 182,
    "start_time": "2025-04-30T01:44:45.032Z"
   },
   {
    "duration": 36,
    "start_time": "2025-04-30T01:44:46.361Z"
   },
   {
    "duration": 46,
    "start_time": "2025-04-30T01:44:48.768Z"
   },
   {
    "duration": 140,
    "start_time": "2025-04-30T01:45:49.665Z"
   },
   {
    "duration": 96,
    "start_time": "2025-04-30T01:45:55.791Z"
   },
   {
    "duration": 848,
    "start_time": "2025-04-30T01:46:15.572Z"
   },
   {
    "duration": 505,
    "start_time": "2025-04-30T01:46:16.424Z"
   },
   {
    "duration": 15,
    "start_time": "2025-04-30T01:46:16.931Z"
   },
   {
    "duration": 501,
    "start_time": "2025-04-30T01:46:16.948Z"
   },
   {
    "duration": 94,
    "start_time": "2025-04-30T01:46:17.453Z"
   },
   {
    "duration": 20,
    "start_time": "2025-04-30T01:46:17.549Z"
   },
   {
    "duration": 250,
    "start_time": "2025-04-30T01:46:17.571Z"
   },
   {
    "duration": 93,
    "start_time": "2025-04-30T01:46:17.823Z"
   },
   {
    "duration": 73,
    "start_time": "2025-04-30T01:46:17.918Z"
   },
   {
    "duration": 4,
    "start_time": "2025-04-30T01:46:17.993Z"
   },
   {
    "duration": 19,
    "start_time": "2025-04-30T01:46:18.012Z"
   },
   {
    "duration": 243,
    "start_time": "2025-04-30T01:46:18.034Z"
   },
   {
    "duration": 29,
    "start_time": "2025-04-30T01:46:18.282Z"
   },
   {
    "duration": 71,
    "start_time": "2025-04-30T01:46:18.314Z"
   },
   {
    "duration": 128,
    "start_time": "2025-04-30T01:46:18.386Z"
   },
   {
    "duration": 69,
    "start_time": "2025-04-30T01:46:18.518Z"
   },
   {
    "duration": 1537,
    "start_time": "2025-04-30T01:46:18.589Z"
   },
   {
    "duration": 10447,
    "start_time": "2025-04-30T01:46:20.131Z"
   },
   {
    "duration": 7033,
    "start_time": "2025-04-30T01:46:30.580Z"
   },
   {
    "duration": 6911,
    "start_time": "2025-04-30T01:46:37.615Z"
   },
   {
    "duration": 3073,
    "start_time": "2025-04-30T01:46:44.528Z"
   },
   {
    "duration": 13117,
    "start_time": "2025-04-30T01:46:47.602Z"
   },
   {
    "duration": 6928,
    "start_time": "2025-04-30T02:05:50.311Z"
   },
   {
    "duration": 8466,
    "start_time": "2025-04-30T02:09:34.677Z"
   },
   {
    "duration": 105,
    "start_time": "2025-04-30T02:15:47.808Z"
   },
   {
    "duration": 100,
    "start_time": "2025-04-30T02:15:48.888Z"
   },
   {
    "duration": 8,
    "start_time": "2025-04-30T02:16:36.494Z"
   },
   {
    "duration": 9,
    "start_time": "2025-04-30T02:16:43.851Z"
   },
   {
    "duration": 32,
    "start_time": "2025-04-30T02:16:57.192Z"
   },
   {
    "duration": 8,
    "start_time": "2025-04-30T02:19:37.092Z"
   },
   {
    "duration": 9,
    "start_time": "2025-04-30T02:19:50.965Z"
   },
   {
    "duration": 847,
    "start_time": "2025-04-30T02:22:24.678Z"
   },
   {
    "duration": 502,
    "start_time": "2025-04-30T02:22:25.526Z"
   },
   {
    "duration": 14,
    "start_time": "2025-04-30T02:22:26.030Z"
   },
   {
    "duration": 512,
    "start_time": "2025-04-30T02:22:26.046Z"
   },
   {
    "duration": 89,
    "start_time": "2025-04-30T02:22:26.560Z"
   },
   {
    "duration": 19,
    "start_time": "2025-04-30T02:22:26.651Z"
   },
   {
    "duration": 249,
    "start_time": "2025-04-30T02:22:26.672Z"
   },
   {
    "duration": 96,
    "start_time": "2025-04-30T02:22:26.923Z"
   },
   {
    "duration": 56,
    "start_time": "2025-04-30T02:22:27.020Z"
   },
   {
    "duration": 3,
    "start_time": "2025-04-30T02:22:27.079Z"
   },
   {
    "duration": 35,
    "start_time": "2025-04-30T02:22:27.084Z"
   },
   {
    "duration": 183,
    "start_time": "2025-04-30T02:22:27.120Z"
   },
   {
    "duration": 27,
    "start_time": "2025-04-30T02:22:27.304Z"
   },
   {
    "duration": 165,
    "start_time": "2025-04-30T02:22:27.334Z"
   },
   {
    "duration": 103,
    "start_time": "2025-04-30T02:22:27.500Z"
   },
   {
    "duration": 54,
    "start_time": "2025-04-30T02:22:27.611Z"
   },
   {
    "duration": 1554,
    "start_time": "2025-04-30T02:22:27.667Z"
   },
   {
    "duration": 9535,
    "start_time": "2025-04-30T02:22:29.223Z"
   },
   {
    "duration": 8076,
    "start_time": "2025-04-30T02:22:38.759Z"
   },
   {
    "duration": 8886,
    "start_time": "2025-04-30T02:22:46.838Z"
   },
   {
    "duration": 3090,
    "start_time": "2025-04-30T02:22:55.727Z"
   },
   {
    "duration": 13162,
    "start_time": "2025-04-30T02:22:58.819Z"
   },
   {
    "duration": 915,
    "start_time": "2025-04-30T10:50:15.474Z"
   },
   {
    "duration": 553,
    "start_time": "2025-04-30T10:50:16.391Z"
   },
   {
    "duration": 24,
    "start_time": "2025-04-30T10:50:16.946Z"
   },
   {
    "duration": 501,
    "start_time": "2025-04-30T10:50:16.973Z"
   },
   {
    "duration": 99,
    "start_time": "2025-04-30T10:50:17.475Z"
   },
   {
    "duration": 20,
    "start_time": "2025-04-30T10:50:17.576Z"
   },
   {
    "duration": 247,
    "start_time": "2025-04-30T10:50:17.597Z"
   },
   {
    "duration": 91,
    "start_time": "2025-04-30T10:50:17.845Z"
   },
   {
    "duration": 68,
    "start_time": "2025-04-30T10:50:17.937Z"
   },
   {
    "duration": 4,
    "start_time": "2025-04-30T10:50:18.009Z"
   },
   {
    "duration": 13,
    "start_time": "2025-04-30T10:50:18.014Z"
   },
   {
    "duration": 188,
    "start_time": "2025-04-30T10:50:18.029Z"
   },
   {
    "duration": 26,
    "start_time": "2025-04-30T10:50:18.220Z"
   },
   {
    "duration": 12,
    "start_time": "2025-04-30T10:50:25.480Z"
   },
   {
    "duration": 338,
    "start_time": "2025-04-30T10:50:38.128Z"
   },
   {
    "duration": 191,
    "start_time": "2025-04-30T10:50:52.695Z"
   },
   {
    "duration": 157,
    "start_time": "2025-04-30T10:51:04.031Z"
   },
   {
    "duration": 187,
    "start_time": "2025-04-30T10:51:04.192Z"
   },
   {
    "duration": 210,
    "start_time": "2025-04-30T10:51:04.381Z"
   },
   {
    "duration": 863,
    "start_time": "2025-04-30T13:12:32.224Z"
   },
   {
    "duration": 539,
    "start_time": "2025-04-30T13:12:33.089Z"
   },
   {
    "duration": 14,
    "start_time": "2025-04-30T13:12:33.630Z"
   },
   {
    "duration": 499,
    "start_time": "2025-04-30T13:12:35.011Z"
   },
   {
    "duration": 86,
    "start_time": "2025-04-30T13:12:35.549Z"
   },
   {
    "duration": 21,
    "start_time": "2025-04-30T13:12:38.029Z"
   },
   {
    "duration": 230,
    "start_time": "2025-04-30T13:12:38.233Z"
   },
   {
    "duration": 86,
    "start_time": "2025-04-30T13:12:52.043Z"
   },
   {
    "duration": 1071,
    "start_time": "2025-04-30T13:14:04.907Z"
   },
   {
    "duration": 14,
    "start_time": "2025-04-30T13:14:36.439Z"
   },
   {
    "duration": 61,
    "start_time": "2025-04-30T13:14:40.195Z"
   },
   {
    "duration": 783,
    "start_time": "2025-04-30T13:15:08.810Z"
   },
   {
    "duration": 1095,
    "start_time": "2025-04-30T13:15:22.275Z"
   },
   {
    "duration": 940,
    "start_time": "2025-04-30T13:15:53.208Z"
   },
   {
    "duration": 194,
    "start_time": "2025-04-30T13:21:00.529Z"
   },
   {
    "duration": 221,
    "start_time": "2025-04-30T13:21:17.841Z"
   },
   {
    "duration": 37,
    "start_time": "2025-04-30T13:22:10.721Z"
   },
   {
    "duration": 4,
    "start_time": "2025-04-30T13:24:24.461Z"
   },
   {
    "duration": 44,
    "start_time": "2025-04-30T13:25:16.302Z"
   },
   {
    "duration": 24,
    "start_time": "2025-04-30T13:25:22.300Z"
   },
   {
    "duration": 3,
    "start_time": "2025-04-30T13:26:37.771Z"
   },
   {
    "duration": 467,
    "start_time": "2025-04-30T13:26:38.105Z"
   },
   {
    "duration": 11,
    "start_time": "2025-04-30T13:26:39.102Z"
   },
   {
    "duration": 421,
    "start_time": "2025-04-30T13:26:40.645Z"
   },
   {
    "duration": 91,
    "start_time": "2025-04-30T13:26:41.439Z"
   },
   {
    "duration": 29,
    "start_time": "2025-04-30T13:26:42.393Z"
   },
   {
    "duration": 237,
    "start_time": "2025-04-30T13:26:45.813Z"
   },
   {
    "duration": 57,
    "start_time": "2025-04-30T13:26:50.010Z"
   },
   {
    "duration": 1380,
    "start_time": "2025-04-30T13:26:52.699Z"
   },
   {
    "duration": 7,
    "start_time": "2025-04-30T13:26:56.500Z"
   },
   {
    "duration": 40,
    "start_time": "2025-04-30T13:27:03.127Z"
   },
   {
    "duration": 4,
    "start_time": "2025-04-30T13:27:47.720Z"
   },
   {
    "duration": 14,
    "start_time": "2025-04-30T13:28:17.672Z"
   },
   {
    "duration": 171,
    "start_time": "2025-04-30T13:28:20.765Z"
   },
   {
    "duration": 90,
    "start_time": "2025-04-30T13:29:03.462Z"
   },
   {
    "duration": 6,
    "start_time": "2025-04-30T13:29:09.915Z"
   },
   {
    "duration": 466,
    "start_time": "2025-04-30T13:29:10.174Z"
   },
   {
    "duration": 10,
    "start_time": "2025-04-30T13:29:11.210Z"
   },
   {
    "duration": 387,
    "start_time": "2025-04-30T13:29:12.418Z"
   },
   {
    "duration": 86,
    "start_time": "2025-04-30T13:29:13.099Z"
   },
   {
    "duration": 10,
    "start_time": "2025-04-30T13:29:14.425Z"
   },
   {
    "duration": 230,
    "start_time": "2025-04-30T13:29:14.894Z"
   },
   {
    "duration": 92,
    "start_time": "2025-04-30T13:29:15.459Z"
   },
   {
    "duration": 56,
    "start_time": "2025-04-30T13:29:16.565Z"
   },
   {
    "duration": 1390,
    "start_time": "2025-04-30T13:29:17.863Z"
   },
   {
    "duration": 42,
    "start_time": "2025-04-30T13:29:21.111Z"
   },
   {
    "duration": 6,
    "start_time": "2025-04-30T13:29:23.212Z"
   },
   {
    "duration": 13,
    "start_time": "2025-04-30T13:29:24.672Z"
   },
   {
    "duration": 166,
    "start_time": "2025-04-30T13:29:25.952Z"
   },
   {
    "duration": 89,
    "start_time": "2025-04-30T13:32:58.537Z"
   },
   {
    "duration": 7,
    "start_time": "2025-04-30T13:34:34.904Z"
   },
   {
    "duration": 3,
    "start_time": "2025-04-30T13:39:50.830Z"
   },
   {
    "duration": 452,
    "start_time": "2025-04-30T13:39:51.099Z"
   },
   {
    "duration": 10,
    "start_time": "2025-04-30T13:39:52.084Z"
   },
   {
    "duration": 402,
    "start_time": "2025-04-30T13:39:53.209Z"
   },
   {
    "duration": 93,
    "start_time": "2025-04-30T13:39:53.936Z"
   },
   {
    "duration": 12,
    "start_time": "2025-04-30T13:39:54.676Z"
   },
   {
    "duration": 230,
    "start_time": "2025-04-30T13:39:55.368Z"
   },
   {
    "duration": 91,
    "start_time": "2025-04-30T13:39:56.430Z"
   },
   {
    "duration": 58,
    "start_time": "2025-04-30T13:39:57.355Z"
   },
   {
    "duration": 1419,
    "start_time": "2025-04-30T13:39:58.712Z"
   },
   {
    "duration": 43,
    "start_time": "2025-04-30T13:40:07.459Z"
   },
   {
    "duration": 4,
    "start_time": "2025-04-30T13:40:10.928Z"
   },
   {
    "duration": 17,
    "start_time": "2025-04-30T13:40:13.151Z"
   },
   {
    "duration": 29,
    "start_time": "2025-04-30T13:40:25.242Z"
   },
   {
    "duration": 3,
    "start_time": "2025-04-30T13:41:00.689Z"
   },
   {
    "duration": 465,
    "start_time": "2025-04-30T13:41:00.952Z"
   },
   {
    "duration": 10,
    "start_time": "2025-04-30T13:41:01.419Z"
   },
   {
    "duration": 416,
    "start_time": "2025-04-30T13:41:02.300Z"
   },
   {
    "duration": 91,
    "start_time": "2025-04-30T13:41:02.718Z"
   },
   {
    "duration": 12,
    "start_time": "2025-04-30T13:41:02.810Z"
   },
   {
    "duration": 248,
    "start_time": "2025-04-30T13:41:02.824Z"
   },
   {
    "duration": 97,
    "start_time": "2025-04-30T13:41:03.074Z"
   },
   {
    "duration": 56,
    "start_time": "2025-04-30T13:41:03.633Z"
   },
   {
    "duration": 1417,
    "start_time": "2025-04-30T13:41:04.581Z"
   },
   {
    "duration": 47,
    "start_time": "2025-04-30T13:41:06.000Z"
   },
   {
    "duration": 3,
    "start_time": "2025-04-30T13:41:08.362Z"
   },
   {
    "duration": 19,
    "start_time": "2025-04-30T13:41:09.482Z"
   },
   {
    "duration": 37,
    "start_time": "2025-04-30T13:41:11.457Z"
   },
   {
    "duration": 191,
    "start_time": "2025-04-30T13:41:15.673Z"
   },
   {
    "duration": 857,
    "start_time": "2025-04-30T13:41:31.915Z"
   },
   {
    "duration": 498,
    "start_time": "2025-04-30T13:41:32.775Z"
   },
   {
    "duration": 13,
    "start_time": "2025-04-30T13:41:33.275Z"
   },
   {
    "duration": 491,
    "start_time": "2025-04-30T13:41:33.290Z"
   },
   {
    "duration": 92,
    "start_time": "2025-04-30T13:41:33.784Z"
   },
   {
    "duration": 25,
    "start_time": "2025-04-30T13:41:33.877Z"
   },
   {
    "duration": 259,
    "start_time": "2025-04-30T13:41:33.904Z"
   },
   {
    "duration": 89,
    "start_time": "2025-04-30T13:41:34.170Z"
   },
   {
    "duration": 70,
    "start_time": "2025-04-30T13:41:34.261Z"
   },
   {
    "duration": 1440,
    "start_time": "2025-04-30T13:41:34.333Z"
   },
   {
    "duration": 46,
    "start_time": "2025-04-30T13:41:35.776Z"
   },
   {
    "duration": 3,
    "start_time": "2025-04-30T13:41:35.824Z"
   },
   {
    "duration": 15,
    "start_time": "2025-04-30T13:41:35.829Z"
   },
   {
    "duration": 38,
    "start_time": "2025-04-30T13:41:35.869Z"
   },
   {
    "duration": 199,
    "start_time": "2025-04-30T13:41:35.909Z"
   },
   {
    "duration": 69,
    "start_time": "2025-04-30T13:41:36.110Z"
   },
   {
    "duration": 501,
    "start_time": "2025-04-30T13:41:36.181Z"
   },
   {
    "duration": 0,
    "start_time": "2025-04-30T13:41:36.684Z"
   },
   {
    "duration": 0,
    "start_time": "2025-04-30T13:41:36.686Z"
   },
   {
    "duration": 0,
    "start_time": "2025-04-30T13:41:36.687Z"
   },
   {
    "duration": 0,
    "start_time": "2025-04-30T13:41:36.688Z"
   },
   {
    "duration": 0,
    "start_time": "2025-04-30T13:41:36.690Z"
   },
   {
    "duration": 4,
    "start_time": "2025-04-30T13:42:46.085Z"
   },
   {
    "duration": 3,
    "start_time": "2025-04-30T13:43:15.752Z"
   },
   {
    "duration": 13,
    "start_time": "2025-04-30T13:45:32.144Z"
   },
   {
    "duration": 788,
    "start_time": "2025-04-30T13:46:38.832Z"
   },
   {
    "duration": 11,
    "start_time": "2025-04-30T13:47:32.216Z"
   },
   {
    "duration": 4,
    "start_time": "2025-04-30T13:48:57.908Z"
   },
   {
    "duration": 9,
    "start_time": "2025-04-30T13:50:11.805Z"
   },
   {
    "duration": 10,
    "start_time": "2025-04-30T13:50:25.887Z"
   },
   {
    "duration": 10,
    "start_time": "2025-04-30T13:50:31.196Z"
   },
   {
    "duration": 874,
    "start_time": "2025-04-30T13:50:41.803Z"
   },
   {
    "duration": 501,
    "start_time": "2025-04-30T13:50:42.679Z"
   },
   {
    "duration": 14,
    "start_time": "2025-04-30T13:50:43.181Z"
   },
   {
    "duration": 491,
    "start_time": "2025-04-30T13:50:43.198Z"
   },
   {
    "duration": 96,
    "start_time": "2025-04-30T13:50:43.690Z"
   },
   {
    "duration": 22,
    "start_time": "2025-04-30T13:50:43.788Z"
   },
   {
    "duration": 262,
    "start_time": "2025-04-30T13:50:43.812Z"
   },
   {
    "duration": 94,
    "start_time": "2025-04-30T13:50:44.077Z"
   },
   {
    "duration": 62,
    "start_time": "2025-04-30T13:50:44.172Z"
   },
   {
    "duration": 1507,
    "start_time": "2025-04-30T13:50:44.237Z"
   },
   {
    "duration": 56,
    "start_time": "2025-04-30T13:50:45.746Z"
   },
   {
    "duration": 5,
    "start_time": "2025-04-30T13:50:45.803Z"
   },
   {
    "duration": 11,
    "start_time": "2025-04-30T13:50:45.809Z"
   },
   {
    "duration": 4,
    "start_time": "2025-04-30T13:50:45.822Z"
   },
   {
    "duration": 14,
    "start_time": "2025-04-30T13:50:45.827Z"
   },
   {
    "duration": 61,
    "start_time": "2025-04-30T13:50:45.843Z"
   },
   {
    "duration": 200,
    "start_time": "2025-04-30T13:50:45.906Z"
   },
   {
    "duration": 9,
    "start_time": "2025-04-30T13:50:46.107Z"
   },
   {
    "duration": 74,
    "start_time": "2025-04-30T13:50:46.118Z"
   },
   {
    "duration": 1781,
    "start_time": "2025-04-30T13:50:46.193Z"
   },
   {
    "duration": 13526,
    "start_time": "2025-04-30T13:50:47.977Z"
   },
   {
    "duration": 5765,
    "start_time": "2025-04-30T13:51:01.506Z"
   },
   {
    "duration": 8998,
    "start_time": "2025-04-30T13:51:07.273Z"
   },
   {
    "duration": 3057,
    "start_time": "2025-04-30T13:51:16.273Z"
   },
   {
    "duration": 13048,
    "start_time": "2025-04-30T13:51:19.332Z"
   },
   {
    "duration": 1827,
    "start_time": "2025-04-30T13:59:36.926Z"
   },
   {
    "duration": 234,
    "start_time": "2025-04-30T14:01:27.438Z"
   },
   {
    "duration": 173,
    "start_time": "2025-04-30T14:01:44.239Z"
   },
   {
    "duration": 160,
    "start_time": "2025-04-30T14:01:53.051Z"
   },
   {
    "duration": 153,
    "start_time": "2025-04-30T14:02:08.838Z"
   },
   {
    "duration": 169,
    "start_time": "2025-04-30T14:02:51.579Z"
   },
   {
    "duration": 158,
    "start_time": "2025-04-30T14:03:22.378Z"
   },
   {
    "duration": 151,
    "start_time": "2025-04-30T14:04:26.393Z"
   },
   {
    "duration": 152,
    "start_time": "2025-04-30T14:05:27.786Z"
   },
   {
    "duration": 944,
    "start_time": "2025-04-30T14:06:08.120Z"
   },
   {
    "duration": 559,
    "start_time": "2025-04-30T14:06:09.066Z"
   },
   {
    "duration": 12,
    "start_time": "2025-04-30T14:06:09.627Z"
   },
   {
    "duration": 506,
    "start_time": "2025-04-30T14:06:09.640Z"
   },
   {
    "duration": 96,
    "start_time": "2025-04-30T14:06:10.148Z"
   },
   {
    "duration": 34,
    "start_time": "2025-04-30T14:06:10.245Z"
   },
   {
    "duration": 244,
    "start_time": "2025-04-30T14:06:10.280Z"
   },
   {
    "duration": 94,
    "start_time": "2025-04-30T14:06:10.526Z"
   },
   {
    "duration": 68,
    "start_time": "2025-04-30T14:06:10.621Z"
   },
   {
    "duration": 176,
    "start_time": "2025-04-30T14:06:10.692Z"
   },
   {
    "duration": 169,
    "start_time": "2025-04-30T14:06:10.869Z"
   },
   {
    "duration": 1529,
    "start_time": "2025-04-30T14:06:11.041Z"
   },
   {
    "duration": 48,
    "start_time": "2025-04-30T14:06:12.571Z"
   },
   {
    "duration": 5,
    "start_time": "2025-04-30T14:06:12.620Z"
   },
   {
    "duration": 10,
    "start_time": "2025-04-30T14:06:12.626Z"
   },
   {
    "duration": 182,
    "start_time": "2025-04-30T14:06:12.638Z"
   },
   {
    "duration": 161,
    "start_time": "2025-04-30T14:06:12.821Z"
   },
   {
    "duration": 4,
    "start_time": "2025-04-30T14:06:12.983Z"
   },
   {
    "duration": 15,
    "start_time": "2025-04-30T14:06:12.989Z"
   },
   {
    "duration": 37,
    "start_time": "2025-04-30T14:06:13.005Z"
   },
   {
    "duration": 216,
    "start_time": "2025-04-30T14:06:13.044Z"
   },
   {
    "duration": 13,
    "start_time": "2025-04-30T14:06:13.262Z"
   },
   {
    "duration": 65,
    "start_time": "2025-04-30T14:06:13.276Z"
   },
   {
    "duration": 1746,
    "start_time": "2025-04-30T14:06:13.342Z"
   },
   {
    "duration": 13481,
    "start_time": "2025-04-30T14:06:15.090Z"
   },
   {
    "duration": 5522,
    "start_time": "2025-04-30T14:06:28.572Z"
   },
   {
    "duration": 9090,
    "start_time": "2025-04-30T14:06:34.096Z"
   },
   {
    "duration": 3058,
    "start_time": "2025-04-30T14:06:43.189Z"
   },
   {
    "duration": 13065,
    "start_time": "2025-04-30T14:06:46.249Z"
   },
   {
    "duration": 161,
    "start_time": "2025-04-30T14:09:43.911Z"
   },
   {
    "duration": 984,
    "start_time": "2025-04-30T14:10:02.511Z"
   },
   {
    "duration": 152,
    "start_time": "2025-04-30T14:10:05.531Z"
   },
   {
    "duration": 970,
    "start_time": "2025-04-30T14:10:13.527Z"
   },
   {
    "duration": 552,
    "start_time": "2025-04-30T14:10:14.500Z"
   },
   {
    "duration": 21,
    "start_time": "2025-04-30T14:10:15.054Z"
   },
   {
    "duration": 482,
    "start_time": "2025-04-30T14:10:15.078Z"
   },
   {
    "duration": 89,
    "start_time": "2025-04-30T14:10:15.562Z"
   },
   {
    "duration": 37,
    "start_time": "2025-04-30T14:10:15.653Z"
   },
   {
    "duration": 235,
    "start_time": "2025-04-30T14:10:15.692Z"
   },
   {
    "duration": 94,
    "start_time": "2025-04-30T14:10:15.928Z"
   },
   {
    "duration": 67,
    "start_time": "2025-04-30T14:10:16.024Z"
   },
   {
    "duration": 185,
    "start_time": "2025-04-30T14:10:16.095Z"
   },
   {
    "duration": 172,
    "start_time": "2025-04-30T14:10:16.282Z"
   },
   {
    "duration": 1494,
    "start_time": "2025-04-30T14:10:16.456Z"
   },
   {
    "duration": 50,
    "start_time": "2025-04-30T14:10:17.952Z"
   },
   {
    "duration": 4,
    "start_time": "2025-04-30T14:10:18.004Z"
   },
   {
    "duration": 10,
    "start_time": "2025-04-30T14:10:18.010Z"
   },
   {
    "duration": 180,
    "start_time": "2025-04-30T14:10:18.022Z"
   },
   {
    "duration": 167,
    "start_time": "2025-04-30T14:10:18.203Z"
   },
   {
    "duration": 4,
    "start_time": "2025-04-30T14:10:18.372Z"
   },
   {
    "duration": 17,
    "start_time": "2025-04-30T14:10:18.378Z"
   },
   {
    "duration": 38,
    "start_time": "2025-04-30T14:10:18.397Z"
   },
   {
    "duration": 224,
    "start_time": "2025-04-30T14:10:18.436Z"
   },
   {
    "duration": 14,
    "start_time": "2025-04-30T14:10:18.662Z"
   },
   {
    "duration": 60,
    "start_time": "2025-04-30T14:10:18.677Z"
   },
   {
    "duration": 1840,
    "start_time": "2025-04-30T14:10:18.739Z"
   },
   {
    "duration": 13018,
    "start_time": "2025-04-30T14:10:20.582Z"
   },
   {
    "duration": 5689,
    "start_time": "2025-04-30T14:10:33.603Z"
   },
   {
    "duration": 9089,
    "start_time": "2025-04-30T14:10:39.295Z"
   },
   {
    "duration": 3037,
    "start_time": "2025-04-30T14:10:48.387Z"
   },
   {
    "duration": 13063,
    "start_time": "2025-04-30T14:10:51.426Z"
   },
   {
    "duration": 1001,
    "start_time": "2025-04-30T14:11:23.490Z"
   },
   {
    "duration": 561,
    "start_time": "2025-04-30T14:11:24.493Z"
   },
   {
    "duration": 20,
    "start_time": "2025-04-30T14:11:25.056Z"
   },
   {
    "duration": 478,
    "start_time": "2025-04-30T14:11:25.079Z"
   },
   {
    "duration": 88,
    "start_time": "2025-04-30T14:11:25.559Z"
   },
   {
    "duration": 33,
    "start_time": "2025-04-30T14:11:25.649Z"
   },
   {
    "duration": 239,
    "start_time": "2025-04-30T14:11:25.684Z"
   },
   {
    "duration": 92,
    "start_time": "2025-04-30T14:11:25.925Z"
   },
   {
    "duration": 71,
    "start_time": "2025-04-30T14:11:26.019Z"
   },
   {
    "duration": 170,
    "start_time": "2025-04-30T14:11:26.094Z"
   },
   {
    "duration": 174,
    "start_time": "2025-04-30T14:11:26.271Z"
   },
   {
    "duration": 1524,
    "start_time": "2025-04-30T14:11:26.447Z"
   },
   {
    "duration": 47,
    "start_time": "2025-04-30T14:11:27.973Z"
   },
   {
    "duration": 4,
    "start_time": "2025-04-30T14:11:28.022Z"
   },
   {
    "duration": 12,
    "start_time": "2025-04-30T14:11:28.028Z"
   },
   {
    "duration": 185,
    "start_time": "2025-04-30T14:11:28.042Z"
   },
   {
    "duration": 146,
    "start_time": "2025-04-30T14:11:28.229Z"
   },
   {
    "duration": 4,
    "start_time": "2025-04-30T14:11:28.377Z"
   },
   {
    "duration": 14,
    "start_time": "2025-04-30T14:11:28.384Z"
   },
   {
    "duration": 36,
    "start_time": "2025-04-30T14:11:28.399Z"
   },
   {
    "duration": 217,
    "start_time": "2025-04-30T14:11:28.436Z"
   },
   {
    "duration": 16,
    "start_time": "2025-04-30T14:11:28.655Z"
   },
   {
    "duration": 60,
    "start_time": "2025-04-30T14:11:28.672Z"
   },
   {
    "duration": 1852,
    "start_time": "2025-04-30T14:11:28.734Z"
   },
   {
    "duration": 12897,
    "start_time": "2025-04-30T14:11:30.588Z"
   },
   {
    "duration": 6402,
    "start_time": "2025-04-30T14:11:43.486Z"
   },
   {
    "duration": 8886,
    "start_time": "2025-04-30T14:11:49.890Z"
   },
   {
    "duration": 3041,
    "start_time": "2025-04-30T14:11:58.780Z"
   },
   {
    "duration": 13164,
    "start_time": "2025-04-30T14:12:01.823Z"
   },
   {
    "duration": 961,
    "start_time": "2025-04-30T14:12:41.268Z"
   },
   {
    "duration": 543,
    "start_time": "2025-04-30T14:12:42.231Z"
   },
   {
    "duration": 13,
    "start_time": "2025-04-30T14:12:42.775Z"
   },
   {
    "duration": 489,
    "start_time": "2025-04-30T14:12:42.791Z"
   },
   {
    "duration": 90,
    "start_time": "2025-04-30T14:12:43.282Z"
   },
   {
    "duration": 27,
    "start_time": "2025-04-30T14:12:43.373Z"
   },
   {
    "duration": 250,
    "start_time": "2025-04-30T14:12:43.402Z"
   },
   {
    "duration": 93,
    "start_time": "2025-04-30T14:12:43.654Z"
   },
   {
    "duration": 70,
    "start_time": "2025-04-30T14:12:43.749Z"
   },
   {
    "duration": 190,
    "start_time": "2025-04-30T14:12:43.823Z"
   },
   {
    "duration": 178,
    "start_time": "2025-04-30T14:12:44.016Z"
   },
   {
    "duration": 1475,
    "start_time": "2025-04-30T14:12:44.196Z"
   },
   {
    "duration": 48,
    "start_time": "2025-04-30T14:12:45.672Z"
   },
   {
    "duration": 4,
    "start_time": "2025-04-30T14:12:45.722Z"
   },
   {
    "duration": 13,
    "start_time": "2025-04-30T14:12:45.728Z"
   },
   {
    "duration": 180,
    "start_time": "2025-04-30T14:12:45.743Z"
   },
   {
    "duration": 160,
    "start_time": "2025-04-30T14:12:45.925Z"
   },
   {
    "duration": 4,
    "start_time": "2025-04-30T14:12:46.087Z"
   },
   {
    "duration": 18,
    "start_time": "2025-04-30T14:12:46.093Z"
   },
   {
    "duration": 38,
    "start_time": "2025-04-30T14:12:46.113Z"
   },
   {
    "duration": 220,
    "start_time": "2025-04-30T14:12:46.171Z"
   },
   {
    "duration": 10,
    "start_time": "2025-04-30T14:12:46.393Z"
   },
   {
    "duration": 72,
    "start_time": "2025-04-30T14:12:46.404Z"
   },
   {
    "duration": 1801,
    "start_time": "2025-04-30T14:12:46.478Z"
   },
   {
    "duration": 12403,
    "start_time": "2025-04-30T14:12:48.284Z"
   },
   {
    "duration": 5988,
    "start_time": "2025-04-30T14:13:00.689Z"
   },
   {
    "duration": 9009,
    "start_time": "2025-04-30T14:13:06.679Z"
   },
   {
    "duration": 3080,
    "start_time": "2025-04-30T14:13:15.692Z"
   },
   {
    "duration": 13051,
    "start_time": "2025-04-30T14:13:18.773Z"
   }
  ],
  "kernelspec": {
   "display_name": "Python 3 (ipykernel)",
   "language": "python",
   "name": "python3"
  },
  "language_info": {
   "codemirror_mode": {
    "name": "ipython",
    "version": 3
   },
   "file_extension": ".py",
   "mimetype": "text/x-python",
   "name": "python",
   "nbconvert_exporter": "python",
   "pygments_lexer": "ipython3",
   "version": "3.9.19"
  },
  "toc": {
   "base_numbering": 1,
   "nav_menu": {},
   "number_sections": true,
   "sideBar": true,
   "skip_h1_title": true,
   "title_cell": "Table of Contents",
   "title_sidebar": "Contents",
   "toc_cell": false,
   "toc_position": {},
   "toc_section_display": true,
   "toc_window_display": false
  }
 },
 "nbformat": 4,
 "nbformat_minor": 2
}
