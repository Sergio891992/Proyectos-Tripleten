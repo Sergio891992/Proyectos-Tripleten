{
 "cells": [
  {
   "cell_type": "markdown",
   "metadata": {},
   "source": [
    "# Beta Bank    \n",
    "\n",
    "El presente ejercicio tiene como finalidad desarrollar un modelo que permita indicar si un cliente se irá o no de Beta Bank."
   ]
  },
  {
   "cell_type": "markdown",
   "metadata": {},
   "source": [
    "## Descarga de librerías y dataframe    "
   ]
  },
  {
   "cell_type": "markdown",
   "metadata": {},
   "source": [
    "### Librerías y herramientas"
   ]
  },
  {
   "cell_type": "code",
   "execution_count": 1,
   "metadata": {},
   "outputs": [],
   "source": [
    "import pandas as pd\n",
    "import numpy as np\n",
    "import matplotlib.pyplot as plt\n",
    "from sklearn.tree import DecisionTreeClassifier\n",
    "from sklearn.model_selection import train_test_split\n",
    "from sklearn.utils import shuffle\n",
    "from sklearn.linear_model import LogisticRegression\n",
    "from sklearn.metrics import f1_score, accuracy_score, recall_score, roc_curve, precision_score, roc_auc_score, mean_squared_error, r2_score, mean_absolute_error\n",
    "from sklearn.preprocessing import StandardScaler"
   ]
  },
  {
   "cell_type": "markdown",
   "metadata": {},
   "source": [
    "### Dataframe    \n",
    "Se importa dataframe y se examinan datos para su preparación. "
   ]
  },
  {
   "cell_type": "code",
   "execution_count": 2,
   "metadata": {},
   "outputs": [],
   "source": [
    "df = pd.read_csv('/datasets/Churn.csv')"
   ]
  },
  {
   "cell_type": "code",
   "execution_count": 3,
   "metadata": {},
   "outputs": [
    {
     "name": "stdout",
     "output_type": "stream",
     "text": [
      "<class 'pandas.core.frame.DataFrame'>\n",
      "RangeIndex: 10000 entries, 0 to 9999\n",
      "Data columns (total 14 columns):\n",
      " #   Column           Non-Null Count  Dtype  \n",
      "---  ------           --------------  -----  \n",
      " 0   RowNumber        10000 non-null  int64  \n",
      " 1   CustomerId       10000 non-null  int64  \n",
      " 2   Surname          10000 non-null  object \n",
      " 3   CreditScore      10000 non-null  int64  \n",
      " 4   Geography        10000 non-null  object \n",
      " 5   Gender           10000 non-null  object \n",
      " 6   Age              10000 non-null  int64  \n",
      " 7   Tenure           9091 non-null   float64\n",
      " 8   Balance          10000 non-null  float64\n",
      " 9   NumOfProducts    10000 non-null  int64  \n",
      " 10  HasCrCard        10000 non-null  int64  \n",
      " 11  IsActiveMember   10000 non-null  int64  \n",
      " 12  EstimatedSalary  10000 non-null  float64\n",
      " 13  Exited           10000 non-null  int64  \n",
      "dtypes: float64(3), int64(8), object(3)\n",
      "memory usage: 1.1+ MB\n"
     ]
    }
   ],
   "source": [
    "df.info()"
   ]
  },
  {
   "cell_type": "markdown",
   "metadata": {},
   "source": [
    "**Conclusiones**    \n",
    "Hay tres columnas que son object, por lo que serán preprocesadas para que se vuelvan valor numérico y no afecte los cálculos posteriores. Asimismo, los valores Nan que hay en Tenure se sustituirán por la mediana del rango que hay en la misma columna para evitar problemas posteriores al poner a prueba los modelos. "
   ]
  },
  {
   "cell_type": "markdown",
   "metadata": {},
   "source": [
    "## Preprocesamiento de datos   \n",
    "Se llevan a cabo los cambios señalados en la sección previa para el correcto consecuente análisis y funcionamiento de modelos. "
   ]
  },
  {
   "cell_type": "markdown",
   "metadata": {},
   "source": [
    "### Preprocesamiento de datos tipo \"Object\""
   ]
  },
  {
   "cell_type": "code",
   "execution_count": 4,
   "metadata": {},
   "outputs": [],
   "source": [
    "df['Surname'] = pd.get_dummies(df['Surname'], drop_first=True)\n",
    "df['Geography'] = pd.get_dummies(df['Geography'], drop_first=True)\n",
    "df['Gender'] = pd.get_dummies(df['Gender'], drop_first=True)"
   ]
  },
  {
   "cell_type": "code",
   "execution_count": 5,
   "metadata": {},
   "outputs": [
    {
     "name": "stdout",
     "output_type": "stream",
     "text": [
      "<class 'pandas.core.frame.DataFrame'>\n",
      "RangeIndex: 10000 entries, 0 to 9999\n",
      "Data columns (total 14 columns):\n",
      " #   Column           Non-Null Count  Dtype  \n",
      "---  ------           --------------  -----  \n",
      " 0   RowNumber        10000 non-null  int64  \n",
      " 1   CustomerId       10000 non-null  int64  \n",
      " 2   Surname          10000 non-null  uint8  \n",
      " 3   CreditScore      10000 non-null  int64  \n",
      " 4   Geography        10000 non-null  uint8  \n",
      " 5   Gender           10000 non-null  uint8  \n",
      " 6   Age              10000 non-null  int64  \n",
      " 7   Tenure           9091 non-null   float64\n",
      " 8   Balance          10000 non-null  float64\n",
      " 9   NumOfProducts    10000 non-null  int64  \n",
      " 10  HasCrCard        10000 non-null  int64  \n",
      " 11  IsActiveMember   10000 non-null  int64  \n",
      " 12  EstimatedSalary  10000 non-null  float64\n",
      " 13  Exited           10000 non-null  int64  \n",
      "dtypes: float64(3), int64(8), uint8(3)\n",
      "memory usage: 888.8 KB\n"
     ]
    }
   ],
   "source": [
    "df.info()"
   ]
  },
  {
   "cell_type": "markdown",
   "metadata": {},
   "source": [
    "### Nan a mediana"
   ]
  },
  {
   "cell_type": "code",
   "execution_count": 6,
   "metadata": {},
   "outputs": [],
   "source": [
    "df['Tenure'] = df['Tenure'].fillna(df['Tenure'].median())"
   ]
  },
  {
   "cell_type": "code",
   "execution_count": 7,
   "metadata": {},
   "outputs": [
    {
     "name": "stdout",
     "output_type": "stream",
     "text": [
      "0\n"
     ]
    }
   ],
   "source": [
    "print(df['Tenure'].isna().sum())"
   ]
  },
  {
   "cell_type": "markdown",
   "metadata": {},
   "source": [
    "<div class=\"alert alert-block alert-success\">\n",
    "<b>Comentario del revisor (1ra Iteracion)</b> <a class=“tocSkip”></a>\n",
    "\n",
    "Muy bien realizada la exploración inicial de los datos y la carga de lo necesario para trabajarlos\n",
    "</div>"
   ]
  },
  {
   "cell_type": "markdown",
   "metadata": {},
   "source": [
    "## Segmentación    \n",
    "Se segmenta el dataframe de la siguiente manera:    \n",
    "-20% para la prueba final   \n",
    "-20% para validación  \n",
    "-60% para entrenamiento   \n",
    "\n",
    "Se inicia con la segmentación del 20% de prueba."
   ]
  },
  {
   "cell_type": "code",
   "execution_count": 8,
   "metadata": {},
   "outputs": [],
   "source": [
    "x = df.drop(['Exited'], axis=1)\n",
    "y = df['Exited']\n",
    "\n",
    "x_temporal, x_prueba, y_temporal, y_prueba = train_test_split(x, y, test_size=0.2, random_state=12345)"
   ]
  },
  {
   "cell_type": "code",
   "execution_count": 9,
   "metadata": {},
   "outputs": [
    {
     "name": "stdout",
     "output_type": "stream",
     "text": [
      "El tamaño de x_temporal es (8000, 13)\n",
      "El tamaño de y_temporal es (8000,)\n",
      "El tamaño de x_prueba es (2000, 13)\n",
      "El tamaño de y_prueba es (2000,)\n"
     ]
    }
   ],
   "source": [
    "print('El tamaño de x_temporal es', x_temporal.shape)\n",
    "print('El tamaño de y_temporal es', y_temporal.shape)\n",
    "print('El tamaño de x_prueba es', x_prueba.shape)\n",
    "print('El tamaño de y_prueba es', y_prueba.shape)"
   ]
  },
  {
   "cell_type": "markdown",
   "metadata": {},
   "source": [
    "Ahora se dividen en validación y entrenamiento usando x y y temporal. \"ent\" es entrenamiento, mientras \"val\" es validación. "
   ]
  },
  {
   "cell_type": "code",
   "execution_count": 10,
   "metadata": {},
   "outputs": [],
   "source": [
    "x_ent, x_val, y_ent, y_val = train_test_split(x_temporal, y_temporal, test_size=0.25, random_state=12345)"
   ]
  },
  {
   "cell_type": "code",
   "execution_count": 11,
   "metadata": {},
   "outputs": [
    {
     "name": "stdout",
     "output_type": "stream",
     "text": [
      "El tamaño de x_ent es (6000, 13)\n",
      "El tamaño de y_ent es (6000,)\n",
      "El tamaño de x_val es (2000, 13)\n",
      "El tamaño de y_val es (2000,)\n"
     ]
    }
   ],
   "source": [
    "print('El tamaño de x_ent es', x_ent.shape)\n",
    "print('El tamaño de y_ent es', y_ent.shape)\n",
    "print('El tamaño de x_val es', x_val.shape)\n",
    "print('El tamaño de y_val es', y_val.shape)"
   ]
  },
  {
   "cell_type": "markdown",
   "metadata": {},
   "source": [
    "<div class=\"alert alert-block alert-success\">\n",
    "<b>Comentario del revisor (1ra Iteracion)</b> <a class=“tocSkip”></a>\n",
    "\n",
    "Correcto, con esto tienes los datos listos para pasar al entrenamiento de tus modelos\n",
    "</div>"
   ]
  },
  {
   "cell_type": "markdown",
   "metadata": {},
   "source": [
    "## Entrenamiento de modelos sin considerar desequilibrio de clases   \n",
    "Se entrenan modelos sin considerar el desequilibrio de clases. "
   ]
  },
  {
   "cell_type": "markdown",
   "metadata": {},
   "source": [
    "**Decision tree Classifier**"
   ]
  },
  {
   "cell_type": "code",
   "execution_count": 12,
   "metadata": {},
   "outputs": [
    {
     "name": "stdout",
     "output_type": "stream",
     "text": [
      "La precisión de este modelo es 0.789\n",
      "El valor de recall es 0.48081841432225064\n",
      "El valor de precision es 0.4619164619164619\n",
      "El valor de F1 es 0.4711779448621554\n"
     ]
    }
   ],
   "source": [
    "model_decision = DecisionTreeClassifier(random_state=12345)\n",
    "model_decision.fit(x_ent, y_ent)\n",
    "\n",
    "predicted_val = model_decision.predict(x_val)\n",
    "print('La precisión de este modelo es', accuracy_score(y_val, predicted_val))\n",
    "print('El valor de recall es', recall_score(y_val, predicted_val))\n",
    "print('El valor de precision es', precision_score(y_val, predicted_val))\n",
    "print('El valor de F1 es', f1_score(y_val, predicted_val))"
   ]
  },
  {
   "cell_type": "markdown",
   "metadata": {},
   "source": [
    "A pesar de que la precisión del modelo indica que no parece ser tan malo, los otros datos nos señalan lo contrario. Recall nos indica que sólo detecta el 48% de los usuarios que sí se van, mientras que recall nos señala que su confiabilidad es del 46%. Así obtenemos que el modelo tiene sólo un 47% de confiabilidad, según el valor F1. Esto indica que las clases están desbalanceadas.   \n",
    "\n",
    "El siguiente paso será usar dos enfoques para corregir el desequilibrio de clases y se entrenarán modelos para encontrar la mejor opción de parámetros y modelo a usar."
   ]
  },
  {
   "cell_type": "markdown",
   "metadata": {},
   "source": [
    "**Logistic Regression**"
   ]
  },
  {
   "cell_type": "code",
   "execution_count": 13,
   "metadata": {},
   "outputs": [
    {
     "name": "stdout",
     "output_type": "stream",
     "text": [
      "La precisión de este modelo es 0.8045\n",
      "El valor de recall es 0.0\n",
      "El valor de precision es 0.0\n",
      "El valor de F1 es 0.0\n"
     ]
    },
    {
     "name": "stderr",
     "output_type": "stream",
     "text": [
      "/opt/conda/envs/python3/lib/python3.9/site-packages/sklearn/metrics/_classification.py:1245: UndefinedMetricWarning: Precision is ill-defined and being set to 0.0 due to no predicted samples. Use `zero_division` parameter to control this behavior.\n",
      "  _warn_prf(average, modifier, msg_start, len(result))\n"
     ]
    }
   ],
   "source": [
    "model_logistic = LogisticRegression(random_state=12345, solver='liblinear')\n",
    "model_logistic.fit(x_ent, y_ent)\n",
    "\n",
    "log_predict = model_logistic.predict(x_val)\n",
    "\n",
    "print('La precisión de este modelo es', accuracy_score(y_val, log_predict))\n",
    "print('El valor de recall es', recall_score(y_val, log_predict))\n",
    "print('El valor de precision es', precision_score(y_val, log_predict))\n",
    "print('El valor de F1 es', f1_score(y_val, log_predict))"
   ]
  },
  {
   "cell_type": "markdown",
   "metadata": {},
   "source": [
    "El modelo, a pesar de predecir correctamente el 80% de los casos, el desbalance produce resultados totalmente inutilizables. "
   ]
  },
  {
   "cell_type": "markdown",
   "metadata": {},
   "source": [
    "<div class=\"alert alert-block alert-warning\">\n",
    "<b>Comentario del revisor (1ra Iteracion)</b> <a class=“tocSkip”></a>\n",
    "\n",
    "Cuidado con el análisis de los modelos sólo por la precisión, al tener datos desbalanceados cómo la clase minoritaria no representa una gran muestra de tus datos la precisión será alta pero no necesariamente quiere decir que predice correctamente, sólo está generando predicciones para la clase mayoritaria.\n",
    "</div>"
   ]
  },
  {
   "cell_type": "markdown",
   "metadata": {},
   "source": [
    "## Enfoques para corregir desequilibrio de clases    \n",
    "Ahora se crean las variables para la corrección de desequilibrio de clases que se usarán para el entrenamiento de modelos y la elección del más adecuado para predecir si los clientes del banco decidirán irse o no."
   ]
  },
  {
   "cell_type": "markdown",
   "metadata": {},
   "source": [
    "**Escalado para logistic regression**"
   ]
  },
  {
   "cell_type": "code",
   "execution_count": 14,
   "metadata": {},
   "outputs": [
    {
     "data": {
      "text/plain": [
       "RowNumber             10000.00\n",
       "CustomerId         15815690.00\n",
       "Surname                   1.00\n",
       "CreditScore             850.00\n",
       "Geography                 1.00\n",
       "Gender                    1.00\n",
       "Age                      92.00\n",
       "Tenure                   10.00\n",
       "Balance              250898.09\n",
       "NumOfProducts             4.00\n",
       "HasCrCard                 1.00\n",
       "IsActiveMember            1.00\n",
       "EstimatedSalary      199992.48\n",
       "Exited                    1.00\n",
       "dtype: float64"
      ]
     },
     "execution_count": 14,
     "metadata": {},
     "output_type": "execute_result"
    }
   ],
   "source": [
    "df.max()"
   ]
  },
  {
   "cell_type": "code",
   "execution_count": 15,
   "metadata": {},
   "outputs": [
    {
     "data": {
      "text/plain": [
       "RowNumber                 1.00\n",
       "CustomerId         15565701.00\n",
       "Surname                   0.00\n",
       "CreditScore             350.00\n",
       "Geography                 0.00\n",
       "Gender                    0.00\n",
       "Age                      18.00\n",
       "Tenure                    0.00\n",
       "Balance                   0.00\n",
       "NumOfProducts             1.00\n",
       "HasCrCard                 0.00\n",
       "IsActiveMember            0.00\n",
       "EstimatedSalary          11.58\n",
       "Exited                    0.00\n",
       "dtype: float64"
      ]
     },
     "execution_count": 15,
     "metadata": {},
     "output_type": "execute_result"
    }
   ],
   "source": [
    "df.min()"
   ]
  },
  {
   "cell_type": "markdown",
   "metadata": {},
   "source": [
    "Con base en los máximos y mínimos, las columnas que serán escaladas son:   \n",
    "-CreditScore   \n",
    "-Age   \n",
    "-Balance   \n",
    "-EstimatedSalary"
   ]
  },
  {
   "cell_type": "code",
   "execution_count": 16,
   "metadata": {},
   "outputs": [],
   "source": [
    "x_ent_copy = x_ent.copy()\n",
    "x_valid_copy = x_val.copy()\n",
    "\n",
    "numeric = ['CreditScore', 'Age', 'Balance', 'EstimatedSalary']\n",
    "\n",
    "scaler = StandardScaler()\n",
    "scaler.fit(x_ent_copy[numeric])\n",
    "\n",
    "x_ent_copy[numeric] = scaler.transform(x_ent_copy[numeric])\n",
    "x_valid_copy[numeric] = scaler.transform(x_valid_copy[numeric])"
   ]
  },
  {
   "cell_type": "code",
   "execution_count": 17,
   "metadata": {},
   "outputs": [
    {
     "name": "stdout",
     "output_type": "stream",
     "text": [
      "      RowNumber  CustomerId  Surname  CreditScore  Geography  Gender  \\\n",
      "492         493    15624170        0    -0.134048          0       0   \n",
      "6655       6656    15703763        0    -1.010798          0       1   \n",
      "4287       4288    15657529        0     0.639554          1       1   \n",
      "42           43    15687946        0    -0.990168          0       0   \n",
      "8178       8179    15809654        0     0.567351          0       0   \n",
      "\n",
      "           Age  Tenure   Balance  NumOfProducts  HasCrCard  IsActiveMember  \\\n",
      "492  -0.078068     4.0  0.076163              2          0               1   \n",
      "6655  0.494555     5.0  0.136391              1          1               1   \n",
      "4287  1.353490     1.0  0.358435              1          1               1   \n",
      "42    2.116987     2.0  0.651725              1          1               1   \n",
      "8178  0.685430     7.0  0.813110              2          1               1   \n",
      "\n",
      "      EstimatedSalary  \n",
      "492          0.331571  \n",
      "6655        -0.727858  \n",
      "4287        -0.477006  \n",
      "42          -0.100232  \n",
      "8178         0.801922  \n"
     ]
    }
   ],
   "source": [
    "print(x_ent_copy.head())"
   ]
  },
  {
   "cell_type": "markdown",
   "metadata": {},
   "source": [
    "**Sobremuestreo**"
   ]
  },
  {
   "cell_type": "code",
   "execution_count": 18,
   "metadata": {},
   "outputs": [
    {
     "data": {
      "text/plain": [
       "0    7963\n",
       "1    2037\n",
       "Name: Exited, dtype: int64"
      ]
     },
     "execution_count": 18,
     "metadata": {},
     "output_type": "execute_result"
    }
   ],
   "source": [
    "df['Exited'].value_counts()"
   ]
  },
  {
   "cell_type": "markdown",
   "metadata": {},
   "source": [
    "<div class=\"alert alert-block alert-success\">\n",
    "<b>Comentario del revisor (1ra Iteracion)</b> <a class=“tocSkip”></a>\n",
    "\n",
    "Perfecto, siempre en problemas de clasificación se debe revisar el balance en las clases de la variable objetivo\n",
    "</div>"
   ]
  },
  {
   "cell_type": "markdown",
   "metadata": {},
   "source": [
    "Para el sobremuestreo, la cantidad de repeiticiones será de 4 dada la relación de 0 y 1 en la columna. "
   ]
  },
  {
   "cell_type": "code",
   "execution_count": 19,
   "metadata": {},
   "outputs": [],
   "source": [
    "def sobremuestreo (características, objetivo, repetición):\n",
    "    ent_cero = x_ent[y_ent == 0]\n",
    "    ent_uno = x_ent[y_ent == 1]\n",
    "    obj_cero = y_ent[y_ent == 0]\n",
    "    obj_uno = y_ent[y_ent == 1]\n",
    "    \n",
    "    sobremuestra_ent = pd.concat([ent_cero] + [ent_uno] * repetición)\n",
    "    sobremuestra_obj = pd.concat([obj_cero] + [obj_uno] * repetición)\n",
    "    \n",
    "    sobremuestra_ent, sobremuestra_obj = shuffle(sobremuestra_ent, sobremuestra_obj, random_state=12345)\n",
    "    \n",
    "    return sobremuestra_ent, sobremuestra_obj\n",
    "\n",
    "sobremuestra_ent, sobremuestra_obj = sobremuestreo(x_ent, x_val, 4)"
   ]
  },
  {
   "cell_type": "markdown",
   "metadata": {},
   "source": [
    "**Submuestreo**   \n",
    "El submuestreo se hará con frac de .1."
   ]
  },
  {
   "cell_type": "code",
   "execution_count": 20,
   "metadata": {},
   "outputs": [],
   "source": [
    "def submuestreo (características, objetivo, fracción):\n",
    "    ent_cero = x_ent[y_ent == 0]\n",
    "    ent_uno = x_ent[y_ent == 1]\n",
    "    obj_cero = y_ent[y_ent == 0]\n",
    "    obj_uno = y_ent[y_ent == 1]\n",
    "    \n",
    "    ent_sub = pd.concat([ent_cero.sample(frac=0.2, random_state=12345), ent_uno])\n",
    "    obj_sub = pd.concat([obj_cero.sample(frac=0.2, random_state=12345), obj_uno])\n",
    "    \n",
    "    ent_sub, obj_sub = shuffle(ent_sub, obj_sub, random_state=12345)\n",
    "    \n",
    "    return ent_sub, obj_sub\n",
    "\n",
    "ent_sub, obj_sub = submuestreo(x_ent, y_ent, 0.1)"
   ]
  },
  {
   "cell_type": "markdown",
   "metadata": {},
   "source": [
    "<div class=\"alert alert-block alert-success\">\n",
    "<b>Comentario del revisor (1ra Iteracion)</b> <a class=“tocSkip”></a>\n",
    "\n",
    "Perfecto! Utilizar sobremuestreo o submuestreo o el balanceo de clases en los parámetros del modelo puede ayudar a los modelos a \"entender\" cómo hacer las predicciones, también te puedes apoyar de los parámetros de los modelos para mejorar estos resultados\n",
    "</div>"
   ]
  },
  {
   "cell_type": "markdown",
   "metadata": {},
   "source": [
    "## Reaplicación de modelos con métricas para corregir desequilibrio de clases."
   ]
  },
  {
   "cell_type": "markdown",
   "metadata": {},
   "source": [
    "### Decision tree classifier   \n",
    "Se reaplica decision tree classifier usando sobremuestreo, submuestreo y ajuste de peso de clase. Empero, primero se elige el mejor valor para max_depth."
   ]
  },
  {
   "cell_type": "markdown",
   "metadata": {},
   "source": [
    "**max_depth**"
   ]
  },
  {
   "cell_type": "code",
   "execution_count": 21,
   "metadata": {},
   "outputs": [
    {
     "name": "stdout",
     "output_type": "stream",
     "text": [
      "La mejor exactitud es: 0.8595\n",
      "El mejor max_depth es: 6\n"
     ]
    }
   ],
   "source": [
    "mejor_exactitud = 0\n",
    "mejor_profundidad = None\n",
    "\n",
    "for i in range (1,21):\n",
    "    modelo_depth = DecisionTreeClassifier(random_state=12345, max_depth=i)\n",
    "    modelo_depth.fit(x_ent, y_ent)\n",
    "    \n",
    "    modelo_depth_pred = modelo_depth.predict(x_ent)\n",
    "    modelo_depth_val = modelo_depth.predict(x_val)\n",
    "    \n",
    "    exactitud_pred = accuracy_score(y_ent, modelo_depth_pred)\n",
    "    exactitud_val = accuracy_score(y_val, modelo_depth_val)\n",
    "    \n",
    "    if exactitud_val > mejor_exactitud:\n",
    "        mejor_exactitud = exactitud_val\n",
    "        mejor_profundidad = i\n",
    "        \n",
    "print('La mejor exactitud es:', mejor_exactitud)\n",
    "print('El mejor max_depth es:', mejor_profundidad)"
   ]
  },
  {
   "cell_type": "markdown",
   "metadata": {},
   "source": [
    "**Ajuste de peso de clase**"
   ]
  },
  {
   "cell_type": "code",
   "execution_count": 22,
   "metadata": {},
   "outputs": [
    {
     "name": "stdout",
     "output_type": "stream",
     "text": [
      "La precisión de este modelo es 0.7815\n",
      "El valor de F1 es 0.5590312815338043\n",
      "AUC-ROC es 0.8115571139959213\n"
     ]
    },
    {
     "data": {
      "text/plain": [
       "<function matplotlib.pyplot.show(close=None, block=None)>"
      ]
     },
     "execution_count": 22,
     "metadata": {},
     "output_type": "execute_result"
    },
    {
     "data": {
      "image/png": "[encoded data removed]",
      "text/plain": [
       "<Figure size 640x480 with 1 Axes>"
      ]
     },
     "metadata": {},
     "output_type": "display_data"
    }
   ],
   "source": [
    "model_decision_balanced = DecisionTreeClassifier(random_state=12345, class_weight='balanced', max_depth=6)\n",
    "model_decision_balanced.fit(x_ent, y_ent)\n",
    "\n",
    "predicted_val = model_decision_balanced.predict(x_val)\n",
    "\n",
    "y_scores =model_decision_balanced.predict_proba(x_val)[:, 1]\n",
    "fpr, tpr, thresholds = roc_curve(y_val, y_scores)\n",
    "auc_roc = roc_auc_score(y_val, y_scores)\n",
    "\n",
    "print('La precisión de este modelo es', accuracy_score(y_val, predicted_val))\n",
    "print('El valor de F1 es', f1_score(y_val, predicted_val))\n",
    "print('AUC-ROC es', auc_roc)\n",
    "\n",
    "plt.figure()\n",
    "plt.plot(fpr, tpr)\n",
    "plt.plot([0, 1], [0, 1])\n",
    "plt.xlabel('Falsos positivos')\n",
    "plt.ylabel('verdaderos positivos')\n",
    "plt.title('Curva ROC Ajuste de peso de clase DecisiontreeClassifier')\n",
    "plt.show"
   ]
  },
  {
   "cell_type": "markdown",
   "metadata": {},
   "source": [
    "Hay una clara mejoría en cuanto a haber hecho el modelo sin ajuste de peso. "
   ]
  },
  {
   "cell_type": "markdown",
   "metadata": {},
   "source": [
    "**Sobremuestreo**"
   ]
  },
  {
   "cell_type": "code",
   "execution_count": 23,
   "metadata": {},
   "outputs": [
    {
     "name": "stdout",
     "output_type": "stream",
     "text": [
      "La precisión de este modelo es 0.7815\n",
      "El valor de F1 es 0.5590312815338043\n",
      "AUC-ROC es 0.8115571139959213\n"
     ]
    },
    {
     "data": {
      "text/plain": [
       "<function matplotlib.pyplot.show(close=None, block=None)>"
      ]
     },
     "execution_count": 23,
     "metadata": {},
     "output_type": "execute_result"
    },
    {
     "data": {
      "image/png": "[encoded data removed]",
      "text/plain": [
       "<Figure size 640x480 with 1 Axes>"
      ]
     },
     "metadata": {},
     "output_type": "display_data"
    }
   ],
   "source": [
    "model_decision_sobre = DecisionTreeClassifier(random_state=12345, max_depth=6)\n",
    "model_decision_sobre.fit(sobremuestra_ent, sobremuestra_obj)\n",
    "\n",
    "predicted_val_sobre = model_decision_sobre.predict(x_val)\n",
    "\n",
    "y_scores_sobre = model_decision_sobre.predict_proba(x_val)[:, 1]\n",
    "fpr, tpr, thresholds = roc_curve(y_val, y_scores_sobre)\n",
    "auc_roc_sobre = roc_auc_score(y_val, y_scores_sobre)\n",
    "\n",
    "print('La precisión de este modelo es', accuracy_score(y_val, predicted_val_sobre))\n",
    "print('El valor de F1 es', f1_score(y_val, predicted_val_sobre))\n",
    "print('AUC-ROC es', auc_roc_sobre)\n",
    "\n",
    "plt.figure()\n",
    "plt.plot(fpr, tpr)\n",
    "plt.plot([0, 1], [0, 1])\n",
    "plt.xlabel('Falsos positivos')\n",
    "plt.ylabel('verdaderos positivos')\n",
    "plt.title('Curva ROC sobremuestreo DecisiontreeClassifier')\n",
    "plt.show"
   ]
  },
  {
   "cell_type": "markdown",
   "metadata": {},
   "source": [
    "El resultado de esta prueba es apenas un punto porcentual mejor que la anterior, lo cual, conlleva el mismo problema. "
   ]
  },
  {
   "cell_type": "markdown",
   "metadata": {},
   "source": [
    "**Submuestreo**"
   ]
  },
  {
   "cell_type": "code",
   "execution_count": 24,
   "metadata": {},
   "outputs": [
    {
     "name": "stdout",
     "output_type": "stream",
     "text": [
      "La precisión de este modelo es 0.7425\n",
      "El valor de F1 es 0.5364536453645364\n",
      "AUC-ROC es 0.8111772176647024\n"
     ]
    },
    {
     "data": {
      "text/plain": [
       "<function matplotlib.pyplot.show(close=None, block=None)>"
      ]
     },
     "execution_count": 24,
     "metadata": {},
     "output_type": "execute_result"
    },
    {
     "data": {
      "image/png": "[encoded data removed]",
      "text/plain": [
       "<Figure size 640x480 with 1 Axes>"
      ]
     },
     "metadata": {},
     "output_type": "display_data"
    }
   ],
   "source": [
    "model_decision_sub = DecisionTreeClassifier(random_state=12345, max_depth=6)\n",
    "model_decision_sub.fit(ent_sub, obj_sub)\n",
    "\n",
    "predicted_val_sub = model_decision_sub.predict(x_val)\n",
    "\n",
    "y_scores_sub = model_decision_sub.predict_proba(x_val)[:, 1]\n",
    "fpr, tpr, thresholds = roc_curve(y_val, y_scores_sub)\n",
    "auc_roc_sub = roc_auc_score(y_val, y_scores_sub)\n",
    "\n",
    "print('La precisión de este modelo es', accuracy_score(y_val, predicted_val_sub))\n",
    "print('El valor de F1 es', f1_score(y_val, predicted_val_sub))\n",
    "print('AUC-ROC es', auc_roc_sub)\n",
    "\n",
    "plt.figure()\n",
    "plt.plot(fpr, tpr)\n",
    "plt.plot([0, 1], [0, 1])\n",
    "plt.xlabel('Falsos positivos')\n",
    "plt.ylabel('verdaderos positivos')\n",
    "plt.title('Curva ROC Submuestreo DecisiontreeClassifier')\n",
    "plt.show"
   ]
  },
  {
   "cell_type": "markdown",
   "metadata": {},
   "source": [
    "El rendimiento de DecisionTreeClassifier es menos confiable con submuestreo que con sobremuestreo con max_depth=6."
   ]
  },
  {
   "cell_type": "markdown",
   "metadata": {},
   "source": [
    "### LogisticRegression"
   ]
  },
  {
   "cell_type": "markdown",
   "metadata": {},
   "source": [
    "**Escalado**"
   ]
  },
  {
   "cell_type": "code",
   "execution_count": 25,
   "metadata": {},
   "outputs": [
    {
     "name": "stdout",
     "output_type": "stream",
     "text": [
      "La precisión de este modelo es 0.8045\n",
      "El valor de F1 es 0.0\n",
      "El valor de AUC-ROC es 0.5244635752536484\n"
     ]
    },
    {
     "data": {
      "text/plain": [
       "<function matplotlib.pyplot.show(close=None, block=None)>"
      ]
     },
     "execution_count": 25,
     "metadata": {},
     "output_type": "execute_result"
    },
    {
     "data": {
      "image/png": "[encoded data removed]",
      "text/plain": [
       "<Figure size 640x480 with 1 Axes>"
      ]
     },
     "metadata": {},
     "output_type": "display_data"
    }
   ],
   "source": [
    "model_logistic_es = LogisticRegression(random_state=12345, solver='liblinear')\n",
    "model_logistic_es.fit(x_ent_copy, y_ent)\n",
    "\n",
    "log_predict_es = model_logistic_es.predict(x_valid_copy)\n",
    "y_prob_1 = model_logistic_es.predict_proba(x_valid_copy)[:, 1]\n",
    "fpr, tpr, thresholds = roc_curve(y_val, y_prob_1)\n",
    "auc_score_log_es = roc_auc_score(y_val, y_prob_1)\n",
    "\n",
    "print('La precisión de este modelo es', accuracy_score(y_val, log_predict_es))\n",
    "print('El valor de F1 es', f1_score(y_val, log_predict_es))\n",
    "print('El valor de AUC-ROC es', auc_score_log_es)\n",
    "\n",
    "plt.figure()\n",
    "plt.plot(fpr, tpr)\n",
    "plt.plot([0, 1], [0, 1])\n",
    "plt.xlabel('Falsos positivos')\n",
    "plt.ylabel('verdaderos positivos')\n",
    "plt.title('Curva ROC Scale LogisticRegression')\n",
    "plt.show"
   ]
  },
  {
   "cell_type": "markdown",
   "metadata": {},
   "source": [
    "Al considerar la curva roc, el modelo de regresión linear con escalada de características, no es confiable. "
   ]
  },
  {
   "cell_type": "markdown",
   "metadata": {},
   "source": [
    "**Sobremuestre**"
   ]
  },
  {
   "cell_type": "code",
   "execution_count": 26,
   "metadata": {},
   "outputs": [
    {
     "name": "stdout",
     "output_type": "stream",
     "text": [
      "La precisión de este modelo es 0.497\n",
      "El valor de F1 es 0.32663989290495316\n",
      "El valor de AUC-ROC es 0.5500914771291282\n"
     ]
    },
    {
     "data": {
      "text/plain": [
       "<function matplotlib.pyplot.show(close=None, block=None)>"
      ]
     },
     "execution_count": 26,
     "metadata": {},
     "output_type": "execute_result"
    },
    {
     "data": {
      "image/png": "[encoded data removed]",
      "text/plain": [
       "<Figure size 640x480 with 1 Axes>"
      ]
     },
     "metadata": {},
     "output_type": "display_data"
    }
   ],
   "source": [
    "model_logistic_sobre = LogisticRegression(random_state=12345, solver='liblinear')\n",
    "model_logistic_sobre.fit(sobremuestra_ent, sobremuestra_obj)\n",
    "\n",
    "log_predict_sobre = model_logistic_sobre.predict(x_val)\n",
    "y_prob_1_sobre = model_logistic_sobre.predict_proba(x_val)[:, 1]\n",
    "fpr, tpr, thresholds = roc_curve(y_val, y_prob_1_sobre)\n",
    "auc_score_log_sobre = roc_auc_score(y_val, y_prob_1_sobre)\n",
    "\n",
    "print('La precisión de este modelo es', accuracy_score(y_val, log_predict_sobre))\n",
    "print('El valor de F1 es', f1_score(y_val, log_predict_sobre))\n",
    "print('El valor de AUC-ROC es', auc_score_log_sobre)\n",
    "\n",
    "plt.figure()\n",
    "plt.plot(fpr, tpr)\n",
    "plt.plot([0, 1], [0, 1])\n",
    "plt.xlabel('Falsos positivos')\n",
    "plt.ylabel('verdaderos positivos')\n",
    "plt.title('Curva ROC Sobremuestreo LogisticRegression')\n",
    "plt.show"
   ]
  },
  {
   "cell_type": "markdown",
   "metadata": {},
   "source": [
    "El modelo de regresión linear con sobremuestreo, da mejores resultados que con escalado, pero aún así no es caonfiable. "
   ]
  },
  {
   "cell_type": "markdown",
   "metadata": {},
   "source": [
    "**Submuestreo**"
   ]
  },
  {
   "cell_type": "code",
   "execution_count": 27,
   "metadata": {},
   "outputs": [
    {
     "name": "stdout",
     "output_type": "stream",
     "text": [
      "La precisión de este modelo es 0.461\n",
      "El valor de F1 es 0.3370233702337023\n",
      "El valor de AUC-ROC es 0.549210880612412\n"
     ]
    },
    {
     "data": {
      "text/plain": [
       "<function matplotlib.pyplot.show(close=None, block=None)>"
      ]
     },
     "execution_count": 27,
     "metadata": {},
     "output_type": "execute_result"
    },
    {
     "data": {
      "image/png": "[encoded data removed]",
      "text/plain": [
       "<Figure size 640x480 with 1 Axes>"
      ]
     },
     "metadata": {},
     "output_type": "display_data"
    }
   ],
   "source": [
    "model_logistic_sub = LogisticRegression(random_state=12345, solver='liblinear')\n",
    "model_logistic_sub.fit(ent_sub, obj_sub)\n",
    "\n",
    "log_predict_sub = model_logistic_sub.predict(x_val)\n",
    "y_prob_1_sub = model_logistic_sub.predict_proba(x_val)[:, 1]\n",
    "fpr, tpr, thresholds = roc_curve(y_val, y_prob_1_sub)\n",
    "auc_score_log_sub = roc_auc_score(y_val, y_prob_1_sub)\n",
    "\n",
    "print('La precisión de este modelo es', accuracy_score(y_val, log_predict_sub))\n",
    "print('El valor de F1 es', f1_score(y_val, log_predict_sub))\n",
    "print('El valor de AUC-ROC es', auc_score_log_sub)\n",
    "\n",
    "plt.figure()\n",
    "plt.plot(fpr, tpr)\n",
    "plt.plot([0, 1], [0, 1])\n",
    "plt.xlabel('Falsos positivos')\n",
    "plt.ylabel('verdaderos positivos')\n",
    "plt.title('Curva ROC Submuestreo LogisticRegression')\n",
    "plt.show"
   ]
  },
  {
   "cell_type": "markdown",
   "metadata": {},
   "source": [
    "LogisticRegression con submuestreo, no muestra mayor confiabilidad que con sobremuestreo. "
   ]
  },
  {
   "cell_type": "markdown",
   "metadata": {},
   "source": [
    "## Modelo a usar: DecisionTreeClassifier con sobremuestreo   \n",
    "Ahora usamos los datos de prueba para ver efectividad del modelo y brindar predicciones confiables."
   ]
  },
  {
   "cell_type": "code",
   "execution_count": 28,
   "metadata": {
    "scrolled": true
   },
   "outputs": [
    {
     "name": "stdout",
     "output_type": "stream",
     "text": [
      "La precisión de este modelo es 0.7735\n",
      "El valor de F1 es 0.5907859078590786\n",
      "AUC-ROC es 0.8350412627610839\n"
     ]
    },
    {
     "data": {
      "text/plain": [
       "<function matplotlib.pyplot.show(close=None, block=None)>"
      ]
     },
     "execution_count": 28,
     "metadata": {},
     "output_type": "execute_result"
    },
    {
     "data": {
      "image/png": "[encoded data removed]",
      "text/plain": [
       "<Figure size 640x480 with 1 Axes>"
      ]
     },
     "metadata": {},
     "output_type": "display_data"
    }
   ],
   "source": [
    "model_decision_final = DecisionTreeClassifier(random_state=12345, max_depth=4)\n",
    "model_decision_final.fit(sobremuestra_ent, sobremuestra_obj)\n",
    "\n",
    "predicted_val_final = model_decision_final.predict(x_prueba)\n",
    "\n",
    "y_scores_final = model_decision_final.predict_proba(x_prueba)[:, 1]\n",
    "fpr, tpr, thresholds = roc_curve(y_prueba, y_scores_final)\n",
    "auc_roc_final = roc_auc_score(y_prueba, y_scores_final)\n",
    "\n",
    "print('La precisión de este modelo es', accuracy_score(y_prueba, predicted_val_final))\n",
    "print('El valor de F1 es', f1_score(y_prueba, predicted_val_final))\n",
    "print('AUC-ROC es', auc_roc_final)\n",
    "\n",
    "plt.figure()\n",
    "plt.plot(fpr, tpr)\n",
    "plt.plot([0, 1], [0, 1])\n",
    "plt.xlabel('Falsos positivos')\n",
    "plt.ylabel('verdaderos positivos')\n",
    "plt.title('Curva ROC sobremuestreo DecisiontreeClassifier')\n",
    "plt.show"
   ]
  },
  {
   "cell_type": "markdown",
   "metadata": {},
   "source": [
    "## Conclusión"
   ]
  },
  {
   "cell_type": "markdown",
   "metadata": {},
   "source": [
    "El modelo entrenado nos permite identificar y cuantificar la probabilidad de que los clientes abandonen el banco.   \n",
    "La precisión del modelo es del 77%, dicho porcentaje es de los casos predichos correctamente. El valor AUC-ROC es de .835, lo que quiere decir que puede diferenciar eficientemente a los clientes que se van y a los que se quedan. Finalmente, el valor de F1 nos permite saber que el modelo tiene una capacidad decente para identificar correctamente a los clientes que probablemente se irían.   \n",
    "Este modelo podría ser una herramienta que permita tomar decisiones estratégicas: una vez que se han identificado a los clientes de alto riesgo de abandono, se pueden generar programas de fidelidad, ofertas personalizadas o intervenciones para mejorar su experiencia con el banco y evitar su abandono. "
   ]
  },
  {
   "cell_type": "code",
   "execution_count": 29,
   "metadata": {},
   "outputs": [
    {
     "name": "stdout",
     "output_type": "stream",
     "text": [
      "Porcentaje de clientes que se irían según el modelo es de: 34.0\n"
     ]
    }
   ],
   "source": [
    "se_van = sum(predicted_val_final ==1)\n",
    "total_clientes = len(predicted_val_final)\n",
    "porcentaje = se_van/total_clientes\n",
    "\n",
    "print('Porcentaje de clientes que se irían según el modelo es de:', porcentaje * 100)"
   ]
  },
  {
   "cell_type": "markdown",
   "metadata": {},
   "source": [
    "Lo que sería óptimo de llevarse a cabo sería detectar los factores que afectan a los clientes y los motivarían a abandonar el banco, y llevar a cabo acciones precisas e individuales para evitar su salida. "
   ]
  },
  {
   "cell_type": "markdown",
   "metadata": {},
   "source": [
    "<div class=\"alert alert-block alert-success\">\n",
    "<b>Comentario del revisor (1ra Iteracion)</b> <a class=“tocSkip”></a>\n",
    "\n",
    "Te felicito por el trabajo realizado Sergio, se nota que conoces las métricas de evaluación y planteas conclusiones muy acertadas en cuanto a los resultados. Es importante siempre en un problema de ML identificar el balance entre las clases de tu variable objetivo para poder escoger la métrica correcta ya que para datasets desbalanceados la métrica de accuracy suele presentar buenos valores pero en realidad las predicciones no son buenas y es por la forma en cómo se calcula esta métrica que puede llevar a interpretaciones erroneas en cambio el f1-score es la ideal para este tipo de casos ya que maneja mejor este tipo de problemas.\n",
    "    \n",
    "    \n",
    "Saludos!\n",
    "</div>"
   ]
  }
 ],
 "metadata": {
  "ExecuteTimeLog": [
   {
    "duration": 1009,
    "start_time": "2025-04-15T20:54:04.467Z"
   },
   {
    "duration": 15,
    "start_time": "2025-04-15T20:54:36.976Z"
   },
   {
    "duration": 9,
    "start_time": "2025-04-15T20:54:43.767Z"
   },
   {
    "duration": 53,
    "start_time": "2025-04-15T20:56:07.772Z"
   },
   {
    "duration": 16,
    "start_time": "2025-04-15T20:56:19.766Z"
   },
   {
    "duration": 11,
    "start_time": "2025-04-15T20:56:33.332Z"
   },
   {
    "duration": 136,
    "start_time": "2025-04-15T20:58:35.682Z"
   },
   {
    "duration": 11,
    "start_time": "2025-04-15T20:58:38.976Z"
   },
   {
    "duration": 107,
    "start_time": "2025-04-15T20:59:13.758Z"
   },
   {
    "duration": 11,
    "start_time": "2025-04-15T20:59:14.387Z"
   },
   {
    "duration": 14,
    "start_time": "2025-04-15T20:59:36.401Z"
   },
   {
    "duration": 10,
    "start_time": "2025-04-15T20:59:40.975Z"
   },
   {
    "duration": 6,
    "start_time": "2025-04-15T21:01:02.039Z"
   },
   {
    "duration": 79,
    "start_time": "2025-04-15T21:03:18.639Z"
   },
   {
    "duration": 4,
    "start_time": "2025-04-15T21:03:24.616Z"
   },
   {
    "duration": 3,
    "start_time": "2025-04-15T21:03:40.703Z"
   },
   {
    "duration": 51,
    "start_time": "2025-04-15T21:08:33.434Z"
   },
   {
    "duration": 171,
    "start_time": "2025-04-15T21:08:40.091Z"
   },
   {
    "duration": 49,
    "start_time": "2025-04-15T21:08:57.294Z"
   },
   {
    "duration": 68,
    "start_time": "2025-04-15T21:09:01.061Z"
   },
   {
    "duration": 279,
    "start_time": "2025-04-15T21:12:51.158Z"
   },
   {
    "duration": 14,
    "start_time": "2025-04-15T21:13:21.674Z"
   },
   {
    "duration": 7,
    "start_time": "2025-04-15T21:14:04.968Z"
   },
   {
    "duration": 21,
    "start_time": "2025-04-15T21:14:06.873Z"
   },
   {
    "duration": 9,
    "start_time": "2025-04-15T21:14:16.528Z"
   },
   {
    "duration": 4,
    "start_time": "2025-04-15T21:16:26.897Z"
   },
   {
    "duration": 15,
    "start_time": "2025-04-15T21:16:32.875Z"
   },
   {
    "duration": 12,
    "start_time": "2025-04-15T21:17:02.523Z"
   },
   {
    "duration": 752,
    "start_time": "2025-04-15T21:17:13.476Z"
   },
   {
    "duration": 16,
    "start_time": "2025-04-15T21:17:14.230Z"
   },
   {
    "duration": 10,
    "start_time": "2025-04-15T21:17:14.247Z"
   },
   {
    "duration": 22,
    "start_time": "2025-04-15T21:17:14.259Z"
   },
   {
    "duration": 9,
    "start_time": "2025-04-15T21:17:14.283Z"
   },
   {
    "duration": 4,
    "start_time": "2025-04-15T21:17:34.908Z"
   },
   {
    "duration": 10,
    "start_time": "2025-04-15T21:17:38.922Z"
   },
   {
    "duration": 744,
    "start_time": "2025-04-15T21:18:09.690Z"
   },
   {
    "duration": 15,
    "start_time": "2025-04-15T21:18:10.436Z"
   },
   {
    "duration": 10,
    "start_time": "2025-04-15T21:18:10.453Z"
   },
   {
    "duration": 22,
    "start_time": "2025-04-15T21:18:10.464Z"
   },
   {
    "duration": 29,
    "start_time": "2025-04-15T21:18:10.488Z"
   },
   {
    "duration": 4,
    "start_time": "2025-04-15T21:19:13.185Z"
   },
   {
    "duration": 9,
    "start_time": "2025-04-15T21:19:18.888Z"
   },
   {
    "duration": 874,
    "start_time": "2025-04-16T17:59:34.011Z"
   },
   {
    "duration": 22,
    "start_time": "2025-04-16T17:59:34.887Z"
   },
   {
    "duration": 11,
    "start_time": "2025-04-16T17:59:34.911Z"
   },
   {
    "duration": 22,
    "start_time": "2025-04-16T17:59:34.923Z"
   },
   {
    "duration": 9,
    "start_time": "2025-04-16T17:59:34.947Z"
   },
   {
    "duration": 3,
    "start_time": "2025-04-16T17:59:34.958Z"
   },
   {
    "duration": 31,
    "start_time": "2025-04-16T17:59:34.963Z"
   },
   {
    "duration": 3,
    "start_time": "2025-04-16T18:00:21.535Z"
   },
   {
    "duration": 4,
    "start_time": "2025-04-16T18:00:52.007Z"
   },
   {
    "duration": 8,
    "start_time": "2025-04-16T18:07:42.181Z"
   },
   {
    "duration": 15,
    "start_time": "2025-04-16T18:08:39.882Z"
   },
   {
    "duration": 3,
    "start_time": "2025-04-16T18:08:54.592Z"
   },
   {
    "duration": 5,
    "start_time": "2025-04-16T18:10:20.043Z"
   },
   {
    "duration": 3,
    "start_time": "2025-04-16T18:11:17.612Z"
   },
   {
    "duration": 5,
    "start_time": "2025-04-16T18:11:54.236Z"
   },
   {
    "duration": 3,
    "start_time": "2025-04-16T18:11:54.690Z"
   },
   {
    "duration": 328,
    "start_time": "2025-04-16T18:19:40.474Z"
   },
   {
    "duration": 957,
    "start_time": "2025-04-16T18:20:06.714Z"
   },
   {
    "duration": 17,
    "start_time": "2025-04-16T18:20:07.673Z"
   },
   {
    "duration": 11,
    "start_time": "2025-04-16T18:20:07.691Z"
   },
   {
    "duration": 21,
    "start_time": "2025-04-16T18:20:07.704Z"
   },
   {
    "duration": 10,
    "start_time": "2025-04-16T18:20:07.728Z"
   },
   {
    "duration": 4,
    "start_time": "2025-04-16T18:20:07.739Z"
   },
   {
    "duration": 2,
    "start_time": "2025-04-16T18:20:07.745Z"
   },
   {
    "duration": 7,
    "start_time": "2025-04-16T18:20:07.749Z"
   },
   {
    "duration": 3,
    "start_time": "2025-04-16T18:20:07.786Z"
   },
   {
    "duration": 5,
    "start_time": "2025-04-16T18:20:07.793Z"
   },
   {
    "duration": 3,
    "start_time": "2025-04-16T18:20:07.800Z"
   },
   {
    "duration": 465,
    "start_time": "2025-04-16T18:20:07.806Z"
   },
   {
    "duration": 55,
    "start_time": "2025-04-16T18:20:44.815Z"
   },
   {
    "duration": 54,
    "start_time": "2025-04-16T18:20:51.952Z"
   },
   {
    "duration": 55,
    "start_time": "2025-04-16T18:20:56.589Z"
   },
   {
    "duration": 52,
    "start_time": "2025-04-16T18:21:05.801Z"
   },
   {
    "duration": 47,
    "start_time": "2025-04-16T18:26:26.534Z"
   },
   {
    "duration": 48,
    "start_time": "2025-04-16T18:51:44.972Z"
   },
   {
    "duration": 6,
    "start_time": "2025-04-16T18:55:19.208Z"
   },
   {
    "duration": 5,
    "start_time": "2025-04-16T18:56:30.058Z"
   },
   {
    "duration": 53,
    "start_time": "2025-04-16T18:56:52.138Z"
   },
   {
    "duration": 54,
    "start_time": "2025-04-16T19:09:48.508Z"
   },
   {
    "duration": 27,
    "start_time": "2025-04-16T19:10:21.050Z"
   },
   {
    "duration": 15,
    "start_time": "2025-04-16T19:21:29.314Z"
   },
   {
    "duration": 17,
    "start_time": "2025-04-16T19:21:36.659Z"
   },
   {
    "duration": 29,
    "start_time": "2025-04-16T19:21:42.554Z"
   },
   {
    "duration": 94,
    "start_time": "2025-04-16T19:21:54.596Z"
   },
   {
    "duration": 14,
    "start_time": "2025-04-16T19:24:10.966Z"
   },
   {
    "duration": 4,
    "start_time": "2025-04-16T19:24:36.993Z"
   },
   {
    "duration": 17,
    "start_time": "2025-04-16T19:32:53.092Z"
   },
   {
    "duration": 5,
    "start_time": "2025-04-16T19:32:55.841Z"
   },
   {
    "duration": 10,
    "start_time": "2025-04-16T19:33:04.974Z"
   },
   {
    "duration": 8,
    "start_time": "2025-04-16T19:33:59.557Z"
   },
   {
    "duration": 6,
    "start_time": "2025-04-16T19:34:12.579Z"
   },
   {
    "duration": 7,
    "start_time": "2025-04-16T19:34:18.741Z"
   },
   {
    "duration": 19,
    "start_time": "2025-04-16T19:40:34.169Z"
   },
   {
    "duration": 20,
    "start_time": "2025-04-16T19:45:01.959Z"
   },
   {
    "duration": 15,
    "start_time": "2025-04-16T19:45:13.726Z"
   },
   {
    "duration": 8,
    "start_time": "2025-04-16T19:45:36.746Z"
   },
   {
    "duration": 475,
    "start_time": "2025-04-16T19:49:41.857Z"
   },
   {
    "duration": 54,
    "start_time": "2025-04-16T19:49:54.402Z"
   },
   {
    "duration": 47,
    "start_time": "2025-04-16T19:49:59.036Z"
   },
   {
    "duration": 61,
    "start_time": "2025-04-16T19:50:03.362Z"
   },
   {
    "duration": 5,
    "start_time": "2025-04-16T19:50:54.435Z"
   },
   {
    "duration": 19,
    "start_time": "2025-04-16T20:03:01.509Z"
   },
   {
    "duration": 11,
    "start_time": "2025-04-16T20:15:21.540Z"
   },
   {
    "duration": 56,
    "start_time": "2025-04-16T21:05:04.432Z"
   },
   {
    "duration": 56,
    "start_time": "2025-04-16T21:05:35.087Z"
   },
   {
    "duration": 59,
    "start_time": "2025-04-16T21:06:38.115Z"
   },
   {
    "duration": 951,
    "start_time": "2025-04-16T21:07:15.704Z"
   },
   {
    "duration": 16,
    "start_time": "2025-04-16T21:07:16.657Z"
   },
   {
    "duration": 17,
    "start_time": "2025-04-16T21:07:16.675Z"
   },
   {
    "duration": 22,
    "start_time": "2025-04-16T21:07:16.693Z"
   },
   {
    "duration": 9,
    "start_time": "2025-04-16T21:07:16.718Z"
   },
   {
    "duration": 4,
    "start_time": "2025-04-16T21:07:16.728Z"
   },
   {
    "duration": 3,
    "start_time": "2025-04-16T21:07:16.734Z"
   },
   {
    "duration": 6,
    "start_time": "2025-04-16T21:07:16.739Z"
   },
   {
    "duration": 3,
    "start_time": "2025-04-16T21:07:16.747Z"
   },
   {
    "duration": 39,
    "start_time": "2025-04-16T21:07:16.752Z"
   },
   {
    "duration": 4,
    "start_time": "2025-04-16T21:07:16.794Z"
   },
   {
    "duration": 285,
    "start_time": "2025-04-16T21:07:16.801Z"
   },
   {
    "duration": 0,
    "start_time": "2025-04-16T21:07:17.089Z"
   },
   {
    "duration": 0,
    "start_time": "2025-04-16T21:07:17.090Z"
   },
   {
    "duration": 0,
    "start_time": "2025-04-16T21:07:17.091Z"
   },
   {
    "duration": 0,
    "start_time": "2025-04-16T21:07:17.092Z"
   },
   {
    "duration": 0,
    "start_time": "2025-04-16T21:07:17.093Z"
   },
   {
    "duration": 0,
    "start_time": "2025-04-16T21:07:17.094Z"
   },
   {
    "duration": 0,
    "start_time": "2025-04-16T21:07:17.094Z"
   },
   {
    "duration": 0,
    "start_time": "2025-04-16T21:07:17.095Z"
   },
   {
    "duration": 0,
    "start_time": "2025-04-16T21:07:17.097Z"
   },
   {
    "duration": 819,
    "start_time": "2025-04-16T21:07:41.181Z"
   },
   {
    "duration": 16,
    "start_time": "2025-04-16T21:07:42.002Z"
   },
   {
    "duration": 10,
    "start_time": "2025-04-16T21:07:42.020Z"
   },
   {
    "duration": 21,
    "start_time": "2025-04-16T21:07:42.032Z"
   },
   {
    "duration": 30,
    "start_time": "2025-04-16T21:07:42.057Z"
   },
   {
    "duration": 4,
    "start_time": "2025-04-16T21:07:42.089Z"
   },
   {
    "duration": 7,
    "start_time": "2025-04-16T21:07:42.095Z"
   },
   {
    "duration": 7,
    "start_time": "2025-04-16T21:07:42.104Z"
   },
   {
    "duration": 4,
    "start_time": "2025-04-16T21:07:42.113Z"
   },
   {
    "duration": 4,
    "start_time": "2025-04-16T21:07:42.119Z"
   },
   {
    "duration": 3,
    "start_time": "2025-04-16T21:07:42.125Z"
   },
   {
    "duration": 78,
    "start_time": "2025-04-16T21:07:42.130Z"
   },
   {
    "duration": 20,
    "start_time": "2025-04-16T21:07:42.210Z"
   },
   {
    "duration": 61,
    "start_time": "2025-04-16T21:07:42.234Z"
   },
   {
    "duration": 14,
    "start_time": "2025-04-16T21:07:42.297Z"
   },
   {
    "duration": 17,
    "start_time": "2025-04-16T21:07:42.386Z"
   },
   {
    "duration": 7,
    "start_time": "2025-04-16T21:07:42.405Z"
   },
   {
    "duration": 5,
    "start_time": "2025-04-16T21:07:42.414Z"
   },
   {
    "duration": 12,
    "start_time": "2025-04-16T21:07:42.421Z"
   },
   {
    "duration": 9,
    "start_time": "2025-04-16T21:07:42.435Z"
   },
   {
    "duration": 288,
    "start_time": "2025-04-16T21:07:42.445Z"
   },
   {
    "duration": 3,
    "start_time": "2025-04-16T21:07:56.530Z"
   },
   {
    "duration": 59,
    "start_time": "2025-04-16T21:08:00.363Z"
   },
   {
    "duration": 59,
    "start_time": "2025-04-16T21:08:19.708Z"
   },
   {
    "duration": 1896,
    "start_time": "2025-04-16T21:09:06.934Z"
   },
   {
    "duration": 163,
    "start_time": "2025-04-16T21:09:10.581Z"
   },
   {
    "duration": 6,
    "start_time": "2025-04-16T21:14:36.060Z"
   },
   {
    "duration": 176,
    "start_time": "2025-04-16T21:14:45.852Z"
   },
   {
    "duration": 16,
    "start_time": "2025-04-16T21:16:53.105Z"
   },
   {
    "duration": 1034,
    "start_time": "2025-04-16T21:17:01.691Z"
   },
   {
    "duration": 17,
    "start_time": "2025-04-16T21:17:02.729Z"
   },
   {
    "duration": 14,
    "start_time": "2025-04-16T21:17:02.748Z"
   },
   {
    "duration": 42,
    "start_time": "2025-04-16T21:17:02.764Z"
   },
   {
    "duration": 11,
    "start_time": "2025-04-16T21:17:02.810Z"
   },
   {
    "duration": 5,
    "start_time": "2025-04-16T21:17:02.823Z"
   },
   {
    "duration": 5,
    "start_time": "2025-04-16T21:17:02.829Z"
   },
   {
    "duration": 9,
    "start_time": "2025-04-16T21:17:02.836Z"
   },
   {
    "duration": 84,
    "start_time": "2025-04-16T21:17:02.847Z"
   },
   {
    "duration": 6,
    "start_time": "2025-04-16T21:17:02.935Z"
   },
   {
    "duration": 4,
    "start_time": "2025-04-16T21:17:02.943Z"
   },
   {
    "duration": 70,
    "start_time": "2025-04-16T21:17:02.948Z"
   },
   {
    "duration": 77,
    "start_time": "2025-04-16T21:17:03.020Z"
   },
   {
    "duration": 80,
    "start_time": "2025-04-16T21:17:03.106Z"
   },
   {
    "duration": 10,
    "start_time": "2025-04-16T21:17:03.188Z"
   },
   {
    "duration": 16,
    "start_time": "2025-04-16T21:17:03.201Z"
   },
   {
    "duration": 10,
    "start_time": "2025-04-16T21:17:03.220Z"
   },
   {
    "duration": 6,
    "start_time": "2025-04-16T21:17:03.232Z"
   },
   {
    "duration": 12,
    "start_time": "2025-04-16T21:17:03.239Z"
   },
   {
    "duration": 45,
    "start_time": "2025-04-16T21:17:03.252Z"
   },
   {
    "duration": 177,
    "start_time": "2025-04-16T21:17:03.299Z"
   },
   {
    "duration": 177,
    "start_time": "2025-04-16T21:17:03.478Z"
   },
   {
    "duration": 206,
    "start_time": "2025-04-16T21:18:17.955Z"
   },
   {
    "duration": 13,
    "start_time": "2025-04-16T21:19:01.825Z"
   },
   {
    "duration": 248,
    "start_time": "2025-04-16T21:20:11.604Z"
   },
   {
    "duration": 118,
    "start_time": "2025-04-16T21:20:19.418Z"
   },
   {
    "duration": 16,
    "start_time": "2025-04-16T21:27:10.251Z"
   },
   {
    "duration": 259,
    "start_time": "2025-04-16T21:28:48.697Z"
   },
   {
    "duration": 266,
    "start_time": "2025-04-16T21:31:39.685Z"
   },
   {
    "duration": 34,
    "start_time": "2025-04-16T21:34:01.869Z"
   },
   {
    "duration": 227,
    "start_time": "2025-04-16T21:34:12.325Z"
   },
   {
    "duration": 3,
    "start_time": "2025-04-16T21:34:56.737Z"
   },
   {
    "duration": 107,
    "start_time": "2025-04-16T21:47:28.018Z"
   },
   {
    "duration": 25,
    "start_time": "2025-04-16T21:47:44.979Z"
   },
   {
    "duration": 229,
    "start_time": "2025-04-16T21:47:55.777Z"
   },
   {
    "duration": 622,
    "start_time": "2025-04-16T21:48:04.210Z"
   },
   {
    "duration": 625,
    "start_time": "2025-04-16T21:48:24.904Z"
   },
   {
    "duration": 134,
    "start_time": "2025-04-16T21:48:55.445Z"
   },
   {
    "duration": 138,
    "start_time": "2025-04-16T21:49:39.664Z"
   },
   {
    "duration": 135,
    "start_time": "2025-04-16T21:52:32.005Z"
   },
   {
    "duration": 157,
    "start_time": "2025-04-16T22:00:21.888Z"
   },
   {
    "duration": 1097,
    "start_time": "2025-04-16T22:01:48.684Z"
   },
   {
    "duration": 20,
    "start_time": "2025-04-16T22:01:49.784Z"
   },
   {
    "duration": 12,
    "start_time": "2025-04-16T22:01:49.806Z"
   },
   {
    "duration": 24,
    "start_time": "2025-04-16T22:01:49.820Z"
   },
   {
    "duration": 10,
    "start_time": "2025-04-16T22:01:49.846Z"
   },
   {
    "duration": 30,
    "start_time": "2025-04-16T22:01:49.857Z"
   },
   {
    "duration": 5,
    "start_time": "2025-04-16T22:01:49.889Z"
   },
   {
    "duration": 9,
    "start_time": "2025-04-16T22:01:49.895Z"
   },
   {
    "duration": 3,
    "start_time": "2025-04-16T22:01:49.906Z"
   },
   {
    "duration": 8,
    "start_time": "2025-04-16T22:01:50.001Z"
   },
   {
    "duration": 5,
    "start_time": "2025-04-16T22:01:50.011Z"
   },
   {
    "duration": 51,
    "start_time": "2025-04-16T22:01:50.018Z"
   },
   {
    "duration": 23,
    "start_time": "2025-04-16T22:01:50.092Z"
   },
   {
    "duration": 76,
    "start_time": "2025-04-16T22:01:50.118Z"
   },
   {
    "duration": 10,
    "start_time": "2025-04-16T22:01:50.197Z"
   },
   {
    "duration": 15,
    "start_time": "2025-04-16T22:01:50.208Z"
   },
   {
    "duration": 7,
    "start_time": "2025-04-16T22:01:50.225Z"
   },
   {
    "duration": 7,
    "start_time": "2025-04-16T22:01:50.288Z"
   },
   {
    "duration": 13,
    "start_time": "2025-04-16T22:01:50.297Z"
   },
   {
    "duration": 10,
    "start_time": "2025-04-16T22:01:50.312Z"
   },
   {
    "duration": 674,
    "start_time": "2025-04-16T22:01:50.324Z"
   },
   {
    "duration": 166,
    "start_time": "2025-04-16T22:01:51.000Z"
   },
   {
    "duration": 163,
    "start_time": "2025-04-16T22:01:51.168Z"
   },
   {
    "duration": 150,
    "start_time": "2025-04-16T22:01:51.333Z"
   },
   {
    "duration": 244,
    "start_time": "2025-04-16T22:01:51.487Z"
   },
   {
    "duration": 235,
    "start_time": "2025-04-16T22:01:51.732Z"
   },
   {
    "duration": 221,
    "start_time": "2025-04-16T22:01:51.969Z"
   },
   {
    "duration": 165,
    "start_time": "2025-04-16T22:01:52.195Z"
   },
   {
    "duration": 239,
    "start_time": "2025-04-16T22:03:01.571Z"
   },
   {
    "duration": 947,
    "start_time": "2025-04-16T22:03:15.651Z"
   },
   {
    "duration": 18,
    "start_time": "2025-04-16T22:03:16.601Z"
   },
   {
    "duration": 12,
    "start_time": "2025-04-16T22:03:16.621Z"
   },
   {
    "duration": 25,
    "start_time": "2025-04-16T22:03:16.637Z"
   },
   {
    "duration": 31,
    "start_time": "2025-04-16T22:03:16.664Z"
   },
   {
    "duration": 6,
    "start_time": "2025-04-16T22:03:16.697Z"
   },
   {
    "duration": 4,
    "start_time": "2025-04-16T22:03:16.705Z"
   },
   {
    "duration": 9,
    "start_time": "2025-04-16T22:03:16.711Z"
   },
   {
    "duration": 5,
    "start_time": "2025-04-16T22:03:16.722Z"
   },
   {
    "duration": 6,
    "start_time": "2025-04-16T22:03:16.823Z"
   },
   {
    "duration": 9,
    "start_time": "2025-04-16T22:03:16.832Z"
   },
   {
    "duration": 59,
    "start_time": "2025-04-16T22:03:16.844Z"
   },
   {
    "duration": 22,
    "start_time": "2025-04-16T22:03:16.905Z"
   },
   {
    "duration": 68,
    "start_time": "2025-04-16T22:03:16.930Z"
   },
   {
    "duration": 10,
    "start_time": "2025-04-16T22:03:17.002Z"
   },
   {
    "duration": 16,
    "start_time": "2025-04-16T22:03:17.087Z"
   },
   {
    "duration": 8,
    "start_time": "2025-04-16T22:03:17.105Z"
   },
   {
    "duration": 5,
    "start_time": "2025-04-16T22:03:17.114Z"
   },
   {
    "duration": 13,
    "start_time": "2025-04-16T22:03:17.121Z"
   },
   {
    "duration": 10,
    "start_time": "2025-04-16T22:03:17.136Z"
   },
   {
    "duration": 669,
    "start_time": "2025-04-16T22:03:17.147Z"
   },
   {
    "duration": 170,
    "start_time": "2025-04-16T22:03:17.819Z"
   },
   {
    "duration": 182,
    "start_time": "2025-04-16T22:03:17.993Z"
   },
   {
    "duration": 134,
    "start_time": "2025-04-16T22:03:18.177Z"
   },
   {
    "duration": 253,
    "start_time": "2025-04-16T22:03:18.313Z"
   },
   {
    "duration": 274,
    "start_time": "2025-04-16T22:03:18.569Z"
   },
   {
    "duration": 227,
    "start_time": "2025-04-16T22:03:18.846Z"
   },
   {
    "duration": 155,
    "start_time": "2025-04-16T22:03:19.076Z"
   },
   {
    "duration": 1030,
    "start_time": "2025-04-16T22:04:00.032Z"
   },
   {
    "duration": 39,
    "start_time": "2025-04-16T22:04:01.064Z"
   },
   {
    "duration": 12,
    "start_time": "2025-04-16T22:04:01.105Z"
   },
   {
    "duration": 22,
    "start_time": "2025-04-16T22:04:01.119Z"
   },
   {
    "duration": 9,
    "start_time": "2025-04-16T22:04:01.144Z"
   },
   {
    "duration": 4,
    "start_time": "2025-04-16T22:04:01.155Z"
   },
   {
    "duration": 28,
    "start_time": "2025-04-16T22:04:01.161Z"
   },
   {
    "duration": 8,
    "start_time": "2025-04-16T22:04:01.193Z"
   },
   {
    "duration": 65,
    "start_time": "2025-04-16T22:04:01.202Z"
   },
   {
    "duration": 21,
    "start_time": "2025-04-16T22:04:01.269Z"
   },
   {
    "duration": 3,
    "start_time": "2025-04-16T22:04:01.294Z"
   },
   {
    "duration": 49,
    "start_time": "2025-04-16T22:04:01.300Z"
   },
   {
    "duration": 43,
    "start_time": "2025-04-16T22:04:01.351Z"
   },
   {
    "duration": 7,
    "start_time": "2025-04-16T22:04:01.398Z"
   },
   {
    "duration": 80,
    "start_time": "2025-04-16T22:04:01.407Z"
   },
   {
    "duration": 14,
    "start_time": "2025-04-16T22:04:01.489Z"
   },
   {
    "duration": 7,
    "start_time": "2025-04-16T22:04:01.505Z"
   },
   {
    "duration": 5,
    "start_time": "2025-04-16T22:04:01.514Z"
   },
   {
    "duration": 12,
    "start_time": "2025-04-16T22:04:01.521Z"
   },
   {
    "duration": 11,
    "start_time": "2025-04-16T22:04:01.534Z"
   },
   {
    "duration": 669,
    "start_time": "2025-04-16T22:04:01.546Z"
   },
   {
    "duration": 157,
    "start_time": "2025-04-16T22:04:02.217Z"
   },
   {
    "duration": 155,
    "start_time": "2025-04-16T22:04:02.376Z"
   },
   {
    "duration": 135,
    "start_time": "2025-04-16T22:04:02.532Z"
   },
   {
    "duration": 220,
    "start_time": "2025-04-16T22:04:02.669Z"
   },
   {
    "duration": 260,
    "start_time": "2025-04-16T22:04:02.891Z"
   },
   {
    "duration": 220,
    "start_time": "2025-04-16T22:04:03.153Z"
   },
   {
    "duration": 161,
    "start_time": "2025-04-16T22:04:03.375Z"
   },
   {
    "duration": 147,
    "start_time": "2025-04-16T22:04:21.392Z"
   },
   {
    "duration": 138,
    "start_time": "2025-04-16T22:04:25.864Z"
   },
   {
    "duration": 144,
    "start_time": "2025-04-16T22:04:30.420Z"
   },
   {
    "duration": 129,
    "start_time": "2025-04-16T22:04:45.405Z"
   },
   {
    "duration": 135,
    "start_time": "2025-04-16T22:04:49.806Z"
   },
   {
    "duration": 326,
    "start_time": "2025-04-16T22:06:03.839Z"
   },
   {
    "duration": 148,
    "start_time": "2025-04-16T22:06:10.358Z"
   },
   {
    "duration": 5,
    "start_time": "2025-04-16T22:09:24.057Z"
   },
   {
    "duration": 2,
    "start_time": "2025-04-16T22:09:58.856Z"
   },
   {
    "duration": 136,
    "start_time": "2025-04-16T22:10:28.961Z"
   },
   {
    "duration": 45,
    "start_time": "2025-04-16T22:14:46.544Z"
   },
   {
    "duration": 73,
    "start_time": "2025-04-16T22:14:53.261Z"
   },
   {
    "duration": 24,
    "start_time": "2025-04-16T22:15:47.414Z"
   },
   {
    "duration": 138,
    "start_time": "2025-04-16T22:21:33.983Z"
   },
   {
    "duration": 149,
    "start_time": "2025-04-16T22:21:53.675Z"
   },
   {
    "duration": 133,
    "start_time": "2025-04-16T22:21:57.463Z"
   },
   {
    "duration": 133,
    "start_time": "2025-04-16T22:22:02.168Z"
   },
   {
    "duration": 133,
    "start_time": "2025-04-16T22:22:05.503Z"
   },
   {
    "duration": 142,
    "start_time": "2025-04-16T22:22:08.252Z"
   },
   {
    "duration": 227,
    "start_time": "2025-04-16T22:22:14.863Z"
   },
   {
    "duration": 163,
    "start_time": "2025-04-16T22:22:26.769Z"
   },
   {
    "duration": 133,
    "start_time": "2025-04-16T22:22:45.278Z"
   },
   {
    "duration": 5,
    "start_time": "2025-04-16T22:36:21.159Z"
   },
   {
    "duration": 6,
    "start_time": "2025-04-16T22:37:03.671Z"
   },
   {
    "duration": 7,
    "start_time": "2025-04-16T22:37:15.072Z"
   },
   {
    "duration": 6,
    "start_time": "2025-04-16T22:37:32.889Z"
   },
   {
    "duration": 993,
    "start_time": "2025-04-16T22:38:26.376Z"
   },
   {
    "duration": 16,
    "start_time": "2025-04-16T22:38:27.371Z"
   },
   {
    "duration": 10,
    "start_time": "2025-04-16T22:38:27.389Z"
   },
   {
    "duration": 23,
    "start_time": "2025-04-16T22:38:27.401Z"
   },
   {
    "duration": 12,
    "start_time": "2025-04-16T22:38:27.427Z"
   },
   {
    "duration": 3,
    "start_time": "2025-04-16T22:38:27.441Z"
   },
   {
    "duration": 3,
    "start_time": "2025-04-16T22:38:27.446Z"
   },
   {
    "duration": 39,
    "start_time": "2025-04-16T22:38:27.451Z"
   },
   {
    "duration": 5,
    "start_time": "2025-04-16T22:38:27.493Z"
   },
   {
    "duration": 5,
    "start_time": "2025-04-16T22:38:27.500Z"
   },
   {
    "duration": 3,
    "start_time": "2025-04-16T22:38:27.507Z"
   },
   {
    "duration": 49,
    "start_time": "2025-04-16T22:38:27.512Z"
   },
   {
    "duration": 38,
    "start_time": "2025-04-16T22:38:27.562Z"
   },
   {
    "duration": 7,
    "start_time": "2025-04-16T22:38:27.604Z"
   },
   {
    "duration": 78,
    "start_time": "2025-04-16T22:38:27.613Z"
   },
   {
    "duration": 14,
    "start_time": "2025-04-16T22:38:27.693Z"
   },
   {
    "duration": 7,
    "start_time": "2025-04-16T22:38:27.708Z"
   },
   {
    "duration": 4,
    "start_time": "2025-04-16T22:38:27.718Z"
   },
   {
    "duration": 12,
    "start_time": "2025-04-16T22:38:27.723Z"
   },
   {
    "duration": 56,
    "start_time": "2025-04-16T22:38:27.737Z"
   },
   {
    "duration": 625,
    "start_time": "2025-04-16T22:38:27.794Z"
   },
   {
    "duration": 206,
    "start_time": "2025-04-16T22:38:28.421Z"
   },
   {
    "duration": 146,
    "start_time": "2025-04-16T22:38:28.629Z"
   },
   {
    "duration": 132,
    "start_time": "2025-04-16T22:38:28.776Z"
   },
   {
    "duration": 248,
    "start_time": "2025-04-16T22:38:28.910Z"
   },
   {
    "duration": 244,
    "start_time": "2025-04-16T22:38:29.160Z"
   },
   {
    "duration": 241,
    "start_time": "2025-04-16T22:38:29.406Z"
   },
   {
    "duration": 145,
    "start_time": "2025-04-16T22:38:29.650Z"
   },
   {
    "duration": 6,
    "start_time": "2025-04-16T22:38:29.798Z"
   },
   {
    "duration": 976,
    "start_time": "2025-04-16T22:39:22.615Z"
   },
   {
    "duration": 15,
    "start_time": "2025-04-16T22:39:23.594Z"
   },
   {
    "duration": 10,
    "start_time": "2025-04-16T22:39:23.610Z"
   },
   {
    "duration": 23,
    "start_time": "2025-04-16T22:39:23.622Z"
   },
   {
    "duration": 9,
    "start_time": "2025-04-16T22:39:23.646Z"
   },
   {
    "duration": 4,
    "start_time": "2025-04-16T22:39:23.657Z"
   },
   {
    "duration": 4,
    "start_time": "2025-04-16T22:39:23.686Z"
   },
   {
    "duration": 6,
    "start_time": "2025-04-16T22:39:23.692Z"
   },
   {
    "duration": 3,
    "start_time": "2025-04-16T22:39:23.700Z"
   },
   {
    "duration": 4,
    "start_time": "2025-04-16T22:39:23.707Z"
   },
   {
    "duration": 3,
    "start_time": "2025-04-16T22:39:23.713Z"
   },
   {
    "duration": 81,
    "start_time": "2025-04-16T22:39:23.718Z"
   },
   {
    "duration": 19,
    "start_time": "2025-04-16T22:39:23.801Z"
   },
   {
    "duration": 66,
    "start_time": "2025-04-16T22:39:23.821Z"
   },
   {
    "duration": 8,
    "start_time": "2025-04-16T22:39:23.889Z"
   },
   {
    "duration": 89,
    "start_time": "2025-04-16T22:39:23.899Z"
   },
   {
    "duration": 8,
    "start_time": "2025-04-16T22:39:23.990Z"
   },
   {
    "duration": 5,
    "start_time": "2025-04-16T22:39:24.000Z"
   },
   {
    "duration": 84,
    "start_time": "2025-04-16T22:39:24.007Z"
   },
   {
    "duration": 10,
    "start_time": "2025-04-16T22:39:24.092Z"
   },
   {
    "duration": 624,
    "start_time": "2025-04-16T22:39:24.104Z"
   },
   {
    "duration": 149,
    "start_time": "2025-04-16T22:39:24.730Z"
   },
   {
    "duration": 148,
    "start_time": "2025-04-16T22:39:24.886Z"
   },
   {
    "duration": 128,
    "start_time": "2025-04-16T22:39:25.036Z"
   },
   {
    "duration": 203,
    "start_time": "2025-04-16T22:39:25.166Z"
   },
   {
    "duration": 273,
    "start_time": "2025-04-16T22:39:25.371Z"
   },
   {
    "duration": 228,
    "start_time": "2025-04-16T22:39:25.646Z"
   },
   {
    "duration": 141,
    "start_time": "2025-04-16T22:39:25.887Z"
   },
   {
    "duration": 6,
    "start_time": "2025-04-16T22:39:26.030Z"
   },
   {
    "duration": 860,
    "start_time": "2025-04-17T02:40:10.920Z"
   },
   {
    "duration": 29,
    "start_time": "2025-04-17T02:40:11.783Z"
   },
   {
    "duration": 10,
    "start_time": "2025-04-17T02:40:11.814Z"
   },
   {
    "duration": 21,
    "start_time": "2025-04-17T02:40:11.826Z"
   },
   {
    "duration": 9,
    "start_time": "2025-04-17T02:40:11.849Z"
   },
   {
    "duration": 5,
    "start_time": "2025-04-17T02:40:11.870Z"
   },
   {
    "duration": 4,
    "start_time": "2025-04-17T02:40:11.876Z"
   },
   {
    "duration": 8,
    "start_time": "2025-04-17T02:40:11.881Z"
   },
   {
    "duration": 3,
    "start_time": "2025-04-17T02:40:11.891Z"
   },
   {
    "duration": 5,
    "start_time": "2025-04-17T02:40:11.895Z"
   },
   {
    "duration": 4,
    "start_time": "2025-04-17T02:40:11.902Z"
   },
   {
    "duration": 81,
    "start_time": "2025-04-17T02:40:11.908Z"
   },
   {
    "duration": 20,
    "start_time": "2025-04-17T02:40:11.990Z"
   },
   {
    "duration": 57,
    "start_time": "2025-04-17T02:40:12.014Z"
   },
   {
    "duration": 7,
    "start_time": "2025-04-17T02:40:12.072Z"
   },
   {
    "duration": 93,
    "start_time": "2025-04-17T02:40:12.083Z"
   },
   {
    "duration": 7,
    "start_time": "2025-04-17T02:40:12.177Z"
   },
   {
    "duration": 5,
    "start_time": "2025-04-17T02:40:12.186Z"
   },
   {
    "duration": 12,
    "start_time": "2025-04-17T02:40:12.193Z"
   },
   {
    "duration": 9,
    "start_time": "2025-04-17T02:40:12.206Z"
   },
   {
    "duration": 634,
    "start_time": "2025-04-17T02:40:12.217Z"
   },
   {
    "duration": 200,
    "start_time": "2025-04-17T02:40:12.853Z"
   },
   {
    "duration": 153,
    "start_time": "2025-04-17T02:40:13.056Z"
   },
   {
    "duration": 131,
    "start_time": "2025-04-17T02:40:13.211Z"
   },
   {
    "duration": 208,
    "start_time": "2025-04-17T02:40:13.344Z"
   },
   {
    "duration": 274,
    "start_time": "2025-04-17T02:40:13.554Z"
   },
   {
    "duration": 218,
    "start_time": "2025-04-17T02:40:13.830Z"
   },
   {
    "duration": 148,
    "start_time": "2025-04-17T02:40:14.050Z"
   },
   {
    "duration": 6,
    "start_time": "2025-04-17T02:40:14.200Z"
   }
  ],
  "kernelspec": {
   "display_name": "Python 3 (ipykernel)",
   "language": "python",
   "name": "python3"
  },
  "language_info": {
   "codemirror_mode": {
    "name": "ipython",
    "version": 3
   },
   "file_extension": ".py",
   "mimetype": "text/x-python",
   "name": "python",
   "nbconvert_exporter": "python",
   "pygments_lexer": "ipython3",
   "version": "3.9.19"
  },
  "toc": {
   "base_numbering": 1,
   "nav_menu": {},
   "number_sections": true,
   "sideBar": true,
   "skip_h1_title": true,
   "title_cell": "Table of Contents",
   "title_sidebar": "Contents",
   "toc_cell": false,
   "toc_position": {},
   "toc_section_display": true,
   "toc_window_display": false
  }
 },
 "nbformat": 4,
 "nbformat_minor": 2
}
