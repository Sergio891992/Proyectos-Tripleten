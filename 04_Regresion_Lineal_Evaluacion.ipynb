{
 "cells": [
  {
   "cell_type": "markdown",
   "metadata": {},
   "source": [
    "# Descripción del proyecto\n",
    "\n",
    "La compañía Sweet Lift Taxi ha recopilado datos históricos sobre pedidos de taxis en los aeropuertos. Para atraer a más conductores durante las horas pico, necesitamos predecir la cantidad de pedidos de taxis para la próxima hora. Construye un modelo para dicha predicción.\n",
    "\n",
    "La métrica RECM en el conjunto de prueba no debe ser superior a 48.\n",
    "\n",
    "## Instrucciones del proyecto.\n",
    "\n",
    "1. Descarga los datos y haz el remuestreo por una hora.\n",
    "2. Analiza los datos\n",
    "3. Entrena diferentes modelos con diferentes hiperparámetros. La muestra de prueba debe ser el 10% del conjunto de datos inicial.4. Prueba los datos usando la muestra de prueba y proporciona una conclusión.\n",
    "\n",
    "## Descripción de los datos\n",
    "\n",
    "Los datos se almacenan en el archivo `taxi.csv`. \t\n",
    "El número de pedidos está en la columna `num_orders`."
   ]
  },
  {
   "cell_type": "markdown",
   "metadata": {},
   "source": [
    "## Preparación"
   ]
  },
  {
   "cell_type": "code",
   "execution_count": 1,
   "metadata": {},
   "outputs": [],
   "source": [
    "import pandas as pd\n",
    "import matplotlib.pyplot as plt\n",
    "from sklearn.linear_model import LinearRegression\n",
    "from sklearn.metrics import mean_squared_error, mean_absolute_error\n",
    "from sklearn.model_selection import train_test_split, RandomizedSearchCV\n",
    "from sklearn.ensemble import RandomForestRegressor\n",
    "from sklearn.tree import DecisionTreeRegressor\n",
    "from statsmodels.tsa.seasonal import seasonal_decompose"
   ]
  },
  {
   "cell_type": "code",
   "execution_count": 2,
   "metadata": {},
   "outputs": [],
   "source": [
    "df = pd.read_csv('/datasets/taxi.csv', index_col=[0], parse_dates=[0])\n",
    "df.sort_index(inplace=True)"
   ]
  },
  {
   "cell_type": "markdown",
   "metadata": {},
   "source": [
    "<div class=\"alert alert-block alert-success\">\n",
    "<b>Comentario del revisor</b> <a class=\"tocSkip\"></a>\n",
    "\n",
    "Bien, usaste una celda independiente para importar las librerías y otra para leer los datos.\n",
    "</div>"
   ]
  },
  {
   "cell_type": "code",
   "execution_count": 3,
   "metadata": {},
   "outputs": [
    {
     "name": "stdout",
     "output_type": "stream",
     "text": [
      "<class 'pandas.core.frame.DataFrame'>\n",
      "DatetimeIndex: 26496 entries, 2018-03-01 00:00:00 to 2018-08-31 23:50:00\n",
      "Data columns (total 1 columns):\n",
      " #   Column      Non-Null Count  Dtype\n",
      "---  ------      --------------  -----\n",
      " 0   num_orders  26496 non-null  int64\n",
      "dtypes: int64(1)\n",
      "memory usage: 414.0 KB\n"
     ]
    }
   ],
   "source": [
    "df.info()"
   ]
  },
  {
   "cell_type": "code",
   "execution_count": 4,
   "metadata": {},
   "outputs": [
    {
     "name": "stdout",
     "output_type": "stream",
     "text": [
      "0\n",
      "0\n"
     ]
    }
   ],
   "source": [
    "df_dup = df.index.duplicated().sum()\n",
    "df_fal = df.index.isna().sum()\n",
    "\n",
    "print(df_dup)\n",
    "print(df_fal)"
   ]
  },
  {
   "cell_type": "markdown",
   "metadata": {},
   "source": [
    "<div class=\"alert alert-block alert-success\">\n",
    "<b>Comentario del revisor</b> <a class=\"tocSkip\"></a>\n",
    "\n",
    "Buen uso de los métodos de pandas para explorar los datos.\n",
    "</div>"
   ]
  },
  {
   "cell_type": "code",
   "execution_count": 5,
   "metadata": {},
   "outputs": [
    {
     "name": "stdout",
     "output_type": "stream",
     "text": [
      "DatetimeIndex(['2018-03-01 00:50:00', '2018-03-01 01:00:00',\n",
      "               '2018-03-01 01:10:00', '2018-03-01 01:20:00',\n",
      "               '2018-03-01 01:30:00', '2018-03-01 01:40:00',\n",
      "               '2018-03-01 01:50:00', '2018-03-01 02:00:00',\n",
      "               '2018-03-01 02:10:00', '2018-03-01 02:20:00',\n",
      "               ...\n",
      "               '2018-08-31 22:20:00', '2018-08-31 22:30:00',\n",
      "               '2018-08-31 22:40:00', '2018-08-31 22:50:00',\n",
      "               '2018-08-31 23:00:00', '2018-08-31 23:10:00',\n",
      "               '2018-08-31 23:20:00', '2018-08-31 23:30:00',\n",
      "               '2018-08-31 23:40:00', '2018-08-31 23:50:00'],\n",
      "              dtype='datetime64[ns]', name='datetime', length=26491, freq=None)\n"
     ]
    }
   ],
   "source": [
    "print(df.index[5:])"
   ]
  },
  {
   "cell_type": "code",
   "execution_count": 6,
   "metadata": {},
   "outputs": [],
   "source": [
    "df = df.resample('1H').sum()"
   ]
  },
  {
   "cell_type": "code",
   "execution_count": 7,
   "metadata": {},
   "outputs": [
    {
     "name": "stdout",
     "output_type": "stream",
     "text": [
      "DatetimeIndex(['2018-03-01 00:00:00', '2018-03-01 01:00:00',\n",
      "               '2018-03-01 02:00:00', '2018-03-01 03:00:00',\n",
      "               '2018-03-01 04:00:00', '2018-03-01 05:00:00',\n",
      "               '2018-03-01 06:00:00', '2018-03-01 07:00:00',\n",
      "               '2018-03-01 08:00:00', '2018-03-01 09:00:00'],\n",
      "              dtype='datetime64[ns]', name='datetime', freq='H')\n"
     ]
    }
   ],
   "source": [
    "print(df.index[:10])"
   ]
  },
  {
   "cell_type": "markdown",
   "metadata": {},
   "source": [
    "Dado que no había datos faltantes ni duplicados, se procedió al espaciado de datos por cada hora. A continuación, el análisis de los datos. "
   ]
  },
  {
   "cell_type": "code",
   "execution_count": 8,
   "metadata": {},
   "outputs": [
    {
     "name": "stdout",
     "output_type": "stream",
     "text": [
      "count    4416.000000\n",
      "mean       84.422781\n",
      "std        45.023853\n",
      "min         0.000000\n",
      "25%        54.000000\n",
      "50%        78.000000\n",
      "75%       107.000000\n",
      "max       462.000000\n",
      "Name: num_orders, dtype: float64\n"
     ]
    }
   ],
   "source": [
    "print(df['num_orders'].describe())"
   ]
  },
  {
   "cell_type": "markdown",
   "metadata": {},
   "source": [
    "Se eliminan valores atípicos usando clipping."
   ]
  },
  {
   "cell_type": "code",
   "execution_count": 9,
   "metadata": {},
   "outputs": [
    {
     "name": "stdout",
     "output_type": "stream",
     "text": [
      "        num_orders\n",
      "count  4416.000000\n",
      "mean     84.050045\n",
      "std      43.221000\n",
      "min       7.000000\n",
      "25%      54.000000\n",
      "50%      78.000000\n",
      "75%     107.000000\n",
      "max     223.000000\n"
     ]
    }
   ],
   "source": [
    "df_1 = df.copy()\n",
    "\n",
    "bajo = df_1['num_orders'].quantile(0.01)\n",
    "alto = df_1['num_orders'].quantile(0.99)\n",
    "\n",
    "df_1['num_orders'] = df_1['num_orders'].clip(lower=bajo, upper=alto)\n",
    "\n",
    "print(df_1.describe())"
   ]
  },
  {
   "cell_type": "markdown",
   "metadata": {},
   "source": [
    "<div class=\"alert alert-block alert-success\">\n",
    "<b>Comentario del revisor</b> <a class=\"tocSkip\"></a>\n",
    "\n",
    "¡Muy bien! Los datos de fecha se han agrupado correctamente.\n",
    "</div>"
   ]
  },
  {
   "cell_type": "markdown",
   "metadata": {},
   "source": [
    "## Análisis"
   ]
  },
  {
   "cell_type": "code",
   "execution_count": 10,
   "metadata": {},
   "outputs": [
    {
     "data": {
      "text/plain": [
       "<AxesSubplot:xlabel='datetime'>"
      ]
     },
     "execution_count": 10,
     "metadata": {},
     "output_type": "execute_result"
    },
    {
     "data": {
      "image/png": "[encoded data removed]",
      "text/plain": [
       "<Figure size 640x480 with 1 Axes>"
      ]
     },
     "metadata": {},
     "output_type": "display_data"
    }
   ],
   "source": [
    "df_1['rolling_mean'] = df_1.rolling(24).mean()\n",
    "df_1.plot()"
   ]
  },
  {
   "cell_type": "markdown",
   "metadata": {},
   "source": [
    "<div class=\"alert alert-block alert-success\">\n",
    "<b>Comentario del revisor</b> <a class=\"tocSkip\"></a>\n",
    "\n",
    "Buena visualización de la media movil de los datos.\n",
    "</div>"
   ]
  },
  {
   "cell_type": "markdown",
   "metadata": {},
   "source": [
    "Los datos no se pueden analizar con la gráfica y la media móvil, por lo que se procede con tendencias y estacionalidad. "
   ]
  },
  {
   "cell_type": "code",
   "execution_count": 11,
   "metadata": {},
   "outputs": [
    {
     "data": {
      "image/png": "[encoded data removed]",
      "text/plain": [
       "<Figure size 600x800 with 3 Axes>"
      ]
     },
     "metadata": {},
     "output_type": "display_data"
    }
   ],
   "source": [
    "df_sea = df_1.dropna()\n",
    "decomposed = seasonal_decompose(df_sea['num_orders'])\n",
    "\n",
    "plt.figure(figsize=(6, 8))\n",
    "plt.subplot(311)\n",
    "decomposed.trend.plot(ax=plt.gca())\n",
    "plt.title('Trend')\n",
    "plt.subplot(312)\n",
    "decomposed.seasonal.plot(ax=plt.gca())\n",
    "plt.title('Seasonality')\n",
    "plt.subplot(313)\n",
    "decomposed.resid.plot(ax=plt.gca())\n",
    "plt.title('Residuals')\n",
    "plt.tight_layout()"
   ]
  },
  {
   "cell_type": "markdown",
   "metadata": {},
   "source": [
    "<div class=\"alert alert-block alert-success\">\n",
    "<b>Comentario del revisor</b> <a class=\"tocSkip\"></a>\n",
    "\n",
    "¡Perfecto! Los datos se descompusicieron correctamente es tendencia, estacionalidad y residuos.\n",
    "</div>"
   ]
  },
  {
   "cell_type": "markdown",
   "metadata": {},
   "source": [
    "-Hay una tendencia en aumento en el pedido de taxis conforme el final del año se aproxima.    \n",
    "-La estacionalidad se mantiene como un patrón repetitivo, en nuestro caso, se hace por día (24 fragmentos de una hora).    \n",
    "-Los residuos indican, al final, que el patrón que se lleva a lo largo del tiempo se rompe, por lo que habrán de transformarse los datos para poder obtener análisis más objetivos. "
   ]
  },
  {
   "cell_type": "code",
   "execution_count": 12,
   "metadata": {},
   "outputs": [
    {
     "data": {
      "text/plain": [
       "<AxesSubplot:xlabel='datetime'>"
      ]
     },
     "execution_count": 12,
     "metadata": {},
     "output_type": "execute_result"
    },
    {
     "data": {
      "image/png": "[encoded data removed]",
      "text/plain": [
       "<Figure size 640x480 with 1 Axes>"
      ]
     },
     "metadata": {},
     "output_type": "display_data"
    }
   ],
   "source": [
    "df_sea = df_1.dropna().copy()\n",
    "\n",
    "df_sea['diferencia'] = df_sea['num_orders'] - df_sea['num_orders'].shift()\n",
    "df_sea['mean'] = df_sea['num_orders'].rolling(10).mean()\n",
    "df_sea['std'] = df_sea['num_orders'].rolling(10).std()\n",
    "df_sea[['diferencia', 'mean', 'std']].plot()"
   ]
  },
  {
   "cell_type": "markdown",
   "metadata": {},
   "source": [
    "-Hay un aumento de variabilidad al final del periodo de tiempo, lo ucal indica que el número de pedidos tiende a aumentar. Podría deberse a que se aproximan las fechas decembrinas.   \n",
    "-Se confirma el aumento que se había visto ya se había visto en la tendencia de la gráfica anterior.    \n",
    "-La desviación estándar también amenta al final del periodo de tiempo, así que hay mayor variabilidad en los pedidos más actuales. "
   ]
  },
  {
   "cell_type": "markdown",
   "metadata": {},
   "source": [
    "<div class=\"alert alert-block alert-success\">\n",
    "<b>Comentario del revisor</b> <a class=\"tocSkip\"></a>\n",
    "\n",
    "Buenos comentarios.\n",
    "</div>"
   ]
  },
  {
   "cell_type": "markdown",
   "metadata": {},
   "source": [
    "## Formación"
   ]
  },
  {
   "cell_type": "markdown",
   "metadata": {},
   "source": [
    "Se segmenta el dataframe para el entrenamiento de modelo de persistencia. Primero se separa el 10% que se utilizará para la prueba."
   ]
  },
  {
   "cell_type": "code",
   "execution_count": 13,
   "metadata": {},
   "outputs": [
    {
     "name": "stdout",
     "output_type": "stream",
     "text": [
      "2018-03-01 00:00:00 2018-08-13 13:00:00\n",
      "2018-08-13 14:00:00 2018-08-31 23:00:00\n"
     ]
    }
   ],
   "source": [
    "temp, prueba = train_test_split(df_1, shuffle=False, test_size=.1)\n",
    "\n",
    "print(temp.index.min(), temp.index.max())\n",
    "print(prueba.index.min(), prueba.index.max())"
   ]
  },
  {
   "cell_type": "markdown",
   "metadata": {},
   "source": [
    "El período de prueba para utilizar una vez se haya elegido el modelo adecuado, es del 13 al 31 de agosto.   \n",
    "\n",
    "Ahora, se segmenta en entrenamiento y validación para el entrenamiento de modelos. Se usará una proporción de 4:1."
   ]
  },
  {
   "cell_type": "code",
   "execution_count": 14,
   "metadata": {},
   "outputs": [
    {
     "name": "stdout",
     "output_type": "stream",
     "text": [
      "2018-03-01 00:00:00 2018-07-11 10:00:00\n",
      "2018-07-11 11:00:00 2018-08-13 13:00:00\n"
     ]
    }
   ],
   "source": [
    "train, test = train_test_split(temp, shuffle=False, test_size=.2)\n",
    "\n",
    "print(train.index.min(), train.index.max())\n",
    "print(test.index.min(), test.index.max())"
   ]
  },
  {
   "cell_type": "markdown",
   "metadata": {},
   "source": [
    "El segmento de entrenamiento ha quedado del 1 de marzo al 11 de julio, mientras que el validación(test) ha quedado del 11 de julio al 13 de agosto."
   ]
  },
  {
   "cell_type": "markdown",
   "metadata": {},
   "source": [
    "<div class=\"alert alert-block alert-success\">\n",
    "<b>Comentario del revisor</b> <a class=\"tocSkip\"></a>\n",
    "\n",
    "Muy bien, dividiste correctamente los datos en entrenamiento y prueba.\n",
    "</div>"
   ]
  },
  {
   "cell_type": "markdown",
   "metadata": {},
   "source": [
    "### Modelo 1: Modelo de Persistencia"
   ]
  },
  {
   "cell_type": "code",
   "execution_count": 15,
   "metadata": {},
   "outputs": [
    {
     "name": "stdout",
     "output_type": "stream",
     "text": [
      "Pedidos de taxis promedio diario: 105.96477987421383\n",
      "EAM 17.907678197064993\n",
      "El error promedio es de 31.024343600362172\n"
     ]
    }
   ],
   "source": [
    "print('Pedidos de taxis promedio diario:', test['num_orders'].mean())\n",
    "\n",
    "pred_previo = test.shift()\n",
    "pred_previo.iloc[0] = train.iloc[-1]\n",
    "print('EAM', mean_absolute_error(test, pred_previo))\n",
    "print('El error promedio es de',  mean_squared_error(test, pred_previo)**.5)"
   ]
  },
  {
   "cell_type": "markdown",
   "metadata": {},
   "source": [
    "El error absoluto del modelo de persitencia es de 18 taxis por hora, sin embargo, el error cuadrático nos indica que habría hasta 31 errores por hora."
   ]
  },
  {
   "cell_type": "markdown",
   "metadata": {},
   "source": [
    "**Se preparan características para entrenamiento de modelos**"
   ]
  },
  {
   "cell_type": "code",
   "execution_count": 16,
   "metadata": {},
   "outputs": [],
   "source": [
    "def crear_características (data, max_lag, rolling_mean_size):\n",
    "    data['year'] = data.index.year\n",
    "    data['month'] = data.index.month\n",
    "    data['day'] = data.index.day\n",
    "    data['dayofweek'] = data.index.dayofweek\n",
    "    \n",
    "    for lag in range (1, max_lag + 1):\n",
    "        data['lag_{}'.format(lag)] = data['num_orders'].shift(lag)\n",
    "        \n",
    "    data['rolling_mean'] = data['num_orders'].shift().rolling(rolling_mean_size).mean()    "
   ]
  },
  {
   "cell_type": "code",
   "execution_count": 17,
   "metadata": {},
   "outputs": [
    {
     "name": "stdout",
     "output_type": "stream",
     "text": [
      "                     num_orders  rolling_mean  year  month  day  dayofweek  \\\n",
      "datetime                                                                     \n",
      "2018-03-01 00:00:00         124           NaN  2018      3    1          3   \n",
      "2018-03-01 01:00:00          85           NaN  2018      3    1          3   \n",
      "2018-03-01 02:00:00          71           NaN  2018      3    1          3   \n",
      "2018-03-01 03:00:00          66           NaN  2018      3    1          3   \n",
      "2018-03-01 04:00:00          43           NaN  2018      3    1          3   \n",
      "\n",
      "                     lag_1  lag_2  lag_3  lag_4  lag_5  \n",
      "datetime                                                \n",
      "2018-03-01 00:00:00    NaN    NaN    NaN    NaN    NaN  \n",
      "2018-03-01 01:00:00  124.0    NaN    NaN    NaN    NaN  \n",
      "2018-03-01 02:00:00   85.0  124.0    NaN    NaN    NaN  \n",
      "2018-03-01 03:00:00   71.0   85.0  124.0    NaN    NaN  \n",
      "2018-03-01 04:00:00   66.0   71.0   85.0  124.0    NaN  \n"
     ]
    }
   ],
   "source": [
    "crear_características(df_1, 5, 7)\n",
    "print(df_1.head())"
   ]
  },
  {
   "cell_type": "markdown",
   "metadata": {},
   "source": [
    "Se hace la segmentación (que tendrá los valores anteriormente mencionados), y se crean features y target para entrenamiento de modelos de regresión. "
   ]
  },
  {
   "cell_type": "code",
   "execution_count": 18,
   "metadata": {},
   "outputs": [
    {
     "name": "stdout",
     "output_type": "stream",
     "text": [
      "(3974, 11)\n",
      "(442, 11)\n",
      "(3172, 11)\n",
      "(795, 11)\n"
     ]
    }
   ],
   "source": [
    "temp, prueba = train_test_split(df_1, shuffle=False, test_size=0.1)\n",
    "print(temp.shape)\n",
    "print(prueba.shape)\n",
    "train, test = train_test_split(temp, shuffle=False, test_size=0.2)\n",
    "train = train.dropna()\n",
    "print(train.shape)\n",
    "print(test.shape)"
   ]
  },
  {
   "cell_type": "code",
   "execution_count": 19,
   "metadata": {},
   "outputs": [],
   "source": [
    "feat_train = train.drop(['num_orders'], axis=1)\n",
    "tar_train = train['num_orders']\n",
    "feat_test = test.drop(['num_orders'], axis=1)\n",
    "tar_test = test['num_orders']"
   ]
  },
  {
   "cell_type": "markdown",
   "metadata": {},
   "source": [
    "<div class=\"alert alert-block alert-success\">\n",
    "<b>Comentario del revisor</b> <a class=\"tocSkip\"></a>\n",
    "\n",
    "¡Excelente! Construiste correctamente las columnas del lag.\n",
    "</div>"
   ]
  },
  {
   "cell_type": "markdown",
   "metadata": {},
   "source": [
    "### Linear Regression"
   ]
  },
  {
   "cell_type": "code",
   "execution_count": 20,
   "metadata": {},
   "outputs": [
    {
     "name": "stdout",
     "output_type": "stream",
     "text": [
      "Pedidos de taxis promedio diario: 71.30422446406052\n",
      "El error promedio es de 36.950466075301364\n"
     ]
    }
   ],
   "source": [
    "model_lin = LinearRegression()\n",
    "model_lin.fit(feat_train, tar_train)\n",
    "\n",
    "pred_lin = model_lin.predict(feat_test)\n",
    "\n",
    "print('Pedidos de taxis promedio diario:', train['num_orders'].mean())\n",
    "print('El error promedio es de', mean_squared_error(tar_test, pred_lin)**.5)"
   ]
  },
  {
   "cell_type": "markdown",
   "metadata": {},
   "source": [
    "Con un promedio diario de 71 taxis, el modelo de Linear Regression nos da un error promedio por hora de 36.95 taxis, lo cual es el 51% de error. Es un promedio alto."
   ]
  },
  {
   "cell_type": "markdown",
   "metadata": {},
   "source": [
    "<div class=\"alert alert-block alert-success\">\n",
    "<b>Comentario del revisor</b> <a class=\"tocSkip\"></a>\n",
    "\n",
    "Bien hecho. La regresión lineal se ha entrenado adecuadamente.\n",
    "</div>"
   ]
  },
  {
   "cell_type": "markdown",
   "metadata": {},
   "source": [
    "### DecisionTreeRegressor"
   ]
  },
  {
   "cell_type": "code",
   "execution_count": 21,
   "metadata": {},
   "outputs": [
    {
     "name": "stdout",
     "output_type": "stream",
     "text": [
      "El error promedio es de 43.148154653715366\n"
     ]
    }
   ],
   "source": [
    "model_tree = DecisionTreeRegressor(random_state=42, max_depth=5)\n",
    "model_tree.fit(feat_train, tar_train)\n",
    "\n",
    "pred_tree = model_tree.predict(feat_test)\n",
    "\n",
    "print('El error promedio es de', mean_squared_error(tar_test, pred_tree)**.5)"
   ]
  },
  {
   "cell_type": "markdown",
   "metadata": {},
   "source": [
    "Ahora se modifican hiperparámetros para mejorar rendimiento de DecisionTreeRegressor."
   ]
  },
  {
   "cell_type": "code",
   "execution_count": 22,
   "metadata": {},
   "outputs": [
    {
     "name": "stdout",
     "output_type": "stream",
     "text": [
      "Mejores Hiperarámetros: {'min_samples_split': 10, 'min_samples_leaf': 10, 'max_leaf_nodes': 20, 'max_depth': None}\n"
     ]
    }
   ],
   "source": [
    "tree = DecisionTreeRegressor(random_state=42)\n",
    "\n",
    "parámetros = {\n",
    "    'max_depth' : [5, 10, 15, 20, None],\n",
    "    'min_samples_split' : [2, 5, 10, 20],\n",
    "    'min_samples_leaf' : [1, 2, 5, 10],\n",
    "    'max_leaf_nodes' : [None, 10, 20, 30, 50, 100]\n",
    "}\n",
    "\n",
    "params_ran = RandomizedSearchCV(estimator=tree,\n",
    "                                param_distributions = parámetros,\n",
    "                                n_iter=50,\n",
    "                                cv=5,\n",
    "                                random_state=42,\n",
    "                                n_jobs=-1\n",
    "                               )\n",
    "\n",
    "params_ran.fit(feat_train, tar_train)\n",
    "\n",
    "print('Mejores Hiperarámetros:', params_ran.best_params_)"
   ]
  },
  {
   "cell_type": "code",
   "execution_count": 23,
   "metadata": {},
   "outputs": [
    {
     "name": "stdout",
     "output_type": "stream",
     "text": [
      "El error promedio es de 43.15220298730735\n"
     ]
    }
   ],
   "source": [
    "model_tree_1 = DecisionTreeRegressor(random_state=42, max_depth=None,\n",
    "                                   min_samples_split=10,\n",
    "                                   min_samples_leaf=10,\n",
    "                                   max_leaf_nodes=20\n",
    "                                  )\n",
    "\n",
    "model_tree_1.fit(feat_train, tar_train)\n",
    "\n",
    "pred_tree_1 = model_tree_1.predict(feat_test)\n",
    "\n",
    "print('El error promedio es de', mean_squared_error(tar_test, pred_tree_1)**.5)"
   ]
  },
  {
   "cell_type": "markdown",
   "metadata": {},
   "source": [
    "El erro promedio usando DecisionTreeRegressor con los hiperparámetros modificados, se redujo en un punto, y queda en 43.15."
   ]
  },
  {
   "cell_type": "markdown",
   "metadata": {},
   "source": [
    "<div class=\"alert alert-block alert-success\">\n",
    "<b>Comentario del revisor</b> <a class=\"tocSkip\"></a>\n",
    "\n",
    "Bien hecho. El árbol de decisión se exploró correctamente con validación cruzada, estos valores para sus hiperparámetros son correctos.\n",
    "</div>"
   ]
  },
  {
   "cell_type": "markdown",
   "metadata": {},
   "source": [
    "### RandomForestRegressor"
   ]
  },
  {
   "cell_type": "code",
   "execution_count": 24,
   "metadata": {},
   "outputs": [
    {
     "name": "stdout",
     "output_type": "stream",
     "text": [
      "El error promedio es de 39.805360877142434\n"
     ]
    }
   ],
   "source": [
    "model_for = RandomForestRegressor(random_state=42,\n",
    "                                  max_depth=5,\n",
    "                                  n_estimators=50)\n",
    "model_for.fit(feat_train, tar_train)\n",
    "pred_for = model_for.predict(feat_test)\n",
    "\n",
    "print('El error promedio es de', mean_squared_error(tar_test, pred_for)**.5)"
   ]
  },
  {
   "cell_type": "markdown",
   "metadata": {},
   "source": [
    "Se modifican parámetros para mejorar rendimiento del modelo."
   ]
  },
  {
   "cell_type": "code",
   "execution_count": 25,
   "metadata": {},
   "outputs": [
    {
     "name": "stdout",
     "output_type": "stream",
     "text": [
      "Mejores Hiperarámetros: {'n_estimators': 300, 'min_samples_split': 10, 'min_samples_leaf': 1, 'max_depth': 10}\n"
     ]
    }
   ],
   "source": [
    "forest = RandomForestRegressor(random_state=42)\n",
    "\n",
    "parámetros = {\n",
    "    'max_depth' : [5, 10, 15, 20, None],\n",
    "    'min_samples_split' : [2, 5, 10, 20],\n",
    "    'min_samples_leaf' : [1, 2, 5, 10],\n",
    "    'n_estimators' : [50, 100, 200, 300]\n",
    "}\n",
    "\n",
    "params_for = RandomizedSearchCV(estimator=forest,\n",
    "                                param_distributions = parámetros,\n",
    "                                n_iter=50,\n",
    "                                cv=5,\n",
    "                                random_state=42,\n",
    "                                n_jobs=-1\n",
    "                               )\n",
    "\n",
    "params_for.fit(feat_train, tar_train)\n",
    "\n",
    "print('Mejores Hiperarámetros:', params_for.best_params_)"
   ]
  },
  {
   "cell_type": "code",
   "execution_count": 26,
   "metadata": {},
   "outputs": [
    {
     "name": "stdout",
     "output_type": "stream",
     "text": [
      "El error promedio es de 38.82403689917527\n"
     ]
    }
   ],
   "source": [
    "model_for_1 = RandomForestRegressor(random_state=42,\n",
    "                                  max_depth=10,\n",
    "                                  n_estimators=200,\n",
    "                                  min_samples_split=10,\n",
    "                                  min_samples_leaf=2)\n",
    "model_for_1.fit(feat_train, tar_train)\n",
    "pred_for_1 = model_for_1.predict(feat_test)\n",
    "\n",
    "print('El error promedio es de', mean_squared_error(tar_test, pred_for_1)**.5)"
   ]
  },
  {
   "cell_type": "markdown",
   "metadata": {},
   "source": [
    "El cambio de parámetros para RandomForestRegressor disminuyó en un punto el error promedio, y quedó en 38."
   ]
  },
  {
   "cell_type": "markdown",
   "metadata": {},
   "source": [
    "Los modelos resultaron en varios RECM:   \n",
    "-El modelo de persistencia, arrojó un RECM de 31 viajes.   \n",
    "-El modelo de DecisionTreeClasiffier arrojó un RECM de 36.95 con los hiperparámetros ideales.   \n",
    "-El modelo de RandomForestregressor arrojó un RECM de 38.82 con los hiperparámetros ideales.    \n",
    "Dados los resultados de los modelos y sus variaciones en hiperparámetros, el mejor demostró ser el de **persistencia** para la predicción de viajes de la siguiente hora. "
   ]
  },
  {
   "cell_type": "markdown",
   "metadata": {},
   "source": [
    "<div class=\"alert alert-block alert-success\">\n",
    "<b>Comentario del revisor</b> <a class=\"tocSkip\"></a>\n",
    "\n",
    "¡Muy bien! El bosque aleatorio se ha entrenado adecuadamente. Este modelo casi siempre tiene mejores resultados que un solo árbol de decisión.\n",
    "</div>"
   ]
  },
  {
   "cell_type": "markdown",
   "metadata": {},
   "source": [
    "## Prueba"
   ]
  },
  {
   "cell_type": "markdown",
   "metadata": {},
   "source": [
    "Primero se ejecuta el modelo con los datos a los que se quitaron valores anómalos."
   ]
  },
  {
   "cell_type": "code",
   "execution_count": 28,
   "metadata": {},
   "outputs": [
    {
     "name": "stdout",
     "output_type": "stream",
     "text": [
      "Pedidos de taxis promedio diario: 105.96477987421383\n",
      "El error promedio es de 37.264542320949175\n"
     ]
    }
   ],
   "source": [
    "pred_previo = prueba.shift()\n",
    "pred_previo.iloc[0] = train.iloc[-1]\n",
    "\n",
    "\n",
    "print('Pedidos de taxis promedio diario:', test['num_orders'].mean())\n",
    "print('El error promedio es de', mean_squared_error(prueba, pred_previo)**.5)"
   ]
  },
  {
   "cell_type": "markdown",
   "metadata": {},
   "source": [
    "<div class=\"alert alert-block alert-success\">\n",
    "<b>Comentario del revisor</b> <a class=\"tocSkip\"></a>\n",
    "\n",
    "Bien, lograste cumplir el umbral solicitado para el error.\n",
    "</div>"
   ]
  },
  {
   "cell_type": "markdown",
   "metadata": {},
   "source": [
    "Ahora se define la predicción para la próxima hora con base en el modelo elegido. "
   ]
  },
  {
   "cell_type": "code",
   "execution_count": 29,
   "metadata": {},
   "outputs": [
    {
     "name": "stdout",
     "output_type": "stream",
     "text": [
      "[205.0]\n"
     ]
    }
   ],
   "source": [
    "último_valor = df_1.iloc[-1]['num_orders']\n",
    "siguiente_hora = [último_valor] * 1\n",
    "\n",
    "print(siguiente_hora)"
   ]
  },
  {
   "cell_type": "markdown",
   "metadata": {},
   "source": [
    "## Conclusiones"
   ]
  },
  {
   "cell_type": "markdown",
   "metadata": {},
   "source": [
    "-Según los análisis realizados con los modelos de regresión y el de persistencia, el que mejor funcionó para la predicción de la siguiente hora, fue el de persistencia, con un error de 37 con el segmento de prueba.    \n",
    "-Se recomienda el uso del modelo de persistencia con cautela: si bien, nos ayuda a conocer el valor de la siguiente hora, si se quisiesen predicciones para una mayor cantidad de horas, habríase d eusar el modelo RandomForestRegressor que quedó muy cerca del valor del error promedio. Esto ya que el modelo de persistencia conllevaría repetir el mismo valor por las siguientes horas.    \n",
    "-El modelo de persistencia, arrojó un RECM de 31 viajes.   \n",
    "-El modelo de DecisionTreeClasiffier arrojó un RECM de 36.95 con los hiperparámetros ideales.   \n",
    "-El modelo de RandomForestregressor arrojó un RECM de 38.82 con los hiperparámetros ideales.   \n",
    "-Asimismo, se aclara que se retiraron los valores anómalos para la ejecución de los modelos.    \n",
    "-Para terminar: según el modelo de persistencia, en la siguiente hora se podrían llegar a registrar de 168 a 242 viajes."
   ]
  },
  {
   "cell_type": "markdown",
   "metadata": {},
   "source": [
    "<div class=\"alert alert-block alert-danger\">\n",
    "<b>Comentario del revisor</b> <a class=\"tocSkip\"></a>\n",
    "\n",
    "Buen trabajo. Solo faltan las conclusiones y tu proyecto estará completo.\n",
    "</div>"
   ]
  },
  {
   "cell_type": "markdown",
   "metadata": {},
   "source": [
    "<div class=\"alert alert-block alert-info\">\n",
    "<b>Listo, conclusiones añadidas. Una disculpa, pensé que se requería solamente el valor de la predicción final, sin embargo, no volverá a pasar: siempre agregaré las conclusiones al final del proyecto. Gracias por la retroalimentación. Buen día.</b> <a class=\"tocSkip\"></a>\n",
    "</div>"
   ]
  },
  {
   "cell_type": "markdown",
   "metadata": {},
   "source": [
    "<div class=\"alert alert-block alert-success\">\n",
    "<b>Comentario del revisor</b> <a class=\"tocSkip\"></a>\n",
    "\n",
    "¡Muchas gracias! Puedo aprobar tu proyecto, éxito en los siguientes sprints.\n",
    "</div>"
   ]
  },
  {
   "cell_type": "markdown",
   "metadata": {},
   "source": [
    "# Lista de revisión"
   ]
  },
  {
   "cell_type": "markdown",
   "metadata": {},
   "source": [
    "- [x]  \t\n",
    "Jupyter Notebook está abierto.\n",
    "- [ ]  El código no tiene errores\n",
    "- [ ]  Las celdas con el código han sido colocadas en el orden de ejecución.\n",
    "- [ ]  \t\n",
    "Los datos han sido descargados y preparados.\n",
    "- [ ]  Se ha realizado el paso 2: los datos han sido analizados\n",
    "- [ ]  Se entrenó el modelo y se seleccionaron los hiperparámetros\n",
    "- [ ]  Se han evaluado los modelos. Se expuso una conclusión\n",
    "- [ ] La *RECM* para el conjunto de prueba no es más de 48"
   ]
  }
 ],
 "metadata": {
  "ExecuteTimeLog": [
   {
    "duration": 177,
    "start_time": "2025-05-02T17:09:23.474Z"
   },
   {
    "duration": 2943,
    "start_time": "2025-05-02T17:09:28.147Z"
   },
   {
    "duration": 38,
    "start_time": "2025-05-02T17:09:37.045Z"
   },
   {
    "duration": 4,
    "start_time": "2025-05-02T17:09:39.970Z"
   },
   {
    "duration": 30,
    "start_time": "2025-05-02T17:12:05.232Z"
   },
   {
    "duration": 11,
    "start_time": "2025-05-02T17:12:13.599Z"
   },
   {
    "duration": 23,
    "start_time": "2025-05-02T17:13:51.833Z"
   },
   {
    "duration": 10,
    "start_time": "2025-05-02T17:13:52.322Z"
   },
   {
    "duration": 4,
    "start_time": "2025-05-02T17:14:57.847Z"
   },
   {
    "duration": 27,
    "start_time": "2025-05-02T17:17:43.213Z"
   },
   {
    "duration": 9,
    "start_time": "2025-05-02T17:17:43.978Z"
   },
   {
    "duration": 15,
    "start_time": "2025-05-02T17:17:59.558Z"
   },
   {
    "duration": 10,
    "start_time": "2025-05-02T17:18:00.106Z"
   },
   {
    "duration": 27,
    "start_time": "2025-05-02T17:18:45.076Z"
   },
   {
    "duration": 8,
    "start_time": "2025-05-02T17:18:45.562Z"
   },
   {
    "duration": 4,
    "start_time": "2025-05-02T17:18:47.810Z"
   },
   {
    "duration": 8,
    "start_time": "2025-05-02T17:21:44.434Z"
   },
   {
    "duration": 4,
    "start_time": "2025-05-02T17:23:12.575Z"
   },
   {
    "duration": 4,
    "start_time": "2025-05-02T17:24:20.832Z"
   },
   {
    "duration": 7,
    "start_time": "2025-05-02T17:24:43.220Z"
   },
   {
    "duration": 6,
    "start_time": "2025-05-02T17:25:05.838Z"
   },
   {
    "duration": 6,
    "start_time": "2025-05-02T17:26:56.452Z"
   },
   {
    "duration": 4,
    "start_time": "2025-05-02T17:27:43.119Z"
   },
   {
    "duration": 207,
    "start_time": "2025-05-02T17:30:54.284Z"
   },
   {
    "duration": 251,
    "start_time": "2025-05-02T17:31:26.153Z"
   },
   {
    "duration": 3,
    "start_time": "2025-05-02T17:33:00.427Z"
   },
   {
    "duration": 30,
    "start_time": "2025-05-02T17:33:55.291Z"
   },
   {
    "duration": 81,
    "start_time": "2025-05-02T17:34:05.788Z"
   },
   {
    "duration": 3,
    "start_time": "2025-05-02T17:34:11.675Z"
   },
   {
    "duration": 5,
    "start_time": "2025-05-02T17:35:05.668Z"
   },
   {
    "duration": 4,
    "start_time": "2025-05-02T17:35:09.691Z"
   },
   {
    "duration": 6,
    "start_time": "2025-05-02T17:35:17.366Z"
   },
   {
    "duration": 6,
    "start_time": "2025-05-02T17:37:36.816Z"
   },
   {
    "duration": 546,
    "start_time": "2025-05-02T17:38:01.878Z"
   },
   {
    "duration": 4,
    "start_time": "2025-05-02T17:39:13.864Z"
   },
   {
    "duration": 8,
    "start_time": "2025-05-02T17:39:30.263Z"
   },
   {
    "duration": 413,
    "start_time": "2025-05-02T17:39:49.187Z"
   },
   {
    "duration": 230,
    "start_time": "2025-05-02T17:41:02.110Z"
   },
   {
    "duration": 267,
    "start_time": "2025-05-02T17:43:45.928Z"
   },
   {
    "duration": 224,
    "start_time": "2025-05-02T17:43:52.438Z"
   },
   {
    "duration": 201,
    "start_time": "2025-05-02T17:57:32.230Z"
   },
   {
    "duration": 392,
    "start_time": "2025-05-02T17:57:54.353Z"
   },
   {
    "duration": 543,
    "start_time": "2025-05-02T18:08:12.688Z"
   },
   {
    "duration": 530,
    "start_time": "2025-05-02T18:09:58.064Z"
   },
   {
    "duration": 283,
    "start_time": "2025-05-02T18:11:45.127Z"
   },
   {
    "duration": 455,
    "start_time": "2025-05-02T18:13:43.710Z"
   },
   {
    "duration": 245,
    "start_time": "2025-05-02T18:14:45.753Z"
   },
   {
    "duration": 192,
    "start_time": "2025-05-02T18:23:32.269Z"
   },
   {
    "duration": 611,
    "start_time": "2025-05-02T18:23:37.794Z"
   },
   {
    "duration": 222,
    "start_time": "2025-05-02T18:23:45.387Z"
   },
   {
    "duration": 4,
    "start_time": "2025-05-02T18:30:33.095Z"
   },
   {
    "duration": 5,
    "start_time": "2025-05-02T18:31:06.412Z"
   },
   {
    "duration": 5,
    "start_time": "2025-05-02T18:33:27.570Z"
   },
   {
    "duration": 5,
    "start_time": "2025-05-02T18:34:24.593Z"
   },
   {
    "duration": 3,
    "start_time": "2025-05-02T18:42:29.206Z"
   },
   {
    "duration": 3,
    "start_time": "2025-05-02T18:44:12.304Z"
   },
   {
    "duration": 8,
    "start_time": "2025-05-02T18:45:19.917Z"
   },
   {
    "duration": 4,
    "start_time": "2025-05-02T18:48:47.010Z"
   },
   {
    "duration": 10,
    "start_time": "2025-05-02T18:48:52.675Z"
   },
   {
    "duration": 11,
    "start_time": "2025-05-02T18:51:46.031Z"
   },
   {
    "duration": 8,
    "start_time": "2025-05-02T18:54:45.748Z"
   },
   {
    "duration": 1069,
    "start_time": "2025-05-02T19:00:10.752Z"
   },
   {
    "duration": 24,
    "start_time": "2025-05-02T19:00:11.824Z"
   },
   {
    "duration": 9,
    "start_time": "2025-05-02T19:00:11.851Z"
   },
   {
    "duration": 3,
    "start_time": "2025-05-02T19:00:11.862Z"
   },
   {
    "duration": 5,
    "start_time": "2025-05-02T19:00:11.869Z"
   },
   {
    "duration": 7,
    "start_time": "2025-05-02T19:00:11.877Z"
   },
   {
    "duration": 4,
    "start_time": "2025-05-02T19:00:11.886Z"
   },
   {
    "duration": 41,
    "start_time": "2025-05-02T19:00:11.895Z"
   },
   {
    "duration": 245,
    "start_time": "2025-05-02T19:00:11.939Z"
   },
   {
    "duration": 649,
    "start_time": "2025-05-02T19:00:12.187Z"
   },
   {
    "duration": 253,
    "start_time": "2025-05-02T19:00:12.838Z"
   },
   {
    "duration": 4,
    "start_time": "2025-05-02T19:00:13.093Z"
   },
   {
    "duration": 4,
    "start_time": "2025-05-02T19:00:13.099Z"
   },
   {
    "duration": 30,
    "start_time": "2025-05-02T19:00:13.106Z"
   },
   {
    "duration": 15,
    "start_time": "2025-05-02T19:03:29.348Z"
   },
   {
    "duration": 362,
    "start_time": "2025-05-02T19:03:50.681Z"
   },
   {
    "duration": 616,
    "start_time": "2025-05-02T19:04:04.496Z"
   },
   {
    "duration": 243,
    "start_time": "2025-05-02T19:04:13.312Z"
   },
   {
    "duration": 5,
    "start_time": "2025-05-02T19:04:25.483Z"
   },
   {
    "duration": 5,
    "start_time": "2025-05-02T19:04:41.893Z"
   },
   {
    "duration": 10,
    "start_time": "2025-05-02T19:04:55.532Z"
   },
   {
    "duration": 3,
    "start_time": "2025-05-02T19:14:56.777Z"
   },
   {
    "duration": 3,
    "start_time": "2025-05-02T19:15:03.039Z"
   },
   {
    "duration": 12,
    "start_time": "2025-05-02T19:15:35.765Z"
   },
   {
    "duration": 10,
    "start_time": "2025-05-02T19:15:47.722Z"
   },
   {
    "duration": 9,
    "start_time": "2025-05-02T19:15:57.081Z"
   },
   {
    "duration": 925,
    "start_time": "2025-05-02T19:41:17.511Z"
   },
   {
    "duration": 21,
    "start_time": "2025-05-02T19:41:18.437Z"
   },
   {
    "duration": 8,
    "start_time": "2025-05-02T19:41:18.461Z"
   },
   {
    "duration": 3,
    "start_time": "2025-05-02T19:41:18.470Z"
   },
   {
    "duration": 3,
    "start_time": "2025-05-02T19:41:18.476Z"
   },
   {
    "duration": 7,
    "start_time": "2025-05-02T19:41:18.481Z"
   },
   {
    "duration": 4,
    "start_time": "2025-05-02T19:41:18.490Z"
   },
   {
    "duration": 36,
    "start_time": "2025-05-02T19:41:18.496Z"
   },
   {
    "duration": 12,
    "start_time": "2025-05-02T19:41:18.533Z"
   },
   {
    "duration": 281,
    "start_time": "2025-05-02T19:41:18.547Z"
   },
   {
    "duration": 586,
    "start_time": "2025-05-02T19:41:18.829Z"
   },
   {
    "duration": 244,
    "start_time": "2025-05-02T19:41:19.417Z"
   },
   {
    "duration": 4,
    "start_time": "2025-05-02T19:41:19.663Z"
   },
   {
    "duration": 4,
    "start_time": "2025-05-02T19:41:19.671Z"
   },
   {
    "duration": 9,
    "start_time": "2025-05-02T19:41:19.677Z"
   },
   {
    "duration": 3,
    "start_time": "2025-05-02T19:41:19.688Z"
   },
   {
    "duration": 40,
    "start_time": "2025-05-02T19:41:19.692Z"
   },
   {
    "duration": 5,
    "start_time": "2025-05-02T19:44:03.342Z"
   },
   {
    "duration": 6,
    "start_time": "2025-05-02T19:45:09.202Z"
   },
   {
    "duration": 930,
    "start_time": "2025-05-02T19:46:16.089Z"
   },
   {
    "duration": 6,
    "start_time": "2025-05-02T19:46:36.139Z"
   },
   {
    "duration": 17,
    "start_time": "2025-05-02T19:50:13.649Z"
   },
   {
    "duration": 7,
    "start_time": "2025-05-02T19:51:42.261Z"
   },
   {
    "duration": 4,
    "start_time": "2025-05-02T19:51:42.745Z"
   },
   {
    "duration": 9,
    "start_time": "2025-05-02T19:51:44.153Z"
   },
   {
    "duration": 8,
    "start_time": "2025-05-02T19:52:22.491Z"
   },
   {
    "duration": 13,
    "start_time": "2025-05-02T19:57:33.580Z"
   },
   {
    "duration": 5,
    "start_time": "2025-05-02T19:57:54.330Z"
   },
   {
    "duration": 3,
    "start_time": "2025-05-02T20:00:08.412Z"
   },
   {
    "duration": 5,
    "start_time": "2025-05-02T20:05:10.776Z"
   },
   {
    "duration": 2443,
    "start_time": "2025-05-02T20:05:17.822Z"
   },
   {
    "duration": 2457,
    "start_time": "2025-05-02T20:05:34.827Z"
   },
   {
    "duration": 14,
    "start_time": "2025-05-02T20:07:01.494Z"
   },
   {
    "duration": 3,
    "start_time": "2025-05-02T20:12:10.380Z"
   },
   {
    "duration": 238,
    "start_time": "2025-05-02T20:12:27.561Z"
   },
   {
    "duration": 227,
    "start_time": "2025-05-02T20:12:36.590Z"
   },
   {
    "duration": 243259,
    "start_time": "2025-05-02T20:15:17.606Z"
   },
   {
    "duration": 1522,
    "start_time": "2025-05-02T20:21:16.361Z"
   },
   {
    "duration": 12,
    "start_time": "2025-05-02T20:40:30.644Z"
   },
   {
    "duration": 210,
    "start_time": "2025-05-02T20:44:49.041Z"
   },
   {
    "duration": 10,
    "start_time": "2025-05-02T20:45:27.030Z"
   },
   {
    "duration": 10,
    "start_time": "2025-05-02T20:46:06.175Z"
   },
   {
    "duration": 4,
    "start_time": "2025-05-02T20:47:13.132Z"
   },
   {
    "duration": 3,
    "start_time": "2025-05-02T20:48:06.697Z"
   },
   {
    "duration": 3,
    "start_time": "2025-05-02T20:48:14.715Z"
   },
   {
    "duration": 10,
    "start_time": "2025-05-02T20:51:24.090Z"
   },
   {
    "duration": 7,
    "start_time": "2025-05-02T20:51:27.973Z"
   },
   {
    "duration": 4,
    "start_time": "2025-05-02T20:51:28.665Z"
   },
   {
    "duration": 12,
    "start_time": "2025-05-02T20:51:29.832Z"
   },
   {
    "duration": 13,
    "start_time": "2025-05-02T20:51:44.336Z"
   },
   {
    "duration": 2438,
    "start_time": "2025-05-02T20:51:47.931Z"
   },
   {
    "duration": 14,
    "start_time": "2025-05-02T20:51:57.295Z"
   },
   {
    "duration": 232,
    "start_time": "2025-05-02T20:52:15.295Z"
   },
   {
    "duration": 1526,
    "start_time": "2025-05-02T20:52:19.587Z"
   },
   {
    "duration": 5,
    "start_time": "2025-05-02T20:55:19.769Z"
   },
   {
    "duration": 4,
    "start_time": "2025-05-02T20:55:40.428Z"
   },
   {
    "duration": 4,
    "start_time": "2025-05-02T20:55:46.769Z"
   },
   {
    "duration": 7,
    "start_time": "2025-05-02T20:56:06.647Z"
   },
   {
    "duration": 16,
    "start_time": "2025-05-02T21:00:10.801Z"
   },
   {
    "duration": 5,
    "start_time": "2025-05-02T21:00:20.644Z"
   },
   {
    "duration": 14,
    "start_time": "2025-05-02T21:00:22.688Z"
   },
   {
    "duration": 146,
    "start_time": "2025-05-02T21:00:49.128Z"
   },
   {
    "duration": 65,
    "start_time": "2025-05-02T21:01:50.199Z"
   },
   {
    "duration": 61,
    "start_time": "2025-05-02T21:02:22.250Z"
   },
   {
    "duration": 65,
    "start_time": "2025-05-02T21:03:29.856Z"
   },
   {
    "duration": 81,
    "start_time": "2025-05-02T21:04:36.406Z"
   },
   {
    "duration": 4,
    "start_time": "2025-05-02T21:07:14.980Z"
   },
   {
    "duration": 4,
    "start_time": "2025-05-02T21:08:13.290Z"
   },
   {
    "duration": 5,
    "start_time": "2025-05-02T21:11:01.037Z"
   },
   {
    "duration": 8,
    "start_time": "2025-05-02T21:12:15.340Z"
   },
   {
    "duration": 1025,
    "start_time": "2025-05-02T21:14:13.080Z"
   },
   {
    "duration": 26,
    "start_time": "2025-05-02T21:14:14.107Z"
   },
   {
    "duration": 10,
    "start_time": "2025-05-02T21:14:14.134Z"
   },
   {
    "duration": 3,
    "start_time": "2025-05-02T21:14:14.146Z"
   },
   {
    "duration": 5,
    "start_time": "2025-05-02T21:14:14.151Z"
   },
   {
    "duration": 8,
    "start_time": "2025-05-02T21:14:14.159Z"
   },
   {
    "duration": 3,
    "start_time": "2025-05-02T21:14:14.169Z"
   },
   {
    "duration": 8,
    "start_time": "2025-05-02T21:14:14.174Z"
   },
   {
    "duration": 49,
    "start_time": "2025-05-02T21:14:14.184Z"
   },
   {
    "duration": 304,
    "start_time": "2025-05-02T21:14:14.236Z"
   },
   {
    "duration": 606,
    "start_time": "2025-05-02T21:14:14.544Z"
   },
   {
    "duration": 249,
    "start_time": "2025-05-02T21:14:15.152Z"
   },
   {
    "duration": 5,
    "start_time": "2025-05-02T21:14:15.403Z"
   },
   {
    "duration": 4,
    "start_time": "2025-05-02T21:14:15.410Z"
   },
   {
    "duration": 437,
    "start_time": "2025-05-02T21:14:15.416Z"
   },
   {
    "duration": 0,
    "start_time": "2025-05-02T21:14:15.855Z"
   },
   {
    "duration": 0,
    "start_time": "2025-05-02T21:14:15.856Z"
   },
   {
    "duration": 0,
    "start_time": "2025-05-02T21:14:15.857Z"
   },
   {
    "duration": 0,
    "start_time": "2025-05-02T21:14:15.858Z"
   },
   {
    "duration": 0,
    "start_time": "2025-05-02T21:14:15.860Z"
   },
   {
    "duration": 0,
    "start_time": "2025-05-02T21:14:15.861Z"
   },
   {
    "duration": 0,
    "start_time": "2025-05-02T21:14:15.862Z"
   },
   {
    "duration": 0,
    "start_time": "2025-05-02T21:14:15.863Z"
   },
   {
    "duration": 0,
    "start_time": "2025-05-02T21:14:15.864Z"
   },
   {
    "duration": 0,
    "start_time": "2025-05-02T21:14:15.865Z"
   },
   {
    "duration": 0,
    "start_time": "2025-05-02T21:14:15.866Z"
   },
   {
    "duration": 0,
    "start_time": "2025-05-02T21:14:15.867Z"
   },
   {
    "duration": 0,
    "start_time": "2025-05-02T21:14:15.868Z"
   },
   {
    "duration": 10,
    "start_time": "2025-05-02T21:14:53.609Z"
   },
   {
    "duration": 36,
    "start_time": "2025-05-02T21:15:05.931Z"
   },
   {
    "duration": 9,
    "start_time": "2025-05-02T21:15:23.824Z"
   },
   {
    "duration": 964,
    "start_time": "2025-05-02T21:15:36.524Z"
   },
   {
    "duration": 21,
    "start_time": "2025-05-02T21:15:37.490Z"
   },
   {
    "duration": 9,
    "start_time": "2025-05-02T21:15:37.512Z"
   },
   {
    "duration": 10,
    "start_time": "2025-05-02T21:15:37.522Z"
   },
   {
    "duration": 4,
    "start_time": "2025-05-02T21:15:37.536Z"
   },
   {
    "duration": 7,
    "start_time": "2025-05-02T21:15:37.541Z"
   },
   {
    "duration": 3,
    "start_time": "2025-05-02T21:15:37.549Z"
   },
   {
    "duration": 8,
    "start_time": "2025-05-02T21:15:37.553Z"
   },
   {
    "duration": 12,
    "start_time": "2025-05-02T21:15:37.562Z"
   },
   {
    "duration": 300,
    "start_time": "2025-05-02T21:15:37.576Z"
   },
   {
    "duration": 571,
    "start_time": "2025-05-02T21:15:37.878Z"
   },
   {
    "duration": 239,
    "start_time": "2025-05-02T21:15:38.452Z"
   },
   {
    "duration": 5,
    "start_time": "2025-05-02T21:15:38.693Z"
   },
   {
    "duration": 4,
    "start_time": "2025-05-02T21:15:38.701Z"
   },
   {
    "duration": 25,
    "start_time": "2025-05-02T21:15:38.706Z"
   },
   {
    "duration": 4,
    "start_time": "2025-05-02T21:15:38.732Z"
   },
   {
    "duration": 11,
    "start_time": "2025-05-02T21:15:38.738Z"
   },
   {
    "duration": 7,
    "start_time": "2025-05-02T21:15:38.750Z"
   },
   {
    "duration": 88,
    "start_time": "2025-05-02T21:15:38.759Z"
   },
   {
    "duration": 9,
    "start_time": "2025-05-02T21:15:38.849Z"
   },
   {
    "duration": 69,
    "start_time": "2025-05-02T21:15:38.862Z"
   },
   {
    "duration": 2473,
    "start_time": "2025-05-02T21:15:38.933Z"
   },
   {
    "duration": 13,
    "start_time": "2025-05-02T21:15:41.408Z"
   },
   {
    "duration": 242,
    "start_time": "2025-05-02T21:15:41.422Z"
   },
   {
    "duration": 243876,
    "start_time": "2025-05-02T21:15:41.666Z"
   },
   {
    "duration": 1543,
    "start_time": "2025-05-02T21:19:45.544Z"
   },
   {
    "duration": 312,
    "start_time": "2025-05-02T21:19:47.089Z"
   },
   {
    "duration": 0,
    "start_time": "2025-05-02T21:19:47.402Z"
   },
   {
    "duration": 9,
    "start_time": "2025-05-02T21:19:57.946Z"
   },
   {
    "duration": 3,
    "start_time": "2025-05-02T21:20:04.360Z"
   },
   {
    "duration": 4,
    "start_time": "2025-05-02T21:28:52.505Z"
   }
  ],
  "kernelspec": {
   "display_name": "Python 3 (ipykernel)",
   "language": "python",
   "name": "python3"
  },
  "language_info": {
   "codemirror_mode": {
    "name": "ipython",
    "version": 3
   },
   "file_extension": ".py",
   "mimetype": "text/x-python",
   "name": "python",
   "nbconvert_exporter": "python",
   "pygments_lexer": "ipython3",
   "version": "3.9.19"
  },
  "toc": {
   "base_numbering": 1,
   "nav_menu": {},
   "number_sections": true,
   "sideBar": true,
   "skip_h1_title": true,
   "title_cell": "Table of Contents",
   "title_sidebar": "Contents",
   "toc_cell": false,
   "toc_position": {},
   "toc_section_display": true,
   "toc_window_display": false
  }
 },
 "nbformat": 4,
 "nbformat_minor": 2
}
