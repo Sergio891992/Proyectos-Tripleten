{
 "cells": [
  {
   "cell_type": "markdown",
   "metadata": {},
   "source": [
    "# Zyfra   \n",
    "El presente análisis tiene como objetivo proponer soluciones para la eficiencia de del procesamiento de oro para la empresa Zyfra. Se dividirá en pasos el análisis para poder tener un camino claro de cómo se llegaron a los objetivos y propuestas finales."
   ]
  },
  {
   "cell_type": "markdown",
   "metadata": {},
   "source": [
    "## Importación    \n",
    "Se importan librerías y dataframes para su análisis."
   ]
  },
  {
   "cell_type": "markdown",
   "metadata": {},
   "source": [
    "### Librerías y métricas"
   ]
  },
  {
   "cell_type": "code",
   "execution_count": 1,
   "metadata": {},
   "outputs": [],
   "source": [
    "import pandas as pd\n",
    "import numpy as np\n",
    "import matplotlib.pyplot as plt\n",
    "from scipy import stats as st\n",
    "from sklearn.model_selection import cross_val_score, train_test_split\n",
    "from sklearn.metrics import mean_squared_error, r2_score, mean_absolute_error\n",
    "from sklearn.preprocessing import StandardScaler\n",
    "from sklearn.linear_model import LinearRegression\n",
    "from sklearn.tree import DecisionTreeRegressor"
   ]
  },
  {
   "cell_type": "markdown",
   "metadata": {},
   "source": [
    "### Dataframes"
   ]
  },
  {
   "cell_type": "code",
   "execution_count": 2,
   "metadata": {},
   "outputs": [],
   "source": [
    "df_train = pd.read_csv('/datasets/gold_recovery_train.csv')\n",
    "df_test = pd.read_csv('/datasets/gold_recovery_test.csv')\n",
    "df_full = pd.read_csv('/datasets/gold_recovery_full.csv')"
   ]
  },
  {
   "cell_type": "code",
   "execution_count": 3,
   "metadata": {},
   "outputs": [
    {
     "name": "stdout",
     "output_type": "stream",
     "text": [
      "<class 'pandas.core.frame.DataFrame'>\n",
      "RangeIndex: 16860 entries, 0 to 16859\n",
      "Data columns (total 87 columns):\n",
      " #   Column                                              Non-Null Count  Dtype  \n",
      "---  ------                                              --------------  -----  \n",
      " 0   date                                                16860 non-null  object \n",
      " 1   final.output.concentrate_ag                         16788 non-null  float64\n",
      " 2   final.output.concentrate_pb                         16788 non-null  float64\n",
      " 3   final.output.concentrate_sol                        16490 non-null  float64\n",
      " 4   final.output.concentrate_au                         16789 non-null  float64\n",
      " 5   final.output.recovery                               15339 non-null  float64\n",
      " 6   final.output.tail_ag                                16794 non-null  float64\n",
      " 7   final.output.tail_pb                                16677 non-null  float64\n",
      " 8   final.output.tail_sol                               16715 non-null  float64\n",
      " 9   final.output.tail_au                                16794 non-null  float64\n",
      " 10  primary_cleaner.input.sulfate                       15553 non-null  float64\n",
      " 11  primary_cleaner.input.depressant                    15598 non-null  float64\n",
      " 12  primary_cleaner.input.feed_size                     16860 non-null  float64\n",
      " 13  primary_cleaner.input.xanthate                      15875 non-null  float64\n",
      " 14  primary_cleaner.output.concentrate_ag               16778 non-null  float64\n",
      " 15  primary_cleaner.output.concentrate_pb               16502 non-null  float64\n",
      " 16  primary_cleaner.output.concentrate_sol              16224 non-null  float64\n",
      " 17  primary_cleaner.output.concentrate_au               16778 non-null  float64\n",
      " 18  primary_cleaner.output.tail_ag                      16777 non-null  float64\n",
      " 19  primary_cleaner.output.tail_pb                      16761 non-null  float64\n",
      " 20  primary_cleaner.output.tail_sol                     16579 non-null  float64\n",
      " 21  primary_cleaner.output.tail_au                      16777 non-null  float64\n",
      " 22  primary_cleaner.state.floatbank8_a_air              16820 non-null  float64\n",
      " 23  primary_cleaner.state.floatbank8_a_level            16827 non-null  float64\n",
      " 24  primary_cleaner.state.floatbank8_b_air              16820 non-null  float64\n",
      " 25  primary_cleaner.state.floatbank8_b_level            16833 non-null  float64\n",
      " 26  primary_cleaner.state.floatbank8_c_air              16822 non-null  float64\n",
      " 27  primary_cleaner.state.floatbank8_c_level            16833 non-null  float64\n",
      " 28  primary_cleaner.state.floatbank8_d_air              16821 non-null  float64\n",
      " 29  primary_cleaner.state.floatbank8_d_level            16833 non-null  float64\n",
      " 30  rougher.calculation.sulfate_to_au_concentrate       16833 non-null  float64\n",
      " 31  rougher.calculation.floatbank10_sulfate_to_au_feed  16833 non-null  float64\n",
      " 32  rougher.calculation.floatbank11_sulfate_to_au_feed  16833 non-null  float64\n",
      " 33  rougher.calculation.au_pb_ratio                     15618 non-null  float64\n",
      " 34  rougher.input.feed_ag                               16778 non-null  float64\n",
      " 35  rougher.input.feed_pb                               16632 non-null  float64\n",
      " 36  rougher.input.feed_rate                             16347 non-null  float64\n",
      " 37  rougher.input.feed_size                             16443 non-null  float64\n",
      " 38  rougher.input.feed_sol                              16568 non-null  float64\n",
      " 39  rougher.input.feed_au                               16777 non-null  float64\n",
      " 40  rougher.input.floatbank10_sulfate                   15816 non-null  float64\n",
      " 41  rougher.input.floatbank10_xanthate                  16514 non-null  float64\n",
      " 42  rougher.input.floatbank11_sulfate                   16237 non-null  float64\n",
      " 43  rougher.input.floatbank11_xanthate                  14956 non-null  float64\n",
      " 44  rougher.output.concentrate_ag                       16778 non-null  float64\n",
      " 45  rougher.output.concentrate_pb                       16778 non-null  float64\n",
      " 46  rougher.output.concentrate_sol                      16698 non-null  float64\n",
      " 47  rougher.output.concentrate_au                       16778 non-null  float64\n",
      " 48  rougher.output.recovery                             14287 non-null  float64\n",
      " 49  rougher.output.tail_ag                              14610 non-null  float64\n",
      " 50  rougher.output.tail_pb                              16778 non-null  float64\n",
      " 51  rougher.output.tail_sol                             14611 non-null  float64\n",
      " 52  rougher.output.tail_au                              14611 non-null  float64\n",
      " 53  rougher.state.floatbank10_a_air                     16807 non-null  float64\n",
      " 54  rougher.state.floatbank10_a_level                   16807 non-null  float64\n",
      " 55  rougher.state.floatbank10_b_air                     16807 non-null  float64\n",
      " 56  rougher.state.floatbank10_b_level                   16807 non-null  float64\n",
      " 57  rougher.state.floatbank10_c_air                     16807 non-null  float64\n",
      " 58  rougher.state.floatbank10_c_level                   16814 non-null  float64\n",
      " 59  rougher.state.floatbank10_d_air                     16802 non-null  float64\n",
      " 60  rougher.state.floatbank10_d_level                   16809 non-null  float64\n",
      " 61  rougher.state.floatbank10_e_air                     16257 non-null  float64\n",
      " 62  rougher.state.floatbank10_e_level                   16809 non-null  float64\n",
      " 63  rougher.state.floatbank10_f_air                     16802 non-null  float64\n",
      " 64  rougher.state.floatbank10_f_level                   16802 non-null  float64\n",
      " 65  secondary_cleaner.output.tail_ag                    16776 non-null  float64\n",
      " 66  secondary_cleaner.output.tail_pb                    16764 non-null  float64\n",
      " 67  secondary_cleaner.output.tail_sol                   14874 non-null  float64\n",
      " 68  secondary_cleaner.output.tail_au                    16778 non-null  float64\n",
      " 69  secondary_cleaner.state.floatbank2_a_air            16497 non-null  float64\n",
      " 70  secondary_cleaner.state.floatbank2_a_level          16751 non-null  float64\n",
      " 71  secondary_cleaner.state.floatbank2_b_air            16705 non-null  float64\n",
      " 72  secondary_cleaner.state.floatbank2_b_level          16748 non-null  float64\n",
      " 73  secondary_cleaner.state.floatbank3_a_air            16763 non-null  float64\n",
      " 74  secondary_cleaner.state.floatbank3_a_level          16747 non-null  float64\n",
      " 75  secondary_cleaner.state.floatbank3_b_air            16752 non-null  float64\n",
      " 76  secondary_cleaner.state.floatbank3_b_level          16750 non-null  float64\n",
      " 77  secondary_cleaner.state.floatbank4_a_air            16731 non-null  float64\n",
      " 78  secondary_cleaner.state.floatbank4_a_level          16747 non-null  float64\n",
      " 79  secondary_cleaner.state.floatbank4_b_air            16768 non-null  float64\n",
      " 80  secondary_cleaner.state.floatbank4_b_level          16767 non-null  float64\n",
      " 81  secondary_cleaner.state.floatbank5_a_air            16775 non-null  float64\n",
      " 82  secondary_cleaner.state.floatbank5_a_level          16775 non-null  float64\n",
      " 83  secondary_cleaner.state.floatbank5_b_air            16775 non-null  float64\n",
      " 84  secondary_cleaner.state.floatbank5_b_level          16776 non-null  float64\n",
      " 85  secondary_cleaner.state.floatbank6_a_air            16757 non-null  float64\n",
      " 86  secondary_cleaner.state.floatbank6_a_level          16775 non-null  float64\n",
      "dtypes: float64(86), object(1)\n",
      "memory usage: 11.2+ MB\n"
     ]
    }
   ],
   "source": [
    "df_train.info()"
   ]
  },
  {
   "cell_type": "code",
   "execution_count": 4,
   "metadata": {},
   "outputs": [
    {
     "name": "stdout",
     "output_type": "stream",
     "text": [
      "                  date  final.output.concentrate_ag  \\\n",
      "0  2016-01-15 00:00:00                     6.055403   \n",
      "1  2016-01-15 01:00:00                     6.029369   \n",
      "2  2016-01-15 02:00:00                     6.055926   \n",
      "3  2016-01-15 03:00:00                     6.047977   \n",
      "4  2016-01-15 04:00:00                     6.148599   \n",
      "\n",
      "   final.output.concentrate_pb  final.output.concentrate_sol  \\\n",
      "0                     9.889648                      5.507324   \n",
      "1                     9.968944                      5.257781   \n",
      "2                    10.213995                      5.383759   \n",
      "3                     9.977019                      4.858634   \n",
      "4                    10.142511                      4.939416   \n",
      "\n",
      "   final.output.concentrate_au  final.output.recovery  final.output.tail_ag  \\\n",
      "0                    42.192020              70.541216             10.411962   \n",
      "1                    42.701629              69.266198             10.462676   \n",
      "2                    42.657501              68.116445             10.507046   \n",
      "3                    42.689819              68.347543             10.422762   \n",
      "4                    42.774141              66.927016             10.360302   \n",
      "\n",
      "   final.output.tail_pb  final.output.tail_sol  final.output.tail_au  ...  \\\n",
      "0              0.895447              16.904297              2.143149  ...   \n",
      "1              0.927452              16.634514              2.224930  ...   \n",
      "2              0.953716              16.208849              2.257889  ...   \n",
      "3              0.883763              16.532835              2.146849  ...   \n",
      "4              0.792826              16.525686              2.055292  ...   \n",
      "\n",
      "   secondary_cleaner.state.floatbank4_a_air  \\\n",
      "0                                 14.016835   \n",
      "1                                 13.992281   \n",
      "2                                 14.015015   \n",
      "3                                 14.036510   \n",
      "4                                 14.027298   \n",
      "\n",
      "   secondary_cleaner.state.floatbank4_a_level  \\\n",
      "0                                 -502.488007   \n",
      "1                                 -505.503262   \n",
      "2                                 -502.520901   \n",
      "3                                 -500.857308   \n",
      "4                                 -499.838632   \n",
      "\n",
      "   secondary_cleaner.state.floatbank4_b_air  \\\n",
      "0                                 12.099931   \n",
      "1                                 11.950531   \n",
      "2                                 11.912783   \n",
      "3                                 11.999550   \n",
      "4                                 11.953070   \n",
      "\n",
      "   secondary_cleaner.state.floatbank4_b_level  \\\n",
      "0                                 -504.715942   \n",
      "1                                 -501.331529   \n",
      "2                                 -501.133383   \n",
      "3                                 -501.193686   \n",
      "4                                 -501.053894   \n",
      "\n",
      "   secondary_cleaner.state.floatbank5_a_air  \\\n",
      "0                                  9.925633   \n",
      "1                                 10.039245   \n",
      "2                                 10.070913   \n",
      "3                                  9.970366   \n",
      "4                                  9.925709   \n",
      "\n",
      "   secondary_cleaner.state.floatbank5_a_level  \\\n",
      "0                                 -498.310211   \n",
      "1                                 -500.169983   \n",
      "2                                 -500.129135   \n",
      "3                                 -499.201640   \n",
      "4                                 -501.686727   \n",
      "\n",
      "   secondary_cleaner.state.floatbank5_b_air  \\\n",
      "0                                  8.079666   \n",
      "1                                  7.984757   \n",
      "2                                  8.013877   \n",
      "3                                  7.977324   \n",
      "4                                  7.894242   \n",
      "\n",
      "   secondary_cleaner.state.floatbank5_b_level  \\\n",
      "0                                 -500.470978   \n",
      "1                                 -500.582168   \n",
      "2                                 -500.517572   \n",
      "3                                 -500.255908   \n",
      "4                                 -500.356035   \n",
      "\n",
      "   secondary_cleaner.state.floatbank6_a_air  \\\n",
      "0                                 14.151341   \n",
      "1                                 13.998353   \n",
      "2                                 14.028663   \n",
      "3                                 14.005551   \n",
      "4                                 13.996647   \n",
      "\n",
      "   secondary_cleaner.state.floatbank6_a_level  \n",
      "0                                 -605.841980  \n",
      "1                                 -599.787184  \n",
      "2                                 -601.427363  \n",
      "3                                 -599.996129  \n",
      "4                                 -601.496691  \n",
      "\n",
      "[5 rows x 87 columns]\n"
     ]
    }
   ],
   "source": [
    "print(df_train.head())"
   ]
  },
  {
   "cell_type": "code",
   "execution_count": 5,
   "metadata": {},
   "outputs": [
    {
     "name": "stdout",
     "output_type": "stream",
     "text": [
      "<class 'pandas.core.frame.DataFrame'>\n",
      "RangeIndex: 5856 entries, 0 to 5855\n",
      "Data columns (total 53 columns):\n",
      " #   Column                                      Non-Null Count  Dtype  \n",
      "---  ------                                      --------------  -----  \n",
      " 0   date                                        5856 non-null   object \n",
      " 1   primary_cleaner.input.sulfate               5554 non-null   float64\n",
      " 2   primary_cleaner.input.depressant            5572 non-null   float64\n",
      " 3   primary_cleaner.input.feed_size             5856 non-null   float64\n",
      " 4   primary_cleaner.input.xanthate              5690 non-null   float64\n",
      " 5   primary_cleaner.state.floatbank8_a_air      5840 non-null   float64\n",
      " 6   primary_cleaner.state.floatbank8_a_level    5840 non-null   float64\n",
      " 7   primary_cleaner.state.floatbank8_b_air      5840 non-null   float64\n",
      " 8   primary_cleaner.state.floatbank8_b_level    5840 non-null   float64\n",
      " 9   primary_cleaner.state.floatbank8_c_air      5840 non-null   float64\n",
      " 10  primary_cleaner.state.floatbank8_c_level    5840 non-null   float64\n",
      " 11  primary_cleaner.state.floatbank8_d_air      5840 non-null   float64\n",
      " 12  primary_cleaner.state.floatbank8_d_level    5840 non-null   float64\n",
      " 13  rougher.input.feed_ag                       5840 non-null   float64\n",
      " 14  rougher.input.feed_pb                       5840 non-null   float64\n",
      " 15  rougher.input.feed_rate                     5816 non-null   float64\n",
      " 16  rougher.input.feed_size                     5834 non-null   float64\n",
      " 17  rougher.input.feed_sol                      5789 non-null   float64\n",
      " 18  rougher.input.feed_au                       5840 non-null   float64\n",
      " 19  rougher.input.floatbank10_sulfate           5599 non-null   float64\n",
      " 20  rougher.input.floatbank10_xanthate          5733 non-null   float64\n",
      " 21  rougher.input.floatbank11_sulfate           5801 non-null   float64\n",
      " 22  rougher.input.floatbank11_xanthate          5503 non-null   float64\n",
      " 23  rougher.state.floatbank10_a_air             5839 non-null   float64\n",
      " 24  rougher.state.floatbank10_a_level           5840 non-null   float64\n",
      " 25  rougher.state.floatbank10_b_air             5839 non-null   float64\n",
      " 26  rougher.state.floatbank10_b_level           5840 non-null   float64\n",
      " 27  rougher.state.floatbank10_c_air             5839 non-null   float64\n",
      " 28  rougher.state.floatbank10_c_level           5840 non-null   float64\n",
      " 29  rougher.state.floatbank10_d_air             5839 non-null   float64\n",
      " 30  rougher.state.floatbank10_d_level           5840 non-null   float64\n",
      " 31  rougher.state.floatbank10_e_air             5839 non-null   float64\n",
      " 32  rougher.state.floatbank10_e_level           5840 non-null   float64\n",
      " 33  rougher.state.floatbank10_f_air             5839 non-null   float64\n",
      " 34  rougher.state.floatbank10_f_level           5840 non-null   float64\n",
      " 35  secondary_cleaner.state.floatbank2_a_air    5836 non-null   float64\n",
      " 36  secondary_cleaner.state.floatbank2_a_level  5840 non-null   float64\n",
      " 37  secondary_cleaner.state.floatbank2_b_air    5833 non-null   float64\n",
      " 38  secondary_cleaner.state.floatbank2_b_level  5840 non-null   float64\n",
      " 39  secondary_cleaner.state.floatbank3_a_air    5822 non-null   float64\n",
      " 40  secondary_cleaner.state.floatbank3_a_level  5840 non-null   float64\n",
      " 41  secondary_cleaner.state.floatbank3_b_air    5840 non-null   float64\n",
      " 42  secondary_cleaner.state.floatbank3_b_level  5840 non-null   float64\n",
      " 43  secondary_cleaner.state.floatbank4_a_air    5840 non-null   float64\n",
      " 44  secondary_cleaner.state.floatbank4_a_level  5840 non-null   float64\n",
      " 45  secondary_cleaner.state.floatbank4_b_air    5840 non-null   float64\n",
      " 46  secondary_cleaner.state.floatbank4_b_level  5840 non-null   float64\n",
      " 47  secondary_cleaner.state.floatbank5_a_air    5840 non-null   float64\n",
      " 48  secondary_cleaner.state.floatbank5_a_level  5840 non-null   float64\n",
      " 49  secondary_cleaner.state.floatbank5_b_air    5840 non-null   float64\n",
      " 50  secondary_cleaner.state.floatbank5_b_level  5840 non-null   float64\n",
      " 51  secondary_cleaner.state.floatbank6_a_air    5840 non-null   float64\n",
      " 52  secondary_cleaner.state.floatbank6_a_level  5840 non-null   float64\n",
      "dtypes: float64(52), object(1)\n",
      "memory usage: 2.4+ MB\n"
     ]
    }
   ],
   "source": [
    "df_test.info()"
   ]
  },
  {
   "cell_type": "code",
   "execution_count": 6,
   "metadata": {},
   "outputs": [
    {
     "name": "stdout",
     "output_type": "stream",
     "text": [
      "<class 'pandas.core.frame.DataFrame'>\n",
      "RangeIndex: 22716 entries, 0 to 22715\n",
      "Data columns (total 87 columns):\n",
      " #   Column                                              Non-Null Count  Dtype  \n",
      "---  ------                                              --------------  -----  \n",
      " 0   date                                                22716 non-null  object \n",
      " 1   final.output.concentrate_ag                         22627 non-null  float64\n",
      " 2   final.output.concentrate_pb                         22629 non-null  float64\n",
      " 3   final.output.concentrate_sol                        22331 non-null  float64\n",
      " 4   final.output.concentrate_au                         22630 non-null  float64\n",
      " 5   final.output.recovery                               20753 non-null  float64\n",
      " 6   final.output.tail_ag                                22633 non-null  float64\n",
      " 7   final.output.tail_pb                                22516 non-null  float64\n",
      " 8   final.output.tail_sol                               22445 non-null  float64\n",
      " 9   final.output.tail_au                                22635 non-null  float64\n",
      " 10  primary_cleaner.input.sulfate                       21107 non-null  float64\n",
      " 11  primary_cleaner.input.depressant                    21170 non-null  float64\n",
      " 12  primary_cleaner.input.feed_size                     22716 non-null  float64\n",
      " 13  primary_cleaner.input.xanthate                      21565 non-null  float64\n",
      " 14  primary_cleaner.output.concentrate_ag               22618 non-null  float64\n",
      " 15  primary_cleaner.output.concentrate_pb               22268 non-null  float64\n",
      " 16  primary_cleaner.output.concentrate_sol              21918 non-null  float64\n",
      " 17  primary_cleaner.output.concentrate_au               22618 non-null  float64\n",
      " 18  primary_cleaner.output.tail_ag                      22614 non-null  float64\n",
      " 19  primary_cleaner.output.tail_pb                      22594 non-null  float64\n",
      " 20  primary_cleaner.output.tail_sol                     22365 non-null  float64\n",
      " 21  primary_cleaner.output.tail_au                      22617 non-null  float64\n",
      " 22  primary_cleaner.state.floatbank8_a_air              22660 non-null  float64\n",
      " 23  primary_cleaner.state.floatbank8_a_level            22667 non-null  float64\n",
      " 24  primary_cleaner.state.floatbank8_b_air              22660 non-null  float64\n",
      " 25  primary_cleaner.state.floatbank8_b_level            22673 non-null  float64\n",
      " 26  primary_cleaner.state.floatbank8_c_air              22662 non-null  float64\n",
      " 27  primary_cleaner.state.floatbank8_c_level            22673 non-null  float64\n",
      " 28  primary_cleaner.state.floatbank8_d_air              22661 non-null  float64\n",
      " 29  primary_cleaner.state.floatbank8_d_level            22673 non-null  float64\n",
      " 30  rougher.calculation.sulfate_to_au_concentrate       22672 non-null  float64\n",
      " 31  rougher.calculation.floatbank10_sulfate_to_au_feed  22672 non-null  float64\n",
      " 32  rougher.calculation.floatbank11_sulfate_to_au_feed  22672 non-null  float64\n",
      " 33  rougher.calculation.au_pb_ratio                     21089 non-null  float64\n",
      " 34  rougher.input.feed_ag                               22618 non-null  float64\n",
      " 35  rougher.input.feed_pb                               22472 non-null  float64\n",
      " 36  rougher.input.feed_rate                             22163 non-null  float64\n",
      " 37  rougher.input.feed_size                             22277 non-null  float64\n",
      " 38  rougher.input.feed_sol                              22357 non-null  float64\n",
      " 39  rougher.input.feed_au                               22617 non-null  float64\n",
      " 40  rougher.input.floatbank10_sulfate                   21415 non-null  float64\n",
      " 41  rougher.input.floatbank10_xanthate                  22247 non-null  float64\n",
      " 42  rougher.input.floatbank11_sulfate                   22038 non-null  float64\n",
      " 43  rougher.input.floatbank11_xanthate                  20459 non-null  float64\n",
      " 44  rougher.output.concentrate_ag                       22618 non-null  float64\n",
      " 45  rougher.output.concentrate_pb                       22618 non-null  float64\n",
      " 46  rougher.output.concentrate_sol                      22526 non-null  float64\n",
      " 47  rougher.output.concentrate_au                       22618 non-null  float64\n",
      " 48  rougher.output.recovery                             19597 non-null  float64\n",
      " 49  rougher.output.tail_ag                              19979 non-null  float64\n",
      " 50  rougher.output.tail_pb                              22618 non-null  float64\n",
      " 51  rougher.output.tail_sol                             19980 non-null  float64\n",
      " 52  rougher.output.tail_au                              19980 non-null  float64\n",
      " 53  rougher.state.floatbank10_a_air                     22646 non-null  float64\n",
      " 54  rougher.state.floatbank10_a_level                   22647 non-null  float64\n",
      " 55  rougher.state.floatbank10_b_air                     22646 non-null  float64\n",
      " 56  rougher.state.floatbank10_b_level                   22647 non-null  float64\n",
      " 57  rougher.state.floatbank10_c_air                     22646 non-null  float64\n",
      " 58  rougher.state.floatbank10_c_level                   22654 non-null  float64\n",
      " 59  rougher.state.floatbank10_d_air                     22641 non-null  float64\n",
      " 60  rougher.state.floatbank10_d_level                   22649 non-null  float64\n",
      " 61  rougher.state.floatbank10_e_air                     22096 non-null  float64\n",
      " 62  rougher.state.floatbank10_e_level                   22649 non-null  float64\n",
      " 63  rougher.state.floatbank10_f_air                     22641 non-null  float64\n",
      " 64  rougher.state.floatbank10_f_level                   22642 non-null  float64\n",
      " 65  secondary_cleaner.output.tail_ag                    22616 non-null  float64\n",
      " 66  secondary_cleaner.output.tail_pb                    22600 non-null  float64\n",
      " 67  secondary_cleaner.output.tail_sol                   20501 non-null  float64\n",
      " 68  secondary_cleaner.output.tail_au                    22618 non-null  float64\n",
      " 69  secondary_cleaner.state.floatbank2_a_air            22333 non-null  float64\n",
      " 70  secondary_cleaner.state.floatbank2_a_level          22591 non-null  float64\n",
      " 71  secondary_cleaner.state.floatbank2_b_air            22538 non-null  float64\n",
      " 72  secondary_cleaner.state.floatbank2_b_level          22588 non-null  float64\n",
      " 73  secondary_cleaner.state.floatbank3_a_air            22585 non-null  float64\n",
      " 74  secondary_cleaner.state.floatbank3_a_level          22587 non-null  float64\n",
      " 75  secondary_cleaner.state.floatbank3_b_air            22592 non-null  float64\n",
      " 76  secondary_cleaner.state.floatbank3_b_level          22590 non-null  float64\n",
      " 77  secondary_cleaner.state.floatbank4_a_air            22571 non-null  float64\n",
      " 78  secondary_cleaner.state.floatbank4_a_level          22587 non-null  float64\n",
      " 79  secondary_cleaner.state.floatbank4_b_air            22608 non-null  float64\n",
      " 80  secondary_cleaner.state.floatbank4_b_level          22607 non-null  float64\n",
      " 81  secondary_cleaner.state.floatbank5_a_air            22615 non-null  float64\n",
      " 82  secondary_cleaner.state.floatbank5_a_level          22615 non-null  float64\n",
      " 83  secondary_cleaner.state.floatbank5_b_air            22615 non-null  float64\n",
      " 84  secondary_cleaner.state.floatbank5_b_level          22616 non-null  float64\n",
      " 85  secondary_cleaner.state.floatbank6_a_air            22597 non-null  float64\n",
      " 86  secondary_cleaner.state.floatbank6_a_level          22615 non-null  float64\n",
      "dtypes: float64(86), object(1)\n",
      "memory usage: 15.1+ MB\n"
     ]
    }
   ],
   "source": [
    "df_full.info()"
   ]
  },
  {
   "cell_type": "markdown",
   "metadata": {},
   "source": [
    "### Cálculo de recuperación   \n",
    "Se recupera el valor de rougher.output.recovery para ver su validez.   \n",
    "Serevisan valores, los Nan se rellenan con la media ya que los valores máximos y mínimos de las columnas en las que hubo ceros y afectaban el cálculo final, no tenían valores atípicos. Asimismo, se crea una columna con el cáculo de la fórmula de la recuperación para la comparación consecuente y el cálculo de EAM."
   ]
  },
  {
   "cell_type": "code",
   "execution_count": 7,
   "metadata": {},
   "outputs": [],
   "source": [
    "df_cálculo = df_train[['rougher.input.feed_au', 'rougher.output.tail_au', 'rougher.output.concentrate_au']]"
   ]
  },
  {
   "cell_type": "code",
   "execution_count": 8,
   "metadata": {},
   "outputs": [
    {
     "name": "stdout",
     "output_type": "stream",
     "text": [
      "<class 'pandas.core.frame.DataFrame'>\n",
      "RangeIndex: 16860 entries, 0 to 16859\n",
      "Data columns (total 3 columns):\n",
      " #   Column                         Non-Null Count  Dtype  \n",
      "---  ------                         --------------  -----  \n",
      " 0   rougher.input.feed_au          16777 non-null  float64\n",
      " 1   rougher.output.tail_au         14611 non-null  float64\n",
      " 2   rougher.output.concentrate_au  16778 non-null  float64\n",
      "dtypes: float64(3)\n",
      "memory usage: 395.3 KB\n"
     ]
    }
   ],
   "source": [
    "df_cálculo.info()"
   ]
  },
  {
   "cell_type": "code",
   "execution_count": 9,
   "metadata": {},
   "outputs": [],
   "source": [
    "df_cálculo = df_cálculo.dropna(subset=['rougher.input.feed_au', 'rougher.output.tail_au', 'rougher.output.concentrate_au'])\n",
    "df_cálculo['rougher.output.concentrate_au'] = df_cálculo['rougher.output.concentrate_au'].replace(0, df_cálculo['rougher.output.concentrate_au'].mean())\n",
    "df_cálculo['rougher.input.feed_au'] = df_cálculo['rougher.input.feed_au'].replace(0, df_cálculo['rougher.input.feed_au'].mean())"
   ]
  },
  {
   "cell_type": "code",
   "execution_count": 10,
   "metadata": {
    "scrolled": true
   },
   "outputs": [],
   "source": [
    "C = df_cálculo['rougher.output.concentrate_au']\n",
    "F = df_cálculo['rougher.input.feed_au']\n",
    "T = df_cálculo['rougher.output.tail_au']"
   ]
  },
  {
   "cell_type": "code",
   "execution_count": 11,
   "metadata": {},
   "outputs": [],
   "source": [
    "df_cálculo['cálculo'] = ((C * (F - T)) / (F * (C - T))) * 100"
   ]
  },
  {
   "cell_type": "code",
   "execution_count": 12,
   "metadata": {},
   "outputs": [
    {
     "name": "stdout",
     "output_type": "stream",
     "text": [
      "EAM es 120.03718121171325\n"
     ]
    }
   ],
   "source": [
    "recuperación_1 = df_cálculo['rougher.output.concentrate_au']\n",
    "recuperación_2 = df_cálculo['cálculo']\n",
    "\n",
    "n = len(recuperación_1)\n",
    "suma = 0\n",
    "\n",
    "for i in range (n):\n",
    "    suma += abs(recuperación_1.iloc[i] - recuperación_2.iloc[i])\n",
    "    \n",
    "error = suma/n\n",
    "\n",
    "print(\"EAM es\", error)"
   ]
  },
  {
   "cell_type": "markdown",
   "metadata": {},
   "source": [
    "**Valor EAM**   \n",
    "\n",
    "Dado el valor de EAM en el dataframe en cuanto a rougher.output.concentrate_au es alto para los valores de las columnas utilizadas para este cálculo, se presume que la fórmula o el cálculo del dataframe no son confiables en cuanto al valor, por lo que se usará el dataframe base para los análisis posteriores y poder tener mayor confiabilidad. "
   ]
  },
  {
   "cell_type": "markdown",
   "metadata": {},
   "source": [
    "<div class=\"alert alert-block alert-success\">\n",
    "<b>Comentario del revisor (1ra Iteracion)</b> <a class=“tocSkip”></a>\n",
    "\n",
    "Muy bien, revisaste tus datos y aplicaste las fórmulas requeridas. Es importante en proyectos de este tipo donde se utiliza más teoría entender correctamente las fórmulas que se están utilizando para poder pasarlas a código"
   ]
  },
  {
   "cell_type": "markdown",
   "metadata": {},
   "source": [
    "### Columnas faltantes en df_test"
   ]
  },
  {
   "cell_type": "code",
   "execution_count": 13,
   "metadata": {},
   "outputs": [
    {
     "name": "stdout",
     "output_type": "stream",
     "text": [
      "Las columnas faltantes en df_test son:\n",
      "Index(['final.output.concentrate_ag', 'final.output.concentrate_au',\n",
      "       'final.output.concentrate_pb', 'final.output.concentrate_sol',\n",
      "       'final.output.recovery', 'final.output.tail_ag', 'final.output.tail_au',\n",
      "       'final.output.tail_pb', 'final.output.tail_sol',\n",
      "       'primary_cleaner.output.concentrate_ag',\n",
      "       'primary_cleaner.output.concentrate_au',\n",
      "       'primary_cleaner.output.concentrate_pb',\n",
      "       'primary_cleaner.output.concentrate_sol',\n",
      "       'primary_cleaner.output.tail_ag', 'primary_cleaner.output.tail_au',\n",
      "       'primary_cleaner.output.tail_pb', 'primary_cleaner.output.tail_sol',\n",
      "       'rougher.calculation.au_pb_ratio',\n",
      "       'rougher.calculation.floatbank10_sulfate_to_au_feed',\n",
      "       'rougher.calculation.floatbank11_sulfate_to_au_feed',\n",
      "       'rougher.calculation.sulfate_to_au_concentrate',\n",
      "       'rougher.output.concentrate_ag', 'rougher.output.concentrate_au',\n",
      "       'rougher.output.concentrate_pb', 'rougher.output.concentrate_sol',\n",
      "       'rougher.output.recovery', 'rougher.output.tail_ag',\n",
      "       'rougher.output.tail_au', 'rougher.output.tail_pb',\n",
      "       'rougher.output.tail_sol', 'secondary_cleaner.output.tail_ag',\n",
      "       'secondary_cleaner.output.tail_au', 'secondary_cleaner.output.tail_pb',\n",
      "       'secondary_cleaner.output.tail_sol'],\n",
      "      dtype='object')\n"
     ]
    }
   ],
   "source": [
    "faltantes = df_train.columns.difference(df_test.columns)\n",
    "print('Las columnas faltantes en df_test son:')\n",
    "print(faltantes)"
   ]
  },
  {
   "cell_type": "markdown",
   "metadata": {},
   "source": [
    "Las columnas faltantes varían en su aparente importancia para la propuesta de soluciones que se proveerán en este análisis. Sin embargo, algunas columnas como final.output.concentrate_ag son fundamentales para el análisis que se quiere llevar a cabo. Su tipo son todos float.  \n",
    "\n",
    "Se usará el dataset completo (df_full) y se segmentará una vez se haya hecho el preprocesamiento de datos para crear conjuntos de entrenamiento, validación y prueba. Se reducirán, además, las proporciones. En lugar de tener un conjunto de validación del 25%, serán:   \n",
    "-Entrenamiento, 60%   \n",
    "-Validación, 20%   \n",
    "-Prueba, 20%"
   ]
  },
  {
   "cell_type": "markdown",
   "metadata": {},
   "source": [
    "### Preprocesamiento de datos"
   ]
  },
  {
   "cell_type": "markdown",
   "metadata": {},
   "source": [
    "Se analizan máximos y mínimos para concluir con qué valor se llenan los Nan de cada columna. "
   ]
  },
  {
   "cell_type": "code",
   "execution_count": 14,
   "metadata": {},
   "outputs": [
    {
     "name": "stdout",
     "output_type": "stream",
     "text": [
      "Máximos: date                                          2018-08-18 10:59:59\n",
      "final.output.concentrate_ag                             16.001945\n",
      "final.output.concentrate_pb                             17.031899\n",
      "final.output.concentrate_sol                             19.61572\n",
      "final.output.concentrate_au                             53.611374\n",
      "                                                     ...         \n",
      "secondary_cleaner.state.floatbank5_a_level            -244.483566\n",
      "secondary_cleaner.state.floatbank5_b_air                39.846228\n",
      "secondary_cleaner.state.floatbank5_b_level            -120.190931\n",
      "secondary_cleaner.state.floatbank6_a_air                54.876806\n",
      "secondary_cleaner.state.floatbank6_a_level             -29.093593\n",
      "Length: 87, dtype: object\n",
      "Mínimos: date                                          2016-01-15 00:00:00\n",
      "final.output.concentrate_ag                                   0.0\n",
      "final.output.concentrate_pb                                   0.0\n",
      "final.output.concentrate_sol                                  0.0\n",
      "final.output.concentrate_au                                   0.0\n",
      "                                                     ...         \n",
      "secondary_cleaner.state.floatbank5_a_level            -799.741097\n",
      "secondary_cleaner.state.floatbank5_b_air                 0.427084\n",
      "secondary_cleaner.state.floatbank5_b_level            -800.258209\n",
      "secondary_cleaner.state.floatbank6_a_air                -0.079426\n",
      "secondary_cleaner.state.floatbank6_a_level            -810.473526\n",
      "Length: 87, dtype: object\n"
     ]
    }
   ],
   "source": [
    "print(\"Máximos:\", df_full.max())\n",
    "print(\"Mínimos:\", df_full.min())"
   ]
  },
  {
   "cell_type": "markdown",
   "metadata": {},
   "source": [
    "Se usará mediana para llenar los valores Nan de las columnas excepto la de 'date'."
   ]
  },
  {
   "cell_type": "code",
   "execution_count": 15,
   "metadata": {},
   "outputs": [],
   "source": [
    "for columna in df_full.columns:\n",
    "    if df_full[columna].isna().any():\n",
    "        df_full[columna] = df_full[columna].fillna(df_full[columna].median())"
   ]
  },
  {
   "cell_type": "code",
   "execution_count": 16,
   "metadata": {},
   "outputs": [
    {
     "data": {
      "text/plain": [
       "date                                          0\n",
       "final.output.concentrate_ag                   0\n",
       "final.output.concentrate_pb                   0\n",
       "final.output.concentrate_sol                  0\n",
       "final.output.concentrate_au                   0\n",
       "                                             ..\n",
       "secondary_cleaner.state.floatbank5_a_level    0\n",
       "secondary_cleaner.state.floatbank5_b_air      0\n",
       "secondary_cleaner.state.floatbank5_b_level    0\n",
       "secondary_cleaner.state.floatbank6_a_air      0\n",
       "secondary_cleaner.state.floatbank6_a_level    0\n",
       "Length: 87, dtype: int64"
      ]
     },
     "execution_count": 16,
     "metadata": {},
     "output_type": "execute_result"
    }
   ],
   "source": [
    "df_full.isna().sum()"
   ]
  },
  {
   "cell_type": "markdown",
   "metadata": {},
   "source": [
    "**Columna 'date'**"
   ]
  },
  {
   "cell_type": "markdown",
   "metadata": {},
   "source": [
    "Se transforma la columna date de object a datetime. "
   ]
  },
  {
   "cell_type": "code",
   "execution_count": 17,
   "metadata": {},
   "outputs": [
    {
     "name": "stdout",
     "output_type": "stream",
     "text": [
      "0    2016-01-15 00:00:00\n",
      "1    2016-01-15 01:00:00\n",
      "2    2016-01-15 02:00:00\n",
      "Name: date, dtype: object\n"
     ]
    }
   ],
   "source": [
    "print(df_full['date'].head(3))"
   ]
  },
  {
   "cell_type": "code",
   "execution_count": 18,
   "metadata": {},
   "outputs": [],
   "source": [
    "df_full['date'] = pd.to_datetime(df_full['date'], format=\"%Y-%m-%d\")"
   ]
  },
  {
   "cell_type": "code",
   "execution_count": 19,
   "metadata": {},
   "outputs": [
    {
     "name": "stdout",
     "output_type": "stream",
     "text": [
      "0   2016-01-15 00:00:00\n",
      "1   2016-01-15 01:00:00\n",
      "2   2016-01-15 02:00:00\n",
      "Name: date, dtype: datetime64[ns]\n"
     ]
    }
   ],
   "source": [
    "print(df_full['date'].head(3))"
   ]
  },
  {
   "cell_type": "markdown",
   "metadata": {},
   "source": [
    "## Análisis de datos"
   ]
  },
  {
   "cell_type": "markdown",
   "metadata": {},
   "source": [
    "### Oro"
   ]
  },
  {
   "cell_type": "markdown",
   "metadata": {},
   "source": [
    "**Concentrado / pureza**"
   ]
  },
  {
   "cell_type": "code",
   "execution_count": 20,
   "metadata": {},
   "outputs": [
    {
     "data": {
      "text/html": [
       "<div>\n",
       "<style scoped>\n",
       "    .dataframe tbody tr th:only-of-type {\n",
       "        vertical-align: middle;\n",
       "    }\n",
       "\n",
       "    .dataframe tbody tr th {\n",
       "        vertical-align: top;\n",
       "    }\n",
       "\n",
       "    .dataframe thead th {\n",
       "        text-align: right;\n",
       "    }\n",
       "</style>\n",
       "<table border=\"1\" class=\"dataframe\">\n",
       "  <thead>\n",
       "    <tr style=\"text-align: right;\">\n",
       "      <th></th>\n",
       "      <th>rougher.input.feed_au</th>\n",
       "      <th>rougher.output.concentrate_au</th>\n",
       "      <th>primary_cleaner.output.concentrate_au</th>\n",
       "      <th>final.output.concentrate_au</th>\n",
       "    </tr>\n",
       "  </thead>\n",
       "  <tbody>\n",
       "    <tr>\n",
       "      <th>0</th>\n",
       "      <td>6.486150</td>\n",
       "      <td>19.793808</td>\n",
       "      <td>34.174427</td>\n",
       "      <td>42.192020</td>\n",
       "    </tr>\n",
       "    <tr>\n",
       "      <th>1</th>\n",
       "      <td>6.478583</td>\n",
       "      <td>20.050975</td>\n",
       "      <td>34.118526</td>\n",
       "      <td>42.701629</td>\n",
       "    </tr>\n",
       "    <tr>\n",
       "      <th>2</th>\n",
       "      <td>6.362222</td>\n",
       "      <td>19.737170</td>\n",
       "      <td>33.969464</td>\n",
       "      <td>42.657501</td>\n",
       "    </tr>\n",
       "  </tbody>\n",
       "</table>\n",
       "</div>"
      ],
      "text/plain": [
       "   rougher.input.feed_au  rougher.output.concentrate_au  \\\n",
       "0               6.486150                      19.793808   \n",
       "1               6.478583                      20.050975   \n",
       "2               6.362222                      19.737170   \n",
       "\n",
       "   primary_cleaner.output.concentrate_au  final.output.concentrate_au  \n",
       "0                              34.174427                    42.192020  \n",
       "1                              34.118526                    42.701629  \n",
       "2                              33.969464                    42.657501  "
      ]
     },
     "execution_count": 20,
     "metadata": {},
     "output_type": "execute_result"
    }
   ],
   "source": [
    "df_full[['rougher.input.feed_au', 'rougher.output.concentrate_au',\n",
    "         'primary_cleaner.output.concentrate_au', 'final.output.concentrate_au']].head(3)"
   ]
  },
  {
   "cell_type": "code",
   "execution_count": 21,
   "metadata": {},
   "outputs": [
    {
     "data": {
      "image/png": "[encoded data removed]",
      "text/plain": [
       "<Figure size 640x480 with 1 Axes>"
      ]
     },
     "metadata": {},
     "output_type": "display_data"
    }
   ],
   "source": [
    "oro_concentrado_columnas = [\n",
    "    'rougher.input.feed_au', 'rougher.output.concentrate_au',\n",
    "         'primary_cleaner.output.concentrate_au', 'final.output.concentrate_au'\n",
    "]\n",
    "\n",
    "etiquetas_oro = ['Materia prima / oro', 'Limpieza etapa Rough / oro', 'Limpieza etapa primary_cleaner / oro',\n",
    "             'Concentrado final / oro']\n",
    "\n",
    "valores_medios_oro = [round(df_full[col].mean(), 2) for col in oro_concentrado_columnas]\n",
    "\n",
    "plt.figure()\n",
    "plt.plot(etiquetas_oro, valores_medios_oro, marker='x', linestyle='-.', color='yellow')\n",
    "plt.title('Proporción de oro')\n",
    "plt.xlabel('Etapa de la limpieza')\n",
    "plt.ylabel('Concentración media de oro')\n",
    "plt.xticks(rotation=45)\n",
    "plt.grid(True)\n",
    "plt.show()"
   ]
  },
  {
   "cell_type": "code",
   "execution_count": 22,
   "metadata": {},
   "outputs": [
    {
     "name": "stdout",
     "output_type": "stream",
     "text": [
      "Etapa: Materia prima / oro, Valor medio: 7.57\n",
      "Etapa: Limpieza etapa Rough / oro, Valor medio: 17.89\n",
      "Etapa: Limpieza etapa primary_cleaner / oro, Valor medio: 29.23\n",
      "Etapa: Concentrado final / oro, Valor medio: 40.02\n"
     ]
    }
   ],
   "source": [
    "for etapa, valor in zip(etiquetas_oro, valores_medios_oro):\n",
    "    print(f'Etapa: {etapa}, Valor medio: {valor}')"
   ]
  },
  {
   "cell_type": "markdown",
   "metadata": {},
   "source": [
    "La concentración áurica aumenta conforme la limpieza progresa, esto se debe a que la proporción de oro por tonelada aumenta. "
   ]
  },
  {
   "cell_type": "markdown",
   "metadata": {},
   "source": [
    "**Concentrado / pureza tail**"
   ]
  },
  {
   "cell_type": "code",
   "execution_count": 23,
   "metadata": {},
   "outputs": [
    {
     "data": {
      "text/html": [
       "<div>\n",
       "<style scoped>\n",
       "    .dataframe tbody tr th:only-of-type {\n",
       "        vertical-align: middle;\n",
       "    }\n",
       "\n",
       "    .dataframe tbody tr th {\n",
       "        vertical-align: top;\n",
       "    }\n",
       "\n",
       "    .dataframe thead th {\n",
       "        text-align: right;\n",
       "    }\n",
       "</style>\n",
       "<table border=\"1\" class=\"dataframe\">\n",
       "  <thead>\n",
       "    <tr style=\"text-align: right;\">\n",
       "      <th></th>\n",
       "      <th>rougher.input.feed_au</th>\n",
       "      <th>rougher.output.tail_au</th>\n",
       "      <th>primary_cleaner.output.tail_au</th>\n",
       "      <th>secondary_cleaner.output.tail_au</th>\n",
       "      <th>final.output.tail_au</th>\n",
       "    </tr>\n",
       "  </thead>\n",
       "  <tbody>\n",
       "    <tr>\n",
       "      <th>0</th>\n",
       "      <td>6.486150</td>\n",
       "      <td>1.170244</td>\n",
       "      <td>2.106679</td>\n",
       "      <td>2.606185</td>\n",
       "      <td>2.143149</td>\n",
       "    </tr>\n",
       "    <tr>\n",
       "      <th>1</th>\n",
       "      <td>6.478583</td>\n",
       "      <td>1.184827</td>\n",
       "      <td>2.353017</td>\n",
       "      <td>2.488248</td>\n",
       "      <td>2.224930</td>\n",
       "    </tr>\n",
       "    <tr>\n",
       "      <th>2</th>\n",
       "      <td>6.362222</td>\n",
       "      <td>1.162562</td>\n",
       "      <td>2.416800</td>\n",
       "      <td>2.458187</td>\n",
       "      <td>2.257889</td>\n",
       "    </tr>\n",
       "  </tbody>\n",
       "</table>\n",
       "</div>"
      ],
      "text/plain": [
       "   rougher.input.feed_au  rougher.output.tail_au  \\\n",
       "0               6.486150                1.170244   \n",
       "1               6.478583                1.184827   \n",
       "2               6.362222                1.162562   \n",
       "\n",
       "   primary_cleaner.output.tail_au  secondary_cleaner.output.tail_au  \\\n",
       "0                        2.106679                          2.606185   \n",
       "1                        2.353017                          2.488248   \n",
       "2                        2.416800                          2.458187   \n",
       "\n",
       "   final.output.tail_au  \n",
       "0              2.143149  \n",
       "1              2.224930  \n",
       "2              2.257889  "
      ]
     },
     "execution_count": 23,
     "metadata": {},
     "output_type": "execute_result"
    }
   ],
   "source": [
    "df_full[['rougher.input.feed_au', 'rougher.output.tail_au',\n",
    "    'primary_cleaner.output.tail_au', 'secondary_cleaner.output.tail_au', 'final.output.tail_au']].head(3)"
   ]
  },
  {
   "cell_type": "code",
   "execution_count": 24,
   "metadata": {},
   "outputs": [
    {
     "data": {
      "image/png": "[encoded data removed]",
      "text/plain": [
       "<Figure size 640x480 with 1 Axes>"
      ]
     },
     "metadata": {},
     "output_type": "display_data"
    }
   ],
   "source": [
    "oro_concentrado_columnas_tail = [\n",
    "    'rougher.input.feed_au', 'rougher.output.tail_au',\n",
    "    'primary_cleaner.output.tail_au', 'secondary_cleaner.output.tail_au', 'final.output.tail_au'\n",
    "]\n",
    "\n",
    "etiquetas_oro_tail = ['Materia prima / oro_tail', 'Limpieza etapa Rough / oro_tail', 'Limpieza etapa primary_cleaner / oro_tail',\n",
    "             'Limpieza etapa secondary_cleaner / oro_tail', 'Concentrado final / oro_tail']\n",
    "\n",
    "valores_medios_oro_tail = [round(df_full[col].mean(), 2) for col in oro_concentrado_columnas_tail]\n",
    "\n",
    "plt.figure()\n",
    "plt.plot(etiquetas_oro_tail, valores_medios_oro_tail, marker='x', linestyle='-.', color='yellow')\n",
    "plt.title('Proporción de oro / tail')\n",
    "plt.xlabel('Etapa de la limpieza')\n",
    "plt.ylabel('Concentración media de oro / tail')\n",
    "plt.xticks(rotation=45)\n",
    "plt.grid(True)\n",
    "plt.show()"
   ]
  },
  {
   "cell_type": "code",
   "execution_count": 25,
   "metadata": {},
   "outputs": [
    {
     "name": "stdout",
     "output_type": "stream",
     "text": [
      "Etapa: Materia prima / oro_tail, Valor medio: 7.57\n",
      "Etapa: Limpieza etapa Rough / oro_tail, Valor medio: 1.82\n",
      "Etapa: Limpieza etapa primary_cleaner / oro_tail, Valor medio: 3.67\n",
      "Etapa: Limpieza etapa secondary_cleaner / oro_tail, Valor medio: 4.04\n",
      "Etapa: Concentrado final / oro_tail, Valor medio: 2.83\n"
     ]
    }
   ],
   "source": [
    "for etapa, valor in zip(etiquetas_oro_tail, valores_medios_oro_tail):\n",
    "    print(f'Etapa: {etapa}, Valor medio: {valor}')"
   ]
  },
  {
   "cell_type": "markdown",
   "metadata": {},
   "source": [
    "La cantidad de oro perdida en tailings es mucho menor que la recuperada, sin embargo, se deben tomar en cuenta los números y compararlos (en caso de tener la masa total final) para poder tener una noción del porcentaje de oro recuperada en sí.   "
   ]
  },
  {
   "cell_type": "markdown",
   "metadata": {},
   "source": [
    "### Plata"
   ]
  },
  {
   "cell_type": "markdown",
   "metadata": {},
   "source": [
    "**Concentrado / pureza**"
   ]
  },
  {
   "cell_type": "code",
   "execution_count": 26,
   "metadata": {},
   "outputs": [
    {
     "data": {
      "text/html": [
       "<div>\n",
       "<style scoped>\n",
       "    .dataframe tbody tr th:only-of-type {\n",
       "        vertical-align: middle;\n",
       "    }\n",
       "\n",
       "    .dataframe tbody tr th {\n",
       "        vertical-align: top;\n",
       "    }\n",
       "\n",
       "    .dataframe thead th {\n",
       "        text-align: right;\n",
       "    }\n",
       "</style>\n",
       "<table border=\"1\" class=\"dataframe\">\n",
       "  <thead>\n",
       "    <tr style=\"text-align: right;\">\n",
       "      <th></th>\n",
       "      <th>rougher.input.feed_ag</th>\n",
       "      <th>rougher.output.concentrate_ag</th>\n",
       "      <th>primary_cleaner.output.concentrate_ag</th>\n",
       "      <th>final.output.concentrate_ag</th>\n",
       "    </tr>\n",
       "  </thead>\n",
       "  <tbody>\n",
       "    <tr>\n",
       "      <th>0</th>\n",
       "      <td>6.100378</td>\n",
       "      <td>11.500771</td>\n",
       "      <td>8.547551</td>\n",
       "      <td>6.055403</td>\n",
       "    </tr>\n",
       "    <tr>\n",
       "      <th>1</th>\n",
       "      <td>6.161113</td>\n",
       "      <td>11.615865</td>\n",
       "      <td>8.558743</td>\n",
       "      <td>6.029369</td>\n",
       "    </tr>\n",
       "    <tr>\n",
       "      <th>2</th>\n",
       "      <td>6.116455</td>\n",
       "      <td>11.695753</td>\n",
       "      <td>8.603505</td>\n",
       "      <td>6.055926</td>\n",
       "    </tr>\n",
       "  </tbody>\n",
       "</table>\n",
       "</div>"
      ],
      "text/plain": [
       "   rougher.input.feed_ag  rougher.output.concentrate_ag  \\\n",
       "0               6.100378                      11.500771   \n",
       "1               6.161113                      11.615865   \n",
       "2               6.116455                      11.695753   \n",
       "\n",
       "   primary_cleaner.output.concentrate_ag  final.output.concentrate_ag  \n",
       "0                               8.547551                     6.055403  \n",
       "1                               8.558743                     6.029369  \n",
       "2                               8.603505                     6.055926  "
      ]
     },
     "execution_count": 26,
     "metadata": {},
     "output_type": "execute_result"
    }
   ],
   "source": [
    "df_full[['rougher.input.feed_ag', 'rougher.output.concentrate_ag',\n",
    "         'primary_cleaner.output.concentrate_ag', 'final.output.concentrate_ag']].head(3)"
   ]
  },
  {
   "cell_type": "code",
   "execution_count": 27,
   "metadata": {},
   "outputs": [
    {
     "data": {
      "image/png": "[encoded data removed]",
      "text/plain": [
       "<Figure size 640x480 with 1 Axes>"
      ]
     },
     "metadata": {},
     "output_type": "display_data"
    }
   ],
   "source": [
    "plata_concentrado_columnas = [\n",
    "    'rougher.input.feed_ag', 'rougher.output.concentrate_ag',\n",
    "    'primary_cleaner.output.concentrate_ag', 'final.output.concentrate_ag'\n",
    "]\n",
    "\n",
    "etiquetas_plata = ['Materia prima / plata', 'Limpieza etapa Rough / plata', 'Limpieza etapa primary_cleaner / plata',\n",
    "             'Concentrado final / plata']\n",
    "\n",
    "valores_medios_plata = [round(df_full[col].mean(), 2) for col in plata_concentrado_columnas]\n",
    "\n",
    "plt.figure()\n",
    "plt.plot(etiquetas_plata, valores_medios_plata, marker='x', linestyle='-.')\n",
    "plt.title('Proporción de plata')\n",
    "plt.xlabel('Etapa de la limpieza')\n",
    "plt.ylabel('Concentración media de plata')\n",
    "plt.xticks(rotation=45)\n",
    "plt.grid(True)\n",
    "plt.show()"
   ]
  },
  {
   "cell_type": "code",
   "execution_count": 28,
   "metadata": {},
   "outputs": [
    {
     "name": "stdout",
     "output_type": "stream",
     "text": [
      "Etapa: Materia prima / plata, Valor medio: 8.07\n",
      "Etapa: Limpieza etapa Rough / plata, Valor medio: 10.88\n",
      "Etapa: Limpieza etapa primary_cleaner / plata, Valor medio: 7.69\n",
      "Etapa: Concentrado final / plata, Valor medio: 4.78\n"
     ]
    }
   ],
   "source": [
    "for etapa, valor in zip(etiquetas_plata, valores_medios_plata):\n",
    "    print(f'Etapa: {etapa}, Valor medio: {valor}')"
   ]
  },
  {
   "cell_type": "markdown",
   "metadata": {},
   "source": [
    "La tendencia de la plata como materia pura va en declive dado que la finalidad del proceso es recuperar el oro y, a pesar de que la plata es materia importante, no es el objetivo. A pesar del aumento dada la limpieza y la mayor concentración de plata por parte, va en declive pues no es la buscada. "
   ]
  },
  {
   "cell_type": "markdown",
   "metadata": {},
   "source": [
    "**Concentrado / pureza tail**"
   ]
  },
  {
   "cell_type": "code",
   "execution_count": 29,
   "metadata": {},
   "outputs": [
    {
     "data": {
      "text/html": [
       "<div>\n",
       "<style scoped>\n",
       "    .dataframe tbody tr th:only-of-type {\n",
       "        vertical-align: middle;\n",
       "    }\n",
       "\n",
       "    .dataframe tbody tr th {\n",
       "        vertical-align: top;\n",
       "    }\n",
       "\n",
       "    .dataframe thead th {\n",
       "        text-align: right;\n",
       "    }\n",
       "</style>\n",
       "<table border=\"1\" class=\"dataframe\">\n",
       "  <thead>\n",
       "    <tr style=\"text-align: right;\">\n",
       "      <th></th>\n",
       "      <th>rougher.input.feed_ag</th>\n",
       "      <th>rougher.output.tail_ag</th>\n",
       "      <th>primary_cleaner.output.tail_ag</th>\n",
       "      <th>secondary_cleaner.output.tail_ag</th>\n",
       "      <th>final.output.tail_ag</th>\n",
       "    </tr>\n",
       "  </thead>\n",
       "  <tbody>\n",
       "    <tr>\n",
       "      <th>0</th>\n",
       "      <td>6.100378</td>\n",
       "      <td>5.008018</td>\n",
       "      <td>14.936526</td>\n",
       "      <td>14.500184</td>\n",
       "      <td>10.411962</td>\n",
       "    </tr>\n",
       "    <tr>\n",
       "      <th>1</th>\n",
       "      <td>6.161113</td>\n",
       "      <td>4.955378</td>\n",
       "      <td>16.250511</td>\n",
       "      <td>14.265474</td>\n",
       "      <td>10.462676</td>\n",
       "    </tr>\n",
       "    <tr>\n",
       "      <th>2</th>\n",
       "      <td>6.116455</td>\n",
       "      <td>4.843460</td>\n",
       "      <td>16.491823</td>\n",
       "      <td>14.115662</td>\n",
       "      <td>10.507046</td>\n",
       "    </tr>\n",
       "  </tbody>\n",
       "</table>\n",
       "</div>"
      ],
      "text/plain": [
       "   rougher.input.feed_ag  rougher.output.tail_ag  \\\n",
       "0               6.100378                5.008018   \n",
       "1               6.161113                4.955378   \n",
       "2               6.116455                4.843460   \n",
       "\n",
       "   primary_cleaner.output.tail_ag  secondary_cleaner.output.tail_ag  \\\n",
       "0                       14.936526                         14.500184   \n",
       "1                       16.250511                         14.265474   \n",
       "2                       16.491823                         14.115662   \n",
       "\n",
       "   final.output.tail_ag  \n",
       "0             10.411962  \n",
       "1             10.462676  \n",
       "2             10.507046  "
      ]
     },
     "execution_count": 29,
     "metadata": {},
     "output_type": "execute_result"
    }
   ],
   "source": [
    "df_full[['rougher.input.feed_ag', 'rougher.output.tail_ag',\n",
    "    'primary_cleaner.output.tail_ag', 'secondary_cleaner.output.tail_ag', 'final.output.tail_ag']].head(3)"
   ]
  },
  {
   "cell_type": "code",
   "execution_count": 30,
   "metadata": {},
   "outputs": [
    {
     "data": {
      "image/png": "[encoded data removed]",
      "text/plain": [
       "<Figure size 640x480 with 1 Axes>"
      ]
     },
     "metadata": {},
     "output_type": "display_data"
    }
   ],
   "source": [
    "plata_concentrado_columnas_tail = [\n",
    "    'rougher.input.feed_ag', 'rougher.output.tail_ag',\n",
    "    'primary_cleaner.output.tail_ag', 'secondary_cleaner.output.tail_ag', 'final.output.tail_ag'\n",
    "]\n",
    "\n",
    "etiquetas_plata_tail = ['Materia prima / plata_tail', 'Limpieza etapa Rough / plata_tail', 'Limpieza etapa primary_cleaner / plata_tail',\n",
    "             'Limpieza etapa secondary_cleaner / plata_tail', 'Concentrado final / plata_tail']\n",
    "\n",
    "valores_medios_plata_tail = [round(df_full[col].mean(), 2) for col in plata_concentrado_columnas_tail]\n",
    "\n",
    "plt.figure()\n",
    "plt.plot(etiquetas_plata_tail, valores_medios_plata_tail, marker='x', linestyle='-.')\n",
    "plt.title('Proporción de plata / tail')\n",
    "plt.xlabel('Etapa de la limpieza')\n",
    "plt.ylabel('Concentración media de plata / tail')\n",
    "plt.xticks(rotation=45)\n",
    "plt.grid(True)\n",
    "plt.show()"
   ]
  },
  {
   "cell_type": "markdown",
   "metadata": {},
   "source": [
    "La tendencia es parecida a la plata concentrada, ya que no es la materia buscada, se va perdiendo en el proceso. "
   ]
  },
  {
   "cell_type": "code",
   "execution_count": 31,
   "metadata": {},
   "outputs": [
    {
     "name": "stdout",
     "output_type": "stream",
     "text": [
      "Etapa: Materia prima / plata_tail, Valor medio: 8.07\n",
      "Etapa: Limpieza etapa Rough / plata_tail, Valor medio: 5.61\n",
      "Etapa: Limpieza etapa primary_cleaner / plata_tail, Valor medio: 14.88\n",
      "Etapa: Limpieza etapa secondary_cleaner / plata_tail, Valor medio: 13.38\n",
      "Etapa: Concentrado final / plata_tail, Valor medio: 8.93\n"
     ]
    }
   ],
   "source": [
    "for etapa, valor in zip(etiquetas_plata_tail, valores_medios_plata_tail):\n",
    "    print(f'Etapa: {etapa}, Valor medio: {valor}')"
   ]
  },
  {
   "cell_type": "markdown",
   "metadata": {},
   "source": [
    "**Suma plata**"
   ]
  },
  {
   "cell_type": "markdown",
   "metadata": {},
   "source": [
    "### Plomo"
   ]
  },
  {
   "cell_type": "markdown",
   "metadata": {},
   "source": [
    "**Concentrado / pureza**"
   ]
  },
  {
   "cell_type": "code",
   "execution_count": 32,
   "metadata": {},
   "outputs": [
    {
     "data": {
      "text/html": [
       "<div>\n",
       "<style scoped>\n",
       "    .dataframe tbody tr th:only-of-type {\n",
       "        vertical-align: middle;\n",
       "    }\n",
       "\n",
       "    .dataframe tbody tr th {\n",
       "        vertical-align: top;\n",
       "    }\n",
       "\n",
       "    .dataframe thead th {\n",
       "        text-align: right;\n",
       "    }\n",
       "</style>\n",
       "<table border=\"1\" class=\"dataframe\">\n",
       "  <thead>\n",
       "    <tr style=\"text-align: right;\">\n",
       "      <th></th>\n",
       "      <th>rougher.input.feed_pb</th>\n",
       "      <th>rougher.output.concentrate_pb</th>\n",
       "      <th>primary_cleaner.output.concentrate_pb</th>\n",
       "      <th>final.output.concentrate_pb</th>\n",
       "    </tr>\n",
       "  </thead>\n",
       "  <tbody>\n",
       "    <tr>\n",
       "      <th>0</th>\n",
       "      <td>2.284912</td>\n",
       "      <td>7.101074</td>\n",
       "      <td>10.389648</td>\n",
       "      <td>9.889648</td>\n",
       "    </tr>\n",
       "    <tr>\n",
       "      <th>1</th>\n",
       "      <td>2.266033</td>\n",
       "      <td>7.278807</td>\n",
       "      <td>10.497069</td>\n",
       "      <td>9.968944</td>\n",
       "    </tr>\n",
       "    <tr>\n",
       "      <th>2</th>\n",
       "      <td>2.159622</td>\n",
       "      <td>7.216833</td>\n",
       "      <td>10.354494</td>\n",
       "      <td>10.213995</td>\n",
       "    </tr>\n",
       "  </tbody>\n",
       "</table>\n",
       "</div>"
      ],
      "text/plain": [
       "   rougher.input.feed_pb  rougher.output.concentrate_pb  \\\n",
       "0               2.284912                       7.101074   \n",
       "1               2.266033                       7.278807   \n",
       "2               2.159622                       7.216833   \n",
       "\n",
       "   primary_cleaner.output.concentrate_pb  final.output.concentrate_pb  \n",
       "0                              10.389648                     9.889648  \n",
       "1                              10.497069                     9.968944  \n",
       "2                              10.354494                    10.213995  "
      ]
     },
     "execution_count": 32,
     "metadata": {},
     "output_type": "execute_result"
    }
   ],
   "source": [
    "df_full[['rougher.input.feed_pb', 'rougher.output.concentrate_pb',\n",
    "                  'primary_cleaner.output.concentrate_pb', 'final.output.concentrate_pb']].head(3)"
   ]
  },
  {
   "cell_type": "code",
   "execution_count": 33,
   "metadata": {},
   "outputs": [
    {
     "data": {
      "image/png": "[encoded data removed]",
      "text/plain": [
       "<Figure size 640x480 with 1 Axes>"
      ]
     },
     "metadata": {},
     "output_type": "display_data"
    }
   ],
   "source": [
    "plomo_concentrado_columnas = [\n",
    "    'rougher.input.feed_pb', 'rougher.output.concentrate_pb',\n",
    "                  'primary_cleaner.output.concentrate_pb', 'final.output.concentrate_pb'\n",
    "]\n",
    "\n",
    "etiquetas_plomo = ['Materia prima / plomo', 'Limpieza etapa Rough / plomo', 'Limpieza etapa primary_cleaner / plomo',\n",
    "             'Concentrado final / plomo']\n",
    "\n",
    "valores_medios_plomo = [round(df_full[col].mean(), 2) for col in plomo_concentrado_columnas]\n",
    "\n",
    "plt.figure()\n",
    "plt.plot(etiquetas_plomo, valores_medios_plomo, marker='x', linestyle='-.', color='black')\n",
    "plt.title('Proporción de plomo')\n",
    "plt.xlabel('Etapa de la limpieza')\n",
    "plt.ylabel('Concentración media de plomo')\n",
    "plt.xticks(rotation=45)\n",
    "plt.grid(True)\n",
    "plt.show()"
   ]
  },
  {
   "cell_type": "code",
   "execution_count": 34,
   "metadata": {},
   "outputs": [
    {
     "name": "stdout",
     "output_type": "stream",
     "text": [
      "Etapa: Materia prima / plomo, Valor medio: 3.31\n",
      "Etapa: Limpieza etapa Rough / plomo, Valor medio: 6.9\n",
      "Etapa: Limpieza etapa primary_cleaner / plomo, Valor medio: 8.94\n",
      "Etapa: Concentrado final / plomo, Valor medio: 9.1\n"
     ]
    }
   ],
   "source": [
    "for etapa, valor in zip(etiquetas_plomo, valores_medios_plomo):\n",
    "    print(f'Etapa: {etapa}, Valor medio: {valor}')"
   ]
  },
  {
   "cell_type": "markdown",
   "metadata": {},
   "source": [
    "Conforme se avanza en la limpieza de la materia, la cantidad de plomo por parte aumenta a su vez en la concentración, lo cuál se habrá de tomar en cuenta para la extracción pura del oro."
   ]
  },
  {
   "cell_type": "code",
   "execution_count": 35,
   "metadata": {},
   "outputs": [
    {
     "data": {
      "text/html": [
       "<div>\n",
       "<style scoped>\n",
       "    .dataframe tbody tr th:only-of-type {\n",
       "        vertical-align: middle;\n",
       "    }\n",
       "\n",
       "    .dataframe tbody tr th {\n",
       "        vertical-align: top;\n",
       "    }\n",
       "\n",
       "    .dataframe thead th {\n",
       "        text-align: right;\n",
       "    }\n",
       "</style>\n",
       "<table border=\"1\" class=\"dataframe\">\n",
       "  <thead>\n",
       "    <tr style=\"text-align: right;\">\n",
       "      <th></th>\n",
       "      <th>rougher.input.feed_pb</th>\n",
       "      <th>rougher.output.tail_pb</th>\n",
       "      <th>primary_cleaner.output.tail_pb</th>\n",
       "      <th>secondary_cleaner.output.tail_pb</th>\n",
       "      <th>final.output.tail_pb</th>\n",
       "    </tr>\n",
       "  </thead>\n",
       "  <tbody>\n",
       "    <tr>\n",
       "      <th>0</th>\n",
       "      <td>2.284912</td>\n",
       "      <td>0.508728</td>\n",
       "      <td>2.534912</td>\n",
       "      <td>4.694824</td>\n",
       "      <td>0.895447</td>\n",
       "    </tr>\n",
       "    <tr>\n",
       "      <th>1</th>\n",
       "      <td>2.266033</td>\n",
       "      <td>0.536689</td>\n",
       "      <td>3.049646</td>\n",
       "      <td>4.592547</td>\n",
       "      <td>0.927452</td>\n",
       "    </tr>\n",
       "    <tr>\n",
       "      <th>2</th>\n",
       "      <td>2.159622</td>\n",
       "      <td>0.546416</td>\n",
       "      <td>3.124664</td>\n",
       "      <td>4.624775</td>\n",
       "      <td>0.953716</td>\n",
       "    </tr>\n",
       "  </tbody>\n",
       "</table>\n",
       "</div>"
      ],
      "text/plain": [
       "   rougher.input.feed_pb  rougher.output.tail_pb  \\\n",
       "0               2.284912                0.508728   \n",
       "1               2.266033                0.536689   \n",
       "2               2.159622                0.546416   \n",
       "\n",
       "   primary_cleaner.output.tail_pb  secondary_cleaner.output.tail_pb  \\\n",
       "0                        2.534912                          4.694824   \n",
       "1                        3.049646                          4.592547   \n",
       "2                        3.124664                          4.624775   \n",
       "\n",
       "   final.output.tail_pb  \n",
       "0              0.895447  \n",
       "1              0.927452  \n",
       "2              0.953716  "
      ]
     },
     "execution_count": 35,
     "metadata": {},
     "output_type": "execute_result"
    }
   ],
   "source": [
    "df_full[['rougher.input.feed_pb', 'rougher.output.tail_pb',\n",
    "    'primary_cleaner.output.tail_pb', 'secondary_cleaner.output.tail_pb', 'final.output.tail_pb']].head(3)"
   ]
  },
  {
   "cell_type": "code",
   "execution_count": 36,
   "metadata": {},
   "outputs": [
    {
     "data": {
      "image/png": "[encoded data removed]",
      "text/plain": [
       "<Figure size 640x480 with 1 Axes>"
      ]
     },
     "metadata": {},
     "output_type": "display_data"
    }
   ],
   "source": [
    "plomo_concentrado_columnas_tail = [\n",
    "    'rougher.input.feed_pb', 'rougher.output.tail_pb',\n",
    "    'primary_cleaner.output.tail_pb', 'secondary_cleaner.output.tail_pb', 'final.output.tail_pb'\n",
    "]\n",
    "\n",
    "etiquetas_plomo_tail = ['Materia prima / plomo_tail', 'Limpieza etapa Rough / plomo_tail', 'Limpieza etapa primary_cleaner / plomo_tail',\n",
    "             'Limpieza etapa secondary_cleaner / plomo_tail', 'Concentrado final / plomo_tail']\n",
    "\n",
    "valores_medios_plomo_tail = [round(df_full[col].mean(), 2) for col in plomo_concentrado_columnas_tail]\n",
    "\n",
    "plt.figure()\n",
    "plt.plot(etiquetas_plomo_tail, valores_medios_plomo_tail, marker='x', linestyle='-.', color='black')\n",
    "plt.title('Proporción de plomo / tail')\n",
    "plt.xlabel('Etapa de la limpieza')\n",
    "plt.ylabel('Concentración media de plomo / tail')\n",
    "plt.xticks(rotation=45)\n",
    "plt.grid(True)\n",
    "plt.show()"
   ]
  },
  {
   "cell_type": "code",
   "execution_count": 37,
   "metadata": {},
   "outputs": [
    {
     "name": "stdout",
     "output_type": "stream",
     "text": [
      "Etapa: Materia prima / plomo_tail, Valor medio: 3.31\n",
      "Etapa: Limpieza etapa Rough / plomo_tail, Valor medio: 0.59\n",
      "Etapa: Limpieza etapa primary_cleaner / plomo_tail, Valor medio: 3.18\n",
      "Etapa: Limpieza etapa secondary_cleaner / plomo_tail, Valor medio: 5.3\n",
      "Etapa: Concentrado final / plomo_tail, Valor medio: 2.49\n"
     ]
    }
   ],
   "source": [
    "for etapa, valor in zip(etiquetas_plomo_tail, valores_medios_plomo_tail):\n",
    "    print(f'Etapa: {etapa}, Valor medio: {valor}')"
   ]
  },
  {
   "cell_type": "markdown",
   "metadata": {},
   "source": [
    "En el presente análisis, se señalan tanto plomo como plata en tailings dado su posible impacto ambiental durante la extracción áurica. Si bien, se busca aumentar las ganancias, en cuanto a la zona de extracción y las consencuencias ambientales/sociales/políticas, podrían tomarse en cuenta. Además, en estadios posteriores del procesamiento, otros minerales o elementos podrían ser extraídos."
   ]
  },
  {
   "cell_type": "markdown",
   "metadata": {},
   "source": [
    "<div class=\"alert alert-block alert-success\">\n",
    "<b>Comentario del revisor (1ra Iteracion)</b> <a class=“tocSkip”></a>\n",
    "\n",
    "Correcto, analizaste muy bien la distribución de cada metal y redactaste las conclusiones de manera adecuada dejando claro el análisis"
   ]
  },
  {
   "cell_type": "markdown",
   "metadata": {},
   "source": [
    "### Plomo"
   ]
  },
  {
   "cell_type": "markdown",
   "metadata": {},
   "source": [
    "**Partículas en rougher.input.feed_size**"
   ]
  },
  {
   "cell_type": "code",
   "execution_count": 38,
   "metadata": {},
   "outputs": [
    {
     "data": {
      "image/png": "[encoded data removed]",
      "text/plain": [
       "<Figure size 640x480 with 1 Axes>"
      ]
     },
     "metadata": {},
     "output_type": "display_data"
    }
   ],
   "source": [
    "plt.hist(df_train['rougher.input.feed_size'], bins=50, alpha=0.5, label='Entrenamiento', density=True)\n",
    "plt.hist(df_test['rougher.input.feed_size'], bins=50, alpha=0.5, label='Prueba', density=True)\n",
    "plt.title('Tamaño de partículas rougher.input.feed')\n",
    "plt.xlabel('Tamaño de partículas')\n",
    "plt.ylabel('Densidad')\n",
    "plt.grid(True)\n",
    "plt.legend()\n",
    "plt.show()"
   ]
  },
  {
   "cell_type": "markdown",
   "metadata": {},
   "source": [
    "**Tamaño de partículas en primary_cleaner.input.feed_size**"
   ]
  },
  {
   "cell_type": "code",
   "execution_count": 39,
   "metadata": {},
   "outputs": [
    {
     "data": {
      "image/png": "[encoded data removed]",
      "text/plain": [
       "<Figure size 640x480 with 1 Axes>"
      ]
     },
     "metadata": {},
     "output_type": "display_data"
    }
   ],
   "source": [
    "plt.hist(df_train['primary_cleaner.input.feed_size'], bins=50, alpha=0.5, label='Entrenamiento', density=True)\n",
    "plt.hist(df_test['primary_cleaner.input.feed_size'], bins=50, alpha=0.5, label='Prueba', density=True)\n",
    "plt.title('Tamaño de partículas rougher.input.feed')\n",
    "plt.xlabel('Tamaño de partículas')\n",
    "plt.ylabel('Densidad')\n",
    "plt.grid(True)\n",
    "plt.legend()\n",
    "plt.show()"
   ]
  },
  {
   "cell_type": "markdown",
   "metadata": {},
   "source": [
    "Al usarse density=True, se puede ver que las distribuciones relativas de ambos data_sets, tanto el de entrenamiento y el de prueba, son parecidos. Esto nos indicaría que se podrían usar para el entrenamiento de nuestro modelo y no afectaría esto los resultados. "
   ]
  },
  {
   "cell_type": "markdown",
   "metadata": {},
   "source": [
    "### Valores anormales en concentración"
   ]
  },
  {
   "cell_type": "markdown",
   "metadata": {},
   "source": [
    "#### Materia prima"
   ]
  },
  {
   "cell_type": "code",
   "execution_count": 40,
   "metadata": {},
   "outputs": [
    {
     "data": {
      "image/png": "[encoded data removed]",
      "text/plain": [
       "<Figure size 640x480 with 1 Axes>"
      ]
     },
     "metadata": {},
     "output_type": "display_data"
    }
   ],
   "source": [
    "columnas_primera = {\n",
    "    \"oro\" : \"rougher.input.feed_au\",\n",
    "    'plata' : 'rougher.input.feed_ag',\n",
    "    'plomo' : 'rougher.input.feed_pb',\n",
    "    'sólido' : 'rougher.input.feed_sol'   \n",
    "}\n",
    "\n",
    "etiquetas = list(columnas_primera.keys())\n",
    "info = [df_full[col] for col in columnas_primera.values()]\n",
    "\n",
    "plt.boxplot(info, labels=etiquetas)\n",
    "plt.title('Concentración de sustancias materia prima')\n",
    "plt.ylabel('Cantidad')\n",
    "plt.grid(True)"
   ]
  },
  {
   "cell_type": "markdown",
   "metadata": {},
   "source": [
    "En la fase inicial, en todas las materias, hay valores atípicos, sin embargo, al ser la cantidad mucha, podríase optar por una escalada de valores para el entrenamiento de los modelos."
   ]
  },
  {
   "cell_type": "markdown",
   "metadata": {},
   "source": [
    "#### Salida rougher"
   ]
  },
  {
   "cell_type": "code",
   "execution_count": 41,
   "metadata": {},
   "outputs": [
    {
     "data": {
      "image/png": "[encoded data removed]",
      "text/plain": [
       "<Figure size 640x480 with 1 Axes>"
      ]
     },
     "metadata": {},
     "output_type": "display_data"
    }
   ],
   "source": [
    "columnas_segunda = {\n",
    "    \"oro\" : \"rougher.output.concentrate_au\",\n",
    "    'plata' : 'rougher.output.concentrate_ag',\n",
    "    'plomo' : 'rougher.output.concentrate_pb',\n",
    "    'sólido' : 'rougher.output.concentrate_sol'\n",
    "}\n",
    "\n",
    "etiquetas_2= list(columnas_segunda.keys())\n",
    "info_2 = [df_full[col] for col in columnas_segunda.values()]\n",
    "\n",
    "plt.boxplot(info_2, labels=etiquetas_2)\n",
    "plt.title('Concentración de sustancias salida rougher')\n",
    "plt.ylabel('Cantidad')\n",
    "plt.grid(True)"
   ]
  },
  {
   "cell_type": "markdown",
   "metadata": {},
   "source": [
    "En la segunda etapa también hay aparición de valores atípicos, sin embargo, en comparación con la previa etapa, aquí oro, plata y plomo tienen más que antes. "
   ]
  },
  {
   "cell_type": "markdown",
   "metadata": {},
   "source": [
    "#### Salida primary_cleaner.output"
   ]
  },
  {
   "cell_type": "code",
   "execution_count": 42,
   "metadata": {},
   "outputs": [
    {
     "data": {
      "image/png": "[encoded data removed]",
      "text/plain": [
       "<Figure size 640x480 with 1 Axes>"
      ]
     },
     "metadata": {},
     "output_type": "display_data"
    }
   ],
   "source": [
    "columnas_tercera = {\n",
    "    \"oro\" : \"primary_cleaner.output.concentrate_au\",\n",
    "    'plata' : 'primary_cleaner.output.concentrate_ag',\n",
    "    'plomo' : 'primary_cleaner.output.concentrate_pb',\n",
    "    'sólido' : 'primary_cleaner.output.concentrate_sol'\n",
    "}\n",
    "\n",
    "etiquetas_3= list(columnas_tercera.keys())\n",
    "info_3 = [df_full[col] for col in columnas_tercera.values()]\n",
    "\n",
    "plt.boxplot(info_3, labels=etiquetas_3)\n",
    "plt.title('Concentración de sustancias salida primary_cleaner.output')\n",
    "plt.ylabel('Cantidad')\n",
    "plt.grid(True)"
   ]
  },
  {
   "cell_type": "markdown",
   "metadata": {},
   "source": [
    "En la etapa final, oro es la que tiene más valores atípicos, lo cual es lógico, ya que es la materia siendo extraída. Eliminar los valores atípicos significaría la pérdida de muchos valores que podrían afectar los cálculos posteriores, por lo que se escalarán los datos para probar el funcionamiento de los modelos. "
   ]
  },
  {
   "cell_type": "markdown",
   "metadata": {},
   "source": [
    "<div class=\"alert alert-block alert-success\">\n",
    "<b>Comentario del revisor (1ra Iteracion)</b> <a class=“tocSkip”></a>\n",
    "\n",
    "El análisis fue realizado correctamente, este es un paso importante antes de pasar a ejecutar cualquier otro paso de negocio o de modelado usando Machine Learning"
   ]
  },
  {
   "cell_type": "code",
   "execution_count": null,
   "metadata": {},
   "outputs": [],
   "source": []
  },
  {
   "cell_type": "markdown",
   "metadata": {},
   "source": [
    "## División y escalado de datos"
   ]
  },
  {
   "cell_type": "markdown",
   "metadata": {},
   "source": [
    "Se segmenta el df_full en 3 partes:   \n",
    "-60% de entrenamiento   \n",
    "-20 % de validación    \n",
    "-20% de prueba"
   ]
  },
  {
   "cell_type": "code",
   "execution_count": 43,
   "metadata": {},
   "outputs": [],
   "source": [
    "target = df_full['final.output.concentrate_ag']\n",
    "features = df_full.drop(['final.output.concentrate_ag', 'date'], axis=1)\n",
    "\n",
    "x_temp, x_test, y_temp, y_test = train_test_split(features, target, test_size=0.2, random_state=12345)"
   ]
  },
  {
   "cell_type": "code",
   "execution_count": 44,
   "metadata": {},
   "outputs": [],
   "source": [
    "x_train, x_val, y_train, y_val = train_test_split(x_temp, y_temp, test_size=0.25, random_state=12345)"
   ]
  },
  {
   "cell_type": "code",
   "execution_count": 45,
   "metadata": {},
   "outputs": [],
   "source": [
    "scaler = StandardScaler()\n",
    "x_train = scaler.fit_transform(x_train)\n",
    "x_test = scaler.transform(x_test)\n",
    "x_val = scaler.transform(x_val)"
   ]
  },
  {
   "cell_type": "markdown",
   "metadata": {},
   "source": [
    "## Construcción de modelo   \n",
    "Se comienza con la comparación de modelos en escenarios ideales y luego se crea la función sMAPE y se usan para métricas de evaluación. "
   ]
  },
  {
   "cell_type": "markdown",
   "metadata": {},
   "source": [
    "**Regresión linear** "
   ]
  },
  {
   "cell_type": "code",
   "execution_count": 46,
   "metadata": {},
   "outputs": [
    {
     "name": "stdout",
     "output_type": "stream",
     "text": [
      "El valor de R2 es 0.824655721996291\n",
      "El valor de RMSE es 0.857103278613901\n",
      "El promedio de evaluación del modelo es 0.8138632903767237\n"
     ]
    }
   ],
   "source": [
    "model_lineal = LinearRegression()\n",
    "model_lineal.fit(x_train, y_train)\n",
    "\n",
    "predictions_lineal = model_lineal.predict(x_val)\n",
    "\n",
    "mse_lineal = mean_squared_error (y_val, predictions_lineal)\n",
    "rmse_lineal = mse_lineal**0.5\n",
    "\n",
    "r2_lineal = r2_score(y_val, predictions_lineal)\n",
    "\n",
    "final_lineal = cross_val_score(model_lineal, x_temp, y_temp, cv=5).mean()\n",
    "\n",
    "print('El valor de R2 es', r2_lineal)\n",
    "print('El valor de RMSE es', rmse_lineal)\n",
    "print('El promedio de evaluación del modelo es', final_lineal)"
   ]
  },
  {
   "cell_type": "markdown",
   "metadata": {},
   "source": [
    "En el modelo de regresión linear, nos indica R2 que el modelo logra explicar el 82.4% de la variabilidad en cuanto a nuestro objetivo.      \n",
    "El error promedio es de 0.86, lo cual quiere decir que es un error moderado en cuanto a predicciones.   \n",
    "Finalmente, la calificación final nos sugiere que el desempeño del modelo es consistente en cuanto a sus parámetros. "
   ]
  },
  {
   "cell_type": "markdown",
   "metadata": {},
   "source": [
    "**Decision Tree Regressor**"
   ]
  },
  {
   "cell_type": "code",
   "execution_count": 47,
   "metadata": {},
   "outputs": [
    {
     "name": "stdout",
     "output_type": "stream",
     "text": [
      "Mejor profundidad: 9\n",
      "RMSE: 0.6541617770144578\n",
      "R2: 0.8978600562417903\n",
      "Promedio de modelo: 0.8856209818216728\n"
     ]
    }
   ],
   "source": [
    "mejor_modelo = None\n",
    "mejor_resultado = 10000\n",
    "mejor_profundidad = 0\n",
    "mejor_r2 = 0\n",
    "mejor_promedio = 0\n",
    "\n",
    "for profundidad in range (1, 10):\n",
    "    model_tree=DecisionTreeRegressor(random_state=12345, max_depth=profundidad)\n",
    "    model_tree.fit(x_train, y_train)\n",
    "    \n",
    "    predictions_tree = model_tree.predict(x_val)\n",
    "    \n",
    "    mse_tree = mean_squared_error(y_val, predictions_tree)\n",
    "    rmse_tree = mse_tree**0.5\n",
    "       \n",
    "    r2_tree = r2_score(y_val, predictions_tree)\n",
    "    final_tree = cross_val_score(model_tree, x_temp, y_temp, cv=5).mean()\n",
    "    \n",
    "    if rmse_tree < mejor_resultado:\n",
    "        mejor_modelo = model_tree\n",
    "        mejor_resultado = rmse_tree\n",
    "        mejor_profundidad = profundidad\n",
    "        mejor_r2 = r2_tree\n",
    "        mejor_promedio = final_tree\n",
    "        \n",
    "print(f'Mejor profundidad: {mejor_profundidad}')\n",
    "print(f'RMSE: {mejor_resultado}')\n",
    "print(f'R2: {mejor_r2}')\n",
    "print(f'Promedio de modelo: {mejor_promedio}')"
   ]
  },
  {
   "cell_type": "markdown",
   "metadata": {},
   "source": [
    "El RMSE nos indica una equivocación de .65 en cuanto a las predicciones realizadas.     \n",
    "Dentro de este error, el R2 nos indica que el modelo funciona bien en cuanto a la precisión y la generalización de los datos proporcionados.    \n",
    "El promedio final coincide con el R2, lo cual es idóneo. "
   ]
  },
  {
   "cell_type": "markdown",
   "metadata": {},
   "source": [
    "El modelo del árbol resulta en mejores resultados en canto al rmse y el promedio de modelo resulta también aceptable, por lo que es el que se usará para las mediciones finales."
   ]
  },
  {
   "cell_type": "markdown",
   "metadata": {},
   "source": [
    "### sMAPE    \n",
    "Se procede con la creación de una función que calcule el valor final de sMAPE."
   ]
  },
  {
   "cell_type": "code",
   "execution_count": 48,
   "metadata": {},
   "outputs": [],
   "source": [
    "def sMAPE(y_test, y_pred):\n",
    "    suma = 0\n",
    "    for test, pred in zip(y_test, y_pred):\n",
    "        arriba = abs(test - pred)\n",
    "        abajo = (abs(test) + abs(pred)) / 2\n",
    "        if abajo != 0:\n",
    "            suma_p = arriba / abajo\n",
    "            suma += suma_p\n",
    "        else:\n",
    "            suma += 0\n",
    "    \n",
    "    sumape = (suma / len(y_test)) * 100\n",
    "    \n",
    "    return sumape"
   ]
  },
  {
   "cell_type": "code",
   "execution_count": 49,
   "metadata": {},
   "outputs": [],
   "source": [
    "def sMAPEfinal(srougher, sfinal):\n",
    "    final_s = (.25 * srougher) + (.75 * sfinal)\n",
    "    return final_s"
   ]
  },
  {
   "cell_type": "markdown",
   "metadata": {},
   "source": [
    "<div class=\"alert alert-block alert-success\">\n",
    "<b>Comentario del revisor (1ra Iteracion)</b> <a class=“tocSkip”></a>\n",
    "\n",
    "Muy bien planteadas las formulas para obtener la métrica mencionada, es importante manejar la matemática a utilizar en los proyectos"
   ]
  },
  {
   "cell_type": "markdown",
   "metadata": {},
   "source": [
    "## Prueba final"
   ]
  },
  {
   "cell_type": "markdown",
   "metadata": {},
   "source": [
    "**Modelo con rougher**"
   ]
  },
  {
   "cell_type": "code",
   "execution_count": 50,
   "metadata": {},
   "outputs": [
    {
     "name": "stdout",
     "output_type": "stream",
     "text": [
      "El valor de sMAPE de rougher.output.recovery es: 2.1347570256413944\n"
     ]
    }
   ],
   "source": [
    "x_rou = df_full.drop(['rougher.output.recovery', 'date'], axis=1)\n",
    "y_rou = df_full['rougher.output.recovery']\n",
    "\n",
    "x_rou_temp, x_rou_test, y_rou_temp, y_rou_test = train_test_split(x_rou, y_rou, test_size=0.2, random_state=12345)\n",
    "x_rou_train, x_rou_val, y_rou_train, y_rou_val = train_test_split(x_rou_temp, y_rou_temp, test_size=0.25, random_state=12345)\n",
    "\n",
    "model_rou = DecisionTreeRegressor(random_state=12345, max_depth=9)\n",
    "model_rou = model_rou.fit(x_rou_train, y_rou_train)\n",
    "\n",
    "pred_rou = model_rou.predict(x_rou_test)\n",
    "\n",
    "smape_rou = sMAPE(y_rou_test, pred_rou)\n",
    "\n",
    "print(f'El valor de sMAPE de rougher.output.recovery es: {smape_rou}')"
   ]
  },
  {
   "cell_type": "markdown",
   "metadata": {},
   "source": [
    "**Modelo con final.output.recovery**"
   ]
  },
  {
   "cell_type": "code",
   "execution_count": 51,
   "metadata": {},
   "outputs": [
    {
     "name": "stdout",
     "output_type": "stream",
     "text": [
      "El valor de sMAPE de final.output.recovery es: 31.65445903988945\n"
     ]
    }
   ],
   "source": [
    "x_out = df_full.drop(['final.output.recovery', 'date'], axis=1)\n",
    "y_out = df_full['final.output.recovery']\n",
    "\n",
    "x_out_temp, x_out_test, y_out_temp, y_out_test = train_test_split(x_out, y_out, test_size=0.2, random_state=12345)\n",
    "x_out_train, x_out_val, y_out_train, y_out_val = train_test_split(x_out_temp, y_out_temp, test_size=0.25, random_state=12345)\n",
    "\n",
    "model_out = DecisionTreeRegressor(random_state=12345, max_depth=9)\n",
    "model_out = model_out.fit(x_out_train, y_out_train)\n",
    "\n",
    "pred_out = model_rou.predict(x_out_test)\n",
    "\n",
    "smape_out = sMAPE(y_out_test, pred_out)\n",
    "\n",
    "print(f'El valor de sMAPE de final.output.recovery es: {smape_out}')"
   ]
  },
  {
   "cell_type": "markdown",
   "metadata": {},
   "source": [
    "**sMAPE final**"
   ]
  },
  {
   "cell_type": "code",
   "execution_count": 52,
   "metadata": {},
   "outputs": [
    {
     "data": {
      "text/plain": [
       "24.274533536327436"
      ]
     },
     "execution_count": 52,
     "metadata": {},
     "output_type": "execute_result"
    }
   ],
   "source": [
    "sMAPEfinal(smape_rou, smape_out)"
   ]
  },
  {
   "cell_type": "code",
   "execution_count": 53,
   "metadata": {},
   "outputs": [
    {
     "data": {
      "text/plain": [
       "final.output.recovery          67.523081\n",
       "final.output.concentrate_au    40.018785\n",
       "final.output.tail_au            2.827767\n",
       "dtype: float64"
      ]
     },
     "execution_count": 53,
     "metadata": {},
     "output_type": "execute_result"
    }
   ],
   "source": [
    "df_full[['final.output.recovery', 'final.output.concentrate_au', 'final.output.tail_au']].mean()"
   ]
  },
  {
   "cell_type": "markdown",
   "metadata": {},
   "source": [
    "## Conclusión"
   ]
  },
  {
   "cell_type": "markdown",
   "metadata": {},
   "source": [
    "La métrica final mMAPE nos indica un error simétrico del 24.27% en la extracción de oro. Una cantidad importante dadas las cantidades obtenidas. A continuación, las propuestas:    \n",
    "-Se debe tomar en cuenta la probable mejora del modelo, ya que se usó escalado de datos para el entrenamiento del modelo, pero no se escaló target(y), así que habríase de considerar para medir con cuidado sMAPE final.    \n",
    "-Si bien, los procesos actuales de Zyfra permiten extraer imporantes cantidades de materia, podríase eficientar el proceso o tener otro proceso con el sobrante de los tailings.   \n",
    "-En caso de que se buscara eficientar la extracción de oro, habríase de revisar el procedimiento y rectificar la información obtenida al momento de este análisis.    \n",
    "-Asimismo, la empresa podría utilizar aquellos materiales que no son exactamente oro para aumentar ya sean las ganancias o el mismo proceso de extracción; asimismo, considerar estos elementos secundarios y su posible impacto en el ambiente una vez extraída la materia requerida.    \n",
    "-Se deben considerar las importantes cantidades de valores atípicos, pues estos afectan los cálculos. A pesar de que ser eliminados del cálculo, era opción, se consideró que se perdería información valiosa pues estas variaciones también son parte ya sea de las ganancias o las pérdidas, por eso se tomaron en cuenta como factor de análisis."
   ]
  },
  {
   "cell_type": "markdown",
   "metadata": {},
   "source": [
    "<div class=\"alert alert-block alert-success\">\n",
    "<b>Comentario del revisor (1ra Iteracion)</b> <a class=“tocSkip”></a>\n",
    "\n",
    "Muy buen trabajo, realizaste los pasos al pie de la letra con un análisis detallado de cada punto. Te recomendaría que las conclusiones las detalles un poco más en base también a las gráficas que pudiste analizar en el proyecto, las conclusiones finales son como el resúmen de tu proyecto por lo que hay que incluir los puntos importantes encontrados desde el principio del proyecto. Saludos!"
   ]
  }
 ],
 "metadata": {
  "ExecuteTimeLog": [
   {
    "duration": 2496,
    "start_time": "2025-04-20T19:07:55.211Z"
   },
   {
    "duration": 582,
    "start_time": "2025-04-20T19:11:05.699Z"
   },
   {
    "duration": 285,
    "start_time": "2025-04-20T19:11:35.877Z"
   },
   {
    "duration": 615,
    "start_time": "2025-04-20T19:11:47.766Z"
   },
   {
    "duration": 13,
    "start_time": "2025-04-20T19:12:21.682Z"
   },
   {
    "duration": 14,
    "start_time": "2025-04-20T19:12:27.358Z"
   },
   {
    "duration": 13,
    "start_time": "2025-04-20T19:12:53.911Z"
   },
   {
    "duration": 13,
    "start_time": "2025-04-20T19:13:01.417Z"
   },
   {
    "duration": 10,
    "start_time": "2025-04-20T19:13:06.532Z"
   },
   {
    "duration": 10,
    "start_time": "2025-04-20T19:13:44.169Z"
   },
   {
    "duration": 13,
    "start_time": "2025-04-20T19:14:06.800Z"
   },
   {
    "duration": 4,
    "start_time": "2025-04-20T19:14:37.018Z"
   },
   {
    "duration": 11,
    "start_time": "2025-04-20T19:14:53.391Z"
   },
   {
    "duration": 9,
    "start_time": "2025-04-20T19:15:12.528Z"
   },
   {
    "duration": 3,
    "start_time": "2025-04-20T19:36:08.822Z"
   },
   {
    "duration": 3,
    "start_time": "2025-04-20T19:47:42.848Z"
   },
   {
    "duration": 13,
    "start_time": "2025-04-20T19:48:14.622Z"
   },
   {
    "duration": 13,
    "start_time": "2025-04-20T19:48:20.277Z"
   },
   {
    "duration": 154,
    "start_time": "2025-04-20T19:48:54.185Z"
   },
   {
    "duration": 14,
    "start_time": "2025-04-20T19:50:02.228Z"
   },
   {
    "duration": 4,
    "start_time": "2025-04-20T19:50:56.238Z"
   },
   {
    "duration": 11,
    "start_time": "2025-04-20T19:51:05.619Z"
   },
   {
    "duration": 409,
    "start_time": "2025-04-20T19:54:23.499Z"
   },
   {
    "duration": 40,
    "start_time": "2025-04-20T19:55:15.279Z"
   },
   {
    "duration": 4,
    "start_time": "2025-04-20T19:55:26.032Z"
   },
   {
    "duration": 3,
    "start_time": "2025-04-20T19:57:41.637Z"
   },
   {
    "duration": 3,
    "start_time": "2025-04-20T19:57:49.084Z"
   },
   {
    "duration": 4,
    "start_time": "2025-04-20T19:59:34.719Z"
   },
   {
    "duration": 2,
    "start_time": "2025-04-20T20:04:36.743Z"
   },
   {
    "duration": 5,
    "start_time": "2025-04-20T20:04:42.048Z"
   },
   {
    "duration": 2,
    "start_time": "2025-04-20T20:04:45.816Z"
   },
   {
    "duration": 13,
    "start_time": "2025-04-20T20:04:46.245Z"
   },
   {
    "duration": 202,
    "start_time": "2025-04-20T20:05:52.479Z"
   },
   {
    "duration": 4,
    "start_time": "2025-04-20T20:06:46.523Z"
   },
   {
    "duration": 59,
    "start_time": "2025-04-20T20:06:56.349Z"
   },
   {
    "duration": 15,
    "start_time": "2025-04-20T20:10:35.742Z"
   },
   {
    "duration": 65,
    "start_time": "2025-04-20T20:12:23.933Z"
   },
   {
    "duration": 5,
    "start_time": "2025-04-20T20:13:28.705Z"
   },
   {
    "duration": 4,
    "start_time": "2025-04-20T20:13:33.592Z"
   },
   {
    "duration": 6,
    "start_time": "2025-04-20T20:14:19.564Z"
   },
   {
    "duration": 4,
    "start_time": "2025-04-20T20:14:28.882Z"
   },
   {
    "duration": 4,
    "start_time": "2025-04-20T20:15:41.715Z"
   },
   {
    "duration": 5,
    "start_time": "2025-04-20T20:15:45.981Z"
   },
   {
    "duration": 4,
    "start_time": "2025-04-20T20:18:01.544Z"
   },
   {
    "duration": 3,
    "start_time": "2025-04-20T20:20:22.621Z"
   },
   {
    "duration": 8,
    "start_time": "2025-04-20T20:20:39.380Z"
   },
   {
    "duration": 5,
    "start_time": "2025-04-20T20:21:11.883Z"
   },
   {
    "duration": 9,
    "start_time": "2025-04-20T20:21:24.408Z"
   },
   {
    "duration": 9,
    "start_time": "2025-04-20T20:21:43.000Z"
   },
   {
    "duration": 3,
    "start_time": "2025-04-20T20:22:02.312Z"
   },
   {
    "duration": 5,
    "start_time": "2025-04-20T20:22:57.195Z"
   },
   {
    "duration": 4,
    "start_time": "2025-04-20T20:23:08.026Z"
   },
   {
    "duration": 9,
    "start_time": "2025-04-20T20:23:59.906Z"
   },
   {
    "duration": 276,
    "start_time": "2025-04-20T20:24:25.256Z"
   },
   {
    "duration": 37,
    "start_time": "2025-04-20T20:24:40.872Z"
   },
   {
    "duration": 7,
    "start_time": "2025-04-20T20:24:56.759Z"
   },
   {
    "duration": 4,
    "start_time": "2025-04-20T20:25:37.595Z"
   },
   {
    "duration": 8,
    "start_time": "2025-04-20T20:25:45.012Z"
   },
   {
    "duration": 3,
    "start_time": "2025-04-20T20:28:24.103Z"
   },
   {
    "duration": 9,
    "start_time": "2025-04-20T20:28:24.999Z"
   },
   {
    "duration": 9,
    "start_time": "2025-04-20T20:29:02.592Z"
   },
   {
    "duration": 2,
    "start_time": "2025-04-20T20:29:10.365Z"
   },
   {
    "duration": 4,
    "start_time": "2025-04-20T20:29:13.750Z"
   },
   {
    "duration": 8,
    "start_time": "2025-04-20T20:29:15.975Z"
   },
   {
    "duration": 8,
    "start_time": "2025-04-20T20:29:54.489Z"
   },
   {
    "duration": 3,
    "start_time": "2025-04-20T20:30:06.919Z"
   },
   {
    "duration": 9,
    "start_time": "2025-04-20T20:30:07.574Z"
   },
   {
    "duration": 9,
    "start_time": "2025-04-20T20:30:33.804Z"
   },
   {
    "duration": 3,
    "start_time": "2025-04-20T20:30:39.694Z"
   },
   {
    "duration": 4,
    "start_time": "2025-04-20T20:30:40.859Z"
   },
   {
    "duration": 9,
    "start_time": "2025-04-20T20:30:42.148Z"
   },
   {
    "duration": 5,
    "start_time": "2025-04-20T20:31:46.944Z"
   },
   {
    "duration": 5,
    "start_time": "2025-04-20T20:32:18.244Z"
   },
   {
    "duration": 4,
    "start_time": "2025-04-20T20:33:20.307Z"
   },
   {
    "duration": 5,
    "start_time": "2025-04-20T20:33:24.821Z"
   },
   {
    "duration": 5,
    "start_time": "2025-04-20T20:34:06.519Z"
   },
   {
    "duration": 6,
    "start_time": "2025-04-20T20:35:03.375Z"
   },
   {
    "duration": 3,
    "start_time": "2025-04-20T20:35:09.733Z"
   },
   {
    "duration": 4,
    "start_time": "2025-04-20T20:35:10.307Z"
   },
   {
    "duration": 5,
    "start_time": "2025-04-20T20:35:13.250Z"
   },
   {
    "duration": 8,
    "start_time": "2025-04-20T20:35:29.172Z"
   },
   {
    "duration": 8,
    "start_time": "2025-04-20T20:35:47.708Z"
   },
   {
    "duration": 97,
    "start_time": "2025-04-20T20:39:25.594Z"
   },
   {
    "duration": 4,
    "start_time": "2025-04-20T20:59:23.015Z"
   },
   {
    "duration": 7,
    "start_time": "2025-04-20T21:04:02.110Z"
   },
   {
    "duration": 2,
    "start_time": "2025-04-20T21:04:03.217Z"
   },
   {
    "duration": 3,
    "start_time": "2025-04-20T21:04:03.737Z"
   },
   {
    "duration": 115,
    "start_time": "2025-04-20T21:04:04.572Z"
   },
   {
    "duration": 7,
    "start_time": "2025-04-20T21:04:14.663Z"
   },
   {
    "duration": 3,
    "start_time": "2025-04-20T21:04:14.975Z"
   },
   {
    "duration": 5,
    "start_time": "2025-04-20T21:04:15.274Z"
   },
   {
    "duration": 115,
    "start_time": "2025-04-20T21:04:15.997Z"
   },
   {
    "duration": 113,
    "start_time": "2025-04-20T21:05:02.802Z"
   },
   {
    "duration": 113,
    "start_time": "2025-04-20T21:06:01.663Z"
   },
   {
    "duration": 3,
    "start_time": "2025-04-20T21:09:51.015Z"
   },
   {
    "duration": 22,
    "start_time": "2025-04-20T21:21:05.399Z"
   },
   {
    "duration": 13,
    "start_time": "2025-04-20T21:25:10.670Z"
   },
   {
    "duration": 5,
    "start_time": "2025-04-20T21:25:14.601Z"
   },
   {
    "duration": 3,
    "start_time": "2025-04-20T21:29:22.234Z"
   },
   {
    "duration": 47,
    "start_time": "2025-04-20T21:29:26.012Z"
   },
   {
    "duration": 8,
    "start_time": "2025-04-20T21:30:23.889Z"
   },
   {
    "duration": 54,
    "start_time": "2025-04-20T21:31:32.195Z"
   },
   {
    "duration": 8,
    "start_time": "2025-04-20T21:31:32.907Z"
   },
   {
    "duration": 4,
    "start_time": "2025-04-20T21:40:01.783Z"
   },
   {
    "duration": 4,
    "start_time": "2025-04-20T21:40:07.547Z"
   },
   {
    "duration": 7,
    "start_time": "2025-04-20T21:43:50.129Z"
   },
   {
    "duration": 17,
    "start_time": "2025-04-20T21:43:55.632Z"
   },
   {
    "duration": 6,
    "start_time": "2025-04-20T21:44:18.369Z"
   },
   {
    "duration": 3,
    "start_time": "2025-04-20T21:44:23.279Z"
   },
   {
    "duration": 4,
    "start_time": "2025-04-20T21:45:13.695Z"
   },
   {
    "duration": 1062,
    "start_time": "2025-04-20T21:45:28.508Z"
   },
   {
    "duration": 774,
    "start_time": "2025-04-20T21:45:29.576Z"
   },
   {
    "duration": 33,
    "start_time": "2025-04-20T21:45:30.352Z"
   },
   {
    "duration": 11,
    "start_time": "2025-04-20T21:45:30.387Z"
   },
   {
    "duration": 11,
    "start_time": "2025-04-20T21:45:30.400Z"
   },
   {
    "duration": 13,
    "start_time": "2025-04-20T21:45:30.412Z"
   },
   {
    "duration": 3,
    "start_time": "2025-04-20T21:45:30.427Z"
   },
   {
    "duration": 34,
    "start_time": "2025-04-20T21:45:30.432Z"
   },
   {
    "duration": 10,
    "start_time": "2025-04-20T21:45:30.475Z"
   },
   {
    "duration": 3,
    "start_time": "2025-04-20T21:45:30.487Z"
   },
   {
    "duration": 4,
    "start_time": "2025-04-20T21:45:30.491Z"
   },
   {
    "duration": 118,
    "start_time": "2025-04-20T21:45:30.497Z"
   },
   {
    "duration": 4,
    "start_time": "2025-04-20T21:45:30.616Z"
   },
   {
    "duration": 56,
    "start_time": "2025-04-20T21:45:30.624Z"
   },
   {
    "duration": 55,
    "start_time": "2025-04-20T21:45:30.682Z"
   },
   {
    "duration": 40,
    "start_time": "2025-04-20T21:45:30.739Z"
   },
   {
    "duration": 3,
    "start_time": "2025-04-20T21:45:30.781Z"
   },
   {
    "duration": 7,
    "start_time": "2025-04-20T21:45:30.786Z"
   },
   {
    "duration": 4,
    "start_time": "2025-04-20T21:45:30.794Z"
   },
   {
    "duration": 13,
    "start_time": "2025-04-20T21:51:20.693Z"
   },
   {
    "duration": 359,
    "start_time": "2025-04-20T22:07:57.533Z"
   },
   {
    "duration": 110,
    "start_time": "2025-04-20T22:09:01.408Z"
   },
   {
    "duration": 5,
    "start_time": "2025-04-20T22:10:45.708Z"
   },
   {
    "duration": 111,
    "start_time": "2025-04-20T22:12:19.656Z"
   },
   {
    "duration": 3,
    "start_time": "2025-04-20T22:15:21.997Z"
   },
   {
    "duration": 3,
    "start_time": "2025-04-20T22:15:31.201Z"
   },
   {
    "duration": 3,
    "start_time": "2025-04-20T22:15:37.495Z"
   },
   {
    "duration": 2904,
    "start_time": "2025-04-21T18:04:57.107Z"
   },
   {
    "duration": 646,
    "start_time": "2025-04-21T18:05:00.014Z"
   },
   {
    "duration": 14,
    "start_time": "2025-04-21T18:05:00.661Z"
   },
   {
    "duration": 12,
    "start_time": "2025-04-21T18:05:00.677Z"
   },
   {
    "duration": 20,
    "start_time": "2025-04-21T18:05:00.692Z"
   },
   {
    "duration": 17,
    "start_time": "2025-04-21T18:05:00.714Z"
   },
   {
    "duration": 5,
    "start_time": "2025-04-21T18:05:00.733Z"
   },
   {
    "duration": 8,
    "start_time": "2025-04-21T18:05:00.740Z"
   },
   {
    "duration": 7,
    "start_time": "2025-04-21T18:05:00.750Z"
   },
   {
    "duration": 3,
    "start_time": "2025-04-21T18:05:00.759Z"
   },
   {
    "duration": 4,
    "start_time": "2025-04-21T18:05:00.764Z"
   },
   {
    "duration": 145,
    "start_time": "2025-04-21T18:05:00.770Z"
   },
   {
    "duration": 6,
    "start_time": "2025-04-21T18:05:00.917Z"
   },
   {
    "duration": 27,
    "start_time": "2025-04-21T18:05:00.931Z"
   },
   {
    "duration": 88,
    "start_time": "2025-04-21T18:05:00.960Z"
   },
   {
    "duration": 10,
    "start_time": "2025-04-21T18:05:01.050Z"
   },
   {
    "duration": 5,
    "start_time": "2025-04-21T18:05:01.061Z"
   },
   {
    "duration": 9,
    "start_time": "2025-04-21T18:05:01.068Z"
   },
   {
    "duration": 4,
    "start_time": "2025-04-21T18:05:01.079Z"
   },
   {
    "duration": 42,
    "start_time": "2025-04-21T18:05:01.085Z"
   },
   {
    "duration": 137,
    "start_time": "2025-04-21T18:05:01.129Z"
   },
   {
    "duration": 4,
    "start_time": "2025-04-21T18:05:01.268Z"
   },
   {
    "duration": 125,
    "start_time": "2025-04-21T18:05:24.508Z"
   },
   {
    "duration": 130,
    "start_time": "2025-04-21T18:08:43.447Z"
   },
   {
    "duration": 189,
    "start_time": "2025-04-21T18:11:45.127Z"
   },
   {
    "duration": 744,
    "start_time": "2025-04-21T18:13:10.691Z"
   },
   {
    "duration": 131,
    "start_time": "2025-04-21T18:14:22.122Z"
   },
   {
    "duration": 10,
    "start_time": "2025-04-21T18:16:08.442Z"
   },
   {
    "duration": 9,
    "start_time": "2025-04-21T18:17:07.522Z"
   },
   {
    "duration": 9,
    "start_time": "2025-04-21T18:17:15.155Z"
   },
   {
    "duration": 9,
    "start_time": "2025-04-21T18:19:30.322Z"
   },
   {
    "duration": 127,
    "start_time": "2025-04-21T18:19:50.059Z"
   },
   {
    "duration": 129,
    "start_time": "2025-04-21T18:20:06.118Z"
   },
   {
    "duration": 3,
    "start_time": "2025-04-21T18:20:18.122Z"
   },
   {
    "duration": 3,
    "start_time": "2025-04-21T18:20:31.052Z"
   },
   {
    "duration": 128,
    "start_time": "2025-04-21T18:21:11.751Z"
   },
   {
    "duration": 4,
    "start_time": "2025-04-21T18:21:25.715Z"
   },
   {
    "duration": 4,
    "start_time": "2025-04-21T18:25:50.625Z"
   },
   {
    "duration": 20,
    "start_time": "2025-04-21T18:27:11.522Z"
   },
   {
    "duration": 9,
    "start_time": "2025-04-21T18:29:28.716Z"
   },
   {
    "duration": 5,
    "start_time": "2025-04-21T18:29:56.397Z"
   },
   {
    "duration": 9,
    "start_time": "2025-04-21T18:31:36.685Z"
   },
   {
    "duration": 158,
    "start_time": "2025-04-21T18:33:17.727Z"
   },
   {
    "duration": 127,
    "start_time": "2025-04-21T18:35:09.515Z"
   },
   {
    "duration": 135,
    "start_time": "2025-04-21T18:35:46.868Z"
   },
   {
    "duration": 159,
    "start_time": "2025-04-21T18:36:02.270Z"
   },
   {
    "duration": 7,
    "start_time": "2025-04-21T18:43:12.070Z"
   },
   {
    "duration": 11,
    "start_time": "2025-04-21T18:43:39.424Z"
   },
   {
    "duration": 130,
    "start_time": "2025-04-21T18:43:40.572Z"
   },
   {
    "duration": 126,
    "start_time": "2025-04-21T18:43:44.309Z"
   },
   {
    "duration": 9,
    "start_time": "2025-04-21T18:44:06.804Z"
   },
   {
    "duration": 125,
    "start_time": "2025-04-21T18:46:17.270Z"
   },
   {
    "duration": 4,
    "start_time": "2025-04-21T18:56:00.736Z"
   },
   {
    "duration": 3,
    "start_time": "2025-04-21T18:56:32.875Z"
   },
   {
    "duration": 17,
    "start_time": "2025-04-21T18:57:35.029Z"
   },
   {
    "duration": 4,
    "start_time": "2025-04-21T18:58:52.749Z"
   },
   {
    "duration": 4,
    "start_time": "2025-04-21T18:59:06.753Z"
   },
   {
    "duration": 7,
    "start_time": "2025-04-21T18:59:20.427Z"
   },
   {
    "duration": 122,
    "start_time": "2025-04-21T19:00:21.996Z"
   },
   {
    "duration": 116,
    "start_time": "2025-04-21T19:00:34.482Z"
   },
   {
    "duration": 3,
    "start_time": "2025-04-21T19:02:41.287Z"
   },
   {
    "duration": 9,
    "start_time": "2025-04-21T19:06:59.221Z"
   },
   {
    "duration": 134,
    "start_time": "2025-04-21T19:08:30.301Z"
   },
   {
    "duration": 4,
    "start_time": "2025-04-21T19:09:00.117Z"
   },
   {
    "duration": 161,
    "start_time": "2025-04-21T19:10:58.486Z"
   },
   {
    "duration": 879,
    "start_time": "2025-04-21T19:11:45.095Z"
   },
   {
    "duration": 536,
    "start_time": "2025-04-21T19:11:45.977Z"
   },
   {
    "duration": 18,
    "start_time": "2025-04-21T19:11:46.516Z"
   },
   {
    "duration": 11,
    "start_time": "2025-04-21T19:11:46.537Z"
   },
   {
    "duration": 13,
    "start_time": "2025-04-21T19:11:46.551Z"
   },
   {
    "duration": 14,
    "start_time": "2025-04-21T19:11:46.566Z"
   },
   {
    "duration": 30,
    "start_time": "2025-04-21T19:11:46.582Z"
   },
   {
    "duration": 11,
    "start_time": "2025-04-21T19:11:46.614Z"
   },
   {
    "duration": 8,
    "start_time": "2025-04-21T19:11:46.627Z"
   },
   {
    "duration": 2,
    "start_time": "2025-04-21T19:11:46.637Z"
   },
   {
    "duration": 4,
    "start_time": "2025-04-21T19:11:46.641Z"
   },
   {
    "duration": 150,
    "start_time": "2025-04-21T19:11:46.647Z"
   },
   {
    "duration": 4,
    "start_time": "2025-04-21T19:11:46.799Z"
   },
   {
    "duration": 30,
    "start_time": "2025-04-21T19:11:46.806Z"
   },
   {
    "duration": 58,
    "start_time": "2025-04-21T19:11:46.837Z"
   },
   {
    "duration": 11,
    "start_time": "2025-04-21T19:11:46.913Z"
   },
   {
    "duration": 4,
    "start_time": "2025-04-21T19:11:46.926Z"
   },
   {
    "duration": 9,
    "start_time": "2025-04-21T19:11:46.932Z"
   },
   {
    "duration": 4,
    "start_time": "2025-04-21T19:11:46.943Z"
   },
   {
    "duration": 17,
    "start_time": "2025-04-21T19:11:46.949Z"
   },
   {
    "duration": 9,
    "start_time": "2025-04-21T19:11:46.968Z"
   },
   {
    "duration": 192,
    "start_time": "2025-04-21T19:11:47.013Z"
   },
   {
    "duration": 9,
    "start_time": "2025-04-21T19:11:47.207Z"
   },
   {
    "duration": 9,
    "start_time": "2025-04-21T19:11:47.219Z"
   },
   {
    "duration": 154,
    "start_time": "2025-04-21T19:11:47.230Z"
   },
   {
    "duration": 4,
    "start_time": "2025-04-21T19:11:47.386Z"
   },
   {
    "duration": 10,
    "start_time": "2025-04-21T19:11:47.391Z"
   },
   {
    "duration": 151,
    "start_time": "2025-04-21T19:11:47.403Z"
   },
   {
    "duration": 4,
    "start_time": "2025-04-21T19:11:47.555Z"
   },
   {
    "duration": 9,
    "start_time": "2025-04-21T19:11:47.561Z"
   },
   {
    "duration": 152,
    "start_time": "2025-04-21T19:11:47.572Z"
   },
   {
    "duration": 2,
    "start_time": "2025-04-21T19:11:47.726Z"
   },
   {
    "duration": 10,
    "start_time": "2025-04-21T19:11:47.730Z"
   },
   {
    "duration": 139,
    "start_time": "2025-04-21T19:11:47.742Z"
   },
   {
    "duration": 3,
    "start_time": "2025-04-21T19:11:47.883Z"
   },
   {
    "duration": 8,
    "start_time": "2025-04-21T19:11:47.887Z"
   },
   {
    "duration": 140,
    "start_time": "2025-04-21T19:11:47.912Z"
   },
   {
    "duration": 3,
    "start_time": "2025-04-21T19:11:48.054Z"
   },
   {
    "duration": 14,
    "start_time": "2025-04-21T19:13:57.194Z"
   },
   {
    "duration": 2,
    "start_time": "2025-04-21T19:21:00.909Z"
   },
   {
    "duration": 304,
    "start_time": "2025-04-21T19:24:09.042Z"
   },
   {
    "duration": 19,
    "start_time": "2025-04-21T19:24:34.927Z"
   },
   {
    "duration": 326,
    "start_time": "2025-04-21T19:24:45.263Z"
   },
   {
    "duration": 237,
    "start_time": "2025-04-21T19:24:56.655Z"
   },
   {
    "duration": 229,
    "start_time": "2025-04-21T19:25:11.825Z"
   },
   {
    "duration": 241,
    "start_time": "2025-04-21T19:28:18.393Z"
   },
   {
    "duration": 619,
    "start_time": "2025-04-21T19:28:29.495Z"
   },
   {
    "duration": 319,
    "start_time": "2025-04-21T19:28:41.939Z"
   },
   {
    "duration": 2761,
    "start_time": "2025-04-21T20:39:49.212Z"
   },
   {
    "duration": 669,
    "start_time": "2025-04-21T20:39:51.976Z"
   },
   {
    "duration": 14,
    "start_time": "2025-04-21T20:39:52.646Z"
   },
   {
    "duration": 10,
    "start_time": "2025-04-21T20:39:52.662Z"
   },
   {
    "duration": 10,
    "start_time": "2025-04-21T20:39:52.686Z"
   },
   {
    "duration": 13,
    "start_time": "2025-04-21T20:39:52.698Z"
   },
   {
    "duration": 3,
    "start_time": "2025-04-21T20:39:52.712Z"
   },
   {
    "duration": 8,
    "start_time": "2025-04-21T20:39:52.717Z"
   },
   {
    "duration": 8,
    "start_time": "2025-04-21T20:39:52.726Z"
   },
   {
    "duration": 3,
    "start_time": "2025-04-21T20:39:52.735Z"
   },
   {
    "duration": 5,
    "start_time": "2025-04-21T20:39:52.739Z"
   },
   {
    "duration": 134,
    "start_time": "2025-04-21T20:39:52.745Z"
   },
   {
    "duration": 7,
    "start_time": "2025-04-21T20:39:52.881Z"
   },
   {
    "duration": 22,
    "start_time": "2025-04-21T20:39:52.892Z"
   },
   {
    "duration": 79,
    "start_time": "2025-04-21T20:39:52.916Z"
   },
   {
    "duration": 10,
    "start_time": "2025-04-21T20:39:52.997Z"
   },
   {
    "duration": 4,
    "start_time": "2025-04-21T20:39:53.008Z"
   },
   {
    "duration": 6,
    "start_time": "2025-04-21T20:39:53.014Z"
   },
   {
    "duration": 6,
    "start_time": "2025-04-21T20:39:53.022Z"
   },
   {
    "duration": 7,
    "start_time": "2025-04-21T20:39:53.030Z"
   },
   {
    "duration": 164,
    "start_time": "2025-04-21T20:39:53.039Z"
   },
   {
    "duration": 3,
    "start_time": "2025-04-21T20:39:53.205Z"
   },
   {
    "duration": 10,
    "start_time": "2025-04-21T20:39:53.210Z"
   },
   {
    "duration": 162,
    "start_time": "2025-04-21T20:39:53.221Z"
   },
   {
    "duration": 3,
    "start_time": "2025-04-21T20:39:53.385Z"
   },
   {
    "duration": 9,
    "start_time": "2025-04-21T20:39:53.390Z"
   },
   {
    "duration": 130,
    "start_time": "2025-04-21T20:39:53.400Z"
   },
   {
    "duration": 3,
    "start_time": "2025-04-21T20:39:53.533Z"
   },
   {
    "duration": 9,
    "start_time": "2025-04-21T20:39:53.538Z"
   },
   {
    "duration": 145,
    "start_time": "2025-04-21T20:39:53.548Z"
   },
   {
    "duration": 3,
    "start_time": "2025-04-21T20:39:53.695Z"
   },
   {
    "duration": 8,
    "start_time": "2025-04-21T20:39:53.700Z"
   },
   {
    "duration": 137,
    "start_time": "2025-04-21T20:39:53.710Z"
   },
   {
    "duration": 3,
    "start_time": "2025-04-21T20:39:53.849Z"
   },
   {
    "duration": 9,
    "start_time": "2025-04-21T20:39:53.854Z"
   },
   {
    "duration": 149,
    "start_time": "2025-04-21T20:39:53.865Z"
   },
   {
    "duration": 3,
    "start_time": "2025-04-21T20:39:54.017Z"
   },
   {
    "duration": 259,
    "start_time": "2025-04-21T20:39:54.022Z"
   },
   {
    "duration": 323,
    "start_time": "2025-04-21T20:39:54.287Z"
   },
   {
    "duration": 12,
    "start_time": "2025-04-21T20:45:47.958Z"
   },
   {
    "duration": 3,
    "start_time": "2025-04-21T20:48:04.336Z"
   },
   {
    "duration": 224,
    "start_time": "2025-04-21T20:59:33.997Z"
   },
   {
    "duration": 119,
    "start_time": "2025-04-21T21:00:17.347Z"
   },
   {
    "duration": 119,
    "start_time": "2025-04-21T21:03:22.972Z"
   },
   {
    "duration": 6,
    "start_time": "2025-04-21T21:03:59.534Z"
   },
   {
    "duration": 138,
    "start_time": "2025-04-21T21:06:45.032Z"
   },
   {
    "duration": 16,
    "start_time": "2025-04-21T21:07:39.152Z"
   },
   {
    "duration": 118,
    "start_time": "2025-04-21T21:07:51.644Z"
   },
   {
    "duration": 4,
    "start_time": "2025-04-21T21:14:07.846Z"
   },
   {
    "duration": 7,
    "start_time": "2025-04-21T21:25:25.782Z"
   },
   {
    "duration": 17,
    "start_time": "2025-04-21T21:26:51.340Z"
   },
   {
    "duration": 13,
    "start_time": "2025-04-21T21:28:06.572Z"
   },
   {
    "duration": 4,
    "start_time": "2025-04-21T21:28:42.097Z"
   },
   {
    "duration": 4,
    "start_time": "2025-04-21T21:28:54.150Z"
   },
   {
    "duration": 13,
    "start_time": "2025-04-21T21:28:59.576Z"
   },
   {
    "duration": 12,
    "start_time": "2025-04-21T21:29:01.112Z"
   },
   {
    "duration": 3,
    "start_time": "2025-04-21T21:29:10.150Z"
   },
   {
    "duration": 17,
    "start_time": "2025-04-21T21:33:40.422Z"
   },
   {
    "duration": 24,
    "start_time": "2025-04-21T21:35:12.781Z"
   },
   {
    "duration": 17,
    "start_time": "2025-04-21T21:39:14.080Z"
   },
   {
    "duration": 109,
    "start_time": "2025-04-21T21:50:25.792Z"
   },
   {
    "duration": 745,
    "start_time": "2025-04-21T21:50:36.563Z"
   },
   {
    "duration": 4,
    "start_time": "2025-04-21T21:53:49.999Z"
   },
   {
    "duration": 16,
    "start_time": "2025-04-21T21:56:55.205Z"
   },
   {
    "duration": 52,
    "start_time": "2025-04-21T22:07:55.039Z"
   },
   {
    "duration": 5,
    "start_time": "2025-04-21T22:08:05.551Z"
   },
   {
    "duration": 5,
    "start_time": "2025-04-21T22:08:12.596Z"
   },
   {
    "duration": 16326,
    "start_time": "2025-04-21T22:09:27.729Z"
   },
   {
    "duration": 6,
    "start_time": "2025-04-21T22:17:45.286Z"
   },
   {
    "duration": 5,
    "start_time": "2025-04-21T22:17:55.039Z"
   },
   {
    "duration": 27766,
    "start_time": "2025-04-21T22:18:11.021Z"
   },
   {
    "duration": 27857,
    "start_time": "2025-04-21T22:19:04.229Z"
   },
   {
    "duration": 2902,
    "start_time": "2025-04-21T23:11:20.274Z"
   },
   {
    "duration": 4,
    "start_time": "2025-04-21T23:11:37.591Z"
   },
   {
    "duration": 20,
    "start_time": "2025-04-21T23:25:16.556Z"
   },
   {
    "duration": 20,
    "start_time": "2025-04-21T23:25:31.827Z"
   },
   {
    "duration": 914,
    "start_time": "2025-04-21T23:25:40.615Z"
   },
   {
    "duration": 622,
    "start_time": "2025-04-21T23:25:41.532Z"
   },
   {
    "duration": 64,
    "start_time": "2025-04-21T23:25:42.155Z"
   },
   {
    "duration": 12,
    "start_time": "2025-04-21T23:25:42.222Z"
   },
   {
    "duration": 12,
    "start_time": "2025-04-21T23:25:42.235Z"
   },
   {
    "duration": 14,
    "start_time": "2025-04-21T23:25:42.248Z"
   },
   {
    "duration": 3,
    "start_time": "2025-04-21T23:25:42.264Z"
   },
   {
    "duration": 37,
    "start_time": "2025-04-21T23:25:42.268Z"
   },
   {
    "duration": 11,
    "start_time": "2025-04-21T23:25:42.308Z"
   },
   {
    "duration": 3,
    "start_time": "2025-04-21T23:25:42.323Z"
   },
   {
    "duration": 5,
    "start_time": "2025-04-21T23:25:42.327Z"
   },
   {
    "duration": 109,
    "start_time": "2025-04-21T23:25:42.333Z"
   },
   {
    "duration": 3,
    "start_time": "2025-04-21T23:25:42.444Z"
   },
   {
    "duration": 21,
    "start_time": "2025-04-21T23:25:42.449Z"
   },
   {
    "duration": 78,
    "start_time": "2025-04-21T23:25:42.472Z"
   },
   {
    "duration": 8,
    "start_time": "2025-04-21T23:25:42.551Z"
   },
   {
    "duration": 3,
    "start_time": "2025-04-21T23:25:42.561Z"
   },
   {
    "duration": 6,
    "start_time": "2025-04-21T23:25:42.566Z"
   },
   {
    "duration": 5,
    "start_time": "2025-04-21T23:25:42.573Z"
   },
   {
    "duration": 29,
    "start_time": "2025-04-21T23:25:42.579Z"
   },
   {
    "duration": 136,
    "start_time": "2025-04-21T23:25:42.610Z"
   },
   {
    "duration": 4,
    "start_time": "2025-04-21T23:25:42.748Z"
   },
   {
    "duration": 8,
    "start_time": "2025-04-21T23:25:42.753Z"
   },
   {
    "duration": 158,
    "start_time": "2025-04-21T23:25:42.763Z"
   },
   {
    "duration": 4,
    "start_time": "2025-04-21T23:25:42.923Z"
   },
   {
    "duration": 8,
    "start_time": "2025-04-21T23:25:42.928Z"
   },
   {
    "duration": 118,
    "start_time": "2025-04-21T23:25:42.937Z"
   },
   {
    "duration": 3,
    "start_time": "2025-04-21T23:25:43.059Z"
   },
   {
    "duration": 9,
    "start_time": "2025-04-21T23:25:43.064Z"
   },
   {
    "duration": 145,
    "start_time": "2025-04-21T23:25:43.074Z"
   },
   {
    "duration": 3,
    "start_time": "2025-04-21T23:25:43.221Z"
   },
   {
    "duration": 8,
    "start_time": "2025-04-21T23:25:43.226Z"
   },
   {
    "duration": 133,
    "start_time": "2025-04-21T23:25:43.236Z"
   },
   {
    "duration": 3,
    "start_time": "2025-04-21T23:25:43.372Z"
   },
   {
    "duration": 9,
    "start_time": "2025-04-21T23:25:43.377Z"
   },
   {
    "duration": 148,
    "start_time": "2025-04-21T23:25:43.388Z"
   },
   {
    "duration": 2,
    "start_time": "2025-04-21T23:25:43.538Z"
   },
   {
    "duration": 245,
    "start_time": "2025-04-21T23:25:43.542Z"
   },
   {
    "duration": 259,
    "start_time": "2025-04-21T23:25:43.789Z"
   },
   {
    "duration": 218,
    "start_time": "2025-04-21T23:25:44.051Z"
   },
   {
    "duration": 160,
    "start_time": "2025-04-21T23:25:44.271Z"
   },
   {
    "duration": 128,
    "start_time": "2025-04-21T23:25:44.432Z"
   },
   {
    "duration": 16,
    "start_time": "2025-04-21T23:25:44.562Z"
   },
   {
    "duration": 25,
    "start_time": "2025-04-21T23:25:44.580Z"
   },
   {
    "duration": 19,
    "start_time": "2025-04-21T23:25:44.608Z"
   },
   {
    "duration": 1097,
    "start_time": "2025-04-21T23:25:44.629Z"
   },
   {
    "duration": 27741,
    "start_time": "2025-04-21T23:25:45.730Z"
   },
   {
    "duration": 933,
    "start_time": "2025-04-21T23:26:13.475Z"
   },
   {
    "duration": 0,
    "start_time": "2025-04-21T23:34:07.691Z"
   },
   {
    "duration": 929,
    "start_time": "2025-04-21T23:36:03.054Z"
   },
   {
    "duration": 566,
    "start_time": "2025-04-21T23:36:03.985Z"
   },
   {
    "duration": 70,
    "start_time": "2025-04-21T23:36:04.553Z"
   },
   {
    "duration": 10,
    "start_time": "2025-04-21T23:36:04.625Z"
   },
   {
    "duration": 10,
    "start_time": "2025-04-21T23:36:04.637Z"
   },
   {
    "duration": 13,
    "start_time": "2025-04-21T23:36:04.649Z"
   },
   {
    "duration": 4,
    "start_time": "2025-04-21T23:36:04.663Z"
   },
   {
    "duration": 39,
    "start_time": "2025-04-21T23:36:04.668Z"
   },
   {
    "duration": 11,
    "start_time": "2025-04-21T23:36:04.709Z"
   },
   {
    "duration": 2,
    "start_time": "2025-04-21T23:36:04.723Z"
   },
   {
    "duration": 5,
    "start_time": "2025-04-21T23:36:04.726Z"
   },
   {
    "duration": 118,
    "start_time": "2025-04-21T23:36:04.732Z"
   },
   {
    "duration": 4,
    "start_time": "2025-04-21T23:36:04.851Z"
   },
   {
    "duration": 21,
    "start_time": "2025-04-21T23:36:04.857Z"
   },
   {
    "duration": 80,
    "start_time": "2025-04-21T23:36:04.880Z"
   },
   {
    "duration": 9,
    "start_time": "2025-04-21T23:36:04.961Z"
   },
   {
    "duration": 3,
    "start_time": "2025-04-21T23:36:04.971Z"
   },
   {
    "duration": 6,
    "start_time": "2025-04-21T23:36:04.976Z"
   },
   {
    "duration": 22,
    "start_time": "2025-04-21T23:36:04.984Z"
   },
   {
    "duration": 8,
    "start_time": "2025-04-21T23:36:05.007Z"
   },
   {
    "duration": 133,
    "start_time": "2025-04-21T23:36:05.017Z"
   },
   {
    "duration": 3,
    "start_time": "2025-04-21T23:36:05.152Z"
   },
   {
    "duration": 8,
    "start_time": "2025-04-21T23:36:05.157Z"
   },
   {
    "duration": 167,
    "start_time": "2025-04-21T23:36:05.167Z"
   },
   {
    "duration": 3,
    "start_time": "2025-04-21T23:36:05.336Z"
   },
   {
    "duration": 8,
    "start_time": "2025-04-21T23:36:05.341Z"
   },
   {
    "duration": 115,
    "start_time": "2025-04-21T23:36:05.350Z"
   },
   {
    "duration": 3,
    "start_time": "2025-04-21T23:36:05.470Z"
   },
   {
    "duration": 9,
    "start_time": "2025-04-21T23:36:05.475Z"
   },
   {
    "duration": 138,
    "start_time": "2025-04-21T23:36:05.486Z"
   },
   {
    "duration": 3,
    "start_time": "2025-04-21T23:36:05.626Z"
   },
   {
    "duration": 8,
    "start_time": "2025-04-21T23:36:05.631Z"
   },
   {
    "duration": 131,
    "start_time": "2025-04-21T23:36:05.641Z"
   },
   {
    "duration": 3,
    "start_time": "2025-04-21T23:36:05.774Z"
   },
   {
    "duration": 8,
    "start_time": "2025-04-21T23:36:05.779Z"
   },
   {
    "duration": 130,
    "start_time": "2025-04-21T23:36:05.805Z"
   },
   {
    "duration": 3,
    "start_time": "2025-04-21T23:36:05.937Z"
   },
   {
    "duration": 257,
    "start_time": "2025-04-21T23:36:05.942Z"
   },
   {
    "duration": 247,
    "start_time": "2025-04-21T23:36:06.201Z"
   },
   {
    "duration": 197,
    "start_time": "2025-04-21T23:36:06.450Z"
   },
   {
    "duration": 144,
    "start_time": "2025-04-21T23:36:06.649Z"
   },
   {
    "duration": 123,
    "start_time": "2025-04-21T23:36:06.796Z"
   },
   {
    "duration": 18,
    "start_time": "2025-04-21T23:36:06.921Z"
   },
   {
    "duration": 14,
    "start_time": "2025-04-21T23:36:06.941Z"
   },
   {
    "duration": 18,
    "start_time": "2025-04-21T23:36:06.957Z"
   },
   {
    "duration": 1030,
    "start_time": "2025-04-21T23:36:06.977Z"
   },
   {
    "duration": 27596,
    "start_time": "2025-04-21T23:36:08.009Z"
   },
   {
    "duration": 3,
    "start_time": "2025-04-22T00:00:20.668Z"
   },
   {
    "duration": 3,
    "start_time": "2025-04-22T00:04:27.687Z"
   },
   {
    "duration": 2670,
    "start_time": "2025-04-22T00:52:53.476Z"
   },
   {
    "duration": 611,
    "start_time": "2025-04-22T00:52:56.148Z"
   },
   {
    "duration": 15,
    "start_time": "2025-04-22T00:52:56.761Z"
   },
   {
    "duration": 10,
    "start_time": "2025-04-22T00:52:56.779Z"
   },
   {
    "duration": 19,
    "start_time": "2025-04-22T00:52:56.792Z"
   },
   {
    "duration": 20,
    "start_time": "2025-04-22T00:52:56.813Z"
   },
   {
    "duration": 4,
    "start_time": "2025-04-22T00:52:56.835Z"
   },
   {
    "duration": 9,
    "start_time": "2025-04-22T00:52:56.840Z"
   },
   {
    "duration": 9,
    "start_time": "2025-04-22T00:52:56.851Z"
   },
   {
    "duration": 2,
    "start_time": "2025-04-22T00:52:56.862Z"
   },
   {
    "duration": 4,
    "start_time": "2025-04-22T00:52:56.866Z"
   },
   {
    "duration": 107,
    "start_time": "2025-04-22T00:52:56.906Z"
   },
   {
    "duration": 4,
    "start_time": "2025-04-22T00:52:57.015Z"
   },
   {
    "duration": 20,
    "start_time": "2025-04-22T00:52:57.024Z"
   },
   {
    "duration": 80,
    "start_time": "2025-04-22T00:52:57.046Z"
   },
   {
    "duration": 8,
    "start_time": "2025-04-22T00:52:57.127Z"
   },
   {
    "duration": 3,
    "start_time": "2025-04-22T00:52:57.137Z"
   },
   {
    "duration": 7,
    "start_time": "2025-04-22T00:52:57.142Z"
   },
   {
    "duration": 4,
    "start_time": "2025-04-22T00:52:57.151Z"
   },
   {
    "duration": 8,
    "start_time": "2025-04-22T00:52:57.157Z"
   },
   {
    "duration": 158,
    "start_time": "2025-04-22T00:52:57.167Z"
   },
   {
    "duration": 3,
    "start_time": "2025-04-22T00:52:57.327Z"
   },
   {
    "duration": 8,
    "start_time": "2025-04-22T00:52:57.332Z"
   },
   {
    "duration": 156,
    "start_time": "2025-04-22T00:52:57.341Z"
   },
   {
    "duration": 3,
    "start_time": "2025-04-22T00:52:57.499Z"
   },
   {
    "duration": 9,
    "start_time": "2025-04-22T00:52:57.504Z"
   },
   {
    "duration": 131,
    "start_time": "2025-04-22T00:52:57.514Z"
   },
   {
    "duration": 3,
    "start_time": "2025-04-22T00:52:57.647Z"
   },
   {
    "duration": 8,
    "start_time": "2025-04-22T00:52:57.651Z"
   },
   {
    "duration": 199,
    "start_time": "2025-04-22T00:52:57.661Z"
   },
   {
    "duration": 3,
    "start_time": "2025-04-22T00:52:57.862Z"
   },
   {
    "duration": 8,
    "start_time": "2025-04-22T00:52:57.866Z"
   },
   {
    "duration": 132,
    "start_time": "2025-04-22T00:52:57.876Z"
   },
   {
    "duration": 3,
    "start_time": "2025-04-22T00:52:58.010Z"
   },
   {
    "duration": 10,
    "start_time": "2025-04-22T00:52:58.014Z"
   },
   {
    "duration": 147,
    "start_time": "2025-04-22T00:52:58.026Z"
   },
   {
    "duration": 4,
    "start_time": "2025-04-22T00:52:58.175Z"
   },
   {
    "duration": 243,
    "start_time": "2025-04-22T00:52:58.180Z"
   },
   {
    "duration": 251,
    "start_time": "2025-04-22T00:52:58.425Z"
   },
   {
    "duration": 130,
    "start_time": "2025-04-22T00:52:58.678Z"
   },
   {
    "duration": 147,
    "start_time": "2025-04-22T00:52:58.812Z"
   },
   {
    "duration": 129,
    "start_time": "2025-04-22T00:52:58.961Z"
   },
   {
    "duration": 25,
    "start_time": "2025-04-22T00:52:59.092Z"
   },
   {
    "duration": 13,
    "start_time": "2025-04-22T00:52:59.119Z"
   },
   {
    "duration": 21,
    "start_time": "2025-04-22T00:52:59.133Z"
   },
   {
    "duration": 1064,
    "start_time": "2025-04-22T00:52:59.156Z"
   },
   {
    "duration": 27738,
    "start_time": "2025-04-22T00:53:00.222Z"
   },
   {
    "duration": 3,
    "start_time": "2025-04-22T00:53:27.962Z"
   },
   {
    "duration": 2,
    "start_time": "2025-04-22T00:53:27.967Z"
   },
   {
    "duration": 2,
    "start_time": "2025-04-22T00:57:17.970Z"
   },
   {
    "duration": 890,
    "start_time": "2025-04-22T01:08:34.388Z"
   },
   {
    "duration": 12,
    "start_time": "2025-04-22T01:15:45.984Z"
   },
   {
    "duration": 10,
    "start_time": "2025-04-22T01:17:28.315Z"
   },
   {
    "duration": 456,
    "start_time": "2025-04-22T01:23:51.543Z"
   },
   {
    "duration": 819,
    "start_time": "2025-04-22T01:25:25.706Z"
   },
   {
    "duration": 2686,
    "start_time": "2025-04-22T01:54:58.745Z"
   },
   {
    "duration": 639,
    "start_time": "2025-04-22T01:55:01.433Z"
   },
   {
    "duration": 13,
    "start_time": "2025-04-22T01:55:02.074Z"
   },
   {
    "duration": 22,
    "start_time": "2025-04-22T01:55:02.089Z"
   },
   {
    "duration": 11,
    "start_time": "2025-04-22T01:55:02.113Z"
   },
   {
    "duration": 12,
    "start_time": "2025-04-22T01:55:02.126Z"
   },
   {
    "duration": 3,
    "start_time": "2025-04-22T01:55:02.139Z"
   },
   {
    "duration": 7,
    "start_time": "2025-04-22T01:55:02.144Z"
   },
   {
    "duration": 6,
    "start_time": "2025-04-22T01:55:02.153Z"
   },
   {
    "duration": 4,
    "start_time": "2025-04-22T01:55:02.161Z"
   },
   {
    "duration": 44,
    "start_time": "2025-04-22T01:55:02.166Z"
   },
   {
    "duration": 104,
    "start_time": "2025-04-22T01:55:02.211Z"
   },
   {
    "duration": 4,
    "start_time": "2025-04-22T01:55:02.317Z"
   },
   {
    "duration": 22,
    "start_time": "2025-04-22T01:55:02.325Z"
   },
   {
    "duration": 84,
    "start_time": "2025-04-22T01:55:02.348Z"
   },
   {
    "duration": 8,
    "start_time": "2025-04-22T01:55:02.434Z"
   },
   {
    "duration": 4,
    "start_time": "2025-04-22T01:55:02.443Z"
   },
   {
    "duration": 6,
    "start_time": "2025-04-22T01:55:02.449Z"
   },
   {
    "duration": 4,
    "start_time": "2025-04-22T01:55:02.456Z"
   },
   {
    "duration": 8,
    "start_time": "2025-04-22T01:55:02.462Z"
   },
   {
    "duration": 153,
    "start_time": "2025-04-22T01:55:02.472Z"
   },
   {
    "duration": 3,
    "start_time": "2025-04-22T01:55:02.627Z"
   },
   {
    "duration": 8,
    "start_time": "2025-04-22T01:55:02.632Z"
   },
   {
    "duration": 164,
    "start_time": "2025-04-22T01:55:02.642Z"
   },
   {
    "duration": 3,
    "start_time": "2025-04-22T01:55:02.807Z"
   },
   {
    "duration": 7,
    "start_time": "2025-04-22T01:55:02.813Z"
   },
   {
    "duration": 131,
    "start_time": "2025-04-22T01:55:02.821Z"
   },
   {
    "duration": 4,
    "start_time": "2025-04-22T01:55:02.954Z"
   },
   {
    "duration": 8,
    "start_time": "2025-04-22T01:55:02.959Z"
   },
   {
    "duration": 136,
    "start_time": "2025-04-22T01:55:02.969Z"
   },
   {
    "duration": 3,
    "start_time": "2025-04-22T01:55:03.107Z"
   },
   {
    "duration": 7,
    "start_time": "2025-04-22T01:55:03.112Z"
   },
   {
    "duration": 130,
    "start_time": "2025-04-22T01:55:03.120Z"
   },
   {
    "duration": 4,
    "start_time": "2025-04-22T01:55:03.251Z"
   },
   {
    "duration": 9,
    "start_time": "2025-04-22T01:55:03.257Z"
   },
   {
    "duration": 143,
    "start_time": "2025-04-22T01:55:03.267Z"
   },
   {
    "duration": 3,
    "start_time": "2025-04-22T01:55:03.412Z"
   },
   {
    "duration": 311,
    "start_time": "2025-04-22T01:55:03.417Z"
   },
   {
    "duration": 243,
    "start_time": "2025-04-22T01:55:03.731Z"
   },
   {
    "duration": 127,
    "start_time": "2025-04-22T01:55:03.976Z"
   },
   {
    "duration": 132,
    "start_time": "2025-04-22T01:55:04.113Z"
   },
   {
    "duration": 127,
    "start_time": "2025-04-22T01:55:04.246Z"
   },
   {
    "duration": 18,
    "start_time": "2025-04-22T01:55:04.374Z"
   },
   {
    "duration": 21,
    "start_time": "2025-04-22T01:55:04.394Z"
   },
   {
    "duration": 18,
    "start_time": "2025-04-22T01:55:04.417Z"
   },
   {
    "duration": 1177,
    "start_time": "2025-04-22T01:55:04.437Z"
   },
   {
    "duration": 27337,
    "start_time": "2025-04-22T01:55:05.619Z"
   },
   {
    "duration": 3,
    "start_time": "2025-04-22T01:55:32.958Z"
   },
   {
    "duration": 3,
    "start_time": "2025-04-22T01:55:32.963Z"
   },
   {
    "duration": 796,
    "start_time": "2025-04-22T01:55:32.968Z"
   },
   {
    "duration": 13,
    "start_time": "2025-04-22T01:55:33.766Z"
   },
   {
    "duration": 815,
    "start_time": "2025-04-22T01:55:33.781Z"
   },
   {
    "duration": 863,
    "start_time": "2025-04-22T01:57:47.437Z"
   },
   {
    "duration": 4,
    "start_time": "2025-04-22T02:00:52.440Z"
   },
   {
    "duration": 5,
    "start_time": "2025-04-22T02:01:20.985Z"
   },
   {
    "duration": 10,
    "start_time": "2025-04-22T02:02:05.189Z"
   },
   {
    "duration": 6,
    "start_time": "2025-04-22T02:02:09.136Z"
   },
   {
    "duration": 7,
    "start_time": "2025-04-22T02:02:43.426Z"
   },
   {
    "duration": 953,
    "start_time": "2025-04-22T02:11:40.417Z"
   },
   {
    "duration": 536,
    "start_time": "2025-04-22T02:11:41.373Z"
   },
   {
    "duration": 14,
    "start_time": "2025-04-22T02:11:41.911Z"
   },
   {
    "duration": 9,
    "start_time": "2025-04-22T02:11:41.927Z"
   },
   {
    "duration": 10,
    "start_time": "2025-04-22T02:11:41.938Z"
   },
   {
    "duration": 77,
    "start_time": "2025-04-22T02:11:41.949Z"
   },
   {
    "duration": 3,
    "start_time": "2025-04-22T02:11:42.027Z"
   },
   {
    "duration": 7,
    "start_time": "2025-04-22T02:11:42.032Z"
   },
   {
    "duration": 7,
    "start_time": "2025-04-22T02:11:42.041Z"
   },
   {
    "duration": 3,
    "start_time": "2025-04-22T02:11:42.051Z"
   },
   {
    "duration": 5,
    "start_time": "2025-04-22T02:11:42.055Z"
   },
   {
    "duration": 126,
    "start_time": "2025-04-22T02:11:42.061Z"
   },
   {
    "duration": 3,
    "start_time": "2025-04-22T02:11:42.189Z"
   },
   {
    "duration": 35,
    "start_time": "2025-04-22T02:11:42.194Z"
   },
   {
    "duration": 57,
    "start_time": "2025-04-22T02:11:42.231Z"
   },
   {
    "duration": 24,
    "start_time": "2025-04-22T02:11:42.290Z"
   },
   {
    "duration": 3,
    "start_time": "2025-04-22T02:11:42.316Z"
   },
   {
    "duration": 6,
    "start_time": "2025-04-22T02:11:42.321Z"
   },
   {
    "duration": 3,
    "start_time": "2025-04-22T02:11:42.329Z"
   },
   {
    "duration": 8,
    "start_time": "2025-04-22T02:11:42.335Z"
   },
   {
    "duration": 149,
    "start_time": "2025-04-22T02:11:42.344Z"
   },
   {
    "duration": 3,
    "start_time": "2025-04-22T02:11:42.495Z"
   },
   {
    "duration": 13,
    "start_time": "2025-04-22T02:11:42.500Z"
   },
   {
    "duration": 163,
    "start_time": "2025-04-22T02:11:42.514Z"
   },
   {
    "duration": 3,
    "start_time": "2025-04-22T02:11:42.679Z"
   },
   {
    "duration": 8,
    "start_time": "2025-04-22T02:11:42.683Z"
   },
   {
    "duration": 121,
    "start_time": "2025-04-22T02:11:42.692Z"
   },
   {
    "duration": 3,
    "start_time": "2025-04-22T02:11:42.818Z"
   },
   {
    "duration": 9,
    "start_time": "2025-04-22T02:11:42.822Z"
   },
   {
    "duration": 137,
    "start_time": "2025-04-22T02:11:42.833Z"
   },
   {
    "duration": 3,
    "start_time": "2025-04-22T02:11:42.972Z"
   },
   {
    "duration": 7,
    "start_time": "2025-04-22T02:11:42.976Z"
   },
   {
    "duration": 132,
    "start_time": "2025-04-22T02:11:42.985Z"
   },
   {
    "duration": 3,
    "start_time": "2025-04-22T02:11:43.118Z"
   },
   {
    "duration": 9,
    "start_time": "2025-04-22T02:11:43.123Z"
   },
   {
    "duration": 138,
    "start_time": "2025-04-22T02:11:43.134Z"
   },
   {
    "duration": 3,
    "start_time": "2025-04-22T02:11:43.273Z"
   },
   {
    "duration": 243,
    "start_time": "2025-04-22T02:11:43.278Z"
   },
   {
    "duration": 241,
    "start_time": "2025-04-22T02:11:43.523Z"
   },
   {
    "duration": 201,
    "start_time": "2025-04-22T02:11:43.767Z"
   },
   {
    "duration": 139,
    "start_time": "2025-04-22T02:11:43.970Z"
   },
   {
    "duration": 123,
    "start_time": "2025-04-22T02:11:44.110Z"
   },
   {
    "duration": 17,
    "start_time": "2025-04-22T02:11:44.235Z"
   },
   {
    "duration": 12,
    "start_time": "2025-04-22T02:11:44.253Z"
   },
   {
    "duration": 17,
    "start_time": "2025-04-22T02:11:44.267Z"
   },
   {
    "duration": 1128,
    "start_time": "2025-04-22T02:11:44.286Z"
   },
   {
    "duration": 27315,
    "start_time": "2025-04-22T02:11:45.416Z"
   },
   {
    "duration": 3,
    "start_time": "2025-04-22T02:12:12.733Z"
   },
   {
    "duration": 3,
    "start_time": "2025-04-22T02:12:12.737Z"
   },
   {
    "duration": 805,
    "start_time": "2025-04-22T02:12:12.742Z"
   },
   {
    "duration": 862,
    "start_time": "2025-04-22T02:12:13.549Z"
   },
   {
    "duration": 3,
    "start_time": "2025-04-22T02:12:14.414Z"
   },
   {
    "duration": 6,
    "start_time": "2025-04-22T02:12:14.419Z"
   }
  ],
  "kernelspec": {
   "display_name": "Python 3 (ipykernel)",
   "language": "python",
   "name": "python3"
  },
  "language_info": {
   "codemirror_mode": {
    "name": "ipython",
    "version": 3
   },
   "file_extension": ".py",
   "mimetype": "text/x-python",
   "name": "python",
   "nbconvert_exporter": "python",
   "pygments_lexer": "ipython3",
   "version": "3.9.19"
  },
  "toc": {
   "base_numbering": 1,
   "nav_menu": {},
   "number_sections": true,
   "sideBar": true,
   "skip_h1_title": true,
   "title_cell": "Table of Contents",
   "title_sidebar": "Contents",
   "toc_cell": false,
   "toc_position": {},
   "toc_section_display": true,
   "toc_window_display": false
  }
 },
 "nbformat": 4,
 "nbformat_minor": 2
}
